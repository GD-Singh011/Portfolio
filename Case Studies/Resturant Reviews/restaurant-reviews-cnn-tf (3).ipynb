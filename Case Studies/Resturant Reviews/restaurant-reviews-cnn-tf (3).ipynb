{
 "cells": [
  {
   "cell_type": "markdown",
   "id": "present-allocation",
   "metadata": {
    "papermill": {
     "duration": 0.023563,
     "end_time": "2021-06-10T08:17:45.060587",
     "exception": false,
     "start_time": "2021-06-10T08:17:45.037024",
     "status": "completed"
    },
    "tags": []
   },
   "source": [
    "# Resturant Reviews\n"
   ]
  },
  {
   "cell_type": "markdown",
   "id": "organizational-butler",
   "metadata": {
    "papermill": {
     "duration": 0.022716,
     "end_time": "2021-06-10T08:17:45.106528",
     "exception": false,
     "start_time": "2021-06-10T08:17:45.083812",
     "status": "completed"
    },
    "tags": []
   },
   "source": [
    "***DataDescription***\n",
    "> The data consists of 2 columns Review and Liked\n",
    "> \n",
    "> Review: The reviews on resturants were in the Review Column\n",
    "> \n",
    "> Liked: The Good and Bad Review are denoted in the Liked column in the form of 0 and 1 \n",
    "> \n",
    "> 0- Bad Review\n",
    "> \n",
    "> 1- Good Review"
   ]
  },
  {
   "cell_type": "code",
   "execution_count": 1,
   "id": "extra-leeds",
   "metadata": {
    "_cell_guid": "b1076dfc-b9ad-4769-8c92-a6c4dae69d19",
    "_uuid": "8f2839f25d086af736a60e9eeb907d3b93b6e0e5",
    "execution": {
     "iopub.execute_input": "2021-06-10T08:17:45.164562Z",
     "iopub.status.busy": "2021-06-10T08:17:45.163878Z",
     "iopub.status.idle": "2021-06-10T08:17:45.177175Z",
     "shell.execute_reply": "2021-06-10T08:17:45.177887Z",
     "shell.execute_reply.started": "2021-06-10T08:16:52.663700Z"
    },
    "papermill": {
     "duration": 0.048109,
     "end_time": "2021-06-10T08:17:45.178284",
     "exception": false,
     "start_time": "2021-06-10T08:17:45.130175",
     "status": "completed"
    },
    "tags": []
   },
   "outputs": [
    {
     "name": "stdout",
     "output_type": "stream",
     "text": [
      "/kaggle/input/restaurant-reviews/Restaurant_Reviews.tsv\n"
     ]
    }
   ],
   "source": [
    "# This Python 3 environment comes with many helpful analytics libraries installed\n",
    "# It is defined by the kaggle/python Docker image: https://github.com/kaggle/docker-python\n",
    "# For example, here's several helpful packages to load\n",
    "\n",
    "import numpy as np # linear algebra\n",
    "import pandas as pd # data processing, CSV file I/O (e.g. pd.read_csv)\n",
    "\n",
    "# Input data files are available in the read-only \"../input/\" directory\n",
    "# For example, running this (by clicking run or pressing Shift+Enter) will list all files under the input directory\n",
    "\n",
    "import os\n",
    "for dirname, _, filenames in os.walk('/kaggle/input'):\n",
    "    for filename in filenames:\n",
    "        print(os.path.join(dirname, filename))\n",
    "\n",
    "# You can write up to 20GB to the current directory (/kaggle/working/) that gets preserved as output when you create a version using \"Save & Run All\" \n",
    "# You can also write temporary files to /kaggle/temp/, but they won't be saved outside of the current session"
   ]
  },
  {
   "cell_type": "markdown",
   "id": "suitable-disclaimer",
   "metadata": {
    "papermill": {
     "duration": 0.023273,
     "end_time": "2021-06-10T08:17:45.225595",
     "exception": false,
     "start_time": "2021-06-10T08:17:45.202322",
     "status": "completed"
    },
    "tags": []
   },
   "source": [
    "# Adding Basic Liberaries"
   ]
  },
  {
   "cell_type": "code",
   "execution_count": 2,
   "id": "aerial-pathology",
   "metadata": {
    "execution": {
     "iopub.execute_input": "2021-06-10T08:17:45.279225Z",
     "iopub.status.busy": "2021-06-10T08:17:45.278558Z",
     "iopub.status.idle": "2021-06-10T08:17:50.660490Z",
     "shell.execute_reply": "2021-06-10T08:17:50.659935Z",
     "shell.execute_reply.started": "2021-06-10T08:16:52.683944Z"
    },
    "papermill": {
     "duration": 5.410332,
     "end_time": "2021-06-10T08:17:50.660650",
     "exception": false,
     "start_time": "2021-06-10T08:17:45.250318",
     "status": "completed"
    },
    "tags": []
   },
   "outputs": [],
   "source": [
    "import numpy as np\n",
    "import pandas as pd\n",
    "import matplotlib.pyplot as plt\n",
    "import tensorflow as tf\n",
    "from tensorflow.keras.preprocessing.text import Tokenizer\n",
    "from tensorflow.keras.preprocessing.sequence import pad_sequences"
   ]
  },
  {
   "cell_type": "markdown",
   "id": "renewable-activity",
   "metadata": {
    "papermill": {
     "duration": 0.022724,
     "end_time": "2021-06-10T08:17:50.707462",
     "exception": false,
     "start_time": "2021-06-10T08:17:50.684738",
     "status": "completed"
    },
    "tags": []
   },
   "source": [
    "# Loading the Data"
   ]
  },
  {
   "cell_type": "code",
   "execution_count": 3,
   "id": "through-stake",
   "metadata": {
    "execution": {
     "iopub.execute_input": "2021-06-10T08:17:50.759223Z",
     "iopub.status.busy": "2021-06-10T08:17:50.758491Z",
     "iopub.status.idle": "2021-06-10T08:17:50.797056Z",
     "shell.execute_reply": "2021-06-10T08:17:50.797572Z",
     "shell.execute_reply.started": "2021-06-10T08:16:54.609705Z"
    },
    "papermill": {
     "duration": 0.067008,
     "end_time": "2021-06-10T08:17:50.797735",
     "exception": false,
     "start_time": "2021-06-10T08:17:50.730727",
     "status": "completed"
    },
    "tags": []
   },
   "outputs": [
    {
     "data": {
      "text/html": [
       "<div>\n",
       "<style scoped>\n",
       "    .dataframe tbody tr th:only-of-type {\n",
       "        vertical-align: middle;\n",
       "    }\n",
       "\n",
       "    .dataframe tbody tr th {\n",
       "        vertical-align: top;\n",
       "    }\n",
       "\n",
       "    .dataframe thead th {\n",
       "        text-align: right;\n",
       "    }\n",
       "</style>\n",
       "<table border=\"1\" class=\"dataframe\">\n",
       "  <thead>\n",
       "    <tr style=\"text-align: right;\">\n",
       "      <th></th>\n",
       "      <th>Review</th>\n",
       "      <th>Liked</th>\n",
       "    </tr>\n",
       "  </thead>\n",
       "  <tbody>\n",
       "    <tr>\n",
       "      <th>0</th>\n",
       "      <td>Wow... Loved this place.</td>\n",
       "      <td>1</td>\n",
       "    </tr>\n",
       "    <tr>\n",
       "      <th>1</th>\n",
       "      <td>Crust is not good.</td>\n",
       "      <td>0</td>\n",
       "    </tr>\n",
       "    <tr>\n",
       "      <th>2</th>\n",
       "      <td>Not tasty and the texture was just nasty.</td>\n",
       "      <td>0</td>\n",
       "    </tr>\n",
       "    <tr>\n",
       "      <th>3</th>\n",
       "      <td>Stopped by during the late May bank holiday of...</td>\n",
       "      <td>1</td>\n",
       "    </tr>\n",
       "    <tr>\n",
       "      <th>4</th>\n",
       "      <td>The selection on the menu was great and so wer...</td>\n",
       "      <td>1</td>\n",
       "    </tr>\n",
       "  </tbody>\n",
       "</table>\n",
       "</div>"
      ],
      "text/plain": [
       "                                              Review  Liked\n",
       "0                           Wow... Loved this place.      1\n",
       "1                                 Crust is not good.      0\n",
       "2          Not tasty and the texture was just nasty.      0\n",
       "3  Stopped by during the late May bank holiday of...      1\n",
       "4  The selection on the menu was great and so wer...      1"
      ]
     },
     "execution_count": 3,
     "metadata": {},
     "output_type": "execute_result"
    }
   ],
   "source": [
    "df = pd.read_csv('/kaggle/input/restaurant-reviews/Restaurant_Reviews.tsv', delimiter = '\\t', quoting = 3)\n",
    "df.head()"
   ]
  },
  {
   "cell_type": "code",
   "execution_count": 4,
   "id": "practical-greeting",
   "metadata": {
    "execution": {
     "iopub.execute_input": "2021-06-10T08:17:50.847655Z",
     "iopub.status.busy": "2021-06-10T08:17:50.847026Z",
     "iopub.status.idle": "2021-06-10T08:17:50.852444Z",
     "shell.execute_reply": "2021-06-10T08:17:50.852937Z",
     "shell.execute_reply.started": "2021-06-10T08:16:54.636133Z"
    },
    "papermill": {
     "duration": 0.031901,
     "end_time": "2021-06-10T08:17:50.853111",
     "exception": false,
     "start_time": "2021-06-10T08:17:50.821210",
     "status": "completed"
    },
    "tags": []
   },
   "outputs": [
    {
     "data": {
      "text/plain": [
       "(1000, 2)"
      ]
     },
     "execution_count": 4,
     "metadata": {},
     "output_type": "execute_result"
    }
   ],
   "source": [
    "# Getting the shape of data\n",
    "df.shape"
   ]
  },
  {
   "cell_type": "markdown",
   "id": "corporate-fancy",
   "metadata": {
    "papermill": {
     "duration": 0.024021,
     "end_time": "2021-06-10T08:17:50.901123",
     "exception": false,
     "start_time": "2021-06-10T08:17:50.877102",
     "status": "completed"
    },
    "tags": []
   },
   "source": [
    "* **Setting Parameters**"
   ]
  },
  {
   "cell_type": "code",
   "execution_count": 5,
   "id": "smoking-twist",
   "metadata": {
    "execution": {
     "iopub.execute_input": "2021-06-10T08:17:50.953126Z",
     "iopub.status.busy": "2021-06-10T08:17:50.952466Z",
     "iopub.status.idle": "2021-06-10T08:17:50.955498Z",
     "shell.execute_reply": "2021-06-10T08:17:50.955012Z",
     "shell.execute_reply.started": "2021-06-10T08:16:54.644932Z"
    },
    "papermill": {
     "duration": 0.03103,
     "end_time": "2021-06-10T08:17:50.955688",
     "exception": false,
     "start_time": "2021-06-10T08:17:50.924658",
     "status": "completed"
    },
    "tags": []
   },
   "outputs": [],
   "source": [
    "vocab_size = 500\n",
    "embedding_dim = 16\n",
    "max_length = 100\n",
    "trunc_type='post'\n",
    "padding_type='post'\n",
    "oov_tok = \"<OOV>\"\n",
    "training_size = 900"
   ]
  },
  {
   "cell_type": "markdown",
   "id": "middle-reproduction",
   "metadata": {
    "papermill": {
     "duration": 0.023418,
     "end_time": "2021-06-10T08:17:51.003073",
     "exception": false,
     "start_time": "2021-06-10T08:17:50.979655",
     "status": "completed"
    },
    "tags": []
   },
   "source": [
    "***Seperating data column to sentences and Labels***"
   ]
  },
  {
   "cell_type": "code",
   "execution_count": 6,
   "id": "identified-partition",
   "metadata": {
    "execution": {
     "iopub.execute_input": "2021-06-10T08:17:51.057492Z",
     "iopub.status.busy": "2021-06-10T08:17:51.056743Z",
     "iopub.status.idle": "2021-06-10T08:17:51.059872Z",
     "shell.execute_reply": "2021-06-10T08:17:51.060378Z",
     "shell.execute_reply.started": "2021-06-10T08:16:54.655619Z"
    },
    "papermill": {
     "duration": 0.033213,
     "end_time": "2021-06-10T08:17:51.060544",
     "exception": false,
     "start_time": "2021-06-10T08:17:51.027331",
     "status": "completed"
    },
    "tags": []
   },
   "outputs": [],
   "source": [
    "sentences = df['Review'].tolist()\n",
    "labels  = df['Liked'].tolist()"
   ]
  },
  {
   "cell_type": "markdown",
   "id": "characteristic-thought",
   "metadata": {
    "papermill": {
     "duration": 0.023473,
     "end_time": "2021-06-10T08:17:51.108066",
     "exception": false,
     "start_time": "2021-06-10T08:17:51.084593",
     "status": "completed"
    },
    "tags": []
   },
   "source": [
    "# Getting Training and Testing Data"
   ]
  },
  {
   "cell_type": "code",
   "execution_count": 7,
   "id": "eligible-sigma",
   "metadata": {
    "execution": {
     "iopub.execute_input": "2021-06-10T08:17:51.159377Z",
     "iopub.status.busy": "2021-06-10T08:17:51.158434Z",
     "iopub.status.idle": "2021-06-10T08:17:51.162969Z",
     "shell.execute_reply": "2021-06-10T08:17:51.163513Z",
     "shell.execute_reply.started": "2021-06-10T08:16:54.668749Z"
    },
    "papermill": {
     "duration": 0.031731,
     "end_time": "2021-06-10T08:17:51.163684",
     "exception": false,
     "start_time": "2021-06-10T08:17:51.131953",
     "status": "completed"
    },
    "tags": []
   },
   "outputs": [],
   "source": [
    "training_sentences = sentences[0:training_size]\n",
    "testing_sentences = sentences[training_size:]\n",
    "training_labels = labels[0:training_size]\n",
    "testing_labels = labels[training_size:]"
   ]
  },
  {
   "cell_type": "markdown",
   "id": "oriental-screen",
   "metadata": {
    "papermill": {
     "duration": 0.023393,
     "end_time": "2021-06-10T08:17:51.211021",
     "exception": false,
     "start_time": "2021-06-10T08:17:51.187628",
     "status": "completed"
    },
    "tags": []
   },
   "source": [
    "# Setting Tokenizer And Padding data"
   ]
  },
  {
   "cell_type": "code",
   "execution_count": 8,
   "id": "dominican-investigator",
   "metadata": {
    "execution": {
     "iopub.execute_input": "2021-06-10T08:17:51.263035Z",
     "iopub.status.busy": "2021-06-10T08:17:51.262113Z",
     "iopub.status.idle": "2021-06-10T08:17:51.309079Z",
     "shell.execute_reply": "2021-06-10T08:17:51.309549Z",
     "shell.execute_reply.started": "2021-06-10T08:16:54.684056Z"
    },
    "papermill": {
     "duration": 0.074784,
     "end_time": "2021-06-10T08:17:51.309728",
     "exception": false,
     "start_time": "2021-06-10T08:17:51.234944",
     "status": "completed"
    },
    "tags": []
   },
   "outputs": [],
   "source": [
    "tokenizer = Tokenizer(num_words=vocab_size, oov_token=oov_tok)\n",
    "tokenizer.fit_on_texts(training_sentences)\n",
    "\n",
    "word_index = tokenizer.word_index\n",
    "\n",
    "training_sequences = tokenizer.texts_to_sequences(training_sentences)\n",
    "training_padded = pad_sequences(training_sequences, maxlen=max_length, padding=padding_type, truncating=trunc_type)\n",
    "\n",
    "testing_sequences = tokenizer.texts_to_sequences(testing_sentences)\n",
    "testing_padded = pad_sequences(testing_sequences, maxlen=max_length, padding=padding_type, truncating=trunc_type)"
   ]
  },
  {
   "cell_type": "markdown",
   "id": "alleged-tourist",
   "metadata": {
    "papermill": {
     "duration": 0.023593,
     "end_time": "2021-06-10T08:17:51.357223",
     "exception": false,
     "start_time": "2021-06-10T08:17:51.333630",
     "status": "completed"
    },
    "tags": []
   },
   "source": [
    "***Converting data into arrays***"
   ]
  },
  {
   "cell_type": "code",
   "execution_count": 9,
   "id": "rational-contact",
   "metadata": {
    "execution": {
     "iopub.execute_input": "2021-06-10T08:17:51.408421Z",
     "iopub.status.busy": "2021-06-10T08:17:51.407461Z",
     "iopub.status.idle": "2021-06-10T08:17:51.412403Z",
     "shell.execute_reply": "2021-06-10T08:17:51.412898Z",
     "shell.execute_reply.started": "2021-06-10T08:16:54.742742Z"
    },
    "papermill": {
     "duration": 0.032047,
     "end_time": "2021-06-10T08:17:51.413064",
     "exception": false,
     "start_time": "2021-06-10T08:17:51.381017",
     "status": "completed"
    },
    "tags": []
   },
   "outputs": [],
   "source": [
    "import numpy as np\n",
    "training_padded = np.array(training_padded)\n",
    "training_labels = np.array(training_labels)\n",
    "testing_padded = np.array(testing_padded)\n",
    "testing_labels = np.array(testing_labels)"
   ]
  },
  {
   "cell_type": "markdown",
   "id": "virtual-kennedy",
   "metadata": {
    "papermill": {
     "duration": 0.023691,
     "end_time": "2021-06-10T08:17:51.460628",
     "exception": false,
     "start_time": "2021-06-10T08:17:51.436937",
     "status": "completed"
    },
    "tags": []
   },
   "source": [
    "# Creating CNN model\n",
    "# Adding Layers\n",
    "# Compiling Models"
   ]
  },
  {
   "cell_type": "code",
   "execution_count": 10,
   "id": "identified-lounge",
   "metadata": {
    "execution": {
     "iopub.execute_input": "2021-06-10T08:17:51.512674Z",
     "iopub.status.busy": "2021-06-10T08:17:51.511721Z",
     "iopub.status.idle": "2021-06-10T08:17:51.627109Z",
     "shell.execute_reply": "2021-06-10T08:17:51.626524Z",
     "shell.execute_reply.started": "2021-06-10T08:16:54.750690Z"
    },
    "papermill": {
     "duration": 0.142086,
     "end_time": "2021-06-10T08:17:51.627255",
     "exception": false,
     "start_time": "2021-06-10T08:17:51.485169",
     "status": "completed"
    },
    "tags": []
   },
   "outputs": [],
   "source": [
    "model = tf.keras.Sequential([\n",
    "    tf.keras.layers.Embedding(vocab_size, embedding_dim, input_length=max_length),\n",
    "    tf.keras.layers.GlobalAveragePooling1D(),\n",
    "    tf.keras.layers.Dense(24, activation='relu'),\n",
    "    tf.keras.layers.Dense(1, activation='sigmoid')\n",
    "])\n",
    "model.compile(loss='binary_crossentropy',optimizer='adam',metrics=['accuracy'])"
   ]
  },
  {
   "cell_type": "code",
   "execution_count": 11,
   "id": "split-trace",
   "metadata": {
    "execution": {
     "iopub.execute_input": "2021-06-10T08:17:51.680484Z",
     "iopub.status.busy": "2021-06-10T08:17:51.679479Z",
     "iopub.status.idle": "2021-06-10T08:17:51.686152Z",
     "shell.execute_reply": "2021-06-10T08:17:51.685144Z",
     "shell.execute_reply.started": "2021-06-10T08:16:54.833735Z"
    },
    "papermill": {
     "duration": 0.035195,
     "end_time": "2021-06-10T08:17:51.686405",
     "exception": false,
     "start_time": "2021-06-10T08:17:51.651210",
     "status": "completed"
    },
    "tags": []
   },
   "outputs": [
    {
     "name": "stdout",
     "output_type": "stream",
     "text": [
      "Model: \"sequential\"\n",
      "_________________________________________________________________\n",
      "Layer (type)                 Output Shape              Param #   \n",
      "=================================================================\n",
      "embedding (Embedding)        (None, 100, 16)           8000      \n",
      "_________________________________________________________________\n",
      "global_average_pooling1d (Gl (None, 16)                0         \n",
      "_________________________________________________________________\n",
      "dense (Dense)                (None, 24)                408       \n",
      "_________________________________________________________________\n",
      "dense_1 (Dense)              (None, 1)                 25        \n",
      "=================================================================\n",
      "Total params: 8,433\n",
      "Trainable params: 8,433\n",
      "Non-trainable params: 0\n",
      "_________________________________________________________________\n"
     ]
    }
   ],
   "source": [
    "# Getting Summary\n",
    "model.summary()"
   ]
  },
  {
   "cell_type": "markdown",
   "id": "abroad-taste",
   "metadata": {
    "papermill": {
     "duration": 0.023747,
     "end_time": "2021-06-10T08:17:51.735508",
     "exception": false,
     "start_time": "2021-06-10T08:17:51.711761",
     "status": "completed"
    },
    "tags": []
   },
   "source": [
    "# Fiting CNN Model"
   ]
  },
  {
   "cell_type": "code",
   "execution_count": 12,
   "id": "organized-estonia",
   "metadata": {
    "execution": {
     "iopub.execute_input": "2021-06-10T08:17:51.788615Z",
     "iopub.status.busy": "2021-06-10T08:17:51.787989Z",
     "iopub.status.idle": "2021-06-10T08:17:57.687510Z",
     "shell.execute_reply": "2021-06-10T08:17:57.687989Z",
     "shell.execute_reply.started": "2021-06-10T08:16:54.845169Z"
    },
    "papermill": {
     "duration": 5.928557,
     "end_time": "2021-06-10T08:17:57.688168",
     "exception": false,
     "start_time": "2021-06-10T08:17:51.759611",
     "status": "completed"
    },
    "tags": []
   },
   "outputs": [
    {
     "name": "stdout",
     "output_type": "stream",
     "text": [
      "Epoch 1/50\n",
      "29/29 - 1s - loss: 0.6906 - accuracy: 0.5467 - val_loss: 0.7499 - val_accuracy: 0.0400\n",
      "Epoch 2/50\n",
      "29/29 - 0s - loss: 0.6876 - accuracy: 0.5511 - val_loss: 0.7771 - val_accuracy: 0.0400\n",
      "Epoch 3/50\n",
      "29/29 - 0s - loss: 0.6871 - accuracy: 0.5511 - val_loss: 0.7946 - val_accuracy: 0.0400\n",
      "Epoch 4/50\n",
      "29/29 - 0s - loss: 0.6861 - accuracy: 0.5511 - val_loss: 0.7814 - val_accuracy: 0.0400\n",
      "Epoch 5/50\n",
      "29/29 - 0s - loss: 0.6857 - accuracy: 0.5511 - val_loss: 0.7974 - val_accuracy: 0.0400\n",
      "Epoch 6/50\n",
      "29/29 - 0s - loss: 0.6840 - accuracy: 0.5511 - val_loss: 0.8091 - val_accuracy: 0.0400\n",
      "Epoch 7/50\n",
      "29/29 - 0s - loss: 0.6828 - accuracy: 0.5511 - val_loss: 0.7978 - val_accuracy: 0.0400\n",
      "Epoch 8/50\n",
      "29/29 - 0s - loss: 0.6808 - accuracy: 0.5511 - val_loss: 0.7940 - val_accuracy: 0.0400\n",
      "Epoch 9/50\n",
      "29/29 - 0s - loss: 0.6789 - accuracy: 0.5511 - val_loss: 0.7743 - val_accuracy: 0.0400\n",
      "Epoch 10/50\n",
      "29/29 - 0s - loss: 0.6745 - accuracy: 0.5511 - val_loss: 0.7815 - val_accuracy: 0.0500\n",
      "Epoch 11/50\n",
      "29/29 - 0s - loss: 0.6679 - accuracy: 0.5556 - val_loss: 0.7701 - val_accuracy: 0.0700\n",
      "Epoch 12/50\n",
      "29/29 - 0s - loss: 0.6604 - accuracy: 0.6344 - val_loss: 0.7739 - val_accuracy: 0.1000\n",
      "Epoch 13/50\n",
      "29/29 - 0s - loss: 0.6495 - accuracy: 0.5944 - val_loss: 0.7407 - val_accuracy: 0.2700\n",
      "Epoch 14/50\n",
      "29/29 - 0s - loss: 0.6360 - accuracy: 0.7044 - val_loss: 0.7851 - val_accuracy: 0.2100\n",
      "Epoch 15/50\n",
      "29/29 - 0s - loss: 0.6211 - accuracy: 0.6567 - val_loss: 0.6795 - val_accuracy: 0.4700\n",
      "Epoch 16/50\n",
      "29/29 - 0s - loss: 0.6020 - accuracy: 0.7411 - val_loss: 0.7551 - val_accuracy: 0.3400\n",
      "Epoch 17/50\n",
      "29/29 - 0s - loss: 0.5849 - accuracy: 0.7367 - val_loss: 0.6602 - val_accuracy: 0.5000\n",
      "Epoch 18/50\n",
      "29/29 - 0s - loss: 0.5653 - accuracy: 0.7378 - val_loss: 0.6569 - val_accuracy: 0.5100\n",
      "Epoch 19/50\n",
      "29/29 - 0s - loss: 0.5411 - accuracy: 0.7889 - val_loss: 0.7042 - val_accuracy: 0.4300\n",
      "Epoch 20/50\n",
      "29/29 - 0s - loss: 0.5204 - accuracy: 0.7778 - val_loss: 0.7312 - val_accuracy: 0.4200\n",
      "Epoch 21/50\n",
      "29/29 - 0s - loss: 0.4997 - accuracy: 0.8144 - val_loss: 0.6353 - val_accuracy: 0.5900\n",
      "Epoch 22/50\n",
      "29/29 - 0s - loss: 0.4790 - accuracy: 0.8089 - val_loss: 0.5193 - val_accuracy: 0.8000\n",
      "Epoch 23/50\n",
      "29/29 - 0s - loss: 0.4567 - accuracy: 0.8389 - val_loss: 0.6236 - val_accuracy: 0.5900\n",
      "Epoch 24/50\n",
      "29/29 - 0s - loss: 0.4366 - accuracy: 0.8367 - val_loss: 0.5772 - val_accuracy: 0.7000\n",
      "Epoch 25/50\n",
      "29/29 - 0s - loss: 0.4168 - accuracy: 0.8522 - val_loss: 0.5968 - val_accuracy: 0.6700\n",
      "Epoch 26/50\n",
      "29/29 - 0s - loss: 0.4005 - accuracy: 0.8689 - val_loss: 0.5868 - val_accuracy: 0.6700\n",
      "Epoch 27/50\n",
      "29/29 - 0s - loss: 0.3835 - accuracy: 0.8733 - val_loss: 0.5847 - val_accuracy: 0.6800\n",
      "Epoch 28/50\n",
      "29/29 - 0s - loss: 0.3693 - accuracy: 0.8800 - val_loss: 0.5659 - val_accuracy: 0.6800\n",
      "Epoch 29/50\n",
      "29/29 - 0s - loss: 0.3548 - accuracy: 0.8789 - val_loss: 0.5110 - val_accuracy: 0.7600\n",
      "Epoch 30/50\n",
      "29/29 - 0s - loss: 0.3394 - accuracy: 0.8822 - val_loss: 0.5492 - val_accuracy: 0.7200\n",
      "Epoch 31/50\n",
      "29/29 - 0s - loss: 0.3268 - accuracy: 0.8956 - val_loss: 0.5188 - val_accuracy: 0.7700\n",
      "Epoch 32/50\n",
      "29/29 - 0s - loss: 0.3169 - accuracy: 0.8900 - val_loss: 0.4821 - val_accuracy: 0.8000\n",
      "Epoch 33/50\n",
      "29/29 - 0s - loss: 0.3057 - accuracy: 0.8967 - val_loss: 0.3810 - val_accuracy: 0.8900\n",
      "Epoch 34/50\n",
      "29/29 - 0s - loss: 0.2956 - accuracy: 0.8922 - val_loss: 0.4779 - val_accuracy: 0.8000\n",
      "Epoch 35/50\n",
      "29/29 - 0s - loss: 0.2858 - accuracy: 0.9078 - val_loss: 0.5171 - val_accuracy: 0.7700\n",
      "Epoch 36/50\n",
      "29/29 - 0s - loss: 0.2756 - accuracy: 0.9044 - val_loss: 0.4503 - val_accuracy: 0.8200\n",
      "Epoch 37/50\n",
      "29/29 - 0s - loss: 0.2671 - accuracy: 0.9178 - val_loss: 0.4144 - val_accuracy: 0.8500\n",
      "Epoch 38/50\n",
      "29/29 - 0s - loss: 0.2590 - accuracy: 0.9133 - val_loss: 0.4407 - val_accuracy: 0.8400\n",
      "Epoch 39/50\n",
      "29/29 - 0s - loss: 0.2524 - accuracy: 0.9178 - val_loss: 0.4408 - val_accuracy: 0.8300\n",
      "Epoch 40/50\n",
      "29/29 - 0s - loss: 0.2463 - accuracy: 0.9122 - val_loss: 0.5152 - val_accuracy: 0.7800\n",
      "Epoch 41/50\n",
      "29/29 - 0s - loss: 0.2412 - accuracy: 0.9167 - val_loss: 0.3800 - val_accuracy: 0.8600\n",
      "Epoch 42/50\n",
      "29/29 - 0s - loss: 0.2507 - accuracy: 0.9022 - val_loss: 0.3470 - val_accuracy: 0.8700\n",
      "Epoch 43/50\n",
      "29/29 - 0s - loss: 0.2370 - accuracy: 0.9156 - val_loss: 0.3654 - val_accuracy: 0.8600\n",
      "Epoch 44/50\n",
      "29/29 - 0s - loss: 0.2279 - accuracy: 0.9167 - val_loss: 0.4165 - val_accuracy: 0.8400\n",
      "Epoch 45/50\n",
      "29/29 - 0s - loss: 0.2177 - accuracy: 0.9211 - val_loss: 0.5044 - val_accuracy: 0.7600\n",
      "Epoch 46/50\n",
      "29/29 - 0s - loss: 0.2116 - accuracy: 0.9278 - val_loss: 0.5369 - val_accuracy: 0.7600\n",
      "Epoch 47/50\n",
      "29/29 - 0s - loss: 0.2080 - accuracy: 0.9289 - val_loss: 0.4152 - val_accuracy: 0.8300\n",
      "Epoch 48/50\n",
      "29/29 - 0s - loss: 0.2077 - accuracy: 0.9267 - val_loss: 0.3864 - val_accuracy: 0.8600\n",
      "Epoch 49/50\n",
      "29/29 - 0s - loss: 0.1996 - accuracy: 0.9289 - val_loss: 0.3491 - val_accuracy: 0.8800\n",
      "Epoch 50/50\n",
      "29/29 - 0s - loss: 0.1975 - accuracy: 0.9267 - val_loss: 0.5408 - val_accuracy: 0.7700\n"
     ]
    }
   ],
   "source": [
    "num_epochs = 50\n",
    "history = model.fit(training_padded, training_labels, epochs=num_epochs, validation_data=(testing_padded, testing_labels), verbose=2)"
   ]
  },
  {
   "cell_type": "markdown",
   "id": "narrative-daisy",
   "metadata": {
    "papermill": {
     "duration": 0.064477,
     "end_time": "2021-06-10T08:17:57.806087",
     "exception": false,
     "start_time": "2021-06-10T08:17:57.741610",
     "status": "completed"
    },
    "tags": []
   },
   "source": [
    "# Plotting accuracy and loss Graph"
   ]
  },
  {
   "cell_type": "code",
   "execution_count": 13,
   "id": "printable-sociology",
   "metadata": {
    "execution": {
     "iopub.execute_input": "2021-06-10T08:17:57.932668Z",
     "iopub.status.busy": "2021-06-10T08:17:57.931731Z",
     "iopub.status.idle": "2021-06-10T08:17:58.428246Z",
     "shell.execute_reply": "2021-06-10T08:17:58.428690Z",
     "shell.execute_reply.started": "2021-06-10T08:17:00.749668Z"
    },
    "papermill": {
     "duration": 0.554929,
     "end_time": "2021-06-10T08:17:58.428879",
     "exception": false,
     "start_time": "2021-06-10T08:17:57.873950",
     "status": "completed"
    },
    "tags": []
   },
   "outputs": [
    {
     "data": {
      "image/png": "[encoded data removed]",
      "text/plain": [
       "<Figure size 432x288 with 1 Axes>"
      ]
     },
     "metadata": {
      "needs_background": "light"
     },
     "output_type": "display_data"
    },
    {
     "data": {
      "image/png": "[encoded data removed]",
      "text/plain": [
       "<Figure size 432x288 with 1 Axes>"
      ]
     },
     "metadata": {
      "needs_background": "light"
     },
     "output_type": "display_data"
    }
   ],
   "source": [
    "import matplotlib.pyplot as plt\n",
    "\n",
    "def plot_graphs(history, string):\n",
    "    plt.plot(history.history[string])\n",
    "    plt.plot(history.history['val_'+string])\n",
    "    plt.xlabel(\"Epochs\")\n",
    "    plt.ylabel(string)\n",
    "    plt.legend([string, 'val_'+string])\n",
    "    plt.show()\n",
    "plot_graphs(history, \"accuracy\")\n",
    "plot_graphs(history, \"loss\")"
   ]
  },
  {
   "cell_type": "markdown",
   "id": "successful-geneva",
   "metadata": {
    "papermill": {
     "duration": 0.054749,
     "end_time": "2021-06-10T08:17:58.538982",
     "exception": false,
     "start_time": "2021-06-10T08:17:58.484233",
     "status": "completed"
    },
    "tags": []
   },
   "source": [
    "* The 1st Graph Show the Difference B/w Increase in accuracy and val_accuracy \n",
    "* The 2nd Graph show the difference b/w decrease in loss and val_loss"
   ]
  },
  {
   "cell_type": "markdown",
   "id": "plain-sellers",
   "metadata": {
    "papermill": {
     "duration": 0.05464,
     "end_time": "2021-06-10T08:17:58.649042",
     "exception": false,
     "start_time": "2021-06-10T08:17:58.594402",
     "status": "completed"
    },
    "tags": []
   },
   "source": [
    "***Decoding Sentences*** "
   ]
  },
  {
   "cell_type": "code",
   "execution_count": 14,
   "id": "proper-teddy",
   "metadata": {
    "execution": {
     "iopub.execute_input": "2021-06-10T08:17:58.762939Z",
     "iopub.status.busy": "2021-06-10T08:17:58.762016Z",
     "iopub.status.idle": "2021-06-10T08:17:58.770559Z",
     "shell.execute_reply": "2021-06-10T08:17:58.769918Z",
     "shell.execute_reply.started": "2021-06-10T08:17:01.249299Z"
    },
    "papermill": {
     "duration": 0.066783,
     "end_time": "2021-06-10T08:17:58.770706",
     "exception": false,
     "start_time": "2021-06-10T08:17:58.703923",
     "status": "completed"
    },
    "tags": []
   },
   "outputs": [
    {
     "name": "stdout",
     "output_type": "stream",
     "text": [
      "wow loved this place ? ? ? ? ? ? ? ? ? ? ? ? ? ? ? ? ? ? ? ? ? ? ? ? ? ? ? ? ? ? ? ? ? ? ? ? ? ? ? ? ? ? ? ? ? ? ? ? ? ? ? ? ? ? ? ? ? ? ? ? ? ? ? ? ? ? ? ? ? ? ? ? ? ? ? ? ? ? ? ? ? ? ? ? ? ? ? ? ? ? ? ? ? ? ? ?\n",
      "Wow... Loved this place.\n",
      "1\n"
     ]
    }
   ],
   "source": [
    "reverse_word_index = dict([(value, key) for (key, value) in word_index.items()])\n",
    "\n",
    "def decode_sentence(text):\n",
    "    return ' '.join([reverse_word_index.get(i, '?') for i in text])\n",
    "\n",
    "print(decode_sentence(training_padded[0]))\n",
    "print(training_sentences[0])\n",
    "print(labels[0])"
   ]
  },
  {
   "cell_type": "markdown",
   "id": "presidential-hanging",
   "metadata": {
    "papermill": {
     "duration": 0.055178,
     "end_time": "2021-06-10T08:17:58.882334",
     "exception": false,
     "start_time": "2021-06-10T08:17:58.827156",
     "status": "completed"
    },
    "tags": []
   },
   "source": [
    "# Prediction on Testing Data"
   ]
  },
  {
   "cell_type": "code",
   "execution_count": 15,
   "id": "pacific-being",
   "metadata": {
    "execution": {
     "iopub.execute_input": "2021-06-10T08:17:58.998516Z",
     "iopub.status.busy": "2021-06-10T08:17:58.997851Z",
     "iopub.status.idle": "2021-06-10T08:17:59.005237Z",
     "shell.execute_reply": "2021-06-10T08:17:59.005673Z",
     "shell.execute_reply.started": "2021-06-10T08:17:01.259947Z"
    },
    "papermill": {
     "duration": 0.068561,
     "end_time": "2021-06-10T08:17:59.005865",
     "exception": false,
     "start_time": "2021-06-10T08:17:58.937304",
     "status": "completed"
    },
    "tags": []
   },
   "outputs": [
    {
     "name": "stdout",
     "output_type": "stream",
     "text": [
      "Spend your money elsewhere. :  0\n",
      "Their regular toasted bread was equally satisfying with the occasional pats of butter... Mmmm...! :  1\n",
      "The Buffet at Bellagio was far from what I anticipated. :  0\n",
      "And the drinks are WEAK, people! :  0\n",
      "-My order was not correct. :  0\n",
      "Also, I feel like the chips are bought, not made in house. :  0\n",
      "After the disappointing dinner we went elsewhere for dessert. :  0\n",
      "The chips and sals a here is amazing!!!!!!!!!!!!!!!!!!! :  1\n",
      "We won't be returning. :  0\n",
      "This is my new fav Vegas buffet spot. :  1\n"
     ]
    }
   ],
   "source": [
    "for n in range(10):\n",
    "    print(testing_sentences[n],': ',testing_labels[n])"
   ]
  },
  {
   "cell_type": "markdown",
   "id": "stainless-professor",
   "metadata": {
    "papermill": {
     "duration": 0.054911,
     "end_time": "2021-06-10T08:17:59.116403",
     "exception": false,
     "start_time": "2021-06-10T08:17:59.061492",
     "status": "completed"
    },
    "tags": []
   },
   "source": [
    "> As we can see here the testing was all perfect!!!!!\n",
    "\n",
    "> Bad Reviews are marked as 0\n",
    "\n",
    "> Good reviews are marked as 1"
   ]
  },
  {
   "cell_type": "markdown",
   "id": "noted-mexican",
   "metadata": {
    "papermill": {
     "duration": 0.055169,
     "end_time": "2021-06-10T08:17:59.226896",
     "exception": false,
     "start_time": "2021-06-10T08:17:59.171727",
     "status": "completed"
    },
    "tags": []
   },
   "source": [
    "# Getting Prediction with Randomly Created Reviews"
   ]
  },
  {
   "cell_type": "code",
   "execution_count": 16,
   "id": "executed-scanner",
   "metadata": {
    "execution": {
     "iopub.execute_input": "2021-06-10T08:17:59.344885Z",
     "iopub.status.busy": "2021-06-10T08:17:59.344196Z",
     "iopub.status.idle": "2021-06-10T08:17:59.453276Z",
     "shell.execute_reply": "2021-06-10T08:17:59.452702Z",
     "shell.execute_reply.started": "2021-06-10T08:17:01.277184Z"
    },
    "papermill": {
     "duration": 0.170489,
     "end_time": "2021-06-10T08:17:59.453427",
     "exception": false,
     "start_time": "2021-06-10T08:17:59.282938",
     "status": "completed"
    },
    "tags": []
   },
   "outputs": [
    {
     "name": "stdout",
     "output_type": "stream",
     "text": [
      "[[0.95942914]\n",
      " [0.8467437 ]\n",
      " [0.07651043]]\n"
     ]
    }
   ],
   "source": [
    "# Checking Predictions\n",
    "sentence = [\"Awesome Pizza\", \"I will come here everytime!!!\", \"Dont come here ever, Worst Food\"]\n",
    "sequences = tokenizer.texts_to_sequences(sentence)\n",
    "padded = pad_sequences(sequences, maxlen=max_length, padding=padding_type, truncating=trunc_type)\n",
    "print(model.predict(padded))"
   ]
  },
  {
   "cell_type": "markdown",
   "id": "absent-identification",
   "metadata": {
    "papermill": {
     "duration": 0.055441,
     "end_time": "2021-06-10T08:17:59.565377",
     "exception": false,
     "start_time": "2021-06-10T08:17:59.509936",
     "status": "completed"
    },
    "tags": []
   },
   "source": [
    "* As we can see the sentences i created randomly were Predicted almost perfectly\n",
    "* the **First 2 reviews** were **good** to they got score which is **almost equals** to **1**\n",
    "* The **3rd review** was the **bad** one so as we can see its score is **almost equal** to **0**"
   ]
  },
  {
   "cell_type": "markdown",
   "id": "smooth-character",
   "metadata": {
    "papermill": {
     "duration": 0.055844,
     "end_time": "2021-06-10T08:17:59.677168",
     "exception": false,
     "start_time": "2021-06-10T08:17:59.621324",
     "status": "completed"
    },
    "tags": []
   },
   "source": [
    "***Please Leave your Valuable feedback in the comments below!!!!!!***"
   ]
  },
  {
   "cell_type": "code",
   "execution_count": null,
   "id": "coupled-jamaica",
   "metadata": {
    "papermill": {
     "duration": 0.055609,
     "end_time": "2021-06-10T08:17:59.788663",
     "exception": false,
     "start_time": "2021-06-10T08:17:59.733054",
     "status": "completed"
    },
    "tags": []
   },
   "outputs": [],
   "source": []
  }
 ],
 "metadata": {
  "kernelspec": {
   "display_name": "Python 3",
   "language": "python",
   "name": "python3"
  },
  "language_info": {
   "codemirror_mode": {
    "name": "ipython",
    "version": 3
   },
   "file_extension": ".py",
   "mimetype": "text/x-python",
   "name": "python",
   "nbconvert_exporter": "python",
   "pygments_lexer": "ipython3",
   "version": "3.7.10"
  },
  "papermill": {
   "default_parameters": {},
   "duration": 23.752161,
   "end_time": "2021-06-10T08:18:01.260464",
   "environment_variables": {},
   "exception": null,
   "input_path": "__notebook__.ipynb",
   "output_path": "__notebook__.ipynb",
   "parameters": {},
   "start_time": "2021-06-10T08:17:37.508303",
   "version": "2.3.3"
  }
 },
 "nbformat": 4,
 "nbformat_minor": 5
}
