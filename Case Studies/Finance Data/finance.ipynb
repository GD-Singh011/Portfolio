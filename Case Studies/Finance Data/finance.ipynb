{
 "cells": [
  {
   "cell_type": "code",
   "execution_count": 1,
   "id": "shared-thickness",
   "metadata": {
    "execution": {
     "iopub.execute_input": "2021-06-06T12:42:34.250302Z",
     "iopub.status.busy": "2021-06-06T12:42:34.249476Z",
     "iopub.status.idle": "2021-06-06T12:42:35.091386Z",
     "shell.execute_reply": "2021-06-06T12:42:35.089969Z",
     "shell.execute_reply.started": "2021-06-06T12:40:32.625162Z"
    },
    "papermill": {
     "duration": 0.884422,
     "end_time": "2021-06-06T12:42:35.091614",
     "exception": false,
     "start_time": "2021-06-06T12:42:34.207192",
     "status": "completed"
    },
    "tags": []
   },
   "outputs": [],
   "source": [
    "# importing important liberaries\n",
    "import pandas as pd \n",
    "import numpy as np \n",
    "import matplotlib as mpl\n",
    "import matplotlib.pyplot as plt \n",
    "import seaborn as sns\n",
    "plt.style.use('seaborn-white')"
   ]
  },
  {
   "cell_type": "code",
   "execution_count": 2,
   "id": "polar-ratio",
   "metadata": {
    "execution": {
     "iopub.execute_input": "2021-06-06T12:42:35.168349Z",
     "iopub.status.busy": "2021-06-06T12:42:35.155203Z",
     "iopub.status.idle": "2021-06-06T12:42:44.058112Z",
     "shell.execute_reply": "2021-06-06T12:42:44.058578Z",
     "shell.execute_reply.started": "2021-06-06T12:40:32.637225Z"
    },
    "papermill": {
     "duration": 8.93721,
     "end_time": "2021-06-06T12:42:44.058790",
     "exception": false,
     "start_time": "2021-06-06T12:42:35.121580",
     "status": "completed"
    },
    "tags": []
   },
   "outputs": [
    {
     "name": "stdout",
     "output_type": "stream",
     "text": [
      "Collecting xlrd\r\n",
      "  Downloading xlrd-2.0.1-py2.py3-none-any.whl (96 kB)\r\n",
      "\u001b[K     |████████████████████████████████| 96 kB 1.0 MB/s \r\n",
      "\u001b[?25hInstalling collected packages: xlrd\r\n",
      "Successfully installed xlrd-2.0.1\r\n",
      "Note: you may need to restart the kernel to use updated packages.\n"
     ]
    }
   ],
   "source": [
    "pip install xlrd"
   ]
  },
  {
   "cell_type": "code",
   "execution_count": 3,
   "id": "outer-saturday",
   "metadata": {
    "execution": {
     "iopub.execute_input": "2021-06-06T12:42:44.133339Z",
     "iopub.status.busy": "2021-06-06T12:42:44.132509Z",
     "iopub.status.idle": "2021-06-06T12:42:51.791421Z",
     "shell.execute_reply": "2021-06-06T12:42:51.790740Z",
     "shell.execute_reply.started": "2021-06-06T12:40:39.085426Z"
    },
    "papermill": {
     "duration": 7.700692,
     "end_time": "2021-06-06T12:42:51.791655",
     "exception": false,
     "start_time": "2021-06-06T12:42:44.090963",
     "status": "completed"
    },
    "tags": []
   },
   "outputs": [
    {
     "name": "stdout",
     "output_type": "stream",
     "text": [
      "Collecting openpyxl\r\n",
      "  Downloading openpyxl-3.0.7-py2.py3-none-any.whl (243 kB)\r\n",
      "\u001b[K     |████████████████████████████████| 243 kB 1.3 MB/s \r\n",
      "\u001b[?25hCollecting et-xmlfile\r\n",
      "  Downloading et_xmlfile-1.1.0-py3-none-any.whl (4.7 kB)\r\n",
      "Installing collected packages: et-xmlfile, openpyxl\r\n",
      "Successfully installed et-xmlfile-1.1.0 openpyxl-3.0.7\r\n",
      "Note: you may need to restart the kernel to use updated packages.\n"
     ]
    }
   ],
   "source": [
    "pip install openpyxl"
   ]
  },
  {
   "cell_type": "code",
   "execution_count": 4,
   "id": "occasional-weather",
   "metadata": {
    "execution": {
     "iopub.execute_input": "2021-06-06T12:42:51.868370Z",
     "iopub.status.busy": "2021-06-06T12:42:51.867731Z",
     "iopub.status.idle": "2021-06-06T12:42:53.699425Z",
     "shell.execute_reply": "2021-06-06T12:42:53.699934Z",
     "shell.execute_reply.started": "2021-06-06T12:40:45.621273Z"
    },
    "papermill": {
     "duration": 1.873047,
     "end_time": "2021-06-06T12:42:53.700112",
     "exception": false,
     "start_time": "2021-06-06T12:42:51.827065",
     "status": "completed"
    },
    "tags": []
   },
   "outputs": [
    {
     "name": "stderr",
     "output_type": "stream",
     "text": [
      "/opt/conda/lib/python3.7/site-packages/openpyxl/styles/stylesheet.py:221: UserWarning: Workbook contains no default style, apply openpyxl's default\n",
      "  warn(\"Workbook contains no default style, apply openpyxl's default\")\n"
     ]
    },
    {
     "data": {
      "text/html": [
       "<div>\n",
       "<style scoped>\n",
       "    .dataframe tbody tr th:only-of-type {\n",
       "        vertical-align: middle;\n",
       "    }\n",
       "\n",
       "    .dataframe tbody tr th {\n",
       "        vertical-align: top;\n",
       "    }\n",
       "\n",
       "    .dataframe thead th {\n",
       "        text-align: right;\n",
       "    }\n",
       "</style>\n",
       "<table border=\"1\" class=\"dataframe\">\n",
       "  <thead>\n",
       "    <tr style=\"text-align: right;\">\n",
       "      <th></th>\n",
       "      <th>Unnamed: 0</th>\n",
       "      <th>default</th>\n",
       "      <th>student</th>\n",
       "      <th>balance</th>\n",
       "      <th>income</th>\n",
       "    </tr>\n",
       "  </thead>\n",
       "  <tbody>\n",
       "    <tr>\n",
       "      <th>0</th>\n",
       "      <td>1</td>\n",
       "      <td>No</td>\n",
       "      <td>No</td>\n",
       "      <td>729.526495</td>\n",
       "      <td>44361.625074</td>\n",
       "    </tr>\n",
       "    <tr>\n",
       "      <th>1</th>\n",
       "      <td>2</td>\n",
       "      <td>No</td>\n",
       "      <td>Yes</td>\n",
       "      <td>817.180407</td>\n",
       "      <td>12106.134700</td>\n",
       "    </tr>\n",
       "    <tr>\n",
       "      <th>2</th>\n",
       "      <td>3</td>\n",
       "      <td>No</td>\n",
       "      <td>No</td>\n",
       "      <td>1073.549164</td>\n",
       "      <td>31767.138947</td>\n",
       "    </tr>\n",
       "    <tr>\n",
       "      <th>3</th>\n",
       "      <td>4</td>\n",
       "      <td>No</td>\n",
       "      <td>No</td>\n",
       "      <td>529.250605</td>\n",
       "      <td>35704.493935</td>\n",
       "    </tr>\n",
       "    <tr>\n",
       "      <th>4</th>\n",
       "      <td>5</td>\n",
       "      <td>No</td>\n",
       "      <td>No</td>\n",
       "      <td>785.655883</td>\n",
       "      <td>38463.495879</td>\n",
       "    </tr>\n",
       "    <tr>\n",
       "      <th>...</th>\n",
       "      <td>...</td>\n",
       "      <td>...</td>\n",
       "      <td>...</td>\n",
       "      <td>...</td>\n",
       "      <td>...</td>\n",
       "    </tr>\n",
       "    <tr>\n",
       "      <th>9995</th>\n",
       "      <td>9996</td>\n",
       "      <td>No</td>\n",
       "      <td>No</td>\n",
       "      <td>711.555020</td>\n",
       "      <td>52992.378914</td>\n",
       "    </tr>\n",
       "    <tr>\n",
       "      <th>9996</th>\n",
       "      <td>9997</td>\n",
       "      <td>No</td>\n",
       "      <td>No</td>\n",
       "      <td>757.962918</td>\n",
       "      <td>19660.721768</td>\n",
       "    </tr>\n",
       "    <tr>\n",
       "      <th>9997</th>\n",
       "      <td>9998</td>\n",
       "      <td>No</td>\n",
       "      <td>No</td>\n",
       "      <td>845.411989</td>\n",
       "      <td>58636.156984</td>\n",
       "    </tr>\n",
       "    <tr>\n",
       "      <th>9998</th>\n",
       "      <td>9999</td>\n",
       "      <td>No</td>\n",
       "      <td>No</td>\n",
       "      <td>1569.009053</td>\n",
       "      <td>36669.112365</td>\n",
       "    </tr>\n",
       "    <tr>\n",
       "      <th>9999</th>\n",
       "      <td>10000</td>\n",
       "      <td>No</td>\n",
       "      <td>Yes</td>\n",
       "      <td>200.922183</td>\n",
       "      <td>16862.952321</td>\n",
       "    </tr>\n",
       "  </tbody>\n",
       "</table>\n",
       "<p>10000 rows × 5 columns</p>\n",
       "</div>"
      ],
      "text/plain": [
       "      Unnamed: 0 default student      balance        income\n",
       "0              1      No      No   729.526495  44361.625074\n",
       "1              2      No     Yes   817.180407  12106.134700\n",
       "2              3      No      No  1073.549164  31767.138947\n",
       "3              4      No      No   529.250605  35704.493935\n",
       "4              5      No      No   785.655883  38463.495879\n",
       "...          ...     ...     ...          ...           ...\n",
       "9995        9996      No      No   711.555020  52992.378914\n",
       "9996        9997      No      No   757.962918  19660.721768\n",
       "9997        9998      No      No   845.411989  58636.156984\n",
       "9998        9999      No      No  1569.009053  36669.112365\n",
       "9999       10000      No     Yes   200.922183  16862.952321\n",
       "\n",
       "[10000 rows x 5 columns]"
      ]
     },
     "execution_count": 4,
     "metadata": {},
     "output_type": "execute_result"
    }
   ],
   "source": [
    "# LOading the dataa\n",
    "ccdef = pd.read_excel('/kaggle/input/finance-dataset/Default.xlsx')\n",
    "ccdef"
   ]
  },
  {
   "cell_type": "code",
   "execution_count": 5,
   "id": "touched-subdivision",
   "metadata": {
    "execution": {
     "iopub.execute_input": "2021-06-06T12:42:53.778270Z",
     "iopub.status.busy": "2021-06-06T12:42:53.777384Z",
     "iopub.status.idle": "2021-06-06T12:42:53.781811Z",
     "shell.execute_reply": "2021-06-06T12:42:53.781197Z",
     "shell.execute_reply.started": "2021-06-06T12:40:47.047167Z"
    },
    "papermill": {
     "duration": 0.045195,
     "end_time": "2021-06-06T12:42:53.781956",
     "exception": false,
     "start_time": "2021-06-06T12:42:53.736761",
     "status": "completed"
    },
    "tags": []
   },
   "outputs": [
    {
     "data": {
      "text/plain": [
       "(10000, 5)"
      ]
     },
     "execution_count": 5,
     "metadata": {},
     "output_type": "execute_result"
    }
   ],
   "source": [
    "ccdef.shape"
   ]
  },
  {
   "cell_type": "code",
   "execution_count": 6,
   "id": "powerful-catering",
   "metadata": {
    "execution": {
     "iopub.execute_input": "2021-06-06T12:42:53.857703Z",
     "iopub.status.busy": "2021-06-06T12:42:53.857026Z",
     "iopub.status.idle": "2021-06-06T12:42:53.881716Z",
     "shell.execute_reply": "2021-06-06T12:42:53.881068Z",
     "shell.execute_reply.started": "2021-06-06T12:40:47.058259Z"
    },
    "papermill": {
     "duration": 0.063512,
     "end_time": "2021-06-06T12:42:53.881871",
     "exception": false,
     "start_time": "2021-06-06T12:42:53.818359",
     "status": "completed"
    },
    "tags": []
   },
   "outputs": [
    {
     "name": "stdout",
     "output_type": "stream",
     "text": [
      "<class 'pandas.core.frame.DataFrame'>\n",
      "RangeIndex: 10000 entries, 0 to 9999\n",
      "Data columns (total 5 columns):\n",
      " #   Column      Non-Null Count  Dtype  \n",
      "---  ------      --------------  -----  \n",
      " 0   Unnamed: 0  10000 non-null  int64  \n",
      " 1   default     10000 non-null  object \n",
      " 2   student     10000 non-null  object \n",
      " 3   balance     10000 non-null  float64\n",
      " 4   income      10000 non-null  float64\n",
      "dtypes: float64(2), int64(1), object(2)\n",
      "memory usage: 390.8+ KB\n"
     ]
    }
   ],
   "source": [
    "ccdef.info()"
   ]
  },
  {
   "cell_type": "code",
   "execution_count": 7,
   "id": "intelligent-major",
   "metadata": {
    "execution": {
     "iopub.execute_input": "2021-06-06T12:42:53.958756Z",
     "iopub.status.busy": "2021-06-06T12:42:53.958063Z",
     "iopub.status.idle": "2021-06-06T12:42:53.968043Z",
     "shell.execute_reply": "2021-06-06T12:42:53.968524Z",
     "shell.execute_reply.started": "2021-06-06T12:40:47.090648Z"
    },
    "papermill": {
     "duration": 0.049727,
     "end_time": "2021-06-06T12:42:53.968711",
     "exception": false,
     "start_time": "2021-06-06T12:42:53.918984",
     "status": "completed"
    },
    "tags": []
   },
   "outputs": [
    {
     "data": {
      "text/plain": [
       "Unnamed: 0    0\n",
       "default       0\n",
       "student       0\n",
       "balance       0\n",
       "income        0\n",
       "dtype: int64"
      ]
     },
     "execution_count": 7,
     "metadata": {},
     "output_type": "execute_result"
    }
   ],
   "source": [
    "#checking NUll values\n",
    "ccdef.isnull().sum()"
   ]
  },
  {
   "cell_type": "code",
   "execution_count": 8,
   "id": "advance-expansion",
   "metadata": {
    "execution": {
     "iopub.execute_input": "2021-06-06T12:42:54.047553Z",
     "iopub.status.busy": "2021-06-06T12:42:54.046908Z",
     "iopub.status.idle": "2021-06-06T12:42:54.071144Z",
     "shell.execute_reply": "2021-06-06T12:42:54.071638Z",
     "shell.execute_reply.started": "2021-06-06T12:40:47.104974Z"
    },
    "papermill": {
     "duration": 0.065625,
     "end_time": "2021-06-06T12:42:54.071824",
     "exception": false,
     "start_time": "2021-06-06T12:42:54.006199",
     "status": "completed"
    },
    "tags": []
   },
   "outputs": [
    {
     "data": {
      "text/html": [
       "<div>\n",
       "<style scoped>\n",
       "    .dataframe tbody tr th:only-of-type {\n",
       "        vertical-align: middle;\n",
       "    }\n",
       "\n",
       "    .dataframe tbody tr th {\n",
       "        vertical-align: top;\n",
       "    }\n",
       "\n",
       "    .dataframe thead th {\n",
       "        text-align: right;\n",
       "    }\n",
       "</style>\n",
       "<table border=\"1\" class=\"dataframe\">\n",
       "  <thead>\n",
       "    <tr style=\"text-align: right;\">\n",
       "      <th></th>\n",
       "      <th>Unnamed: 0</th>\n",
       "      <th>balance</th>\n",
       "      <th>income</th>\n",
       "    </tr>\n",
       "  </thead>\n",
       "  <tbody>\n",
       "    <tr>\n",
       "      <th>count</th>\n",
       "      <td>10000.00000</td>\n",
       "      <td>10000.000000</td>\n",
       "      <td>10000.000000</td>\n",
       "    </tr>\n",
       "    <tr>\n",
       "      <th>mean</th>\n",
       "      <td>5000.50000</td>\n",
       "      <td>835.374886</td>\n",
       "      <td>33516.981876</td>\n",
       "    </tr>\n",
       "    <tr>\n",
       "      <th>std</th>\n",
       "      <td>2886.89568</td>\n",
       "      <td>483.714985</td>\n",
       "      <td>13336.639563</td>\n",
       "    </tr>\n",
       "    <tr>\n",
       "      <th>min</th>\n",
       "      <td>1.00000</td>\n",
       "      <td>0.000000</td>\n",
       "      <td>771.967729</td>\n",
       "    </tr>\n",
       "    <tr>\n",
       "      <th>25%</th>\n",
       "      <td>2500.75000</td>\n",
       "      <td>481.731105</td>\n",
       "      <td>21340.462903</td>\n",
       "    </tr>\n",
       "    <tr>\n",
       "      <th>50%</th>\n",
       "      <td>5000.50000</td>\n",
       "      <td>823.636973</td>\n",
       "      <td>34552.644802</td>\n",
       "    </tr>\n",
       "    <tr>\n",
       "      <th>75%</th>\n",
       "      <td>7500.25000</td>\n",
       "      <td>1166.308386</td>\n",
       "      <td>43807.729272</td>\n",
       "    </tr>\n",
       "    <tr>\n",
       "      <th>max</th>\n",
       "      <td>10000.00000</td>\n",
       "      <td>2654.322576</td>\n",
       "      <td>73554.233495</td>\n",
       "    </tr>\n",
       "  </tbody>\n",
       "</table>\n",
       "</div>"
      ],
      "text/plain": [
       "        Unnamed: 0       balance        income\n",
       "count  10000.00000  10000.000000  10000.000000\n",
       "mean    5000.50000    835.374886  33516.981876\n",
       "std     2886.89568    483.714985  13336.639563\n",
       "min        1.00000      0.000000    771.967729\n",
       "25%     2500.75000    481.731105  21340.462903\n",
       "50%     5000.50000    823.636973  34552.644802\n",
       "75%     7500.25000   1166.308386  43807.729272\n",
       "max    10000.00000   2654.322576  73554.233495"
      ]
     },
     "execution_count": 8,
     "metadata": {},
     "output_type": "execute_result"
    }
   ],
   "source": [
    "# Summarizing data\n",
    "ccdef.describe()"
   ]
  },
  {
   "cell_type": "code",
   "execution_count": 9,
   "id": "difficult-detection",
   "metadata": {
    "execution": {
     "iopub.execute_input": "2021-06-06T12:42:54.149912Z",
     "iopub.status.busy": "2021-06-06T12:42:54.149276Z",
     "iopub.status.idle": "2021-06-06T12:42:54.171800Z",
     "shell.execute_reply": "2021-06-06T12:42:54.171190Z",
     "shell.execute_reply.started": "2021-06-06T12:40:47.136401Z"
    },
    "papermill": {
     "duration": 0.062224,
     "end_time": "2021-06-06T12:42:54.171953",
     "exception": false,
     "start_time": "2021-06-06T12:42:54.109729",
     "status": "completed"
    },
    "tags": []
   },
   "outputs": [
    {
     "data": {
      "text/plain": [
       "499"
      ]
     },
     "execution_count": 9,
     "metadata": {},
     "output_type": "execute_result"
    }
   ],
   "source": [
    "# Analysis of Zero Values in Predictors\n",
    "(ccdef.balance == 0).sum(axis=0)"
   ]
  },
  {
   "cell_type": "code",
   "execution_count": 10,
   "id": "earned-priority",
   "metadata": {
    "execution": {
     "iopub.execute_input": "2021-06-06T12:42:54.267789Z",
     "iopub.status.busy": "2021-06-06T12:42:54.267106Z",
     "iopub.status.idle": "2021-06-06T12:42:54.419600Z",
     "shell.execute_reply": "2021-06-06T12:42:54.418898Z",
     "shell.execute_reply.started": "2021-06-06T12:40:47.151576Z"
    },
    "papermill": {
     "duration": 0.208859,
     "end_time": "2021-06-06T12:42:54.419747",
     "exception": false,
     "start_time": "2021-06-06T12:42:54.210888",
     "status": "completed"
    },
    "tags": []
   },
   "outputs": [
    {
     "name": "stdout",
     "output_type": "stream",
     "text": [
      "No     7056\n",
      "Yes    2944\n",
      "Name: student, dtype: int64\n"
     ]
    },
    {
     "data": {
      "image/png": "[encoded data removed]",
      "text/plain": [
       "<Figure size 432x288 with 1 Axes>"
      ]
     },
     "metadata": {},
     "output_type": "display_data"
    }
   ],
   "source": [
    "#Categorical Variable Analysis\n",
    "print(ccdef.student.value_counts())\n",
    "sns.countplot(x=\"student\", data=ccdef, palette='magma');"
   ]
  },
  {
   "cell_type": "code",
   "execution_count": 11,
   "id": "dimensional-domain",
   "metadata": {
    "execution": {
     "iopub.execute_input": "2021-06-06T12:42:54.516595Z",
     "iopub.status.busy": "2021-06-06T12:42:54.512313Z",
     "iopub.status.idle": "2021-06-06T12:42:54.623865Z",
     "shell.execute_reply": "2021-06-06T12:42:54.623253Z",
     "shell.execute_reply.started": "2021-06-06T12:40:47.315581Z"
    },
    "papermill": {
     "duration": 0.165353,
     "end_time": "2021-06-06T12:42:54.624009",
     "exception": false,
     "start_time": "2021-06-06T12:42:54.458656",
     "status": "completed"
    },
    "tags": []
   },
   "outputs": [
    {
     "name": "stdout",
     "output_type": "stream",
     "text": [
      "No     9667\n",
      "Yes     333\n",
      "Name: default, dtype: int64\n"
     ]
    },
    {
     "data": {
      "image/png": "[encoded data removed]",
      "text/plain": [
       "<Figure size 432x288 with 1 Axes>"
      ]
     },
     "metadata": {},
     "output_type": "display_data"
    }
   ],
   "source": [
    "#Response Variable Analysis\n",
    "print(ccdef.default.value_counts())\n",
    "sns.countplot(x = 'default', data = ccdef);"
   ]
  },
  {
   "cell_type": "markdown",
   "id": "apart-mystery",
   "metadata": {
    "papermill": {
     "duration": 0.039324,
     "end_time": "2021-06-06T12:42:54.703489",
     "exception": false,
     "start_time": "2021-06-06T12:42:54.664165",
     "status": "completed"
    },
    "tags": []
   },
   "source": [
    "***Encode Categorical Variables***"
   ]
  },
  {
   "cell_type": "code",
   "execution_count": 12,
   "id": "further-component",
   "metadata": {
    "execution": {
     "iopub.execute_input": "2021-06-06T12:42:54.795270Z",
     "iopub.status.busy": "2021-06-06T12:42:54.794532Z",
     "iopub.status.idle": "2021-06-06T12:42:54.816815Z",
     "shell.execute_reply": "2021-06-06T12:42:54.816118Z",
     "shell.execute_reply.started": "2021-06-06T12:40:47.447339Z"
    },
    "papermill": {
     "duration": 0.073537,
     "end_time": "2021-06-06T12:42:54.817016",
     "exception": false,
     "start_time": "2021-06-06T12:42:54.743479",
     "status": "completed"
    },
    "tags": []
   },
   "outputs": [
    {
     "data": {
      "text/html": [
       "<div>\n",
       "<style scoped>\n",
       "    .dataframe tbody tr th:only-of-type {\n",
       "        vertical-align: middle;\n",
       "    }\n",
       "\n",
       "    .dataframe tbody tr th {\n",
       "        vertical-align: top;\n",
       "    }\n",
       "\n",
       "    .dataframe thead th {\n",
       "        text-align: right;\n",
       "    }\n",
       "</style>\n",
       "<table border=\"1\" class=\"dataframe\">\n",
       "  <thead>\n",
       "    <tr style=\"text-align: right;\">\n",
       "      <th></th>\n",
       "      <th>Unnamed: 0</th>\n",
       "      <th>default</th>\n",
       "      <th>student</th>\n",
       "      <th>balance</th>\n",
       "      <th>income</th>\n",
       "      <th>default2</th>\n",
       "      <th>student2</th>\n",
       "    </tr>\n",
       "  </thead>\n",
       "  <tbody>\n",
       "    <tr>\n",
       "      <th>0</th>\n",
       "      <td>1</td>\n",
       "      <td>No</td>\n",
       "      <td>No</td>\n",
       "      <td>729.526495</td>\n",
       "      <td>44361.625074</td>\n",
       "      <td>0</td>\n",
       "      <td>0</td>\n",
       "    </tr>\n",
       "    <tr>\n",
       "      <th>1</th>\n",
       "      <td>2</td>\n",
       "      <td>No</td>\n",
       "      <td>Yes</td>\n",
       "      <td>817.180407</td>\n",
       "      <td>12106.134700</td>\n",
       "      <td>0</td>\n",
       "      <td>1</td>\n",
       "    </tr>\n",
       "    <tr>\n",
       "      <th>2</th>\n",
       "      <td>3</td>\n",
       "      <td>No</td>\n",
       "      <td>No</td>\n",
       "      <td>1073.549164</td>\n",
       "      <td>31767.138947</td>\n",
       "      <td>0</td>\n",
       "      <td>0</td>\n",
       "    </tr>\n",
       "    <tr>\n",
       "      <th>3</th>\n",
       "      <td>4</td>\n",
       "      <td>No</td>\n",
       "      <td>No</td>\n",
       "      <td>529.250605</td>\n",
       "      <td>35704.493935</td>\n",
       "      <td>0</td>\n",
       "      <td>0</td>\n",
       "    </tr>\n",
       "    <tr>\n",
       "      <th>4</th>\n",
       "      <td>5</td>\n",
       "      <td>No</td>\n",
       "      <td>No</td>\n",
       "      <td>785.655883</td>\n",
       "      <td>38463.495879</td>\n",
       "      <td>0</td>\n",
       "      <td>0</td>\n",
       "    </tr>\n",
       "  </tbody>\n",
       "</table>\n",
       "</div>"
      ],
      "text/plain": [
       "   Unnamed: 0 default student      balance        income  default2  student2\n",
       "0           1      No      No   729.526495  44361.625074         0         0\n",
       "1           2      No     Yes   817.180407  12106.134700         0         1\n",
       "2           3      No      No  1073.549164  31767.138947         0         0\n",
       "3           4      No      No   529.250605  35704.493935         0         0\n",
       "4           5      No      No   785.655883  38463.495879         0         0"
      ]
     },
     "execution_count": 12,
     "metadata": {},
     "output_type": "execute_result"
    }
   ],
   "source": [
    "ccdef['default2'] = ccdef.default.factorize()[0]   \n",
    "ccdef['student2'] = ccdef.student.factorize()[0] \n",
    "\n",
    "ccdef.head()"
   ]
  },
  {
   "cell_type": "markdown",
   "id": "defined-burden",
   "metadata": {
    "papermill": {
     "duration": 0.04218,
     "end_time": "2021-06-06T12:42:54.910053",
     "exception": false,
     "start_time": "2021-06-06T12:42:54.867873",
     "status": "completed"
    },
    "tags": []
   },
   "source": [
    "# Logistic Regression - Sklearn"
   ]
  },
  {
   "cell_type": "code",
   "execution_count": 13,
   "id": "tight-straight",
   "metadata": {
    "execution": {
     "iopub.execute_input": "2021-06-06T12:42:55.015012Z",
     "iopub.status.busy": "2021-06-06T12:42:55.014166Z",
     "iopub.status.idle": "2021-06-06T12:42:55.017172Z",
     "shell.execute_reply": "2021-06-06T12:42:55.017828Z",
     "shell.execute_reply.started": "2021-06-06T12:40:47.469542Z"
    },
    "papermill": {
     "duration": 0.055465,
     "end_time": "2021-06-06T12:42:55.018011",
     "exception": false,
     "start_time": "2021-06-06T12:42:54.962546",
     "status": "completed"
    },
    "tags": []
   },
   "outputs": [],
   "source": [
    "# training and testing data\n",
    "X_train = ccdef.balance.values.reshape(-1,1)    \n",
    "\n",
    "y = ccdef.default2\n",
    "\n",
    "X_test = np.arange(ccdef.balance.min(), ccdef.balance.max()).reshape(-1 ,1)"
   ]
  },
  {
   "cell_type": "code",
   "execution_count": 14,
   "id": "alert-rocket",
   "metadata": {
    "execution": {
     "iopub.execute_input": "2021-06-06T12:42:55.113789Z",
     "iopub.status.busy": "2021-06-06T12:42:55.112854Z",
     "iopub.status.idle": "2021-06-06T12:42:56.335359Z",
     "shell.execute_reply": "2021-06-06T12:42:56.334378Z",
     "shell.execute_reply.started": "2021-06-06T12:40:47.476565Z"
    },
    "papermill": {
     "duration": 1.274696,
     "end_time": "2021-06-06T12:42:56.335539",
     "exception": false,
     "start_time": "2021-06-06T12:42:55.060843",
     "status": "completed"
    },
    "tags": []
   },
   "outputs": [
    {
     "name": "stderr",
     "output_type": "stream",
     "text": [
      "/opt/conda/lib/python3.7/site-packages/seaborn/_decorators.py:43: FutureWarning: Pass the following variables as keyword args: x, y. From version 0.12, the only valid positional argument will be `data`, and passing other arguments without an explicit keyword will result in an error or misinterpretation.\n",
      "  FutureWarning\n"
     ]
    },
    {
     "data": {
      "image/png": "[encoded data removed]",
      "text/plain": [
       "<Figure size 864x360 with 2 Axes>"
      ]
     },
     "metadata": {},
     "output_type": "display_data"
    }
   ],
   "source": [
    "#Calculate probability using logistic regression\n",
    "import sklearn.linear_model as skl_lm\n",
    "\n",
    "clf = skl_lm.LogisticRegression(solver='newton-cg')\n",
    "clf.fit(X_train,y)                      \n",
    "prob = clf.predict_proba(X_test)\n",
    "\n",
    "fig, (ax1, ax2) = plt.subplots(1,2, figsize=(12,5)) \n",
    "sns.regplot(ccdef.balance, ccdef.default2, order=1, ci=None,scatter_kws={'color':'orange'},line_kws={'color':'lightblue', 'lw':2}, ax=ax1) \n",
    "\n",
    "ax2.scatter(X_train, y, color='orange') \n",
    "ax2.plot(X_test, prob[:,1], color='lightblue') \n",
    "for ax in fig.axes: \n",
    "    ax.hlines(1, xmin=ax.xaxis.get_data_interval()[0],xmax=ax.xaxis.get_data_interval()[1], linestyles='dashed', lw=1) \n",
    "    ax.hlines(0, xmin=ax.xaxis.get_data_interval()[0],xmax=ax.xaxis.get_data_interval()[1], linestyles='dashed', lw=1) \n",
    "    ax.set_ylabel('Probability of default') \n",
    "    ax.set_xlabel('Balance') \n",
    "    ax.set_yticks([0, 0.25, 0.5, 0.75, 1.]) \n",
    "    ax.set_xlim(xmin=-100) "
   ]
  },
  {
   "cell_type": "code",
   "execution_count": 15,
   "id": "neither-serbia",
   "metadata": {
    "execution": {
     "iopub.execute_input": "2021-06-06T12:42:56.423099Z",
     "iopub.status.busy": "2021-06-06T12:42:56.422470Z",
     "iopub.status.idle": "2021-06-06T12:42:56.432901Z",
     "shell.execute_reply": "2021-06-06T12:42:56.433472Z",
     "shell.execute_reply.started": "2021-06-06T12:40:48.611016Z"
    },
    "papermill": {
     "duration": 0.056298,
     "end_time": "2021-06-06T12:42:56.433715",
     "exception": false,
     "start_time": "2021-06-06T12:42:56.377417",
     "status": "completed"
    },
    "tags": []
   },
   "outputs": [
    {
     "name": "stdout",
     "output_type": "stream",
     "text": [
      "LogisticRegression(solver='newton-cg')\n",
      "classes:  [0 1]\n",
      "coefficients:  [[0.00549892]]\n",
      "intercept : [-10.65132973]\n"
     ]
    }
   ],
   "source": [
    " # Printing Cofficient and array of diatinct class\n",
    " print(clf)\n",
    " print('classes: ',clf.classes_)\n",
    " print('coefficients: ',clf.coef_)\n",
    " print('intercept :', clf.intercept_) "
   ]
  },
  {
   "cell_type": "markdown",
   "id": "smart-hardwood",
   "metadata": {
    "papermill": {
     "duration": 0.041934,
     "end_time": "2021-06-06T12:42:56.517961",
     "exception": false,
     "start_time": "2021-06-06T12:42:56.476027",
     "status": "completed"
    },
    "tags": []
   },
   "source": [
    "***Logistic Regression Statsmodel***"
   ]
  },
  {
   "cell_type": "code",
   "execution_count": 16,
   "id": "aquatic-radio",
   "metadata": {
    "execution": {
     "iopub.execute_input": "2021-06-06T12:42:56.613433Z",
     "iopub.status.busy": "2021-06-06T12:42:56.612479Z",
     "iopub.status.idle": "2021-06-06T12:42:57.628652Z",
     "shell.execute_reply": "2021-06-06T12:42:57.629717Z",
     "shell.execute_reply.started": "2021-06-06T12:40:48.621969Z"
    },
    "papermill": {
     "duration": 1.069245,
     "end_time": "2021-06-06T12:42:57.630006",
     "exception": false,
     "start_time": "2021-06-06T12:42:56.560761",
     "status": "completed"
    },
    "tags": []
   },
   "outputs": [
    {
     "name": "stdout",
     "output_type": "stream",
     "text": [
      "Optimization terminated successfully.\n",
      "         Current function value: 0.079823\n",
      "         Iterations 10\n"
     ]
    }
   ],
   "source": [
    "import statsmodels.api as sm\n",
    "import statsmodels.discrete.discrete_model as sms\n",
    "\n",
    "pd.set_option('precision', 6)\n",
    "\n",
    "X_train = sm.add_constant(ccdef.balance)\n",
    "\n",
    "est = sm.Logit(y.ravel(), X_train).fit()"
   ]
  },
  {
   "cell_type": "code",
   "execution_count": 17,
   "id": "false-reading",
   "metadata": {
    "execution": {
     "iopub.execute_input": "2021-06-06T12:42:57.779767Z",
     "iopub.status.busy": "2021-06-06T12:42:57.778656Z",
     "iopub.status.idle": "2021-06-06T12:42:57.879967Z",
     "shell.execute_reply": "2021-06-06T12:42:57.881144Z",
     "shell.execute_reply.started": "2021-06-06T12:40:48.868797Z"
    },
    "papermill": {
     "duration": 0.161418,
     "end_time": "2021-06-06T12:42:57.881419",
     "exception": false,
     "start_time": "2021-06-06T12:42:57.720001",
     "status": "completed"
    },
    "tags": []
   },
   "outputs": [
    {
     "data": {
      "text/html": [
       "<div>\n",
       "<style scoped>\n",
       "    .dataframe tbody tr th:only-of-type {\n",
       "        vertical-align: middle;\n",
       "    }\n",
       "\n",
       "    .dataframe tbody tr th {\n",
       "        vertical-align: top;\n",
       "    }\n",
       "\n",
       "    .dataframe thead th {\n",
       "        text-align: right;\n",
       "    }\n",
       "</style>\n",
       "<table border=\"1\" class=\"dataframe\">\n",
       "  <thead>\n",
       "    <tr style=\"text-align: right;\">\n",
       "      <th></th>\n",
       "      <th>Coef.</th>\n",
       "      <th>Std.Err.</th>\n",
       "      <th>z</th>\n",
       "      <th>P&gt;|z|</th>\n",
       "      <th>[0.025</th>\n",
       "      <th>0.975]</th>\n",
       "    </tr>\n",
       "  </thead>\n",
       "  <tbody>\n",
       "    <tr>\n",
       "      <th>const</th>\n",
       "      <td>-10.651331</td>\n",
       "      <td>0.361169</td>\n",
       "      <td>-29.491287</td>\n",
       "      <td>3.723665e-191</td>\n",
       "      <td>-11.359208</td>\n",
       "      <td>-9.943453</td>\n",
       "    </tr>\n",
       "    <tr>\n",
       "      <th>balance</th>\n",
       "      <td>0.005499</td>\n",
       "      <td>0.000220</td>\n",
       "      <td>24.952404</td>\n",
       "      <td>2.010855e-137</td>\n",
       "      <td>0.005067</td>\n",
       "      <td>0.005931</td>\n",
       "    </tr>\n",
       "  </tbody>\n",
       "</table>\n",
       "</div>"
      ],
      "text/plain": [
       "             Coef.  Std.Err.          z          P>|z|     [0.025    0.975]\n",
       "const   -10.651331  0.361169 -29.491287  3.723665e-191 -11.359208 -9.943453\n",
       "balance   0.005499  0.000220  24.952404  2.010855e-137   0.005067  0.005931"
      ]
     },
     "execution_count": 17,
     "metadata": {},
     "output_type": "execute_result"
    }
   ],
   "source": [
    "est.summary2().tables[1]"
   ]
  },
  {
   "cell_type": "markdown",
   "id": "patient-mixer",
   "metadata": {
    "papermill": {
     "duration": 0.04324,
     "end_time": "2021-06-06T12:42:57.975044",
     "exception": false,
     "start_time": "2021-06-06T12:42:57.931804",
     "status": "completed"
    },
    "tags": []
   },
   "source": [
    "***Logistic Regression - Dummy Variable***"
   ]
  },
  {
   "cell_type": "code",
   "execution_count": 18,
   "id": "broad-salad",
   "metadata": {
    "execution": {
     "iopub.execute_input": "2021-06-06T12:42:58.070903Z",
     "iopub.status.busy": "2021-06-06T12:42:58.070169Z",
     "iopub.status.idle": "2021-06-06T12:42:58.093729Z",
     "shell.execute_reply": "2021-06-06T12:42:58.094631Z",
     "shell.execute_reply.started": "2021-06-06T12:40:48.962513Z"
    },
    "papermill": {
     "duration": 0.075809,
     "end_time": "2021-06-06T12:42:58.094895",
     "exception": false,
     "start_time": "2021-06-06T12:42:58.019086",
     "status": "completed"
    },
    "tags": []
   },
   "outputs": [
    {
     "name": "stdout",
     "output_type": "stream",
     "text": [
      "Optimization terminated successfully.\n",
      "         Current function value: 0.145434\n",
      "         Iterations 7\n"
     ]
    }
   ],
   "source": [
    "X_train = sm.add_constant(ccdef.student2)\n",
    "\n",
    "y = ccdef.default2\n",
    "\n",
    "est = sms.Logit(y, X_train).fit()"
   ]
  },
  {
   "cell_type": "code",
   "execution_count": 19,
   "id": "cutting-raleigh",
   "metadata": {
    "execution": {
     "iopub.execute_input": "2021-06-06T12:42:58.238234Z",
     "iopub.status.busy": "2021-06-06T12:42:58.237194Z",
     "iopub.status.idle": "2021-06-06T12:42:58.328957Z",
     "shell.execute_reply": "2021-06-06T12:42:58.329913Z",
     "shell.execute_reply.started": "2021-06-06T12:40:48.999979Z"
    },
    "papermill": {
     "duration": 0.156554,
     "end_time": "2021-06-06T12:42:58.330203",
     "exception": false,
     "start_time": "2021-06-06T12:42:58.173649",
     "status": "completed"
    },
    "tags": []
   },
   "outputs": [
    {
     "name": "stdout",
     "output_type": "stream",
     "text": [
      "==============================================================================\n",
      "                 coef    std err          z      P>|z|      [0.025      0.975]\n",
      "------------------------------------------------------------------------------\n",
      "const         -3.5041      0.071    -49.554      0.000      -3.643      -3.366\n",
      "student2       0.4049      0.115      3.520      0.000       0.179       0.630\n",
      "==============================================================================\n"
     ]
    }
   ],
   "source": [
    "print(est.summary().tables[1].as_text())"
   ]
  },
  {
   "cell_type": "markdown",
   "id": "published-house",
   "metadata": {
    "papermill": {
     "duration": 0.059752,
     "end_time": "2021-06-06T12:42:58.468541",
     "exception": false,
     "start_time": "2021-06-06T12:42:58.408789",
     "status": "completed"
    },
    "tags": []
   },
   "source": [
    "***Multiple Logistic Regression***"
   ]
  },
  {
   "cell_type": "code",
   "execution_count": 20,
   "id": "angry-solid",
   "metadata": {
    "execution": {
     "iopub.execute_input": "2021-06-06T12:42:58.567761Z",
     "iopub.status.busy": "2021-06-06T12:42:58.567088Z",
     "iopub.status.idle": "2021-06-06T12:42:58.600891Z",
     "shell.execute_reply": "2021-06-06T12:42:58.601886Z",
     "shell.execute_reply.started": "2021-06-06T12:40:49.089400Z"
    },
    "papermill": {
     "duration": 0.087068,
     "end_time": "2021-06-06T12:42:58.602154",
     "exception": false,
     "start_time": "2021-06-06T12:42:58.515086",
     "status": "completed"
    },
    "tags": []
   },
   "outputs": [
    {
     "name": "stdout",
     "output_type": "stream",
     "text": [
      "Optimization terminated successfully.\n",
      "         Current function value: 0.078577\n",
      "         Iterations 10\n"
     ]
    }
   ],
   "source": [
    " X_train = sm.add_constant(ccdef[['balance', 'income', 'student2']])\n",
    "\n",
    " est = sms.Logit(y, X_train).fit()                    "
   ]
  },
  {
   "cell_type": "code",
   "execution_count": 21,
   "id": "peripheral-module",
   "metadata": {
    "execution": {
     "iopub.execute_input": "2021-06-06T12:42:58.748832Z",
     "iopub.status.busy": "2021-06-06T12:42:58.747699Z",
     "iopub.status.idle": "2021-06-06T12:42:58.842994Z",
     "shell.execute_reply": "2021-06-06T12:42:58.843991Z",
     "shell.execute_reply.started": "2021-06-06T12:40:49.136494Z"
    },
    "papermill": {
     "duration": 0.161555,
     "end_time": "2021-06-06T12:42:58.844288",
     "exception": false,
     "start_time": "2021-06-06T12:42:58.682733",
     "status": "completed"
    },
    "tags": []
   },
   "outputs": [
    {
     "name": "stdout",
     "output_type": "stream",
     "text": [
      "==============================================================================\n",
      "                 coef    std err          z      P>|z|      [0.025      0.975]\n",
      "------------------------------------------------------------------------------\n",
      "const        -10.8690      0.492    -22.079      0.000     -11.834      -9.904\n",
      "balance        0.0057      0.000     24.737      0.000       0.005       0.006\n",
      "income      3.033e-06    8.2e-06      0.370      0.712    -1.3e-05    1.91e-05\n",
      "student2      -0.6468      0.236     -2.738      0.006      -1.110      -0.184\n",
      "==============================================================================\n"
     ]
    }
   ],
   "source": [
    "print(est.summary().tables[1])"
   ]
  },
  {
   "cell_type": "markdown",
   "id": "english-marking",
   "metadata": {
    "papermill": {
     "duration": 0.058117,
     "end_time": "2021-06-06T12:42:58.983805",
     "exception": false,
     "start_time": "2021-06-06T12:42:58.925688",
     "status": "completed"
    },
    "tags": []
   },
   "source": [
    "***Cofunding***"
   ]
  },
  {
   "cell_type": "code",
   "execution_count": 22,
   "id": "normal-flavor",
   "metadata": {
    "execution": {
     "iopub.execute_input": "2021-06-06T12:42:59.083932Z",
     "iopub.status.busy": "2021-06-06T12:42:59.083142Z",
     "iopub.status.idle": "2021-06-06T12:42:59.090825Z",
     "shell.execute_reply": "2021-06-06T12:42:59.090125Z",
     "shell.execute_reply.started": "2021-06-06T12:40:49.231104Z"
    },
    "papermill": {
     "duration": 0.061236,
     "end_time": "2021-06-06T12:42:59.090976",
     "exception": false,
     "start_time": "2021-06-06T12:42:59.029740",
     "status": "completed"
    },
    "tags": []
   },
   "outputs": [],
   "source": [
    "#Create balance and default vectors for students\n",
    "\n",
    "X_train = ccdef[ccdef.student == 'Yes'].balance.values.reshape(-1,1)\n",
    "y = ccdef[ccdef.student == 'Yes'].default2"
   ]
  },
  {
   "cell_type": "code",
   "execution_count": 23,
   "id": "equivalent-inspiration",
   "metadata": {
    "execution": {
     "iopub.execute_input": "2021-06-06T12:42:59.191043Z",
     "iopub.status.busy": "2021-06-06T12:42:59.190311Z",
     "iopub.status.idle": "2021-06-06T12:42:59.198319Z",
     "shell.execute_reply": "2021-06-06T12:42:59.197663Z",
     "shell.execute_reply.started": "2021-06-06T12:40:49.258022Z"
    },
    "papermill": {
     "duration": 0.061184,
     "end_time": "2021-06-06T12:42:59.198482",
     "exception": false,
     "start_time": "2021-06-06T12:42:59.137298",
     "status": "completed"
    },
    "tags": []
   },
   "outputs": [],
   "source": [
    "#Create balance and default vectors for non- students\n",
    "\n",
    "X_train2 = ccdef[ccdef.student == 'No'].balance.values.reshape(-1,1)\n",
    "\n",
    "y2 = ccdef[ccdef.student == 'No'].default2"
   ]
  },
  {
   "cell_type": "code",
   "execution_count": 24,
   "id": "gorgeous-court",
   "metadata": {
    "execution": {
     "iopub.execute_input": "2021-06-06T12:42:59.292383Z",
     "iopub.status.busy": "2021-06-06T12:42:59.291316Z",
     "iopub.status.idle": "2021-06-06T12:42:59.296661Z",
     "shell.execute_reply": "2021-06-06T12:42:59.297243Z",
     "shell.execute_reply.started": "2021-06-06T12:40:49.284704Z"
    },
    "papermill": {
     "duration": 0.053636,
     "end_time": "2021-06-06T12:42:59.297416",
     "exception": false,
     "start_time": "2021-06-06T12:42:59.243780",
     "status": "completed"
    },
    "tags": []
   },
   "outputs": [],
   "source": [
    "# Create test vector\n",
    "X_test = np.arange(ccdef.balance.min(), ccdef.balance.max()).reshape(-1,1) "
   ]
  },
  {
   "cell_type": "code",
   "execution_count": 25,
   "id": "driving-strand",
   "metadata": {
    "execution": {
     "iopub.execute_input": "2021-06-06T12:42:59.390794Z",
     "iopub.status.busy": "2021-06-06T12:42:59.389739Z",
     "iopub.status.idle": "2021-06-06T12:42:59.573861Z",
     "shell.execute_reply": "2021-06-06T12:42:59.573176Z",
     "shell.execute_reply.started": "2021-06-06T12:40:49.302289Z"
    },
    "papermill": {
     "duration": 0.23175,
     "end_time": "2021-06-06T12:42:59.574005",
     "exception": false,
     "start_time": "2021-06-06T12:42:59.342255",
     "status": "completed"
    },
    "tags": []
   },
   "outputs": [
    {
     "data": {
      "text/plain": [
       "LogisticRegression(solver='newton-cg')"
      ]
     },
     "execution_count": 25,
     "metadata": {},
     "output_type": "execute_result"
    }
   ],
   "source": [
    "# Fit both dataset to Logistic Regression\n",
    "\n",
    "clf = skl_lm.LogisticRegression(solver='newton-cg')\n",
    "\n",
    "clf2 = skl_lm.LogisticRegression(solver='newton-cg')\n",
    "\n",
    "clf.fit(X_train,y)  "
   ]
  },
  {
   "cell_type": "code",
   "execution_count": 26,
   "id": "numeric-lesson",
   "metadata": {
    "execution": {
     "iopub.execute_input": "2021-06-06T12:42:59.666877Z",
     "iopub.status.busy": "2021-06-06T12:42:59.666185Z",
     "iopub.status.idle": "2021-06-06T12:43:00.068944Z",
     "shell.execute_reply": "2021-06-06T12:43:00.069432Z",
     "shell.execute_reply.started": "2021-06-06T12:40:49.562456Z"
    },
    "papermill": {
     "duration": 0.451507,
     "end_time": "2021-06-06T12:43:00.069689",
     "exception": false,
     "start_time": "2021-06-06T12:42:59.618182",
     "status": "completed"
    },
    "tags": []
   },
   "outputs": [
    {
     "data": {
      "text/plain": [
       "LogisticRegression(solver='newton-cg')"
      ]
     },
     "execution_count": 26,
     "metadata": {},
     "output_type": "execute_result"
    }
   ],
   "source": [
    "clf2.fit(X_train2,y2) "
   ]
  },
  {
   "cell_type": "code",
   "execution_count": 27,
   "id": "nuclear-hopkins",
   "metadata": {
    "execution": {
     "iopub.execute_input": "2021-06-06T12:43:00.174967Z",
     "iopub.status.busy": "2021-06-06T12:43:00.174310Z",
     "iopub.status.idle": "2021-06-06T12:43:00.178858Z",
     "shell.execute_reply": "2021-06-06T12:43:00.179436Z",
     "shell.execute_reply.started": "2021-06-06T12:40:49.966039Z"
    },
    "papermill": {
     "duration": 0.058794,
     "end_time": "2021-06-06T12:43:00.179660",
     "exception": false,
     "start_time": "2021-06-06T12:43:00.120866",
     "status": "completed"
    },
    "tags": []
   },
   "outputs": [],
   "source": [
    "# Calculate Probabilities\n",
    "\n",
    "prob = clf.predict_proba(X_test)    \n",
    "\n",
    "prob2 = clf2.predict_proba(X_test)"
   ]
  },
  {
   "cell_type": "code",
   "execution_count": 28,
   "id": "white-borough",
   "metadata": {
    "execution": {
     "iopub.execute_input": "2021-06-06T12:43:00.278685Z",
     "iopub.status.busy": "2021-06-06T12:43:00.277988Z",
     "iopub.status.idle": "2021-06-06T12:43:00.295931Z",
     "shell.execute_reply": "2021-06-06T12:43:00.295295Z",
     "shell.execute_reply.started": "2021-06-06T12:40:49.972797Z"
    },
    "papermill": {
     "duration": 0.066629,
     "end_time": "2021-06-06T12:43:00.296064",
     "exception": false,
     "start_time": "2021-06-06T12:43:00.229435",
     "status": "completed"
    },
    "tags": []
   },
   "outputs": [
    {
     "data": {
      "text/html": [
       "<div>\n",
       "<style scoped>\n",
       "    .dataframe tbody tr th:only-of-type {\n",
       "        vertical-align: middle;\n",
       "    }\n",
       "\n",
       "    .dataframe tbody tr th {\n",
       "        vertical-align: top;\n",
       "    }\n",
       "\n",
       "    .dataframe thead th {\n",
       "        text-align: right;\n",
       "    }\n",
       "</style>\n",
       "<table border=\"1\" class=\"dataframe\">\n",
       "  <thead>\n",
       "    <tr style=\"text-align: right;\">\n",
       "      <th>default</th>\n",
       "      <th>No</th>\n",
       "      <th>Yes</th>\n",
       "    </tr>\n",
       "    <tr>\n",
       "      <th>student</th>\n",
       "      <th></th>\n",
       "      <th></th>\n",
       "    </tr>\n",
       "  </thead>\n",
       "  <tbody>\n",
       "    <tr>\n",
       "      <th>No</th>\n",
       "      <td>6850</td>\n",
       "      <td>206</td>\n",
       "    </tr>\n",
       "    <tr>\n",
       "      <th>Yes</th>\n",
       "      <td>2817</td>\n",
       "      <td>127</td>\n",
       "    </tr>\n",
       "  </tbody>\n",
       "</table>\n",
       "</div>"
      ],
      "text/plain": [
       "default    No  Yes\n",
       "student           \n",
       "No       6850  206\n",
       "Yes      2817  127"
      ]
     },
     "execution_count": 28,
     "metadata": {},
     "output_type": "execute_result"
    }
   ],
   "source": [
    "# Confusion Matrix\n",
    "ccdef.groupby(['student','default']).size().unstack('default')"
   ]
  },
  {
   "cell_type": "code",
   "execution_count": 29,
   "id": "authorized-stand",
   "metadata": {
    "execution": {
     "iopub.execute_input": "2021-06-06T12:43:00.389430Z",
     "iopub.status.busy": "2021-06-06T12:43:00.388853Z",
     "iopub.status.idle": "2021-06-06T12:43:00.709364Z",
     "shell.execute_reply": "2021-06-06T12:43:00.709886Z",
     "shell.execute_reply.started": "2021-06-06T12:40:49.999173Z"
    },
    "papermill": {
     "duration": 0.368787,
     "end_time": "2021-06-06T12:43:00.710054",
     "exception": false,
     "start_time": "2021-06-06T12:43:00.341267",
     "status": "completed"
    },
    "tags": []
   },
   "outputs": [
    {
     "name": "stderr",
     "output_type": "stream",
     "text": [
      "/opt/conda/lib/python3.7/site-packages/seaborn/_decorators.py:43: FutureWarning: Pass the following variables as keyword args: x, y. From version 0.12, the only valid positional argument will be `data`, and passing other arguments without an explicit keyword will result in an error or misinterpretation.\n",
      "  FutureWarning\n"
     ]
    },
    {
     "data": {
      "image/png": "[encoded data removed]",
      "text/plain": [
       "<Figure size 864x360 with 2 Axes>"
      ]
     },
     "metadata": {},
     "output_type": "display_data"
    }
   ],
   "source": [
    "# Graphical Representation\n",
    "fig, (ax1, ax2) = plt.subplots(1,2, figsize=(12,5)) \n",
    " \n",
    "# Left plot \n",
    "ax1.plot(X_test, prob[:,1], color='orange', label='Student') \n",
    "ax1.plot(X_test, prob2[:,1], color='lightblue', label='Non-student') \n",
    "ax1.hlines(127/2817, colors='orange', label='Overall Student',xmin=ax1.xaxis.get_data_interval()[0],xmax=ax1.xaxis.get_data_interval()[1], linestyles='dashed') \n",
    "ax1.hlines(206/6850, colors='lightblue', label='Overall Non-Student',xmin=ax1.xaxis.get_data_interval()[0],xmax=ax1.xaxis.get_data_interval()[1], linestyles='dashed') \n",
    "ax1.set_ylabel('Default Rate') \n",
    "ax1.set_xlabel('Credit Card Balance') \n",
    "ax1.set_yticks([0, 0.2, 0.4, 0.6, 0.8, 1.]) \n",
    "ax1.set_xlim(450,2500) \n",
    "ax1.legend(loc=2) \n",
    "\n",
    "# Right plot \n",
    "sns.boxplot('student', 'balance', data=ccdef, orient='v', ax=ax2);"
   ]
  },
  {
   "cell_type": "markdown",
   "id": "heard-crime",
   "metadata": {
    "papermill": {
     "duration": 0.046418,
     "end_time": "2021-06-06T12:43:00.803134",
     "exception": false,
     "start_time": "2021-06-06T12:43:00.756716",
     "status": "completed"
    },
    "tags": []
   },
   "source": [
    "# Linear Discriminant Analysis"
   ]
  },
  {
   "cell_type": "markdown",
   "id": "weighted-gates",
   "metadata": {
    "papermill": {
     "duration": 0.046035,
     "end_time": "2021-06-06T12:43:00.895902",
     "exception": false,
     "start_time": "2021-06-06T12:43:00.849867",
     "status": "completed"
    },
    "tags": []
   },
   "source": [
    "***50% Threshold***"
   ]
  },
  {
   "cell_type": "code",
   "execution_count": 30,
   "id": "friendly-sailing",
   "metadata": {
    "execution": {
     "iopub.execute_input": "2021-06-06T12:43:00.999350Z",
     "iopub.status.busy": "2021-06-06T12:43:00.998691Z",
     "iopub.status.idle": "2021-06-06T12:43:01.054998Z",
     "shell.execute_reply": "2021-06-06T12:43:01.055863Z",
     "shell.execute_reply.started": "2021-06-06T12:40:50.353687Z"
    },
    "papermill": {
     "duration": 0.11242,
     "end_time": "2021-06-06T12:43:01.056148",
     "exception": false,
     "start_time": "2021-06-06T12:43:00.943728",
     "status": "completed"
    },
    "tags": []
   },
   "outputs": [
    {
     "data": {
      "text/html": [
       "<div>\n",
       "<style scoped>\n",
       "    .dataframe tbody tr th:only-of-type {\n",
       "        vertical-align: middle;\n",
       "    }\n",
       "\n",
       "    .dataframe tbody tr th {\n",
       "        vertical-align: top;\n",
       "    }\n",
       "\n",
       "    .dataframe thead th {\n",
       "        text-align: right;\n",
       "    }\n",
       "</style>\n",
       "<table border=\"1\" class=\"dataframe\">\n",
       "  <thead>\n",
       "    <tr style=\"text-align: right;\">\n",
       "      <th>True default status</th>\n",
       "      <th>No</th>\n",
       "      <th>Yes</th>\n",
       "    </tr>\n",
       "    <tr>\n",
       "      <th>Predicted default status</th>\n",
       "      <th></th>\n",
       "      <th></th>\n",
       "    </tr>\n",
       "  </thead>\n",
       "  <tbody>\n",
       "    <tr>\n",
       "      <th>No</th>\n",
       "      <td>9645</td>\n",
       "      <td>254</td>\n",
       "    </tr>\n",
       "    <tr>\n",
       "      <th>Yes</th>\n",
       "      <td>22</td>\n",
       "      <td>79</td>\n",
       "    </tr>\n",
       "  </tbody>\n",
       "</table>\n",
       "</div>"
      ],
      "text/plain": [
       "True default status         No  Yes\n",
       "Predicted default status           \n",
       "No                        9645  254\n",
       "Yes                         22   79"
      ]
     },
     "execution_count": 30,
     "metadata": {},
     "output_type": "execute_result"
    }
   ],
   "source": [
    "from sklearn.discriminant_analysis import LinearDiscriminantAnalysis\n",
    "\n",
    "X = ccdef[['balance', 'income', 'student2']]\n",
    "y = ccdef.default2        \n",
    "\n",
    "lda = LinearDiscriminantAnalysis(solver='svd')\n",
    "\n",
    "y_pred = lda.fit(X, y).predict(X)\n",
    "\n",
    "ccdef_df = pd.DataFrame({'True default status': y, 'Predicted default status': y_pred})\n",
    "\n",
    "ccdef_df.replace(to_replace={0:'No', 1:'Yes'}, inplace=True)           \n",
    "\n",
    "ccdef_df.groupby(['Predicted default status','True default status']).size().unstack('True default status')  "
   ]
  },
  {
   "cell_type": "markdown",
   "id": "outdoor-stationery",
   "metadata": {
    "papermill": {
     "duration": 0.052312,
     "end_time": "2021-06-06T12:43:01.194215",
     "exception": false,
     "start_time": "2021-06-06T12:43:01.141903",
     "status": "completed"
    },
    "tags": []
   },
   "source": [
    "*** 20% Threshold ***"
   ]
  },
  {
   "cell_type": "code",
   "execution_count": 31,
   "id": "another-quantum",
   "metadata": {
    "execution": {
     "iopub.execute_input": "2021-06-06T12:43:01.297859Z",
     "iopub.status.busy": "2021-06-06T12:43:01.297095Z",
     "iopub.status.idle": "2021-06-06T12:43:01.329371Z",
     "shell.execute_reply": "2021-06-06T12:43:01.330451Z",
     "shell.execute_reply.started": "2021-06-06T12:40:50.399778Z"
    },
    "papermill": {
     "duration": 0.089195,
     "end_time": "2021-06-06T12:43:01.330758",
     "exception": false,
     "start_time": "2021-06-06T12:43:01.241563",
     "status": "completed"
    },
    "tags": []
   },
   "outputs": [
    {
     "data": {
      "text/html": [
       "<div>\n",
       "<style scoped>\n",
       "    .dataframe tbody tr th:only-of-type {\n",
       "        vertical-align: middle;\n",
       "    }\n",
       "\n",
       "    .dataframe tbody tr th {\n",
       "        vertical-align: top;\n",
       "    }\n",
       "\n",
       "    .dataframe thead th {\n",
       "        text-align: right;\n",
       "    }\n",
       "</style>\n",
       "<table border=\"1\" class=\"dataframe\">\n",
       "  <thead>\n",
       "    <tr style=\"text-align: right;\">\n",
       "      <th>True default status</th>\n",
       "      <th>No</th>\n",
       "      <th>Yes</th>\n",
       "    </tr>\n",
       "    <tr>\n",
       "      <th>Predicted default status</th>\n",
       "      <th></th>\n",
       "      <th></th>\n",
       "    </tr>\n",
       "  </thead>\n",
       "  <tbody>\n",
       "    <tr>\n",
       "      <th>False</th>\n",
       "      <td>9435</td>\n",
       "      <td>140</td>\n",
       "    </tr>\n",
       "    <tr>\n",
       "      <th>True</th>\n",
       "      <td>232</td>\n",
       "      <td>193</td>\n",
       "    </tr>\n",
       "  </tbody>\n",
       "</table>\n",
       "</div>"
      ],
      "text/plain": [
       "True default status         No  Yes\n",
       "Predicted default status           \n",
       "False                     9435  140\n",
       "True                       232  193"
      ]
     },
     "execution_count": 31,
     "metadata": {},
     "output_type": "execute_result"
    }
   ],
   "source": [
    "decision_prob = 0.2                                                    \n",
    "y_prob = lda.fit(X, y).predict_proba(X)                                \n",
    "\n",
    "ccdef_df = pd.DataFrame({'True default status': y,'Predicted default status': y_prob[:,1] > decision_prob})                                   \n",
    "\n",
    "ccdef_df.replace(to_replace={0:'No', 1:'Yes', 'True':'Yes', 'False':'No'}, inplace=True) \n",
    "\n",
    "ccdef_df.groupby(['Predicted default status','True default status']).size().unstack('True default status') "
   ]
  },
  {
   "cell_type": "markdown",
   "id": "quick-structure",
   "metadata": {
    "papermill": {
     "duration": 0.054331,
     "end_time": "2021-06-06T12:43:01.477878",
     "exception": false,
     "start_time": "2021-06-06T12:43:01.423547",
     "status": "completed"
    },
    "tags": []
   },
   "source": [
    "IF any flaws in this kernal please let me know!!! :)"
   ]
  }
 ],
 "metadata": {
  "kernelspec": {
   "display_name": "Python 3",
   "language": "python",
   "name": "python3"
  },
  "language_info": {
   "codemirror_mode": {
    "name": "ipython",
    "version": 3
   },
   "file_extension": ".py",
   "mimetype": "text/x-python",
   "name": "python",
   "nbconvert_exporter": "python",
   "pygments_lexer": "ipython3",
   "version": "3.7.10"
  },
  "papermill": {
   "default_parameters": {},
   "duration": 36.931677,
   "end_time": "2021-06-06T12:43:02.990804",
   "environment_variables": {},
   "exception": null,
   "input_path": "__notebook__.ipynb",
   "output_path": "__notebook__.ipynb",
   "parameters": {},
   "start_time": "2021-06-06T12:42:26.059127",
   "version": "2.3.3"
  }
 },
 "nbformat": 4,
 "nbformat_minor": 5
}
