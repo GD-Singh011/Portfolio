{
 "cells": [
  {
   "cell_type": "markdown",
   "id": "starting-edmonton",
   "metadata": {
    "papermill": {
     "duration": 0.024225,
     "end_time": "2021-06-12T07:20:32.919123",
     "exception": false,
     "start_time": "2021-06-12T07:20:32.894898",
     "status": "completed"
    },
    "tags": []
   },
   "source": [
    "# Resturant Reviews\n"
   ]
  },
  {
   "cell_type": "markdown",
   "id": "loose-michael",
   "metadata": {
    "papermill": {
     "duration": 0.023674,
     "end_time": "2021-06-12T07:20:32.966686",
     "exception": false,
     "start_time": "2021-06-12T07:20:32.943012",
     "status": "completed"
    },
    "tags": []
   },
   "source": [
    "***DataDescription***\n",
    "> The data consists of 2 columns Review and Rating\n",
    "> \n",
    "> Review: The reviews on Hotel were in the Review Column\n",
    "> \n",
    "> Rating: The Ratings are denoted in the Rating column in the form of 1-5 \n",
    "> \n",
    "> 1- Bad Review\n",
    "> \n",
    "> 2- Average Review\n",
    ">\n",
    "> 3- Better Review\n",
    "> \n",
    "> 4- Good Review\n",
    ">\n",
    "> 5- Best Review"
   ]
  },
  {
   "cell_type": "code",
   "execution_count": 1,
   "id": "sized-wheel",
   "metadata": {
    "_cell_guid": "b1076dfc-b9ad-4769-8c92-a6c4dae69d19",
    "_uuid": "8f2839f25d086af736a60e9eeb907d3b93b6e0e5",
    "execution": {
     "iopub.execute_input": "2021-06-12T07:20:33.027734Z",
     "iopub.status.busy": "2021-06-12T07:20:33.027021Z",
     "iopub.status.idle": "2021-06-12T07:20:33.039212Z",
     "shell.execute_reply": "2021-06-12T07:20:33.038453Z",
     "shell.execute_reply.started": "2021-06-12T06:47:59.151449Z"
    },
    "papermill": {
     "duration": 0.049406,
     "end_time": "2021-06-12T07:20:33.039381",
     "exception": false,
     "start_time": "2021-06-12T07:20:32.989975",
     "status": "completed"
    },
    "tags": []
   },
   "outputs": [
    {
     "name": "stdout",
     "output_type": "stream",
     "text": [
      "/kaggle/input/hotel-reviews/Hotel_Reviews.csv\n"
     ]
    }
   ],
   "source": [
    "# This Python 3 environment comes with many helpful analytics libraries installed\n",
    "# It is defined by the kaggle/python Docker image: https://github.com/kaggle/docker-python\n",
    "# For example, here's several helpful packages to load\n",
    "\n",
    "import numpy as np # linear algebra\n",
    "import pandas as pd # data processing, CSV file I/O (e.g. pd.read_csv)\n",
    "\n",
    "# Input data files are available in the read-only \"../input/\" directory\n",
    "# For example, running this (by clicking run or pressing Shift+Enter) will list all files under the input directory\n",
    "\n",
    "import os\n",
    "for dirname, _, filenames in os.walk('/kaggle/input'):\n",
    "    for filename in filenames:\n",
    "        print(os.path.join(dirname, filename))\n",
    "\n",
    "# You can write up to 20GB to the current directory (/kaggle/working/) that gets preserved as output when you create a version using \"Save & Run All\" \n",
    "# You can also write temporary files to /kaggle/temp/, but they won't be saved outside of the current session"
   ]
  },
  {
   "cell_type": "markdown",
   "id": "divine-beijing",
   "metadata": {
    "papermill": {
     "duration": 0.023378,
     "end_time": "2021-06-12T07:20:33.086906",
     "exception": false,
     "start_time": "2021-06-12T07:20:33.063528",
     "status": "completed"
    },
    "tags": []
   },
   "source": [
    "# Adding Basic Liberaries"
   ]
  },
  {
   "cell_type": "code",
   "execution_count": 2,
   "id": "found-hearts",
   "metadata": {
    "execution": {
     "iopub.execute_input": "2021-06-12T07:20:33.139983Z",
     "iopub.status.busy": "2021-06-12T07:20:33.139115Z",
     "iopub.status.idle": "2021-06-12T07:20:39.061444Z",
     "shell.execute_reply": "2021-06-12T07:20:39.061949Z",
     "shell.execute_reply.started": "2021-06-12T06:48:02.512778Z"
    },
    "papermill": {
     "duration": 5.951762,
     "end_time": "2021-06-12T07:20:39.062146",
     "exception": false,
     "start_time": "2021-06-12T07:20:33.110384",
     "status": "completed"
    },
    "tags": []
   },
   "outputs": [],
   "source": [
    "import numpy as np\n",
    "import pandas as pd\n",
    "import matplotlib.pyplot as plt\n",
    "import tensorflow as tf\n",
    "from tensorflow import keras\n",
    "from tensorflow.keras.preprocessing.text import Tokenizer\n",
    "from tensorflow.keras.preprocessing.sequence import pad_sequences"
   ]
  },
  {
   "cell_type": "markdown",
   "id": "brazilian-patio",
   "metadata": {
    "papermill": {
     "duration": 0.023206,
     "end_time": "2021-06-12T07:20:39.109477",
     "exception": false,
     "start_time": "2021-06-12T07:20:39.086271",
     "status": "completed"
    },
    "tags": []
   },
   "source": [
    "# Loading the Data"
   ]
  },
  {
   "cell_type": "code",
   "execution_count": 3,
   "id": "skilled-meeting",
   "metadata": {
    "execution": {
     "iopub.execute_input": "2021-06-12T07:20:39.159796Z",
     "iopub.status.busy": "2021-06-12T07:20:39.159112Z",
     "iopub.status.idle": "2021-06-12T07:20:39.525517Z",
     "shell.execute_reply": "2021-06-12T07:20:39.525983Z",
     "shell.execute_reply.started": "2021-06-12T06:48:05.725761Z"
    },
    "papermill": {
     "duration": 0.393133,
     "end_time": "2021-06-12T07:20:39.526151",
     "exception": false,
     "start_time": "2021-06-12T07:20:39.133018",
     "status": "completed"
    },
    "tags": []
   },
   "outputs": [
    {
     "data": {
      "text/html": [
       "<div>\n",
       "<style scoped>\n",
       "    .dataframe tbody tr th:only-of-type {\n",
       "        vertical-align: middle;\n",
       "    }\n",
       "\n",
       "    .dataframe tbody tr th {\n",
       "        vertical-align: top;\n",
       "    }\n",
       "\n",
       "    .dataframe thead th {\n",
       "        text-align: right;\n",
       "    }\n",
       "</style>\n",
       "<table border=\"1\" class=\"dataframe\">\n",
       "  <thead>\n",
       "    <tr style=\"text-align: right;\">\n",
       "      <th></th>\n",
       "      <th>Review</th>\n",
       "      <th>Rating</th>\n",
       "    </tr>\n",
       "  </thead>\n",
       "  <tbody>\n",
       "    <tr>\n",
       "      <th>0</th>\n",
       "      <td>nice hotel expensive parking got good deal sta...</td>\n",
       "      <td>4</td>\n",
       "    </tr>\n",
       "    <tr>\n",
       "      <th>1</th>\n",
       "      <td>ok nothing special charge diamond member hilto...</td>\n",
       "      <td>2</td>\n",
       "    </tr>\n",
       "    <tr>\n",
       "      <th>2</th>\n",
       "      <td>nice rooms not 4* experience hotel monaco seat...</td>\n",
       "      <td>3</td>\n",
       "    </tr>\n",
       "    <tr>\n",
       "      <th>3</th>\n",
       "      <td>unique, great stay, wonderful time hotel monac...</td>\n",
       "      <td>5</td>\n",
       "    </tr>\n",
       "    <tr>\n",
       "      <th>4</th>\n",
       "      <td>great stay great stay, went seahawk game aweso...</td>\n",
       "      <td>5</td>\n",
       "    </tr>\n",
       "  </tbody>\n",
       "</table>\n",
       "</div>"
      ],
      "text/plain": [
       "                                              Review  Rating\n",
       "0  nice hotel expensive parking got good deal sta...       4\n",
       "1  ok nothing special charge diamond member hilto...       2\n",
       "2  nice rooms not 4* experience hotel monaco seat...       3\n",
       "3  unique, great stay, wonderful time hotel monac...       5\n",
       "4  great stay great stay, went seahawk game aweso...       5"
      ]
     },
     "execution_count": 3,
     "metadata": {},
     "output_type": "execute_result"
    }
   ],
   "source": [
    "df = pd.read_csv('/kaggle/input/hotel-reviews/Hotel_Reviews.csv')\n",
    "df.head()"
   ]
  },
  {
   "cell_type": "code",
   "execution_count": 4,
   "id": "reasonable-precipitation",
   "metadata": {
    "execution": {
     "iopub.execute_input": "2021-06-12T07:20:39.578437Z",
     "iopub.status.busy": "2021-06-12T07:20:39.577809Z",
     "iopub.status.idle": "2021-06-12T07:20:39.582817Z",
     "shell.execute_reply": "2021-06-12T07:20:39.583252Z",
     "shell.execute_reply.started": "2021-06-12T06:48:06.756097Z"
    },
    "papermill": {
     "duration": 0.032548,
     "end_time": "2021-06-12T07:20:39.583435",
     "exception": false,
     "start_time": "2021-06-12T07:20:39.550887",
     "status": "completed"
    },
    "tags": []
   },
   "outputs": [
    {
     "data": {
      "text/plain": [
       "(20491, 2)"
      ]
     },
     "execution_count": 4,
     "metadata": {},
     "output_type": "execute_result"
    }
   ],
   "source": [
    "# Getting the shape of data\n",
    "df.shape"
   ]
  },
  {
   "cell_type": "markdown",
   "id": "optimum-cloud",
   "metadata": {
    "papermill": {
     "duration": 0.024052,
     "end_time": "2021-06-12T07:20:39.631902",
     "exception": false,
     "start_time": "2021-06-12T07:20:39.607850",
     "status": "completed"
    },
    "tags": []
   },
   "source": [
    "* **Setting Parameters**"
   ]
  },
  {
   "cell_type": "code",
   "execution_count": 5,
   "id": "pretty-tunnel",
   "metadata": {
    "execution": {
     "iopub.execute_input": "2021-06-12T07:20:39.685399Z",
     "iopub.status.busy": "2021-06-12T07:20:39.684735Z",
     "iopub.status.idle": "2021-06-12T07:20:39.686690Z",
     "shell.execute_reply": "2021-06-12T07:20:39.687148Z",
     "shell.execute_reply.started": "2021-06-12T07:07:04.453514Z"
    },
    "papermill": {
     "duration": 0.031129,
     "end_time": "2021-06-12T07:20:39.687315",
     "exception": false,
     "start_time": "2021-06-12T07:20:39.656186",
     "status": "completed"
    },
    "tags": []
   },
   "outputs": [],
   "source": [
    "vocab_size = 600\n",
    "embedding_dim = 20\n",
    "max_length = 1000\n",
    "trunc_type='post'\n",
    "padding_type='post'\n",
    "oov_tok = \"<OOV>\"\n",
    "training_size = 20451"
   ]
  },
  {
   "cell_type": "markdown",
   "id": "integrated-dryer",
   "metadata": {
    "papermill": {
     "duration": 0.024065,
     "end_time": "2021-06-12T07:20:39.735762",
     "exception": false,
     "start_time": "2021-06-12T07:20:39.711697",
     "status": "completed"
    },
    "tags": []
   },
   "source": [
    "***Seperating data column to sentences and Labels***"
   ]
  },
  {
   "cell_type": "code",
   "execution_count": 6,
   "id": "aerial-cream",
   "metadata": {
    "execution": {
     "iopub.execute_input": "2021-06-12T07:20:39.787457Z",
     "iopub.status.busy": "2021-06-12T07:20:39.786864Z",
     "iopub.status.idle": "2021-06-12T07:20:39.795917Z",
     "shell.execute_reply": "2021-06-12T07:20:39.794722Z",
     "shell.execute_reply.started": "2021-06-12T07:07:05.929769Z"
    },
    "papermill": {
     "duration": 0.035918,
     "end_time": "2021-06-12T07:20:39.796066",
     "exception": false,
     "start_time": "2021-06-12T07:20:39.760148",
     "status": "completed"
    },
    "tags": []
   },
   "outputs": [],
   "source": [
    "sentences = df['Review'].tolist()\n",
    "labels  = df['Rating'].tolist()"
   ]
  },
  {
   "cell_type": "markdown",
   "id": "waiting-creature",
   "metadata": {
    "papermill": {
     "duration": 0.024354,
     "end_time": "2021-06-12T07:20:39.844657",
     "exception": false,
     "start_time": "2021-06-12T07:20:39.820303",
     "status": "completed"
    },
    "tags": []
   },
   "source": [
    "# Getting Training and Testing Data"
   ]
  },
  {
   "cell_type": "code",
   "execution_count": 7,
   "id": "accepting-alcohol",
   "metadata": {
    "execution": {
     "iopub.execute_input": "2021-06-12T07:20:39.899834Z",
     "iopub.status.busy": "2021-06-12T07:20:39.899189Z",
     "iopub.status.idle": "2021-06-12T07:20:39.901469Z",
     "shell.execute_reply": "2021-06-12T07:20:39.900890Z",
     "shell.execute_reply.started": "2021-06-12T07:07:06.970294Z"
    },
    "papermill": {
     "duration": 0.03216,
     "end_time": "2021-06-12T07:20:39.901642",
     "exception": false,
     "start_time": "2021-06-12T07:20:39.869482",
     "status": "completed"
    },
    "tags": []
   },
   "outputs": [],
   "source": [
    "training_sentences = sentences[0:training_size]\n",
    "testing_sentences = sentences[training_size:]\n",
    "training_labels = labels[0:training_size]\n",
    "testing_labels = labels[training_size:]"
   ]
  },
  {
   "cell_type": "markdown",
   "id": "falling-stranger",
   "metadata": {
    "papermill": {
     "duration": 0.024261,
     "end_time": "2021-06-12T07:20:39.950831",
     "exception": false,
     "start_time": "2021-06-12T07:20:39.926570",
     "status": "completed"
    },
    "tags": []
   },
   "source": [
    "# Setting Tokenizer And Padding data"
   ]
  },
  {
   "cell_type": "code",
   "execution_count": 8,
   "id": "parental-threshold",
   "metadata": {
    "execution": {
     "iopub.execute_input": "2021-06-12T07:20:40.004218Z",
     "iopub.status.busy": "2021-06-12T07:20:40.003517Z",
     "iopub.status.idle": "2021-06-12T07:20:44.359349Z",
     "shell.execute_reply": "2021-06-12T07:20:44.358714Z",
     "shell.execute_reply.started": "2021-06-12T07:07:07.787384Z"
    },
    "papermill": {
     "duration": 4.383914,
     "end_time": "2021-06-12T07:20:44.359494",
     "exception": false,
     "start_time": "2021-06-12T07:20:39.975580",
     "status": "completed"
    },
    "tags": []
   },
   "outputs": [],
   "source": [
    "tokenizer = Tokenizer(num_words=vocab_size, oov_token=oov_tok)\n",
    "tokenizer.fit_on_texts(training_sentences)\n",
    "\n",
    "word_index = tokenizer.word_index\n",
    "\n",
    "training_sequences = tokenizer.texts_to_sequences(training_sentences)\n",
    "training_padded = pad_sequences(training_sequences, maxlen=max_length, padding=padding_type, truncating=trunc_type)\n",
    "\n",
    "testing_sequences = tokenizer.texts_to_sequences(testing_sentences)\n",
    "testing_padded = pad_sequences(testing_sequences, maxlen=max_length, padding=padding_type, truncating=trunc_type)"
   ]
  },
  {
   "cell_type": "markdown",
   "id": "dense-vision",
   "metadata": {
    "papermill": {
     "duration": 0.024798,
     "end_time": "2021-06-12T07:20:44.409189",
     "exception": false,
     "start_time": "2021-06-12T07:20:44.384391",
     "status": "completed"
    },
    "tags": []
   },
   "source": [
    "***Converting data into arrays***"
   ]
  },
  {
   "cell_type": "code",
   "execution_count": 9,
   "id": "tender-table",
   "metadata": {
    "execution": {
     "iopub.execute_input": "2021-06-12T07:20:44.462908Z",
     "iopub.status.busy": "2021-06-12T07:20:44.462189Z",
     "iopub.status.idle": "2021-06-12T07:20:44.514086Z",
     "shell.execute_reply": "2021-06-12T07:20:44.514670Z",
     "shell.execute_reply.started": "2021-06-12T07:07:11.337499Z"
    },
    "papermill": {
     "duration": 0.081516,
     "end_time": "2021-06-12T07:20:44.514871",
     "exception": false,
     "start_time": "2021-06-12T07:20:44.433355",
     "status": "completed"
    },
    "tags": []
   },
   "outputs": [],
   "source": [
    "import numpy as np\n",
    "training_padded = np.array(training_padded)\n",
    "training_labels = np.array(training_labels)\n",
    "testing_padded = np.array(testing_padded)\n",
    "testing_labels = np.array(testing_labels)"
   ]
  },
  {
   "cell_type": "markdown",
   "id": "accessible-flush",
   "metadata": {
    "papermill": {
     "duration": 0.032673,
     "end_time": "2021-06-12T07:20:44.578112",
     "exception": false,
     "start_time": "2021-06-12T07:20:44.545439",
     "status": "completed"
    },
    "tags": []
   },
   "source": [
    "# Creating CNN model\n",
    "# Adding Layers\n",
    "# Compiling Models"
   ]
  },
  {
   "cell_type": "code",
   "execution_count": 10,
   "id": "false-internship",
   "metadata": {
    "execution": {
     "iopub.execute_input": "2021-06-12T07:20:44.633209Z",
     "iopub.status.busy": "2021-06-12T07:20:44.632568Z",
     "iopub.status.idle": "2021-06-12T07:20:44.742463Z",
     "shell.execute_reply": "2021-06-12T07:20:44.741908Z",
     "shell.execute_reply.started": "2021-06-12T07:07:32.895118Z"
    },
    "papermill": {
     "duration": 0.136814,
     "end_time": "2021-06-12T07:20:44.742629",
     "exception": false,
     "start_time": "2021-06-12T07:20:44.605815",
     "status": "completed"
    },
    "tags": []
   },
   "outputs": [],
   "source": [
    "model = tf.keras.Sequential([\n",
    "    tf.keras.layers.Embedding(vocab_size, embedding_dim, input_length=max_length),\n",
    "    tf.keras.layers.GlobalAveragePooling1D(),\n",
    "    tf.keras.layers.Dense(42, activation='relu'),\n",
    "    tf.keras.layers.Dense(6, activation='sigmoid')\n",
    "])\n",
    "loss_fn = keras.losses.SparseCategoricalCrossentropy()\n",
    "model.compile(loss=loss_fn,optimizer='adam',metrics=['accuracy'])"
   ]
  },
  {
   "cell_type": "code",
   "execution_count": 11,
   "id": "broken-miracle",
   "metadata": {
    "execution": {
     "iopub.execute_input": "2021-06-12T07:20:44.798515Z",
     "iopub.status.busy": "2021-06-12T07:20:44.797512Z",
     "iopub.status.idle": "2021-06-12T07:20:44.803262Z",
     "shell.execute_reply": "2021-06-12T07:20:44.802665Z",
     "shell.execute_reply.started": "2021-06-12T07:07:34.872393Z"
    },
    "papermill": {
     "duration": 0.036177,
     "end_time": "2021-06-12T07:20:44.803399",
     "exception": false,
     "start_time": "2021-06-12T07:20:44.767222",
     "status": "completed"
    },
    "tags": []
   },
   "outputs": [
    {
     "name": "stdout",
     "output_type": "stream",
     "text": [
      "Model: \"sequential\"\n",
      "_________________________________________________________________\n",
      "Layer (type)                 Output Shape              Param #   \n",
      "=================================================================\n",
      "embedding (Embedding)        (None, 1000, 20)          12000     \n",
      "_________________________________________________________________\n",
      "global_average_pooling1d (Gl (None, 20)                0         \n",
      "_________________________________________________________________\n",
      "dense (Dense)                (None, 42)                882       \n",
      "_________________________________________________________________\n",
      "dense_1 (Dense)              (None, 6)                 258       \n",
      "=================================================================\n",
      "Total params: 13,140\n",
      "Trainable params: 13,140\n",
      "Non-trainable params: 0\n",
      "_________________________________________________________________\n"
     ]
    }
   ],
   "source": [
    "# Getting Summary\n",
    "model.summary()"
   ]
  },
  {
   "cell_type": "markdown",
   "id": "willing-video",
   "metadata": {
    "papermill": {
     "duration": 0.024341,
     "end_time": "2021-06-12T07:20:44.852394",
     "exception": false,
     "start_time": "2021-06-12T07:20:44.828053",
     "status": "completed"
    },
    "tags": []
   },
   "source": [
    "# Fiting CNN Model"
   ]
  },
  {
   "cell_type": "code",
   "execution_count": 12,
   "id": "affected-collect",
   "metadata": {
    "execution": {
     "iopub.execute_input": "2021-06-12T07:20:44.905215Z",
     "iopub.status.busy": "2021-06-12T07:20:44.904261Z",
     "iopub.status.idle": "2021-06-12T07:22:22.914379Z",
     "shell.execute_reply": "2021-06-12T07:22:22.913433Z",
     "shell.execute_reply.started": "2021-06-12T07:09:51.551013Z"
    },
    "papermill": {
     "duration": 98.037559,
     "end_time": "2021-06-12T07:22:22.914560",
     "exception": false,
     "start_time": "2021-06-12T07:20:44.877001",
     "status": "completed"
    },
    "tags": []
   },
   "outputs": [
    {
     "name": "stdout",
     "output_type": "stream",
     "text": [
      "Epoch 1/50\n",
      "640/640 [==============================] - 3s 4ms/step - loss: 1.5375 - accuracy: 0.4167 - val_loss: 1.4777 - val_accuracy: 0.4250\n",
      "Epoch 2/50\n",
      "640/640 [==============================] - 2s 3ms/step - loss: 1.3416 - accuracy: 0.4448 - val_loss: 1.4510 - val_accuracy: 0.4250\n",
      "Epoch 3/50\n",
      "640/640 [==============================] - 2s 3ms/step - loss: 1.3008 - accuracy: 0.4513 - val_loss: 1.3021 - val_accuracy: 0.4750\n",
      "Epoch 4/50\n",
      "640/640 [==============================] - 2s 3ms/step - loss: 1.1849 - accuracy: 0.4653 - val_loss: 1.1341 - val_accuracy: 0.5000\n",
      "Epoch 5/50\n",
      "640/640 [==============================] - 2s 3ms/step - loss: 1.0465 - accuracy: 0.5169 - val_loss: 1.0338 - val_accuracy: 0.6250\n",
      "Epoch 6/50\n",
      "640/640 [==============================] - 2s 3ms/step - loss: 1.0034 - accuracy: 0.5439 - val_loss: 1.0433 - val_accuracy: 0.6250\n",
      "Epoch 7/50\n",
      "640/640 [==============================] - 2s 3ms/step - loss: 0.9770 - accuracy: 0.5601 - val_loss: 1.0056 - val_accuracy: 0.6250\n",
      "Epoch 8/50\n",
      "640/640 [==============================] - 2s 3ms/step - loss: 0.9566 - accuracy: 0.5725 - val_loss: 0.9996 - val_accuracy: 0.6500\n",
      "Epoch 9/50\n",
      "640/640 [==============================] - 2s 3ms/step - loss: 0.9408 - accuracy: 0.5782 - val_loss: 0.9676 - val_accuracy: 0.7250\n",
      "Epoch 10/50\n",
      "640/640 [==============================] - 2s 3ms/step - loss: 0.9145 - accuracy: 0.5964 - val_loss: 0.9705 - val_accuracy: 0.7250\n",
      "Epoch 11/50\n",
      "640/640 [==============================] - 2s 3ms/step - loss: 0.8986 - accuracy: 0.6073 - val_loss: 0.9550 - val_accuracy: 0.6750\n",
      "Epoch 12/50\n",
      "640/640 [==============================] - 2s 3ms/step - loss: 0.8829 - accuracy: 0.6131 - val_loss: 0.9158 - val_accuracy: 0.6750\n",
      "Epoch 13/50\n",
      "640/640 [==============================] - 2s 3ms/step - loss: 0.8721 - accuracy: 0.6157 - val_loss: 0.9483 - val_accuracy: 0.6500\n",
      "Epoch 14/50\n",
      "640/640 [==============================] - 2s 3ms/step - loss: 0.8710 - accuracy: 0.6163 - val_loss: 0.9078 - val_accuracy: 0.6750\n",
      "Epoch 15/50\n",
      "640/640 [==============================] - 2s 3ms/step - loss: 0.8610 - accuracy: 0.6239 - val_loss: 0.9628 - val_accuracy: 0.6500\n",
      "Epoch 16/50\n",
      "640/640 [==============================] - 2s 3ms/step - loss: 0.8560 - accuracy: 0.6239 - val_loss: 0.8958 - val_accuracy: 0.6750\n",
      "Epoch 17/50\n",
      "640/640 [==============================] - 2s 3ms/step - loss: 0.8510 - accuracy: 0.6267 - val_loss: 0.9593 - val_accuracy: 0.6500\n",
      "Epoch 18/50\n",
      "640/640 [==============================] - 2s 3ms/step - loss: 0.8439 - accuracy: 0.6304 - val_loss: 0.9420 - val_accuracy: 0.6250\n",
      "Epoch 19/50\n",
      "640/640 [==============================] - 2s 3ms/step - loss: 0.8539 - accuracy: 0.6216 - val_loss: 0.9685 - val_accuracy: 0.6250\n",
      "Epoch 20/50\n",
      "640/640 [==============================] - 2s 3ms/step - loss: 0.8315 - accuracy: 0.6351 - val_loss: 0.9171 - val_accuracy: 0.6250\n",
      "Epoch 21/50\n",
      "640/640 [==============================] - 2s 3ms/step - loss: 0.8366 - accuracy: 0.6288 - val_loss: 0.9022 - val_accuracy: 0.6500\n",
      "Epoch 22/50\n",
      "640/640 [==============================] - 2s 3ms/step - loss: 0.8419 - accuracy: 0.6233 - val_loss: 0.8958 - val_accuracy: 0.6500\n",
      "Epoch 23/50\n",
      "640/640 [==============================] - 2s 3ms/step - loss: 0.8360 - accuracy: 0.6272 - val_loss: 0.8910 - val_accuracy: 0.6250\n",
      "Epoch 24/50\n",
      "640/640 [==============================] - 2s 3ms/step - loss: 0.8362 - accuracy: 0.6318 - val_loss: 0.9250 - val_accuracy: 0.6000\n",
      "Epoch 25/50\n",
      "640/640 [==============================] - 2s 3ms/step - loss: 0.8338 - accuracy: 0.6310 - val_loss: 0.9737 - val_accuracy: 0.6000\n",
      "Epoch 26/50\n",
      "640/640 [==============================] - 2s 3ms/step - loss: 0.8204 - accuracy: 0.6339 - val_loss: 0.9989 - val_accuracy: 0.6000\n",
      "Epoch 27/50\n",
      "640/640 [==============================] - 2s 3ms/step - loss: 0.8293 - accuracy: 0.6316 - val_loss: 0.9231 - val_accuracy: 0.6250\n",
      "Epoch 28/50\n",
      "640/640 [==============================] - 2s 3ms/step - loss: 0.8247 - accuracy: 0.6355 - val_loss: 0.9381 - val_accuracy: 0.6250\n",
      "Epoch 29/50\n",
      "640/640 [==============================] - 2s 3ms/step - loss: 0.8219 - accuracy: 0.6390 - val_loss: 0.8969 - val_accuracy: 0.6250\n",
      "Epoch 30/50\n",
      "640/640 [==============================] - 2s 3ms/step - loss: 0.8172 - accuracy: 0.6416 - val_loss: 0.9343 - val_accuracy: 0.6000\n",
      "Epoch 31/50\n",
      "640/640 [==============================] - 2s 3ms/step - loss: 0.8234 - accuracy: 0.6327 - val_loss: 0.9026 - val_accuracy: 0.6500\n",
      "Epoch 32/50\n",
      "640/640 [==============================] - 2s 3ms/step - loss: 0.8181 - accuracy: 0.6383 - val_loss: 0.9306 - val_accuracy: 0.6250\n",
      "Epoch 33/50\n",
      "640/640 [==============================] - 2s 3ms/step - loss: 0.8268 - accuracy: 0.6320 - val_loss: 0.8768 - val_accuracy: 0.7000\n",
      "Epoch 34/50\n",
      "640/640 [==============================] - 2s 3ms/step - loss: 0.8273 - accuracy: 0.6282 - val_loss: 0.9040 - val_accuracy: 0.6500\n",
      "Epoch 35/50\n",
      "640/640 [==============================] - 2s 3ms/step - loss: 0.8178 - accuracy: 0.6397 - val_loss: 0.9093 - val_accuracy: 0.6750\n",
      "Epoch 36/50\n",
      "640/640 [==============================] - 2s 3ms/step - loss: 0.8149 - accuracy: 0.6409 - val_loss: 0.9578 - val_accuracy: 0.5750\n",
      "Epoch 37/50\n",
      "640/640 [==============================] - 2s 3ms/step - loss: 0.8152 - accuracy: 0.6433 - val_loss: 0.9776 - val_accuracy: 0.6250\n",
      "Epoch 38/50\n",
      "640/640 [==============================] - 2s 3ms/step - loss: 0.8147 - accuracy: 0.6386 - val_loss: 0.9214 - val_accuracy: 0.6250\n",
      "Epoch 39/50\n",
      "640/640 [==============================] - 2s 3ms/step - loss: 0.8185 - accuracy: 0.6395 - val_loss: 0.9574 - val_accuracy: 0.6000\n",
      "Epoch 40/50\n",
      "640/640 [==============================] - 2s 3ms/step - loss: 0.8045 - accuracy: 0.6446 - val_loss: 1.0275 - val_accuracy: 0.6000\n",
      "Epoch 41/50\n",
      "640/640 [==============================] - 2s 3ms/step - loss: 0.8173 - accuracy: 0.6403 - val_loss: 0.9219 - val_accuracy: 0.6250\n",
      "Epoch 42/50\n",
      "640/640 [==============================] - 2s 3ms/step - loss: 0.8145 - accuracy: 0.6395 - val_loss: 0.9378 - val_accuracy: 0.6000\n",
      "Epoch 43/50\n",
      "640/640 [==============================] - 2s 3ms/step - loss: 0.8142 - accuracy: 0.6374 - val_loss: 0.9610 - val_accuracy: 0.6000\n",
      "Epoch 44/50\n",
      "640/640 [==============================] - 2s 3ms/step - loss: 0.8090 - accuracy: 0.6443 - val_loss: 0.9253 - val_accuracy: 0.6000\n",
      "Epoch 45/50\n",
      "640/640 [==============================] - 2s 3ms/step - loss: 0.8139 - accuracy: 0.6485 - val_loss: 0.9342 - val_accuracy: 0.6000\n",
      "Epoch 46/50\n",
      "640/640 [==============================] - 2s 3ms/step - loss: 0.8069 - accuracy: 0.6429 - val_loss: 0.9100 - val_accuracy: 0.6000\n",
      "Epoch 47/50\n",
      "640/640 [==============================] - 2s 3ms/step - loss: 0.8132 - accuracy: 0.6420 - val_loss: 0.9066 - val_accuracy: 0.6750\n",
      "Epoch 48/50\n",
      "640/640 [==============================] - 2s 3ms/step - loss: 0.8022 - accuracy: 0.6434 - val_loss: 0.8861 - val_accuracy: 0.6250\n",
      "Epoch 49/50\n",
      "640/640 [==============================] - 2s 3ms/step - loss: 0.8060 - accuracy: 0.6438 - val_loss: 0.9456 - val_accuracy: 0.6000\n",
      "Epoch 50/50\n",
      "640/640 [==============================] - 2s 3ms/step - loss: 0.8146 - accuracy: 0.6406 - val_loss: 0.9272 - val_accuracy: 0.6500\n"
     ]
    }
   ],
   "source": [
    "num_epochs = 50\n",
    "history = model.fit(training_padded, training_labels, epochs=num_epochs, validation_data=(testing_padded, testing_labels))"
   ]
  },
  {
   "cell_type": "markdown",
   "id": "coordinated-access",
   "metadata": {
    "papermill": {
     "duration": 0.606695,
     "end_time": "2021-06-12T07:22:24.122738",
     "exception": false,
     "start_time": "2021-06-12T07:22:23.516043",
     "status": "completed"
    },
    "tags": []
   },
   "source": [
    "# Plotting accuracy and loss Graph"
   ]
  },
  {
   "cell_type": "code",
   "execution_count": 13,
   "id": "annoying-suite",
   "metadata": {
    "execution": {
     "iopub.execute_input": "2021-06-12T07:22:25.332091Z",
     "iopub.status.busy": "2021-06-12T07:22:25.331384Z",
     "iopub.status.idle": "2021-06-12T07:22:25.660487Z",
     "shell.execute_reply": "2021-06-12T07:22:25.659623Z",
     "shell.execute_reply.started": "2021-06-12T07:13:04.362494Z"
    },
    "papermill": {
     "duration": 0.944542,
     "end_time": "2021-06-12T07:22:25.660660",
     "exception": false,
     "start_time": "2021-06-12T07:22:24.716118",
     "status": "completed"
    },
    "tags": []
   },
   "outputs": [
    {
     "data": {
      "image/png": "[encoded data removed]",
      "text/plain": [
       "<Figure size 432x288 with 1 Axes>"
      ]
     },
     "metadata": {
      "needs_background": "light"
     },
     "output_type": "display_data"
    },
    {
     "data": {
      "image/png": "[encoded data removed]",
      "text/plain": [
       "<Figure size 432x288 with 1 Axes>"
      ]
     },
     "metadata": {
      "needs_background": "light"
     },
     "output_type": "display_data"
    }
   ],
   "source": [
    "import matplotlib.pyplot as plt\n",
    "\n",
    "def plot_graphs(history, string):\n",
    "    plt.plot(history.history[string])\n",
    "    plt.plot(history.history['val_'+string])\n",
    "    plt.xlabel(\"Epochs\")\n",
    "    plt.ylabel(string)\n",
    "    plt.legend([string, 'val_'+string])\n",
    "    plt.show()\n",
    "plot_graphs(history, \"accuracy\")\n",
    "plot_graphs(history, \"loss\")"
   ]
  },
  {
   "cell_type": "markdown",
   "id": "abstract-employer",
   "metadata": {
    "papermill": {
     "duration": 0.591979,
     "end_time": "2021-06-12T07:22:26.845796",
     "exception": false,
     "start_time": "2021-06-12T07:22:26.253817",
     "status": "completed"
    },
    "tags": []
   },
   "source": [
    "* The 1st Graph Show the Difference B/w Increase in accuracy and val_accuracy \n",
    "* The 2nd Graph show the difference b/w decrease in loss and val_loss"
   ]
  },
  {
   "cell_type": "markdown",
   "id": "balanced-deviation",
   "metadata": {
    "papermill": {
     "duration": 0.600518,
     "end_time": "2021-06-12T07:22:28.094159",
     "exception": false,
     "start_time": "2021-06-12T07:22:27.493641",
     "status": "completed"
    },
    "tags": []
   },
   "source": [
    "***Decoding Sentences*** "
   ]
  },
  {
   "cell_type": "code",
   "execution_count": 14,
   "id": "prescribed-techno",
   "metadata": {
    "execution": {
     "iopub.execute_input": "2021-06-12T07:22:29.315180Z",
     "iopub.status.busy": "2021-06-12T07:22:29.313555Z",
     "iopub.status.idle": "2021-06-12T07:22:29.320026Z",
     "shell.execute_reply": "2021-06-12T07:22:29.319178Z",
     "shell.execute_reply.started": "2021-06-12T07:13:16.881116Z"
    },
    "papermill": {
     "duration": 0.632032,
     "end_time": "2021-06-12T07:22:29.320209",
     "exception": false,
     "start_time": "2021-06-12T07:22:28.688177",
     "status": "completed"
    },
    "tags": []
   },
   "outputs": [
    {
     "name": "stdout",
     "output_type": "stream",
     "text": [
      "nice hotel expensive parking got good deal stay hotel <OOV> arrived late evening took <OOV> previous reviews did <OOV> parking check quick easy little disappointed non <OOV> view room room clean nice size bed comfortable <OOV> <OOV> <OOV> high pillows not <OOV> like heard music room night morning <OOV> <OOV> doors <OOV> <OOV> hear people <OOV> <OOV> maybe just noisy <OOV> <OOV> bath <OOV> nice did not <OOV> stay nice touch taken <OOV> staying <OOV> location great walking distance shopping overall nice experience having pay <OOV> parking night ? ? ? ? ? ? ? ? ? ? ? ? ? ? ? ? ? ? ? ? ? ? ? ? ? ? ? ? ? ? ? ? ? ? ? ? ? ? ? ? ? ? ? ? ? ? ? ? ? ? ? ? ? ? ? ? ? ? ? ? ? ? ? ? ? ? ? ? ? ? ? ? ? ? ? ? ? ? ? ? ? ? ? ? ? ? ? ? ? ? ? ? ? ? ? ? ? ? ? ? ? ? ? ? ? ? ? ? ? ? ? ? ? ? ? ? ? ? ? ? ? ? ? ? ? ? ? ? ? ? ? ? ? ? ? ? ? ? ? ? ? ? ? ? ? ? ? ? ? ? ? ? ? ? ? ? ? ? ? ? ? ? ? ? ? ? ? ? ? ? ? ? ? ? ? ? ? ? ? ? ? ? ? ? ? ? ? ? ? ? ? ? ? ? ? ? ? ? ? ? ? ? ? ? ? ? ? ? ? ? ? ? ? ? ? ? ? ? ? ? ? ? ? ? ? ? ? ? ? ? ? ? ? ? ? ? ? ? ? ? ? ? ? ? ? ? ? ? ? ? ? ? ? ? ? ? ? ? ? ? ? ? ? ? ? ? ? ? ? ? ? ? ? ? ? ? ? ? ? ? ? ? ? ? ? ? ? ? ? ? ? ? ? ? ? ? ? ? ? ? ? ? ? ? ? ? ? ? ? ? ? ? ? ? ? ? ? ? ? ? ? ? ? ? ? ? ? ? ? ? ? ? ? ? ? ? ? ? ? ? ? ? ? ? ? ? ? ? ? ? ? ? ? ? ? ? ? ? ? ? ? ? ? ? ? ? ? ? ? ? ? ? ? ? ? ? ? ? ? ? ? ? ? ? ? ? ? ? ? ? ? ? ? ? ? ? ? ? ? ? ? ? ? ? ? ? ? ? ? ? ? ? ? ? ? ? ? ? ? ? ? ? ? ? ? ? ? ? ? ? ? ? ? ? ? ? ? ? ? ? ? ? ? ? ? ? ? ? ? ? ? ? ? ? ? ? ? ? ? ? ? ? ? ? ? ? ? ? ? ? ? ? ? ? ? ? ? ? ? ? ? ? ? ? ? ? ? ? ? ? ? ? ? ? ? ? ? ? ? ? ? ? ? ? ? ? ? ? ? ? ? ? ? ? ? ? ? ? ? ? ? ? ? ? ? ? ? ? ? ? ? ? ? ? ? ? ? ? ? ? ? ? ? ? ? ? ? ? ? ? ? ? ? ? ? ? ? ? ? ? ? ? ? ? ? ? ? ? ? ? ? ? ? ? ? ? ? ? ? ? ? ? ? ? ? ? ? ? ? ? ? ? ? ? ? ? ? ? ? ? ? ? ? ? ? ? ? ? ? ? ? ? ? ? ? ? ? ? ? ? ? ? ? ? ? ? ? ? ? ? ? ? ? ? ? ? ? ? ? ? ? ? ? ? ? ? ? ? ? ? ? ? ? ? ? ? ? ? ? ? ? ? ? ? ? ? ? ? ? ? ? ? ? ? ? ? ? ? ? ? ? ? ? ? ? ? ? ? ? ? ? ? ? ? ? ? ? ? ? ? ? ? ? ? ? ? ? ? ? ? ? ? ? ? ? ? ? ? ? ? ? ? ? ? ? ? ? ? ? ? ? ? ? ? ? ? ? ? ? ? ? ? ? ? ? ? ? ? ? ? ? ? ? ? ? ? ? ? ? ? ? ? ? ? ? ? ? ? ? ? ? ? ? ? ? ? ? ? ? ? ? ? ? ? ? ? ? ? ? ? ? ? ? ? ? ? ? ? ? ? ? ? ? ? ? ? ? ? ? ? ? ? ? ? ? ? ? ? ? ? ? ? ? ? ? ? ? ? ? ? ? ? ? ? ? ? ? ? ? ? ? ? ? ? ? ? ? ? ? ? ? ? ? ? ? ? ? ? ? ? ? ? ? ? ? ? ? ? ? ? ? ? ? ? ? ? ? ? ? ? ? ? ? ? ? ? ? ? ? ? ? ? ? ? ? ? ? ? ? ? ? ? ? ? ? ? ? ? ? ? ? ?\n",
      "nice hotel expensive parking got good deal stay hotel anniversary, arrived late evening took advice previous reviews did valet parking, check quick easy, little disappointed non-existent view room room clean nice size, bed comfortable woke stiff neck high pillows, not soundproof like heard music room night morning loud bangs doors opening closing hear people talking hallway, maybe just noisy neighbors, aveda bath products nice, did not goldfish stay nice touch taken advantage staying longer, location great walking distance shopping, overall nice experience having pay 40 parking night,  \n",
      "4\n"
     ]
    }
   ],
   "source": [
    "reverse_word_index = dict([(value, key) for (key, value) in word_index.items()])\n",
    "\n",
    "def decode_sentence(text):\n",
    "    return ' '.join([reverse_word_index.get(i, '?') for i in text])\n",
    "\n",
    "print(decode_sentence(training_padded[0]))\n",
    "print(training_sentences[0])\n",
    "print(labels[0])"
   ]
  },
  {
   "cell_type": "markdown",
   "id": "german-salad",
   "metadata": {
    "papermill": {
     "duration": 0.604287,
     "end_time": "2021-06-12T07:22:30.527507",
     "exception": false,
     "start_time": "2021-06-12T07:22:29.923220",
     "status": "completed"
    },
    "tags": []
   },
   "source": [
    "# Prediction on Testing Data"
   ]
  },
  {
   "cell_type": "code",
   "execution_count": 15,
   "id": "occupied-barrel",
   "metadata": {
    "execution": {
     "iopub.execute_input": "2021-06-12T07:22:31.733087Z",
     "iopub.status.busy": "2021-06-12T07:22:31.732117Z",
     "iopub.status.idle": "2021-06-12T07:22:31.739743Z",
     "shell.execute_reply": "2021-06-12T07:22:31.739219Z",
     "shell.execute_reply.started": "2021-06-12T07:13:20.890285Z"
    },
    "papermill": {
     "duration": 0.614699,
     "end_time": "2021-06-12T07:22:31.739899",
     "exception": false,
     "start_time": "2021-06-12T07:22:31.125200",
     "status": "completed"
    },
    "tags": []
   },
   "outputs": [
    {
     "name": "stdout",
     "output_type": "stream",
     "text": [
      "luxury trumps space believe reviews say rooms small, luxurious, service missteps related hotel getting speed staff anxious make amends, beware tourist map chatty concierge seriously misrepresents distance asian museum closer, hike half, finally in-house restaurant juno really good offering inventive menu terrific service,   :  4 \n",
      "\n",
      "excellent wedding just ca n't say good things, beautiful setting over-the-top helpful staff great value, feel lucky got beginning sure booked,   :  5 \n",
      "\n",
      "history beauty superb service stayed reading recent remodel, seattle embark alaskan cruise arctic club real highlights trip, spent time just photographing lobby bar gorgeous banquet hall ceiling, beds luxuriously comfortable ca n't help impressed glad way attitude employee, treat,   :  5 \n",
      "\n",
      "loved arctic overall items working stayed smallest room type room 903 arctic club 3 nights attending conference, check-in smooth courteous, room small think nicest rooms stayed, bathroom nice shower rainfall style showerhead nicely decorated marble washstand vanity vintage style light fixtures, expecting room queen size bed room king, bed extremely comfortable nice pillows fluffy comforter, housekeeping did excellent job throught stay, room includes flat screen tv dvd player minibar used refrigerator cd alarm clock comfy lounge chair desk chair, 9th floor open week issues, electronic safe activated iron delivered items taken care quickly, 2 things change add additional outlet near desk pull electronics additional soundproofing windows significant noise sirens, small gym 1st floor no pool, stay deal similiar price paid time,   :  4 \n",
      "\n",
      "beautiful facilities overall highly disappointing space beautiful appointed excited stay lots problems, not definitely not fully running value price greatly lacking.they non-functioning elevator no benches floors waiting tiring physical disabilities limitations, recovering illness issue, addition working elevator completely broke times stay.one 2 phones dead wiring not phone stereo room did n't work tv not properly hooked water 6 floors shut nights, change rooms 2:30 morning mild stomach upsets left absolute need flush toilets.the toiletries provided exceptionally nice 4 nights replenished, did not hotel directory room nor did invitation juno grand opening cocktail party event tho supposed room, afternoons long day walking hills seattle came 4 room n't done.the staff helpful genuinely concerned.this potential grand classy hotel tho location not great, far finished, 6 months year iron bumps verify elevators functioning,   :  2 \n",
      "\n",
      "wonderful wedding night husband stayed night wedding august 2008. reviews said hotel beautifully renovated building interior elegant takes time gold-rush era, staff friendly accomodating, arrived midnight checked right let friend check earlier day stuff waiting room, reservation week told going wedding night upgraded free room whirlpool 2 really pretty roomy, king size bed super comfortable linens pillows soft fluffy exhausted probably fallen asleep definitely comfortable, room comfy robes toiletry products lovely high quality, interior room combination classic modern, bed-side tables looked like old-fashioned luggage trunks cool touch time large flat-screen tv modern touches, breakfast morning juno restaurant, room package came continental breakfast quite substantial lots pastries yogurt fruit, really hungry ended ordering entrees addition omelettes delicious, minor construction going inside particularly elevators did n't problem, recommend arctic club unique romantic classic place stay, definitely wo n't feel like staying chain hotel arctic club definite sense character,   :  5 \n",
      "\n",
      "not ready kinks felt taken advantage just stayed arctic club way things incomplete, shame hotel management decided rush opening, eventually kinks management charge, people clear short-cuts quick buck, does n't leave feeling good hotel, management style remain hotel completed wonder problems arise.i wo n't dwell issues related hotel not completed, permanent problems hotel half rooms face dismal collection roof-top mechanical equipment unsightly parking lot, hotel not sound-proofed rooms right lot noise, fitness room tiny tiny basement room feels like boiler room, hot water takes long time hot just barely warm, mini-bar room noisy silent ones available apparently hotel did n't spring, beautiful renovation lot promise charm stylish decor quickly starts wear, left feeling scammed,   :  2 \n",
      "\n",
      "perfect ca n't beat location, beach incredible, rooms sumptuous, caution room overlooking pool area turns disco bar midnight friday saturday nights unless sleep little till dawn,   :  3 \n",
      "\n",
      "fantasic stay laconcha renaissance resort pr husband stayed hotel long weekend, entering greeted staff helpful, bell captain went way provide assistance desk staff helpful, given room fantastic view ocean, say delighted understatement considering did not know entering, hotel staff exceptional location ideal walk area close promixity old san juan, really enjoyed toiletries know small thing does make difference, certainly return happy great room, oh hotel did n't want miss opportunity provide positive feedback regarding experience, bgj,   :  5 \n",
      "\n",
      "june 08 stay stayed hotel june 6/6-6/8/08, read reviews website stating loud weekends travel san juan r r wanted new kid block try, hotel beautiful, pools small beach nice, staff friendly especially caribbean standards live caribbean, rooms large stayed ocean view room completely gorgeous, say completely shocked loud music really weekends, resort expected resort amenites believe building spa charge resort fees, management justify charging rates cant sleep party lobby/pool stops, hotel built u shape, walk lobby opens pool pool rooms left street ocean view right, music amplified like mini arena.i want stay hotel rooms nice noise level probably el san juan hilton isla verde,   :  1 \n",
      "\n"
     ]
    }
   ],
   "source": [
    "for n in range(10):\n",
    "    print(testing_sentences[n],': ',testing_labels[n],'\\n')"
   ]
  },
  {
   "cell_type": "markdown",
   "id": "distinguished-principle",
   "metadata": {
    "papermill": {
     "duration": 0.617073,
     "end_time": "2021-06-12T07:22:32.954737",
     "exception": false,
     "start_time": "2021-06-12T07:22:32.337664",
     "status": "completed"
    },
    "tags": []
   },
   "source": [
    "> As we can see here the testing was all perfect!!!!!\n",
    "\n",
    "> 1- Bad Review\n",
    "> \n",
    "> 2- Average Review\n",
    ">\n",
    "> 3- Better Review\n",
    "> \n",
    "> 4- Good Review\n",
    ">\n",
    "> 5- Best Review"
   ]
  },
  {
   "cell_type": "markdown",
   "id": "photographic-nigeria",
   "metadata": {
    "papermill": {
     "duration": 0.601882,
     "end_time": "2021-06-12T07:22:34.181404",
     "exception": false,
     "start_time": "2021-06-12T07:22:33.579522",
     "status": "completed"
    },
    "tags": []
   },
   "source": [
    "# Getting Prediction with Randomly Created Reviews"
   ]
  },
  {
   "cell_type": "code",
   "execution_count": 16,
   "id": "fourth-horror",
   "metadata": {
    "execution": {
     "iopub.execute_input": "2021-06-12T07:22:35.414795Z",
     "iopub.status.busy": "2021-06-12T07:22:35.413051Z",
     "iopub.status.idle": "2021-06-12T07:22:35.522192Z",
     "shell.execute_reply": "2021-06-12T07:22:35.521588Z",
     "shell.execute_reply.started": "2021-06-12T07:18:00.717568Z"
    },
    "papermill": {
     "duration": 0.713759,
     "end_time": "2021-06-12T07:22:35.522329",
     "exception": false,
     "start_time": "2021-06-12T07:22:34.808570",
     "status": "completed"
    },
    "tags": []
   },
   "outputs": [
    {
     "name": "stdout",
     "output_type": "stream",
     "text": [
      "[[9.3035318e-08 4.9636477e-01 3.5974643e-01 1.9397852e-01 2.7499172e-01\n",
      "  5.3098053e-01]]\n"
     ]
    }
   ],
   "source": [
    "# Checking Predictions\n",
    "sentence = [\"Feeling as though you are on top of the world, immerse yourself in the beauty that this unique landscape has to offer, bordered by pristine white beaches and the brilliant blues of the sea. Feel inspired by the hopes and dreams that have\"]\n",
    "sequences = tokenizer.texts_to_sequences(sentence)\n",
    "padded = pad_sequences(sequences, maxlen=max_length, padding=padding_type, truncating=trunc_type)\n",
    "print(model.predict(padded))"
   ]
  },
  {
   "cell_type": "markdown",
   "id": "sustainable-brass",
   "metadata": {
    "papermill": {
     "duration": 0.595309,
     "end_time": "2021-06-12T07:22:36.723021",
     "exception": false,
     "start_time": "2021-06-12T07:22:36.127712",
     "status": "completed"
    },
    "tags": []
   },
   "source": [
    "* As we can see the sentences i created randomly were Predicted almost perfectly\n",
    "* **The reviews** was **good** to it got Rating which is **almost equals** to **5**"
   ]
  },
  {
   "cell_type": "markdown",
   "id": "dense-anger",
   "metadata": {
    "papermill": {
     "duration": 0.595431,
     "end_time": "2021-06-12T07:22:37.916326",
     "exception": false,
     "start_time": "2021-06-12T07:22:37.320895",
     "status": "completed"
    },
    "tags": []
   },
   "source": [
    "**This Model's Accuracy is 67.50%**"
   ]
  },
  {
   "cell_type": "markdown",
   "id": "chronic-grill",
   "metadata": {
    "papermill": {
     "duration": 0.601909,
     "end_time": "2021-06-12T07:22:39.115365",
     "exception": false,
     "start_time": "2021-06-12T07:22:38.513456",
     "status": "completed"
    },
    "tags": []
   },
   "source": [
    "***Please Leave your Valuable feedback in the comments below!!!!!!***"
   ]
  },
  {
   "cell_type": "code",
   "execution_count": null,
   "id": "biblical-leisure",
   "metadata": {
    "papermill": {
     "duration": 0.641915,
     "end_time": "2021-06-12T07:22:40.349505",
     "exception": false,
     "start_time": "2021-06-12T07:22:39.707590",
     "status": "completed"
    },
    "tags": []
   },
   "outputs": [],
   "source": []
  }
 ],
 "metadata": {
  "kernelspec": {
   "display_name": "Python 3",
   "language": "python",
   "name": "python3"
  },
  "language_info": {
   "codemirror_mode": {
    "name": "ipython",
    "version": 3
   },
   "file_extension": ".py",
   "mimetype": "text/x-python",
   "name": "python",
   "nbconvert_exporter": "python",
   "pygments_lexer": "ipython3",
   "version": "3.7.10"
  },
  "papermill": {
   "default_parameters": {},
   "duration": 138.061148,
   "end_time": "2021-06-12T07:22:42.760792",
   "environment_variables": {},
   "exception": null,
   "input_path": "__notebook__.ipynb",
   "output_path": "__notebook__.ipynb",
   "parameters": {},
   "start_time": "2021-06-12T07:20:24.699644",
   "version": "2.3.3"
  }
 },
 "nbformat": 4,
 "nbformat_minor": 5
}
