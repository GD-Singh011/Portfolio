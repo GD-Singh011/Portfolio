{
 "cells": [
  {
   "cell_type": "code",
   "execution_count": 1,
   "id": "intermediate-wellington",
   "metadata": {
    "_cell_guid": "b1076dfc-b9ad-4769-8c92-a6c4dae69d19",
    "_uuid": "8f2839f25d086af736a60e9eeb907d3b93b6e0e5",
    "execution": {
     "iopub.execute_input": "2021-06-05T15:10:31.144723Z",
     "iopub.status.busy": "2021-06-05T15:10:31.144149Z",
     "iopub.status.idle": "2021-06-05T15:10:31.160001Z",
     "shell.execute_reply": "2021-06-05T15:10:31.160556Z",
     "shell.execute_reply.started": "2021-06-05T15:08:53.962441Z"
    },
    "papermill": {
     "duration": 0.046339,
     "end_time": "2021-06-05T15:10:31.160834",
     "exception": false,
     "start_time": "2021-06-05T15:10:31.114495",
     "status": "completed"
    },
    "tags": []
   },
   "outputs": [
    {
     "name": "stdout",
     "output_type": "stream",
     "text": [
      "/kaggle/input/predict-pizza-price/Pizza-Price.csv\n"
     ]
    }
   ],
   "source": [
    "# This Python 3 environment comes with many helpful analytics libraries installed\n",
    "# It is defined by the kaggle/python Docker image: https://github.com/kaggle/docker-python\n",
    "# For example, here's several helpful packages to load\n",
    "\n",
    "import numpy as np # linear algebra\n",
    "import pandas as pd # data processing, CSV file I/O (e.g. pd.read_csv)\n",
    "\n",
    "# Input data files are available in the read-only \"../input/\" directory\n",
    "# For example, running this (by clicking run or pressing Shift+Enter) will list all files under the input directory\n",
    "\n",
    "import os\n",
    "for dirname, _, filenames in os.walk('/kaggle/input'):\n",
    "    for filename in filenames:\n",
    "        print(os.path.join(dirname, filename))\n",
    "\n",
    "# You can write up to 20GB to the current directory (/kaggle/working/) that gets preserved as output when you create a version using \"Save & Run All\" \n",
    "# You can also write temporary files to /kaggle/temp/, but they won't be saved outside of the current session"
   ]
  },
  {
   "cell_type": "code",
   "execution_count": 2,
   "id": "ahead-soldier",
   "metadata": {
    "execution": {
     "iopub.execute_input": "2021-06-05T15:10:31.206244Z",
     "iopub.status.busy": "2021-06-05T15:10:31.205574Z",
     "iopub.status.idle": "2021-06-05T15:10:32.068137Z",
     "shell.execute_reply": "2021-06-05T15:10:32.068551Z",
     "shell.execute_reply.started": "2021-06-05T15:08:53.979615Z"
    },
    "papermill": {
     "duration": 0.887168,
     "end_time": "2021-06-05T15:10:32.068774",
     "exception": false,
     "start_time": "2021-06-05T15:10:31.181606",
     "status": "completed"
    },
    "tags": []
   },
   "outputs": [],
   "source": [
    "# Importing Liberaries\n",
    "import pandas as pd\n",
    "import numpy as np\n",
    "import matplotlib.pyplot as plt\n",
    "import seaborn as sns"
   ]
  },
  {
   "cell_type": "code",
   "execution_count": 3,
   "id": "primary-margin",
   "metadata": {
    "execution": {
     "iopub.execute_input": "2021-06-05T15:10:32.112795Z",
     "iopub.status.busy": "2021-06-05T15:10:32.112243Z",
     "iopub.status.idle": "2021-06-05T15:10:32.148544Z",
     "shell.execute_reply": "2021-06-05T15:10:32.148971Z",
     "shell.execute_reply.started": "2021-06-05T15:08:54.012356Z"
    },
    "papermill": {
     "duration": 0.059644,
     "end_time": "2021-06-05T15:10:32.149163",
     "exception": false,
     "start_time": "2021-06-05T15:10:32.089519",
     "status": "completed"
    },
    "tags": []
   },
   "outputs": [
    {
     "data": {
      "text/html": [
       "<div>\n",
       "<style scoped>\n",
       "    .dataframe tbody tr th:only-of-type {\n",
       "        vertical-align: middle;\n",
       "    }\n",
       "\n",
       "    .dataframe tbody tr th {\n",
       "        vertical-align: top;\n",
       "    }\n",
       "\n",
       "    .dataframe thead th {\n",
       "        text-align: right;\n",
       "    }\n",
       "</style>\n",
       "<table border=\"1\" class=\"dataframe\">\n",
       "  <thead>\n",
       "    <tr style=\"text-align: right;\">\n",
       "      <th></th>\n",
       "      <th>Restaurant</th>\n",
       "      <th>Extra Cheeze</th>\n",
       "      <th>Extra Mushroom</th>\n",
       "      <th>Size by Inch</th>\n",
       "      <th>Extra Spicy</th>\n",
       "      <th>Price</th>\n",
       "    </tr>\n",
       "  </thead>\n",
       "  <tbody>\n",
       "    <tr>\n",
       "      <th>0</th>\n",
       "      <td>A</td>\n",
       "      <td>yes</td>\n",
       "      <td>yes</td>\n",
       "      <td>12</td>\n",
       "      <td>no</td>\n",
       "      <td>650</td>\n",
       "    </tr>\n",
       "    <tr>\n",
       "      <th>1</th>\n",
       "      <td>B</td>\n",
       "      <td>no</td>\n",
       "      <td>yes</td>\n",
       "      <td>15</td>\n",
       "      <td>yes</td>\n",
       "      <td>800</td>\n",
       "    </tr>\n",
       "    <tr>\n",
       "      <th>2</th>\n",
       "      <td>C</td>\n",
       "      <td>no</td>\n",
       "      <td>no</td>\n",
       "      <td>9</td>\n",
       "      <td>no</td>\n",
       "      <td>500</td>\n",
       "    </tr>\n",
       "    <tr>\n",
       "      <th>3</th>\n",
       "      <td>D</td>\n",
       "      <td>yes</td>\n",
       "      <td>no</td>\n",
       "      <td>12</td>\n",
       "      <td>yes</td>\n",
       "      <td>700</td>\n",
       "    </tr>\n",
       "    <tr>\n",
       "      <th>4</th>\n",
       "      <td>E</td>\n",
       "      <td>yes</td>\n",
       "      <td>no</td>\n",
       "      <td>12</td>\n",
       "      <td>yes</td>\n",
       "      <td>750</td>\n",
       "    </tr>\n",
       "    <tr>\n",
       "      <th>5</th>\n",
       "      <td>F</td>\n",
       "      <td>no</td>\n",
       "      <td>yes</td>\n",
       "      <td>15</td>\n",
       "      <td>yes</td>\n",
       "      <td>900</td>\n",
       "    </tr>\n",
       "    <tr>\n",
       "      <th>6</th>\n",
       "      <td>G</td>\n",
       "      <td>yes</td>\n",
       "      <td>no</td>\n",
       "      <td>9</td>\n",
       "      <td>no</td>\n",
       "      <td>600</td>\n",
       "    </tr>\n",
       "    <tr>\n",
       "      <th>7</th>\n",
       "      <td>H</td>\n",
       "      <td>yes</td>\n",
       "      <td>no</td>\n",
       "      <td>9</td>\n",
       "      <td>yes</td>\n",
       "      <td>700</td>\n",
       "    </tr>\n",
       "    <tr>\n",
       "      <th>8</th>\n",
       "      <td>I</td>\n",
       "      <td>no</td>\n",
       "      <td>yes</td>\n",
       "      <td>15</td>\n",
       "      <td>no</td>\n",
       "      <td>750</td>\n",
       "    </tr>\n",
       "    <tr>\n",
       "      <th>9</th>\n",
       "      <td>J</td>\n",
       "      <td>no</td>\n",
       "      <td>yes</td>\n",
       "      <td>15</td>\n",
       "      <td>no</td>\n",
       "      <td>700</td>\n",
       "    </tr>\n",
       "    <tr>\n",
       "      <th>10</th>\n",
       "      <td>K</td>\n",
       "      <td>yes</td>\n",
       "      <td>yes</td>\n",
       "      <td>8</td>\n",
       "      <td>no</td>\n",
       "      <td>600</td>\n",
       "    </tr>\n",
       "    <tr>\n",
       "      <th>11</th>\n",
       "      <td>L</td>\n",
       "      <td>no</td>\n",
       "      <td>no</td>\n",
       "      <td>12</td>\n",
       "      <td>yes</td>\n",
       "      <td>700</td>\n",
       "    </tr>\n",
       "    <tr>\n",
       "      <th>12</th>\n",
       "      <td>M</td>\n",
       "      <td>yes</td>\n",
       "      <td>yes</td>\n",
       "      <td>8</td>\n",
       "      <td>no</td>\n",
       "      <td>550</td>\n",
       "    </tr>\n",
       "    <tr>\n",
       "      <th>13</th>\n",
       "      <td>N</td>\n",
       "      <td>yes</td>\n",
       "      <td>yes</td>\n",
       "      <td>12</td>\n",
       "      <td>yes</td>\n",
       "      <td>900</td>\n",
       "    </tr>\n",
       "    <tr>\n",
       "      <th>14</th>\n",
       "      <td>O</td>\n",
       "      <td>yes</td>\n",
       "      <td>no</td>\n",
       "      <td>12</td>\n",
       "      <td>no</td>\n",
       "      <td>700</td>\n",
       "    </tr>\n",
       "    <tr>\n",
       "      <th>15</th>\n",
       "      <td>P</td>\n",
       "      <td>yes</td>\n",
       "      <td>yes</td>\n",
       "      <td>12</td>\n",
       "      <td>no</td>\n",
       "      <td>750</td>\n",
       "    </tr>\n",
       "    <tr>\n",
       "      <th>16</th>\n",
       "      <td>Q</td>\n",
       "      <td>no</td>\n",
       "      <td>yes</td>\n",
       "      <td>15</td>\n",
       "      <td>yes</td>\n",
       "      <td>1000</td>\n",
       "    </tr>\n",
       "    <tr>\n",
       "      <th>17</th>\n",
       "      <td>R</td>\n",
       "      <td>no</td>\n",
       "      <td>no</td>\n",
       "      <td>9</td>\n",
       "      <td>no</td>\n",
       "      <td>650</td>\n",
       "    </tr>\n",
       "    <tr>\n",
       "      <th>18</th>\n",
       "      <td>S</td>\n",
       "      <td>yes</td>\n",
       "      <td>yes</td>\n",
       "      <td>12</td>\n",
       "      <td>yes</td>\n",
       "      <td>950</td>\n",
       "    </tr>\n",
       "    <tr>\n",
       "      <th>19</th>\n",
       "      <td>T</td>\n",
       "      <td>yes</td>\n",
       "      <td>no</td>\n",
       "      <td>9</td>\n",
       "      <td>no</td>\n",
       "      <td>700</td>\n",
       "    </tr>\n",
       "  </tbody>\n",
       "</table>\n",
       "</div>"
      ],
      "text/plain": [
       "   Restaurant Extra Cheeze Extra Mushroom   Size by Inch Extra Spicy  Price\n",
       "0           A          yes            yes             12          no    650\n",
       "1           B           no            yes             15         yes    800\n",
       "2           C           no             no              9          no    500\n",
       "3           D          yes             no             12         yes    700\n",
       "4           E          yes             no             12         yes    750\n",
       "5           F           no            yes             15         yes    900\n",
       "6           G          yes             no              9          no    600\n",
       "7           H          yes             no              9         yes    700\n",
       "8           I           no            yes             15          no    750\n",
       "9           J           no            yes             15          no    700\n",
       "10          K          yes            yes              8          no    600\n",
       "11          L           no             no             12         yes    700\n",
       "12          M          yes            yes              8          no    550\n",
       "13          N          yes            yes             12         yes    900\n",
       "14          O          yes             no             12          no    700\n",
       "15          P          yes            yes             12          no    750\n",
       "16          Q           no            yes             15         yes   1000\n",
       "17          R           no             no              9          no    650\n",
       "18          S          yes            yes             12         yes    950\n",
       "19          T          yes             no              9          no    700"
      ]
     },
     "execution_count": 3,
     "metadata": {},
     "output_type": "execute_result"
    }
   ],
   "source": [
    "# Loading the Data\n",
    "df = pd.read_csv('/kaggle/input/predict-pizza-price/Pizza-Price.csv')\n",
    "df"
   ]
  },
  {
   "cell_type": "code",
   "execution_count": 4,
   "id": "unsigned-occasion",
   "metadata": {
    "execution": {
     "iopub.execute_input": "2021-06-05T15:10:32.197297Z",
     "iopub.status.busy": "2021-06-05T15:10:32.196698Z",
     "iopub.status.idle": "2021-06-05T15:10:32.232555Z",
     "shell.execute_reply": "2021-06-05T15:10:32.232959Z",
     "shell.execute_reply.started": "2021-06-05T15:08:54.034911Z"
    },
    "papermill": {
     "duration": 0.062968,
     "end_time": "2021-06-05T15:10:32.233149",
     "exception": false,
     "start_time": "2021-06-05T15:10:32.170181",
     "status": "completed"
    },
    "tags": []
   },
   "outputs": [
    {
     "data": {
      "text/html": [
       "<style  type=\"text/css\" >\n",
       "#T_38f50_row0_col0,#T_38f50_row1_col1{\n",
       "            background-color:  #67000d;\n",
       "            color:  #f1f1f1;\n",
       "        }#T_38f50_row0_col1,#T_38f50_row1_col0{\n",
       "            background-color:  #fff5f0;\n",
       "            color:  #000000;\n",
       "        }</style><table id=\"T_38f50_\" ><thead>    <tr>        <th class=\"blank level0\" ></th>        <th class=\"col_heading level0 col0\" > Size by Inch</th>        <th class=\"col_heading level0 col1\" >Price</th>    </tr></thead><tbody>\n",
       "                <tr>\n",
       "                        <th id=\"T_38f50_level0_row0\" class=\"row_heading level0 row0\" > Size by Inch</th>\n",
       "                        <td id=\"T_38f50_row0_col0\" class=\"data row0 col0\" >1.000000</td>\n",
       "                        <td id=\"T_38f50_row0_col1\" class=\"data row0 col1\" >0.681904</td>\n",
       "            </tr>\n",
       "            <tr>\n",
       "                        <th id=\"T_38f50_level0_row1\" class=\"row_heading level0 row1\" >Price</th>\n",
       "                        <td id=\"T_38f50_row1_col0\" class=\"data row1 col0\" >0.681904</td>\n",
       "                        <td id=\"T_38f50_row1_col1\" class=\"data row1 col1\" >1.000000</td>\n",
       "            </tr>\n",
       "    </tbody></table>"
      ],
      "text/plain": [
       "<pandas.io.formats.style.Styler at 0x7f6fd82b8850>"
      ]
     },
     "execution_count": 4,
     "metadata": {},
     "output_type": "execute_result"
    }
   ],
   "source": [
    "corr = df.corr()\n",
    "corr.style.background_gradient(cmap='Reds')"
   ]
  },
  {
   "cell_type": "code",
   "execution_count": 5,
   "id": "voluntary-gentleman",
   "metadata": {
    "execution": {
     "iopub.execute_input": "2021-06-05T15:10:32.278835Z",
     "iopub.status.busy": "2021-06-05T15:10:32.278275Z",
     "iopub.status.idle": "2021-06-05T15:10:32.295232Z",
     "shell.execute_reply": "2021-06-05T15:10:32.295979Z",
     "shell.execute_reply.started": "2021-06-05T15:08:54.053570Z"
    },
    "papermill": {
     "duration": 0.041703,
     "end_time": "2021-06-05T15:10:32.296206",
     "exception": false,
     "start_time": "2021-06-05T15:10:32.254503",
     "status": "completed"
    },
    "tags": []
   },
   "outputs": [
    {
     "name": "stdout",
     "output_type": "stream",
     "text": [
      "<class 'pandas.core.frame.DataFrame'>\n",
      "RangeIndex: 20 entries, 0 to 19\n",
      "Data columns (total 6 columns):\n",
      " #   Column          Non-Null Count  Dtype \n",
      "---  ------          --------------  ----- \n",
      " 0   Restaurant      20 non-null     object\n",
      " 1   Extra Cheeze    20 non-null     object\n",
      " 2   Extra Mushroom  20 non-null     object\n",
      " 3    Size by Inch   20 non-null     int64 \n",
      " 4   Extra Spicy     20 non-null     object\n",
      " 5   Price           20 non-null     int64 \n",
      "dtypes: int64(2), object(4)\n",
      "memory usage: 1.1+ KB\n"
     ]
    }
   ],
   "source": [
    "# Getting data Types\n",
    "df.info()"
   ]
  },
  {
   "cell_type": "code",
   "execution_count": 6,
   "id": "stylish-church",
   "metadata": {
    "execution": {
     "iopub.execute_input": "2021-06-05T15:10:32.343474Z",
     "iopub.status.busy": "2021-06-05T15:10:32.342607Z",
     "iopub.status.idle": "2021-06-05T15:10:32.350010Z",
     "shell.execute_reply": "2021-06-05T15:10:32.350500Z",
     "shell.execute_reply.started": "2021-06-05T15:08:54.098347Z"
    },
    "papermill": {
     "duration": 0.032418,
     "end_time": "2021-06-05T15:10:32.350659",
     "exception": false,
     "start_time": "2021-06-05T15:10:32.318241",
     "status": "completed"
    },
    "tags": []
   },
   "outputs": [
    {
     "data": {
      "text/plain": [
       "Restaurant        0\n",
       "Extra Cheeze      0\n",
       "Extra Mushroom    0\n",
       " Size by Inch     0\n",
       "Extra Spicy       0\n",
       "Price             0\n",
       "dtype: int64"
      ]
     },
     "execution_count": 6,
     "metadata": {},
     "output_type": "execute_result"
    }
   ],
   "source": [
    "# Checking Null values\n",
    "df.isnull().sum()"
   ]
  },
  {
   "cell_type": "code",
   "execution_count": 7,
   "id": "individual-september",
   "metadata": {
    "execution": {
     "iopub.execute_input": "2021-06-05T15:10:32.398024Z",
     "iopub.status.busy": "2021-06-05T15:10:32.397195Z",
     "iopub.status.idle": "2021-06-05T15:10:32.416001Z",
     "shell.execute_reply": "2021-06-05T15:10:32.415579Z",
     "shell.execute_reply.started": "2021-06-05T15:08:54.123414Z"
    },
    "papermill": {
     "duration": 0.043404,
     "end_time": "2021-06-05T15:10:32.416153",
     "exception": false,
     "start_time": "2021-06-05T15:10:32.372749",
     "status": "completed"
    },
    "tags": []
   },
   "outputs": [
    {
     "data": {
      "text/html": [
       "<div>\n",
       "<style scoped>\n",
       "    .dataframe tbody tr th:only-of-type {\n",
       "        vertical-align: middle;\n",
       "    }\n",
       "\n",
       "    .dataframe tbody tr th {\n",
       "        vertical-align: top;\n",
       "    }\n",
       "\n",
       "    .dataframe thead th {\n",
       "        text-align: right;\n",
       "    }\n",
       "</style>\n",
       "<table border=\"1\" class=\"dataframe\">\n",
       "  <thead>\n",
       "    <tr style=\"text-align: right;\">\n",
       "      <th></th>\n",
       "      <th>Size by Inch</th>\n",
       "      <th>Price</th>\n",
       "    </tr>\n",
       "  </thead>\n",
       "  <tbody>\n",
       "    <tr>\n",
       "      <th>count</th>\n",
       "      <td>20.000</td>\n",
       "      <td>20.000</td>\n",
       "    </tr>\n",
       "    <tr>\n",
       "      <th>mean</th>\n",
       "      <td>11.600</td>\n",
       "      <td>727.500</td>\n",
       "    </tr>\n",
       "    <tr>\n",
       "      <th>std</th>\n",
       "      <td>2.501</td>\n",
       "      <td>130.258</td>\n",
       "    </tr>\n",
       "    <tr>\n",
       "      <th>min</th>\n",
       "      <td>8.000</td>\n",
       "      <td>500.000</td>\n",
       "    </tr>\n",
       "    <tr>\n",
       "      <th>25%</th>\n",
       "      <td>9.000</td>\n",
       "      <td>650.000</td>\n",
       "    </tr>\n",
       "    <tr>\n",
       "      <th>50%</th>\n",
       "      <td>12.000</td>\n",
       "      <td>700.000</td>\n",
       "    </tr>\n",
       "    <tr>\n",
       "      <th>75%</th>\n",
       "      <td>12.750</td>\n",
       "      <td>762.500</td>\n",
       "    </tr>\n",
       "    <tr>\n",
       "      <th>max</th>\n",
       "      <td>15.000</td>\n",
       "      <td>1000.000</td>\n",
       "    </tr>\n",
       "  </tbody>\n",
       "</table>\n",
       "</div>"
      ],
      "text/plain": [
       "        Size by Inch     Price\n",
       "count         20.000    20.000\n",
       "mean          11.600   727.500\n",
       "std            2.501   130.258\n",
       "min            8.000   500.000\n",
       "25%            9.000   650.000\n",
       "50%           12.000   700.000\n",
       "75%           12.750   762.500\n",
       "max           15.000  1000.000"
      ]
     },
     "execution_count": 7,
     "metadata": {},
     "output_type": "execute_result"
    }
   ],
   "source": [
    "# Describing the data\n",
    "pd.set_option('precision',3)\n",
    "df.describe()"
   ]
  },
  {
   "cell_type": "code",
   "execution_count": 8,
   "id": "pediatric-accommodation",
   "metadata": {
    "execution": {
     "iopub.execute_input": "2021-06-05T15:10:32.464997Z",
     "iopub.status.busy": "2021-06-05T15:10:32.464059Z",
     "iopub.status.idle": "2021-06-05T15:10:32.470796Z",
     "shell.execute_reply": "2021-06-05T15:10:32.470055Z",
     "shell.execute_reply.started": "2021-06-05T15:08:54.149118Z"
    },
    "papermill": {
     "duration": 0.032963,
     "end_time": "2021-06-05T15:10:32.470956",
     "exception": false,
     "start_time": "2021-06-05T15:10:32.437993",
     "status": "completed"
    },
    "tags": []
   },
   "outputs": [
    {
     "data": {
      "text/plain": [
       "(20, 6)"
      ]
     },
     "execution_count": 8,
     "metadata": {},
     "output_type": "execute_result"
    }
   ],
   "source": [
    "# shape of data\n",
    "df.shape"
   ]
  },
  {
   "cell_type": "markdown",
   "id": "computational-terrorist",
   "metadata": {
    "papermill": {
     "duration": 0.032623,
     "end_time": "2021-06-05T15:10:32.533980",
     "exception": false,
     "start_time": "2021-06-05T15:10:32.501357",
     "status": "completed"
    },
    "tags": []
   },
   "source": [
    "# Data Visualization"
   ]
  },
  {
   "cell_type": "code",
   "execution_count": 9,
   "id": "sacred-genealogy",
   "metadata": {
    "execution": {
     "iopub.execute_input": "2021-06-05T15:10:32.602411Z",
     "iopub.status.busy": "2021-06-05T15:10:32.601814Z",
     "iopub.status.idle": "2021-06-05T15:10:32.768198Z",
     "shell.execute_reply": "2021-06-05T15:10:32.767500Z",
     "shell.execute_reply.started": "2021-06-05T15:08:54.165468Z"
    },
    "papermill": {
     "duration": 0.204109,
     "end_time": "2021-06-05T15:10:32.768372",
     "exception": false,
     "start_time": "2021-06-05T15:10:32.564263",
     "status": "completed"
    },
    "tags": []
   },
   "outputs": [
    {
     "name": "stdout",
     "output_type": "stream",
     "text": [
      "yes    12\n",
      "no      8\n",
      "Name: Extra Cheeze, dtype: int64\n"
     ]
    },
    {
     "data": {
      "text/plain": [
       "<AxesSubplot:ylabel='Extra Cheeze'>"
      ]
     },
     "execution_count": 9,
     "metadata": {},
     "output_type": "execute_result"
    },
    {
     "data": {
      "image/png": "[encoded data removed]",
      "text/plain": [
       "<Figure size 432x288 with 1 Axes>"
      ]
     },
     "metadata": {},
     "output_type": "display_data"
    }
   ],
   "source": [
    "# Pizza which have Extra Cheeze\n",
    "print(df['Extra Cheeze'].value_counts())\n",
    "df['Extra Cheeze'].value_counts().plot.pie()"
   ]
  },
  {
   "cell_type": "code",
   "execution_count": 10,
   "id": "dangerous-asthma",
   "metadata": {
    "execution": {
     "iopub.execute_input": "2021-06-05T15:10:32.855104Z",
     "iopub.status.busy": "2021-06-05T15:10:32.853954Z",
     "iopub.status.idle": "2021-06-05T15:10:32.920333Z",
     "shell.execute_reply": "2021-06-05T15:10:32.919872Z",
     "shell.execute_reply.started": "2021-06-05T15:08:54.266774Z"
    },
    "papermill": {
     "duration": 0.124799,
     "end_time": "2021-06-05T15:10:32.920469",
     "exception": false,
     "start_time": "2021-06-05T15:10:32.795670",
     "status": "completed"
    },
    "tags": []
   },
   "outputs": [
    {
     "name": "stdout",
     "output_type": "stream",
     "text": [
      "yes    11\n",
      "no      9\n",
      "Name: Extra Mushroom, dtype: int64\n"
     ]
    },
    {
     "data": {
      "image/png": "[encoded data removed]",
      "text/plain": [
       "<Figure size 432x288 with 1 Axes>"
      ]
     },
     "metadata": {},
     "output_type": "display_data"
    }
   ],
   "source": [
    "# Pizza which have Extra Mushroom\n",
    "print(df['Extra Mushroom'].value_counts())\n",
    "df['Extra Mushroom'].value_counts().plot.pie();"
   ]
  },
  {
   "cell_type": "code",
   "execution_count": 11,
   "id": "nuclear-prime",
   "metadata": {
    "execution": {
     "iopub.execute_input": "2021-06-05T15:10:32.979017Z",
     "iopub.status.busy": "2021-06-05T15:10:32.978115Z",
     "iopub.status.idle": "2021-06-05T15:10:33.048993Z",
     "shell.execute_reply": "2021-06-05T15:10:33.048286Z",
     "shell.execute_reply.started": "2021-06-05T15:08:54.361965Z"
    },
    "papermill": {
     "duration": 0.103619,
     "end_time": "2021-06-05T15:10:33.049207",
     "exception": false,
     "start_time": "2021-06-05T15:10:32.945588",
     "status": "completed"
    },
    "tags": []
   },
   "outputs": [
    {
     "name": "stdout",
     "output_type": "stream",
     "text": [
      "no     11\n",
      "yes     9\n",
      "Name: Extra Spicy, dtype: int64\n"
     ]
    },
    {
     "data": {
      "image/png": "[encoded data removed]",
      "text/plain": [
       "<Figure size 432x288 with 1 Axes>"
      ]
     },
     "metadata": {},
     "output_type": "display_data"
    }
   ],
   "source": [
    "# Pizza which are Extra Spicy\n",
    "print(df['Extra Spicy'].value_counts())\n",
    "df['Extra Spicy'].value_counts().plot.pie();"
   ]
  },
  {
   "cell_type": "code",
   "execution_count": 12,
   "id": "overall-spain",
   "metadata": {
    "execution": {
     "iopub.execute_input": "2021-06-05T15:10:33.130472Z",
     "iopub.status.busy": "2021-06-05T15:10:33.129547Z",
     "iopub.status.idle": "2021-06-05T15:10:33.192266Z",
     "shell.execute_reply": "2021-06-05T15:10:33.191761Z",
     "shell.execute_reply.started": "2021-06-05T15:08:54.455353Z"
    },
    "papermill": {
     "duration": 0.110751,
     "end_time": "2021-06-05T15:10:33.192402",
     "exception": false,
     "start_time": "2021-06-05T15:10:33.081651",
     "status": "completed"
    },
    "tags": []
   },
   "outputs": [
    {
     "name": "stdout",
     "output_type": "stream",
     "text": [
      "12    8\n",
      "9     5\n",
      "15    5\n",
      "8     2\n",
      "Name:  Size by Inch, dtype: int64\n"
     ]
    },
    {
     "data": {
      "image/png": "[encoded data removed]",
      "text/plain": [
       "<Figure size 432x288 with 1 Axes>"
      ]
     },
     "metadata": {},
     "output_type": "display_data"
    }
   ],
   "source": [
    "# Pizza Size by Inch mostly ordered\n",
    "print(df[' Size by Inch'].value_counts())\n",
    "df[' Size by Inch'].value_counts().plot.pie();"
   ]
  },
  {
   "cell_type": "code",
   "execution_count": 13,
   "id": "sustainable-religion",
   "metadata": {
    "execution": {
     "iopub.execute_input": "2021-06-05T15:10:33.267596Z",
     "iopub.status.busy": "2021-06-05T15:10:33.266645Z",
     "iopub.status.idle": "2021-06-05T15:10:33.368170Z",
     "shell.execute_reply": "2021-06-05T15:10:33.367712Z",
     "shell.execute_reply.started": "2021-06-05T15:08:54.561268Z"
    },
    "papermill": {
     "duration": 0.150093,
     "end_time": "2021-06-05T15:10:33.368306",
     "exception": false,
     "start_time": "2021-06-05T15:10:33.218213",
     "status": "completed"
    },
    "tags": []
   },
   "outputs": [
    {
     "name": "stdout",
     "output_type": "stream",
     "text": [
      "700     6\n",
      "750     3\n",
      "900     2\n",
      "650     2\n",
      "600     2\n",
      "800     1\n",
      "550     1\n",
      "1000    1\n",
      "500     1\n",
      "950     1\n",
      "Name: Price, dtype: int64\n",
      "Total money spent by customer:  14550\n"
     ]
    },
    {
     "data": {
      "image/png": "[encoded data removed]",
      "text/plain": [
       "<Figure size 432x288 with 1 Axes>"
      ]
     },
     "metadata": {},
     "output_type": "display_data"
    }
   ],
   "source": [
    "# Money spent by customers\n",
    "print(df['Price'].value_counts())\n",
    "df['Price'].value_counts().plot.pie();\n",
    "print('Total money spent by customer: ', df['Price'].sum())"
   ]
  },
  {
   "cell_type": "code",
   "execution_count": 14,
   "id": "subjective-hungary",
   "metadata": {
    "execution": {
     "iopub.execute_input": "2021-06-05T15:10:33.429764Z",
     "iopub.status.busy": "2021-06-05T15:10:33.429062Z",
     "iopub.status.idle": "2021-06-05T15:10:33.623011Z",
     "shell.execute_reply": "2021-06-05T15:10:33.622468Z",
     "shell.execute_reply.started": "2021-06-05T15:08:54.848277Z"
    },
    "papermill": {
     "duration": 0.228282,
     "end_time": "2021-06-05T15:10:33.623160",
     "exception": false,
     "start_time": "2021-06-05T15:10:33.394878",
     "status": "completed"
    },
    "tags": []
   },
   "outputs": [
    {
     "name": "stdout",
     "output_type": "stream",
     "text": [
      " Size by Inch  8   9   12  15\n",
      "Price                        \n",
      "500             0   1   0   0\n",
      "550             1   0   0   0\n",
      "600             1   1   0   0\n",
      "650             0   1   1   0\n",
      "700             0   2   3   1\n",
      "750             0   0   2   1\n",
      "800             0   0   0   1\n",
      "900             0   0   1   1\n",
      "950             0   0   1   0\n",
      "1000            0   0   0   1\n"
     ]
    },
    {
     "data": {
      "text/html": [
       "<style  type=\"text/css\" >\n",
       "#T_005f2_row0_col0,#T_005f2_row1_col1,#T_005f2_row2_col2,#T_005f2_row3_col3{\n",
       "            background-color:  #08306b;\n",
       "            color:  #f1f1f1;\n",
       "        }#T_005f2_row0_col1{\n",
       "            background-color:  #ddeaf7;\n",
       "            color:  #000000;\n",
       "        }#T_005f2_row0_col2,#T_005f2_row0_col3,#T_005f2_row3_col0,#T_005f2_row3_col1{\n",
       "            background-color:  #f7fbff;\n",
       "            color:  #000000;\n",
       "        }#T_005f2_row1_col0{\n",
       "            background-color:  #abd0e6;\n",
       "            color:  #000000;\n",
       "        }#T_005f2_row1_col2{\n",
       "            background-color:  #4594c7;\n",
       "            color:  #000000;\n",
       "        }#T_005f2_row1_col3{\n",
       "            background-color:  #caddf0;\n",
       "            color:  #000000;\n",
       "        }#T_005f2_row2_col0{\n",
       "            background-color:  #ebf3fb;\n",
       "            color:  #000000;\n",
       "        }#T_005f2_row2_col1{\n",
       "            background-color:  #63a8d3;\n",
       "            color:  #000000;\n",
       "        }#T_005f2_row2_col3{\n",
       "            background-color:  #4896c8;\n",
       "            color:  #000000;\n",
       "        }#T_005f2_row3_col2{\n",
       "            background-color:  #519ccc;\n",
       "            color:  #000000;\n",
       "        }</style><table id=\"T_005f2_\" ><thead>    <tr>        <th class=\"index_name level0\" > Size by Inch</th>        <th class=\"col_heading level0 col0\" >8</th>        <th class=\"col_heading level0 col1\" >9</th>        <th class=\"col_heading level0 col2\" >12</th>        <th class=\"col_heading level0 col3\" >15</th>    </tr>    <tr>        <th class=\"index_name level0\" > Size by Inch</th>        <th class=\"blank\" ></th>        <th class=\"blank\" ></th>        <th class=\"blank\" ></th>        <th class=\"blank\" ></th>    </tr></thead><tbody>\n",
       "                <tr>\n",
       "                        <th id=\"T_005f2_level0_row0\" class=\"row_heading level0 row0\" >8</th>\n",
       "                        <td id=\"T_005f2_row0_col0\" class=\"data row0 col0\" >1.000</td>\n",
       "                        <td id=\"T_005f2_row0_col1\" class=\"data row0 col1\" >0.000</td>\n",
       "                        <td id=\"T_005f2_row0_col2\" class=\"data row0 col2\" >-0.408</td>\n",
       "                        <td id=\"T_005f2_row0_col3\" class=\"data row0 col3\" >-0.500</td>\n",
       "            </tr>\n",
       "            <tr>\n",
       "                        <th id=\"T_005f2_level0_row1\" class=\"row_heading level0 row1\" >9</th>\n",
       "                        <td id=\"T_005f2_row1_col0\" class=\"data row1 col0\" >0.000</td>\n",
       "                        <td id=\"T_005f2_row1_col1\" class=\"data row1 col1\" >1.000</td>\n",
       "                        <td id=\"T_005f2_row1_col2\" class=\"data row1 col2\" >0.456</td>\n",
       "                        <td id=\"T_005f2_row1_col3\" class=\"data row1 col3\" >-0.149</td>\n",
       "            </tr>\n",
       "            <tr>\n",
       "                        <th id=\"T_005f2_level0_row2\" class=\"row_heading level0 row2\" >12</th>\n",
       "                        <td id=\"T_005f2_row2_col0\" class=\"data row2 col0\" >-0.408</td>\n",
       "                        <td id=\"T_005f2_row2_col1\" class=\"data row2 col1\" >0.456</td>\n",
       "                        <td id=\"T_005f2_row2_col2\" class=\"data row2 col2\" >1.000</td>\n",
       "                        <td id=\"T_005f2_row2_col3\" class=\"data row2 col3\" >0.408</td>\n",
       "            </tr>\n",
       "            <tr>\n",
       "                        <th id=\"T_005f2_level0_row3\" class=\"row_heading level0 row3\" >15</th>\n",
       "                        <td id=\"T_005f2_row3_col0\" class=\"data row3 col0\" >-0.500</td>\n",
       "                        <td id=\"T_005f2_row3_col1\" class=\"data row3 col1\" >-0.149</td>\n",
       "                        <td id=\"T_005f2_row3_col2\" class=\"data row3 col2\" >0.408</td>\n",
       "                        <td id=\"T_005f2_row3_col3\" class=\"data row3 col3\" >1.000</td>\n",
       "            </tr>\n",
       "    </tbody></table>"
      ],
      "text/plain": [
       "<pandas.io.formats.style.Styler at 0x7f6fcd5334d0>"
      ]
     },
     "execution_count": 14,
     "metadata": {},
     "output_type": "execute_result"
    },
    {
     "data": {
      "image/png": "[encoded data removed]",
      "text/plain": [
       "<Figure size 432x288 with 1 Axes>"
      ]
     },
     "metadata": {
      "needs_background": "light"
     },
     "output_type": "display_data"
    }
   ],
   "source": [
    "sizeprice = pd.crosstab(index = df['Price'], columns = df[' Size by Inch'])\n",
    "print(sizeprice)\n",
    "sizeprice.plot.line();\n",
    "corr = sizeprice.corr()\n",
    "corr.style.background_gradient(cmap='Blues')"
   ]
  },
  {
   "cell_type": "code",
   "execution_count": 15,
   "id": "industrial-alaska",
   "metadata": {
    "execution": {
     "iopub.execute_input": "2021-06-05T15:10:33.686308Z",
     "iopub.status.busy": "2021-06-05T15:10:33.685411Z",
     "iopub.status.idle": "2021-06-05T15:10:34.131959Z",
     "shell.execute_reply": "2021-06-05T15:10:34.131437Z",
     "shell.execute_reply.started": "2021-06-05T15:08:55.072494Z"
    },
    "papermill": {
     "duration": 0.480787,
     "end_time": "2021-06-05T15:10:34.132100",
     "exception": false,
     "start_time": "2021-06-05T15:10:33.651313",
     "status": "completed"
    },
    "tags": []
   },
   "outputs": [
    {
     "name": "stdout",
     "output_type": "stream",
     "text": [
      "Extra Cheeze  no  yes\n",
      "Price                \n",
      "500            1    0\n",
      "550            0    1\n",
      "600            0    2\n",
      "650            1    1\n",
      "700            2    4\n",
      "750            1    2\n",
      "800            1    0\n",
      "900            1    1\n",
      "950            0    1\n",
      "1000           1    0\n"
     ]
    },
    {
     "data": {
      "image/png": "[encoded data removed]",
      "text/plain": [
       "<Figure size 432x288 with 1 Axes>"
      ]
     },
     "metadata": {
      "needs_background": "light"
     },
     "output_type": "display_data"
    },
    {
     "data": {
      "image/png": "[encoded data removed]",
      "text/plain": [
       "<Figure size 432x288 with 1 Axes>"
      ]
     },
     "metadata": {
      "needs_background": "light"
     },
     "output_type": "display_data"
    }
   ],
   "source": [
    "# CHEEZE - PRIZE\n",
    "cheezeprice = pd.crosstab(index = df['Price'], columns = df['Extra Cheeze'])\n",
    "print(cheezeprice)\n",
    "cheezeprice.plot.bar();\n",
    "cheezeprice.plot.line();"
   ]
  },
  {
   "cell_type": "code",
   "execution_count": 16,
   "id": "drawn-bible",
   "metadata": {
    "execution": {
     "iopub.execute_input": "2021-06-05T15:10:34.235368Z",
     "iopub.status.busy": "2021-06-05T15:10:34.230888Z",
     "iopub.status.idle": "2021-06-05T15:10:34.519519Z",
     "shell.execute_reply": "2021-06-05T15:10:34.518928Z",
     "shell.execute_reply.started": "2021-06-05T15:08:55.509569Z"
    },
    "papermill": {
     "duration": 0.358241,
     "end_time": "2021-06-05T15:10:34.519647",
     "exception": false,
     "start_time": "2021-06-05T15:10:34.161406",
     "status": "completed"
    },
    "tags": []
   },
   "outputs": [
    {
     "name": "stdout",
     "output_type": "stream",
     "text": [
      "Extra Mushroom  no  yes\n",
      "Price                  \n",
      "500              1    0\n",
      "550              0    1\n",
      "600              1    1\n",
      "650              1    1\n",
      "700              5    1\n",
      "750              1    2\n",
      "800              0    1\n",
      "900              0    2\n",
      "950              0    1\n",
      "1000             0    1\n"
     ]
    },
    {
     "data": {
      "image/png": "[encoded data removed]",
      "text/plain": [
       "<Figure size 432x288 with 1 Axes>"
      ]
     },
     "metadata": {
      "needs_background": "light"
     },
     "output_type": "display_data"
    },
    {
     "data": {
      "image/png": "[encoded data removed]",
      "text/plain": [
       "<Figure size 432x288 with 1 Axes>"
      ]
     },
     "metadata": {
      "needs_background": "light"
     },
     "output_type": "display_data"
    }
   ],
   "source": [
    "# MUSHROOM - PRIZE\n",
    "mushprice = pd.crosstab(index = df['Price'], columns = df['Extra Mushroom'])\n",
    "print(mushprice)\n",
    "mushprice.plot.bar();\n",
    "mushprice.plot.line();"
   ]
  },
  {
   "cell_type": "code",
   "execution_count": 17,
   "id": "fatal-electricity",
   "metadata": {
    "execution": {
     "iopub.execute_input": "2021-06-05T15:10:34.593412Z",
     "iopub.status.busy": "2021-06-05T15:10:34.592475Z",
     "iopub.status.idle": "2021-06-05T15:10:34.914664Z",
     "shell.execute_reply": "2021-06-05T15:10:34.914064Z",
     "shell.execute_reply.started": "2021-06-05T15:08:55.943814Z"
    },
    "papermill": {
     "duration": 0.364505,
     "end_time": "2021-06-05T15:10:34.914798",
     "exception": false,
     "start_time": "2021-06-05T15:10:34.550293",
     "status": "completed"
    },
    "tags": []
   },
   "outputs": [
    {
     "name": "stdout",
     "output_type": "stream",
     "text": [
      "Extra Spicy  no  yes\n",
      "Price               \n",
      "500           1    0\n",
      "550           1    0\n",
      "600           2    0\n",
      "650           2    0\n",
      "700           3    3\n",
      "750           2    1\n",
      "800           0    1\n",
      "900           0    2\n",
      "950           0    1\n",
      "1000          0    1\n"
     ]
    },
    {
     "data": {
      "image/png": "[encoded data removed]",
      "text/plain": [
       "<Figure size 432x288 with 1 Axes>"
      ]
     },
     "metadata": {
      "needs_background": "light"
     },
     "output_type": "display_data"
    },
    {
     "data": {
      "image/png": "[encoded data removed]",
      "text/plain": [
       "<Figure size 432x288 with 1 Axes>"
      ]
     },
     "metadata": {
      "needs_background": "light"
     },
     "output_type": "display_data"
    }
   ],
   "source": [
    "# SPICY - PRIZE\n",
    "spiceprice = pd.crosstab(index = df['Price'], columns = df['Extra Spicy'])\n",
    "print(spiceprice)\n",
    "spiceprice.plot.bar();\n",
    "spiceprice.plot.line();"
   ]
  },
  {
   "cell_type": "markdown",
   "id": "decimal-arkansas",
   "metadata": {
    "papermill": {
     "duration": 0.032553,
     "end_time": "2021-06-05T15:10:34.980114",
     "exception": false,
     "start_time": "2021-06-05T15:10:34.947561",
     "status": "completed"
    },
    "tags": []
   },
   "source": [
    "# Spliting data into Test and Training Data"
   ]
  },
  {
   "cell_type": "code",
   "execution_count": 18,
   "id": "existing-sheffield",
   "metadata": {
    "execution": {
     "iopub.execute_input": "2021-06-05T15:10:35.059237Z",
     "iopub.status.busy": "2021-06-05T15:10:35.058540Z",
     "iopub.status.idle": "2021-06-05T15:10:35.062305Z",
     "shell.execute_reply": "2021-06-05T15:10:35.062779Z",
     "shell.execute_reply.started": "2021-06-05T15:08:56.391297Z"
    },
    "papermill": {
     "duration": 0.049511,
     "end_time": "2021-06-05T15:10:35.062954",
     "exception": false,
     "start_time": "2021-06-05T15:10:35.013443",
     "status": "completed"
    },
    "tags": []
   },
   "outputs": [
    {
     "data": {
      "text/html": [
       "<div>\n",
       "<style scoped>\n",
       "    .dataframe tbody tr th:only-of-type {\n",
       "        vertical-align: middle;\n",
       "    }\n",
       "\n",
       "    .dataframe tbody tr th {\n",
       "        vertical-align: top;\n",
       "    }\n",
       "\n",
       "    .dataframe thead th {\n",
       "        text-align: right;\n",
       "    }\n",
       "</style>\n",
       "<table border=\"1\" class=\"dataframe\">\n",
       "  <thead>\n",
       "    <tr style=\"text-align: right;\">\n",
       "      <th></th>\n",
       "      <th>Restaurant</th>\n",
       "      <th>Extra Cheeze</th>\n",
       "      <th>Extra Mushroom</th>\n",
       "      <th>Size by Inch</th>\n",
       "      <th>Extra Spicy</th>\n",
       "      <th>Price</th>\n",
       "    </tr>\n",
       "  </thead>\n",
       "  <tbody>\n",
       "    <tr>\n",
       "      <th>0</th>\n",
       "      <td>A</td>\n",
       "      <td>1</td>\n",
       "      <td>1</td>\n",
       "      <td>12</td>\n",
       "      <td>0</td>\n",
       "      <td>650</td>\n",
       "    </tr>\n",
       "    <tr>\n",
       "      <th>1</th>\n",
       "      <td>B</td>\n",
       "      <td>0</td>\n",
       "      <td>1</td>\n",
       "      <td>15</td>\n",
       "      <td>1</td>\n",
       "      <td>800</td>\n",
       "    </tr>\n",
       "    <tr>\n",
       "      <th>2</th>\n",
       "      <td>C</td>\n",
       "      <td>0</td>\n",
       "      <td>0</td>\n",
       "      <td>9</td>\n",
       "      <td>0</td>\n",
       "      <td>500</td>\n",
       "    </tr>\n",
       "    <tr>\n",
       "      <th>3</th>\n",
       "      <td>D</td>\n",
       "      <td>1</td>\n",
       "      <td>0</td>\n",
       "      <td>12</td>\n",
       "      <td>1</td>\n",
       "      <td>700</td>\n",
       "    </tr>\n",
       "    <tr>\n",
       "      <th>4</th>\n",
       "      <td>E</td>\n",
       "      <td>1</td>\n",
       "      <td>0</td>\n",
       "      <td>12</td>\n",
       "      <td>1</td>\n",
       "      <td>750</td>\n",
       "    </tr>\n",
       "    <tr>\n",
       "      <th>5</th>\n",
       "      <td>F</td>\n",
       "      <td>0</td>\n",
       "      <td>1</td>\n",
       "      <td>15</td>\n",
       "      <td>1</td>\n",
       "      <td>900</td>\n",
       "    </tr>\n",
       "    <tr>\n",
       "      <th>6</th>\n",
       "      <td>G</td>\n",
       "      <td>1</td>\n",
       "      <td>0</td>\n",
       "      <td>9</td>\n",
       "      <td>0</td>\n",
       "      <td>600</td>\n",
       "    </tr>\n",
       "    <tr>\n",
       "      <th>7</th>\n",
       "      <td>H</td>\n",
       "      <td>1</td>\n",
       "      <td>0</td>\n",
       "      <td>9</td>\n",
       "      <td>1</td>\n",
       "      <td>700</td>\n",
       "    </tr>\n",
       "    <tr>\n",
       "      <th>8</th>\n",
       "      <td>I</td>\n",
       "      <td>0</td>\n",
       "      <td>1</td>\n",
       "      <td>15</td>\n",
       "      <td>0</td>\n",
       "      <td>750</td>\n",
       "    </tr>\n",
       "    <tr>\n",
       "      <th>9</th>\n",
       "      <td>J</td>\n",
       "      <td>0</td>\n",
       "      <td>1</td>\n",
       "      <td>15</td>\n",
       "      <td>0</td>\n",
       "      <td>700</td>\n",
       "    </tr>\n",
       "    <tr>\n",
       "      <th>10</th>\n",
       "      <td>K</td>\n",
       "      <td>1</td>\n",
       "      <td>1</td>\n",
       "      <td>8</td>\n",
       "      <td>0</td>\n",
       "      <td>600</td>\n",
       "    </tr>\n",
       "    <tr>\n",
       "      <th>11</th>\n",
       "      <td>L</td>\n",
       "      <td>0</td>\n",
       "      <td>0</td>\n",
       "      <td>12</td>\n",
       "      <td>1</td>\n",
       "      <td>700</td>\n",
       "    </tr>\n",
       "    <tr>\n",
       "      <th>12</th>\n",
       "      <td>M</td>\n",
       "      <td>1</td>\n",
       "      <td>1</td>\n",
       "      <td>8</td>\n",
       "      <td>0</td>\n",
       "      <td>550</td>\n",
       "    </tr>\n",
       "    <tr>\n",
       "      <th>13</th>\n",
       "      <td>N</td>\n",
       "      <td>1</td>\n",
       "      <td>1</td>\n",
       "      <td>12</td>\n",
       "      <td>1</td>\n",
       "      <td>900</td>\n",
       "    </tr>\n",
       "    <tr>\n",
       "      <th>14</th>\n",
       "      <td>O</td>\n",
       "      <td>1</td>\n",
       "      <td>0</td>\n",
       "      <td>12</td>\n",
       "      <td>0</td>\n",
       "      <td>700</td>\n",
       "    </tr>\n",
       "    <tr>\n",
       "      <th>15</th>\n",
       "      <td>P</td>\n",
       "      <td>1</td>\n",
       "      <td>1</td>\n",
       "      <td>12</td>\n",
       "      <td>0</td>\n",
       "      <td>750</td>\n",
       "    </tr>\n",
       "    <tr>\n",
       "      <th>16</th>\n",
       "      <td>Q</td>\n",
       "      <td>0</td>\n",
       "      <td>1</td>\n",
       "      <td>15</td>\n",
       "      <td>1</td>\n",
       "      <td>1000</td>\n",
       "    </tr>\n",
       "    <tr>\n",
       "      <th>17</th>\n",
       "      <td>R</td>\n",
       "      <td>0</td>\n",
       "      <td>0</td>\n",
       "      <td>9</td>\n",
       "      <td>0</td>\n",
       "      <td>650</td>\n",
       "    </tr>\n",
       "    <tr>\n",
       "      <th>18</th>\n",
       "      <td>S</td>\n",
       "      <td>1</td>\n",
       "      <td>1</td>\n",
       "      <td>12</td>\n",
       "      <td>1</td>\n",
       "      <td>950</td>\n",
       "    </tr>\n",
       "    <tr>\n",
       "      <th>19</th>\n",
       "      <td>T</td>\n",
       "      <td>1</td>\n",
       "      <td>0</td>\n",
       "      <td>9</td>\n",
       "      <td>0</td>\n",
       "      <td>700</td>\n",
       "    </tr>\n",
       "  </tbody>\n",
       "</table>\n",
       "</div>"
      ],
      "text/plain": [
       "   Restaurant  Extra Cheeze  Extra Mushroom   Size by Inch  Extra Spicy  Price\n",
       "0           A             1               1             12            0    650\n",
       "1           B             0               1             15            1    800\n",
       "2           C             0               0              9            0    500\n",
       "3           D             1               0             12            1    700\n",
       "4           E             1               0             12            1    750\n",
       "5           F             0               1             15            1    900\n",
       "6           G             1               0              9            0    600\n",
       "7           H             1               0              9            1    700\n",
       "8           I             0               1             15            0    750\n",
       "9           J             0               1             15            0    700\n",
       "10          K             1               1              8            0    600\n",
       "11          L             0               0             12            1    700\n",
       "12          M             1               1              8            0    550\n",
       "13          N             1               1             12            1    900\n",
       "14          O             1               0             12            0    700\n",
       "15          P             1               1             12            0    750\n",
       "16          Q             0               1             15            1   1000\n",
       "17          R             0               0              9            0    650\n",
       "18          S             1               1             12            1    950\n",
       "19          T             1               0              9            0    700"
      ]
     },
     "execution_count": 18,
     "metadata": {},
     "output_type": "execute_result"
    }
   ],
   "source": [
    "# Replacing YES/NO to 0/1 in data\n",
    "df.replace(('yes', 'no'), (1, 0), inplace=True)\n",
    "df"
   ]
  },
  {
   "cell_type": "code",
   "execution_count": 19,
   "id": "choice-diary",
   "metadata": {
    "execution": {
     "iopub.execute_input": "2021-06-05T15:10:35.151632Z",
     "iopub.status.busy": "2021-06-05T15:10:35.151036Z",
     "iopub.status.idle": "2021-06-05T15:10:35.156380Z",
     "shell.execute_reply": "2021-06-05T15:10:35.155827Z",
     "shell.execute_reply.started": "2021-06-05T15:08:56.411360Z"
    },
    "papermill": {
     "duration": 0.059498,
     "end_time": "2021-06-05T15:10:35.156508",
     "exception": false,
     "start_time": "2021-06-05T15:10:35.097010",
     "status": "completed"
    },
    "tags": []
   },
   "outputs": [
    {
     "data": {
      "text/html": [
       "<style  type=\"text/css\" >\n",
       "#T_0af1e_row0_col0,#T_0af1e_row1_col1,#T_0af1e_row2_col2,#T_0af1e_row3_col3,#T_0af1e_row4_col4{\n",
       "            background-color:  #00441b;\n",
       "            color:  #f1f1f1;\n",
       "        }#T_0af1e_row0_col1,#T_0af1e_row0_col2,#T_0af1e_row0_col3,#T_0af1e_row0_col4,#T_0af1e_row2_col0{\n",
       "            background-color:  #f7fcf5;\n",
       "            color:  #000000;\n",
       "        }#T_0af1e_row1_col0{\n",
       "            background-color:  #c6e8bf;\n",
       "            color:  #000000;\n",
       "        }#T_0af1e_row1_col2{\n",
       "            background-color:  #3ba458;\n",
       "            color:  #000000;\n",
       "        }#T_0af1e_row1_col3{\n",
       "            background-color:  #ebf7e7;\n",
       "            color:  #000000;\n",
       "        }#T_0af1e_row1_col4{\n",
       "            background-color:  #72c375;\n",
       "            color:  #000000;\n",
       "        }#T_0af1e_row2_col1{\n",
       "            background-color:  #68be70;\n",
       "            color:  #000000;\n",
       "        }#T_0af1e_row2_col3{\n",
       "            background-color:  #88ce87;\n",
       "            color:  #000000;\n",
       "        }#T_0af1e_row2_col4{\n",
       "            background-color:  #2a924a;\n",
       "            color:  #000000;\n",
       "        }#T_0af1e_row3_col0{\n",
       "            background-color:  #bde5b6;\n",
       "            color:  #000000;\n",
       "        }#T_0af1e_row3_col1{\n",
       "            background-color:  #e6f5e1;\n",
       "            color:  #000000;\n",
       "        }#T_0af1e_row3_col2{\n",
       "            background-color:  #4bb062;\n",
       "            color:  #000000;\n",
       "        }#T_0af1e_row3_col4{\n",
       "            background-color:  #2b934b;\n",
       "            color:  #000000;\n",
       "        }#T_0af1e_row4_col0{\n",
       "            background-color:  #c9eac2;\n",
       "            color:  #000000;\n",
       "        }#T_0af1e_row4_col1{\n",
       "            background-color:  #76c578;\n",
       "            color:  #000000;\n",
       "        }#T_0af1e_row4_col2{\n",
       "            background-color:  #17813d;\n",
       "            color:  #f1f1f1;\n",
       "        }#T_0af1e_row4_col3{\n",
       "            background-color:  #2f974e;\n",
       "            color:  #000000;\n",
       "        }</style><table id=\"T_0af1e_\" ><thead>    <tr>        <th class=\"blank level0\" ></th>        <th class=\"col_heading level0 col0\" >Extra Cheeze</th>        <th class=\"col_heading level0 col1\" >Extra Mushroom</th>        <th class=\"col_heading level0 col2\" > Size by Inch</th>        <th class=\"col_heading level0 col3\" >Extra Spicy</th>        <th class=\"col_heading level0 col4\" >Price</th>    </tr></thead><tbody>\n",
       "                <tr>\n",
       "                        <th id=\"T_0af1e_level0_row0\" class=\"row_heading level0 row0\" >Extra Cheeze</th>\n",
       "                        <td id=\"T_0af1e_row0_col0\" class=\"data row0 col0\" >1.000</td>\n",
       "                        <td id=\"T_0af1e_row0_col1\" class=\"data row0 col1\" >-0.123</td>\n",
       "                        <td id=\"T_0af1e_row0_col2\" class=\"data row0 col2\" >-0.511</td>\n",
       "                        <td id=\"T_0af1e_row0_col3\" class=\"data row0 col3\" >-0.082</td>\n",
       "                        <td id=\"T_0af1e_row0_col4\" class=\"data row0 col4\" >-0.145</td>\n",
       "            </tr>\n",
       "            <tr>\n",
       "                        <th id=\"T_0af1e_level0_row1\" class=\"row_heading level0 row1\" >Extra Mushroom</th>\n",
       "                        <td id=\"T_0af1e_row1_col0\" class=\"data row1 col0\" >-0.123</td>\n",
       "                        <td id=\"T_0af1e_row1_col1\" class=\"data row1 col1\" >1.000</td>\n",
       "                        <td id=\"T_0af1e_row1_col2\" class=\"data row1 col2\" >0.470</td>\n",
       "                        <td id=\"T_0af1e_row1_col3\" class=\"data row1 col3\" >0.010</td>\n",
       "                        <td id=\"T_0af1e_row1_col4\" class=\"data row1 col4\" >0.433</td>\n",
       "            </tr>\n",
       "            <tr>\n",
       "                        <th id=\"T_0af1e_level0_row2\" class=\"row_heading level0 row2\" > Size by Inch</th>\n",
       "                        <td id=\"T_0af1e_row2_col0\" class=\"data row2 col0\" >-0.511</td>\n",
       "                        <td id=\"T_0af1e_row2_col1\" class=\"data row2 col1\" >0.470</td>\n",
       "                        <td id=\"T_0af1e_row2_col2\" class=\"data row2 col2\" >1.000</td>\n",
       "                        <td id=\"T_0af1e_row2_col3\" class=\"data row2 col3\" >0.396</td>\n",
       "                        <td id=\"T_0af1e_row2_col4\" class=\"data row2 col4\" >0.682</td>\n",
       "            </tr>\n",
       "            <tr>\n",
       "                        <th id=\"T_0af1e_level0_row3\" class=\"row_heading level0 row3\" >Extra Spicy</th>\n",
       "                        <td id=\"T_0af1e_row3_col0\" class=\"data row3 col0\" >-0.082</td>\n",
       "                        <td id=\"T_0af1e_row3_col1\" class=\"data row3 col1\" >0.010</td>\n",
       "                        <td id=\"T_0af1e_row3_col2\" class=\"data row3 col2\" >0.396</td>\n",
       "                        <td id=\"T_0af1e_row3_col3\" class=\"data row3 col3\" >1.000</td>\n",
       "                        <td id=\"T_0af1e_row3_col4\" class=\"data row3 col4\" >0.675</td>\n",
       "            </tr>\n",
       "            <tr>\n",
       "                        <th id=\"T_0af1e_level0_row4\" class=\"row_heading level0 row4\" >Price</th>\n",
       "                        <td id=\"T_0af1e_row4_col0\" class=\"data row4 col0\" >-0.145</td>\n",
       "                        <td id=\"T_0af1e_row4_col1\" class=\"data row4 col1\" >0.433</td>\n",
       "                        <td id=\"T_0af1e_row4_col2\" class=\"data row4 col2\" >0.682</td>\n",
       "                        <td id=\"T_0af1e_row4_col3\" class=\"data row4 col3\" >0.675</td>\n",
       "                        <td id=\"T_0af1e_row4_col4\" class=\"data row4 col4\" >1.000</td>\n",
       "            </tr>\n",
       "    </tbody></table>"
      ],
      "text/plain": [
       "<pandas.io.formats.style.Styler at 0x7f6fcd1e08d0>"
      ]
     },
     "execution_count": 19,
     "metadata": {},
     "output_type": "execute_result"
    }
   ],
   "source": [
    "corr = df.corr()\n",
    "corr.style.background_gradient(cmap='Greens')"
   ]
  },
  {
   "cell_type": "code",
   "execution_count": 20,
   "id": "thermal-minneapolis",
   "metadata": {
    "execution": {
     "iopub.execute_input": "2021-06-05T15:10:35.229175Z",
     "iopub.status.busy": "2021-06-05T15:10:35.228528Z",
     "iopub.status.idle": "2021-06-05T15:10:35.231676Z",
     "shell.execute_reply": "2021-06-05T15:10:35.231239Z",
     "shell.execute_reply.started": "2021-06-05T15:08:56.442506Z"
    },
    "papermill": {
     "duration": 0.041974,
     "end_time": "2021-06-05T15:10:35.231808",
     "exception": false,
     "start_time": "2021-06-05T15:10:35.189834",
     "status": "completed"
    },
    "tags": []
   },
   "outputs": [],
   "source": [
    "# Getting Features\n",
    "features = ['Extra Cheeze', 'Extra Mushroom', 'Extra Spicy', ' Size by Inch']\n",
    "x = df[features]\n",
    "\n",
    "# Predicting Value\n",
    "y = df['Price']"
   ]
  },
  {
   "cell_type": "code",
   "execution_count": 21,
   "id": "geological-cylinder",
   "metadata": {
    "execution": {
     "iopub.execute_input": "2021-06-05T15:10:35.303390Z",
     "iopub.status.busy": "2021-06-05T15:10:35.302788Z",
     "iopub.status.idle": "2021-06-05T15:10:35.509948Z",
     "shell.execute_reply": "2021-06-05T15:10:35.509474Z",
     "shell.execute_reply.started": "2021-06-05T15:08:56.451039Z"
    },
    "papermill": {
     "duration": 0.244779,
     "end_time": "2021-06-05T15:10:35.510105",
     "exception": false,
     "start_time": "2021-06-05T15:10:35.265326",
     "status": "completed"
    },
    "tags": []
   },
   "outputs": [],
   "source": [
    "# import important liberaries\n",
    "from sklearn.model_selection import train_test_split\n",
    "\n",
    "x_train, x_test, y_train, y_test = train_test_split(x,y,test_size = 1/4, random_state = 4)\n"
   ]
  },
  {
   "cell_type": "markdown",
   "id": "mysterious-differential",
   "metadata": {
    "papermill": {
     "duration": 0.033371,
     "end_time": "2021-06-05T15:10:35.577382",
     "exception": false,
     "start_time": "2021-06-05T15:10:35.544011",
     "status": "completed"
    },
    "tags": []
   },
   "source": [
    "*** Logistic Regression ***"
   ]
  },
  {
   "cell_type": "code",
   "execution_count": 22,
   "id": "meaningful-arcade",
   "metadata": {
    "execution": {
     "iopub.execute_input": "2021-06-05T15:10:35.649571Z",
     "iopub.status.busy": "2021-06-05T15:10:35.648926Z",
     "iopub.status.idle": "2021-06-05T15:10:35.785338Z",
     "shell.execute_reply": "2021-06-05T15:10:35.784652Z",
     "shell.execute_reply.started": "2021-06-05T15:08:56.465000Z"
    },
    "papermill": {
     "duration": 0.174811,
     "end_time": "2021-06-05T15:10:35.785526",
     "exception": false,
     "start_time": "2021-06-05T15:10:35.610715",
     "status": "completed"
    },
    "tags": []
   },
   "outputs": [
    {
     "name": "stdout",
     "output_type": "stream",
     "text": [
      "Accuracy of Logistic Regression model :  0.4\n"
     ]
    },
    {
     "name": "stderr",
     "output_type": "stream",
     "text": [
      "/opt/conda/lib/python3.7/site-packages/sklearn/linear_model/_logistic.py:765: ConvergenceWarning: lbfgs failed to converge (status=1):\n",
      "STOP: TOTAL NO. of ITERATIONS REACHED LIMIT.\n",
      "\n",
      "Increase the number of iterations (max_iter) or scale the data as shown in:\n",
      "    https://scikit-learn.org/stable/modules/preprocessing.html\n",
      "Please also refer to the documentation for alternative solver options:\n",
      "    https://scikit-learn.org/stable/modules/linear_model.html#logistic-regression\n",
      "  extra_warning_msg=_LOGISTIC_SOLVER_CONVERGENCE_MSG)\n"
     ]
    }
   ],
   "source": [
    "#Import Library for Accuracy Score\n",
    "from sklearn.metrics import accuracy_score\n",
    "\n",
    "#Import Library for Logistic Regression\n",
    "from sklearn.linear_model import LogisticRegression\n",
    "\n",
    "#Initialize the Logistic Regression Classifier\n",
    "logisreg = LogisticRegression()\n",
    "\n",
    "#Train the model using Training Dataset\n",
    "logisreg.fit(x_train, y_train)\n",
    "\n",
    "# Prediction using test data\n",
    "y_pred = logisreg.predict(x_test)\n",
    "\n",
    "# Calculate Model accuracy by comparing y_test and y_pred\n",
    "acc_logisreg = accuracy_score(y_test, y_pred)\n",
    "print( 'Accuracy of Logistic Regression model : ', acc_logisreg )\n"
   ]
  },
  {
   "cell_type": "markdown",
   "id": "objective-yesterday",
   "metadata": {
    "papermill": {
     "duration": 0.033653,
     "end_time": "2021-06-05T15:10:35.854393",
     "exception": false,
     "start_time": "2021-06-05T15:10:35.820740",
     "status": "completed"
    },
    "tags": []
   },
   "source": [
    "*** Linear Discriminent Analysis ***"
   ]
  },
  {
   "cell_type": "code",
   "execution_count": 23,
   "id": "confidential-heater",
   "metadata": {
    "execution": {
     "iopub.execute_input": "2021-06-05T15:10:35.927615Z",
     "iopub.status.busy": "2021-06-05T15:10:35.926941Z",
     "iopub.status.idle": "2021-06-05T15:10:35.956612Z",
     "shell.execute_reply": "2021-06-05T15:10:35.957069Z",
     "shell.execute_reply.started": "2021-06-05T15:08:56.519141Z"
    },
    "papermill": {
     "duration": 0.068531,
     "end_time": "2021-06-05T15:10:35.957256",
     "exception": false,
     "start_time": "2021-06-05T15:10:35.888725",
     "status": "completed"
    },
    "tags": []
   },
   "outputs": [
    {
     "name": "stdout",
     "output_type": "stream",
     "text": [
      "Accuracy of Linear Discriminant Analysis Classifier:  0.2\n"
     ]
    }
   ],
   "source": [
    "#Import Library for Linear Discriminant Analysis\n",
    "from sklearn.discriminant_analysis import LinearDiscriminantAnalysis\n",
    "from sklearn.metrics import accuracy_score\n",
    "\n",
    "\n",
    "#Initialize the Linear Discriminant Analysis Classifier\n",
    "lda = LinearDiscriminantAnalysis()\n",
    "\n",
    "#Train the model using Training Dataset\n",
    "lda.fit(x_train, y_train)\n",
    "\n",
    "# Prediction using test data\n",
    "lda_pred = lda.predict(x_test)\n",
    "\n",
    "# Calculate Model accuracy by comparing y_test and lda_pred\n",
    "acc_lda = accuracy_score(y_test, lda_pred)\n",
    "print( 'Accuracy of Linear Discriminant Analysis Classifier: ', acc_lda )\n"
   ]
  },
  {
   "cell_type": "markdown",
   "id": "expired-gardening",
   "metadata": {
    "papermill": {
     "duration": 0.03442,
     "end_time": "2021-06-05T15:10:36.026040",
     "exception": false,
     "start_time": "2021-06-05T15:10:35.991620",
     "status": "completed"
    },
    "tags": []
   },
   "source": [
    "*** Gaussian Naive Bayes ***"
   ]
  },
  {
   "cell_type": "code",
   "execution_count": 24,
   "id": "still-tyler",
   "metadata": {
    "execution": {
     "iopub.execute_input": "2021-06-05T15:10:36.098873Z",
     "iopub.status.busy": "2021-06-05T15:10:36.098307Z",
     "iopub.status.idle": "2021-06-05T15:10:36.110314Z",
     "shell.execute_reply": "2021-06-05T15:10:36.109745Z",
     "shell.execute_reply.started": "2021-06-05T15:08:56.539169Z"
    },
    "papermill": {
     "duration": 0.050567,
     "end_time": "2021-06-05T15:10:36.110442",
     "exception": false,
     "start_time": "2021-06-05T15:10:36.059875",
     "status": "completed"
    },
    "tags": []
   },
   "outputs": [
    {
     "name": "stdout",
     "output_type": "stream",
     "text": [
      "Accuracy of Gaussian Naive Bayes :  0.2\n"
     ]
    }
   ],
   "source": [
    "#Import Library for Gaussian Naive Bayes\n",
    "from sklearn.naive_bayes import GaussianNB\n",
    "\n",
    "#Initialize the Gaussian Naive Bayes Classifier\n",
    "gnb = GaussianNB()\n",
    "\n",
    "#Train the model using Training Dataset\n",
    "gnb.fit(x_train, y_train)\n",
    "\n",
    "# Prediction using test data\n",
    "gnb_pred = gnb.predict(x_test)\n",
    "\n",
    "# Calculate Model accuracy by comparing y_test and gnb_pred\n",
    "acc_ganb = accuracy_score(y_test, gnb_pred)\n",
    "print( 'Accuracy of Gaussian Naive Bayes : ', acc_ganb )\n"
   ]
  },
  {
   "cell_type": "markdown",
   "id": "banner-punch",
   "metadata": {
    "papermill": {
     "duration": 0.035417,
     "end_time": "2021-06-05T15:10:36.181321",
     "exception": false,
     "start_time": "2021-06-05T15:10:36.145904",
     "status": "completed"
    },
    "tags": []
   },
   "source": [
    "*** Decision Tree Classifier ***"
   ]
  },
  {
   "cell_type": "code",
   "execution_count": 25,
   "id": "curious-budapest",
   "metadata": {
    "execution": {
     "iopub.execute_input": "2021-06-05T15:10:36.256139Z",
     "iopub.status.busy": "2021-06-05T15:10:36.255564Z",
     "iopub.status.idle": "2021-06-05T15:10:36.365797Z",
     "shell.execute_reply": "2021-06-05T15:10:36.365330Z",
     "shell.execute_reply.started": "2021-06-05T15:08:56.555938Z"
    },
    "papermill": {
     "duration": 0.149016,
     "end_time": "2021-06-05T15:10:36.365927",
     "exception": false,
     "start_time": "2021-06-05T15:10:36.216911",
     "status": "completed"
    },
    "tags": []
   },
   "outputs": [
    {
     "name": "stdout",
     "output_type": "stream",
     "text": [
      "Accuracy of  Decision Tree Classifier :  0.2\n"
     ]
    }
   ],
   "source": [
    "#Import Library for Decision Tree Classifier\n",
    "from sklearn.tree import DecisionTreeClassifier\n",
    "\n",
    "#Initialize the Decision Tree Classifier\n",
    "dtc = DecisionTreeClassifier()\n",
    "\n",
    "#Train the model using Training Dataset\n",
    "dtc.fit(x_train, y_train)\n",
    "\n",
    "# Prediction using test data\n",
    "dtc_pred = dtc.predict(x_test)\n",
    "\n",
    "# Calculate Model accuracy by comparing y_test and dtc_pred\n",
    "acc_dtree = accuracy_score(y_test, dtc_pred)\n",
    "print( 'Accuracy of  Decision Tree Classifier : ', acc_dtree )\n"
   ]
  },
  {
   "cell_type": "markdown",
   "id": "departmental-phrase",
   "metadata": {
    "papermill": {
     "duration": 0.034264,
     "end_time": "2021-06-05T15:10:36.434598",
     "exception": false,
     "start_time": "2021-06-05T15:10:36.400334",
     "status": "completed"
    },
    "tags": []
   },
   "source": [
    "*** Random Forest Classifier ***"
   ]
  },
  {
   "cell_type": "code",
   "execution_count": 26,
   "id": "coastal-romantic",
   "metadata": {
    "execution": {
     "iopub.execute_input": "2021-06-05T15:10:36.509261Z",
     "iopub.status.busy": "2021-06-05T15:10:36.508683Z",
     "iopub.status.idle": "2021-06-05T15:10:36.669359Z",
     "shell.execute_reply": "2021-06-05T15:10:36.668746Z",
     "shell.execute_reply.started": "2021-06-05T15:08:56.574127Z"
    },
    "papermill": {
     "duration": 0.200543,
     "end_time": "2021-06-05T15:10:36.669501",
     "exception": false,
     "start_time": "2021-06-05T15:10:36.468958",
     "status": "completed"
    },
    "tags": []
   },
   "outputs": [
    {
     "name": "stdout",
     "output_type": "stream",
     "text": [
      "Accuracy of  Random Forest :  0.2\n"
     ]
    }
   ],
   "source": [
    "#Import Library for Random Forest\n",
    "from sklearn.ensemble import RandomForestClassifier\n",
    "\n",
    "#Initialize the Random Forest\n",
    "rfc = RandomForestClassifier()\n",
    "\n",
    "#Train the model using Training Dataset\n",
    "rfc.fit(x_train, y_train)\n",
    "\n",
    "# Prediction using test data\n",
    "rfc_pred = rfc.predict(x_test)\n",
    "\n",
    "# Calculate Model accuracy by comparing y_test and rfc_pred\n",
    "acc_rf = accuracy_score(y_test, rfc_pred)\n",
    "print( 'Accuracy of  Random Forest : ', acc_rf )\n"
   ]
  },
  {
   "cell_type": "markdown",
   "id": "induced-formula",
   "metadata": {
    "papermill": {
     "duration": 0.034817,
     "end_time": "2021-06-05T15:10:36.739970",
     "exception": false,
     "start_time": "2021-06-05T15:10:36.705153",
     "status": "completed"
    },
    "tags": []
   },
   "source": [
    "*** Support Vector Machine SVM ***"
   ]
  },
  {
   "cell_type": "code",
   "execution_count": 27,
   "id": "dependent-target",
   "metadata": {
    "execution": {
     "iopub.execute_input": "2021-06-05T15:10:36.820835Z",
     "iopub.status.busy": "2021-06-05T15:10:36.820133Z",
     "iopub.status.idle": "2021-06-05T15:10:36.823848Z",
     "shell.execute_reply": "2021-06-05T15:10:36.824285Z",
     "shell.execute_reply.started": "2021-06-05T15:08:56.773692Z"
    },
    "papermill": {
     "duration": 0.049249,
     "end_time": "2021-06-05T15:10:36.824446",
     "exception": false,
     "start_time": "2021-06-05T15:10:36.775197",
     "status": "completed"
    },
    "tags": []
   },
   "outputs": [
    {
     "name": "stdout",
     "output_type": "stream",
     "text": [
      "Accuracy of Support Vector Classifier:  0.4\n"
     ]
    }
   ],
   "source": [
    "#Import Library for Support Vector Machine\n",
    "from sklearn import svm\n",
    "\n",
    "#Initialize the Support Vector Classifier\n",
    "svmodel = svm.SVC()\n",
    "\n",
    "#Train the model using Training Dataset\n",
    "svmodel.fit(x_train, y_train)\n",
    "\n",
    "# Prediction using test data\n",
    "svm_pred = svmodel.predict(x_test)\n",
    "\n",
    "# Calculate Model accuracy by comparing y_test and svm_pred\n",
    "acc_svc = accuracy_score(y_test, svm_pred)\n",
    "print( 'Accuracy of Support Vector Classifier: ', acc_svc )\n"
   ]
  },
  {
   "cell_type": "markdown",
   "id": "short-thomson",
   "metadata": {
    "papermill": {
     "duration": 0.035089,
     "end_time": "2021-06-05T15:10:36.894750",
     "exception": false,
     "start_time": "2021-06-05T15:10:36.859661",
     "status": "completed"
    },
    "tags": []
   },
   "source": [
    "*** K Nearest Neighbour Classifier ***"
   ]
  },
  {
   "cell_type": "code",
   "execution_count": 28,
   "id": "trying-movement",
   "metadata": {
    "execution": {
     "iopub.execute_input": "2021-06-05T15:10:36.971790Z",
     "iopub.status.busy": "2021-06-05T15:10:36.971162Z",
     "iopub.status.idle": "2021-06-05T15:10:36.978445Z",
     "shell.execute_reply": "2021-06-05T15:10:36.978856Z",
     "shell.execute_reply.started": "2021-06-05T15:08:56.785347Z"
    },
    "papermill": {
     "duration": 0.049086,
     "end_time": "2021-06-05T15:10:36.979009",
     "exception": false,
     "start_time": "2021-06-05T15:10:36.929923",
     "status": "completed"
    },
    "tags": []
   },
   "outputs": [
    {
     "name": "stdout",
     "output_type": "stream",
     "text": [
      "Accuracy of KNN Classifier:  0.2\n"
     ]
    }
   ],
   "source": [
    "#Import Library for K Nearest Neighbour Model\n",
    "from sklearn.neighbors import KNeighborsClassifier\n",
    "\n",
    "#Initialize the K Nearest Neighbour Model with Default Value of K=5\n",
    "knnmodel = KNeighborsClassifier()\n",
    "\n",
    "#Train the model using Training Dataset\n",
    "knnmodel.fit(x_train, y_train)\n",
    "\n",
    "# Prediction using test data\n",
    "knn_pred = knnmodel.predict(x_test)\n",
    "\n",
    "# Calculate Model accuracy by comparing y_test and knn_pred\n",
    "acc_knn = accuracy_score(y_test, knn_pred)\n",
    "print( 'Accuracy of KNN Classifier: ', acc_knn )\n"
   ]
  },
  {
   "cell_type": "markdown",
   "id": "latin-medicare",
   "metadata": {
    "papermill": {
     "duration": 0.035112,
     "end_time": "2021-06-05T15:10:37.049356",
     "exception": false,
     "start_time": "2021-06-05T15:10:37.014244",
     "status": "completed"
    },
    "tags": []
   },
   "source": [
    "# Model Selection"
   ]
  },
  {
   "cell_type": "code",
   "execution_count": 29,
   "id": "criminal-marathon",
   "metadata": {
    "execution": {
     "iopub.execute_input": "2021-06-05T15:10:37.123577Z",
     "iopub.status.busy": "2021-06-05T15:10:37.122990Z",
     "iopub.status.idle": "2021-06-05T15:10:37.134502Z",
     "shell.execute_reply": "2021-06-05T15:10:37.134885Z",
     "shell.execute_reply.started": "2021-06-05T15:08:56.811535Z"
    },
    "papermill": {
     "duration": 0.050796,
     "end_time": "2021-06-05T15:10:37.135046",
     "exception": false,
     "start_time": "2021-06-05T15:10:37.084250",
     "status": "completed"
    },
    "tags": []
   },
   "outputs": [
    {
     "data": {
      "text/html": [
       "<div>\n",
       "<style scoped>\n",
       "    .dataframe tbody tr th:only-of-type {\n",
       "        vertical-align: middle;\n",
       "    }\n",
       "\n",
       "    .dataframe tbody tr th {\n",
       "        vertical-align: top;\n",
       "    }\n",
       "\n",
       "    .dataframe thead th {\n",
       "        text-align: right;\n",
       "    }\n",
       "</style>\n",
       "<table border=\"1\" class=\"dataframe\">\n",
       "  <thead>\n",
       "    <tr style=\"text-align: right;\">\n",
       "      <th></th>\n",
       "      <th>Model</th>\n",
       "      <th>Score</th>\n",
       "    </tr>\n",
       "  </thead>\n",
       "  <tbody>\n",
       "    <tr>\n",
       "      <th>0</th>\n",
       "      <td>Logistic Regression</td>\n",
       "      <td>0.4</td>\n",
       "    </tr>\n",
       "    <tr>\n",
       "      <th>5</th>\n",
       "      <td>Support Vector Machines</td>\n",
       "      <td>0.4</td>\n",
       "    </tr>\n",
       "    <tr>\n",
       "      <th>1</th>\n",
       "      <td>Linear Discriminant Analysis</td>\n",
       "      <td>0.2</td>\n",
       "    </tr>\n",
       "    <tr>\n",
       "      <th>2</th>\n",
       "      <td>Naive Bayes</td>\n",
       "      <td>0.2</td>\n",
       "    </tr>\n",
       "    <tr>\n",
       "      <th>3</th>\n",
       "      <td>Decision Tree</td>\n",
       "      <td>0.2</td>\n",
       "    </tr>\n",
       "    <tr>\n",
       "      <th>4</th>\n",
       "      <td>Random Forest</td>\n",
       "      <td>0.2</td>\n",
       "    </tr>\n",
       "    <tr>\n",
       "      <th>6</th>\n",
       "      <td>K - Nearest Neighbors</td>\n",
       "      <td>0.2</td>\n",
       "    </tr>\n",
       "  </tbody>\n",
       "</table>\n",
       "</div>"
      ],
      "text/plain": [
       "                          Model  Score\n",
       "0           Logistic Regression    0.4\n",
       "5       Support Vector Machines    0.4\n",
       "1  Linear Discriminant Analysis    0.2\n",
       "2                   Naive Bayes    0.2\n",
       "3                 Decision Tree    0.2\n",
       "4                 Random Forest    0.2\n",
       "6         K - Nearest Neighbors    0.2"
      ]
     },
     "execution_count": 29,
     "metadata": {},
     "output_type": "execute_result"
    }
   ],
   "source": [
    "models = pd.DataFrame({\n",
    "    'Model': ['Logistic Regression','Linear Discriminant Analysis','Naive Bayes', 'Decision Tree', 'Random Forest', 'Support Vector Machines', \n",
    "              'K - Nearest Neighbors'],\n",
    "    'Score': [acc_logisreg, acc_lda, acc_ganb, acc_dtree, acc_rf, acc_svc, acc_knn]})\n",
    "\n",
    "models.sort_values(by='Score', ascending=False)\n"
   ]
  },
  {
   "cell_type": "code",
   "execution_count": 30,
   "id": "entertaining-identifier",
   "metadata": {
    "execution": {
     "iopub.execute_input": "2021-06-05T15:10:37.231668Z",
     "iopub.status.busy": "2021-06-05T15:10:37.230326Z",
     "iopub.status.idle": "2021-06-05T15:10:37.238410Z",
     "shell.execute_reply": "2021-06-05T15:10:37.237814Z",
     "shell.execute_reply.started": "2021-06-05T15:08:56.832043Z"
    },
    "papermill": {
     "duration": 0.06752,
     "end_time": "2021-06-05T15:10:37.238553",
     "exception": false,
     "start_time": "2021-06-05T15:10:37.171033",
     "status": "completed"
    },
    "tags": []
   },
   "outputs": [
    {
     "name": "stdout",
     "output_type": "stream",
     "text": [
      "Price Predictions using Logistic Regression Model:  [700]\n",
      "Price Predictions using LDA Model:  [700]\n",
      "Price Predictions using Gaussian Naive Bayes Model:  [700]\n",
      "Price Predictions using Decision Tree Model:  [750]\n",
      "Price Predictions using Random Forest Model:  [750]\n",
      "Price Predictions using SVM Model:  [700]\n",
      "Price Predictions using KNN Model:  [700]\n"
     ]
    }
   ],
   "source": [
    "# Predictions through THe upstaed MOdels\n",
    "print('Price Predictions using Logistic Regression Model: ', logisreg.predict([[1,0,1,11]]))\n",
    "\n",
    "print('Price Predictions using LDA Model: ', lda.predict([[1,0,1,11]]))\n",
    "\n",
    "print('Price Predictions using Gaussian Naive Bayes Model: ', gnb.predict([[1,0,1,11]]))\n",
    "\n",
    "print('Price Predictions using Decision Tree Model: ', dtc.predict([[1,0,1,11]]))\n",
    "\n",
    "print('Price Predictions using Random Forest Model: ', rfc.predict([[1,0,1,11]]))\n",
    "\n",
    "print('Price Predictions using SVM Model: ', svmodel.predict([[1,0,1,11]]))\n",
    "\n",
    "print('Price Predictions using KNN Model: ', knnmodel.predict([[1,0,1,11]]))"
   ]
  }
 ],
 "metadata": {
  "kernelspec": {
   "display_name": "Python 3",
   "language": "python",
   "name": "python3"
  },
  "language_info": {
   "codemirror_mode": {
    "name": "ipython",
    "version": 3
   },
   "file_extension": ".py",
   "mimetype": "text/x-python",
   "name": "python",
   "nbconvert_exporter": "python",
   "pygments_lexer": "ipython3",
   "version": "3.7.10"
  },
  "papermill": {
   "default_parameters": {},
   "duration": 14.898062,
   "end_time": "2021-06-05T15:10:38.700760",
   "environment_variables": {},
   "exception": null,
   "input_path": "__notebook__.ipynb",
   "output_path": "__notebook__.ipynb",
   "parameters": {},
   "start_time": "2021-06-05T15:10:23.802698",
   "version": "2.3.3"
  }
 },
 "nbformat": 4,
 "nbformat_minor": 5
}
