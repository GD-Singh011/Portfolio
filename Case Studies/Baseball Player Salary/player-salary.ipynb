{
 "cells": [
  {
   "cell_type": "code",
   "execution_count": 1,
   "id": "documentary-player",
   "metadata": {
    "execution": {
     "iopub.execute_input": "2021-06-05T18:06:59.443775Z",
     "iopub.status.busy": "2021-06-05T18:06:59.442635Z",
     "iopub.status.idle": "2021-06-05T18:07:00.644823Z",
     "shell.execute_reply": "2021-06-05T18:07:00.645486Z",
     "shell.execute_reply.started": "2021-06-05T18:03:45.918715Z"
    },
    "papermill": {
     "duration": 1.25957,
     "end_time": "2021-06-05T18:07:00.645900",
     "exception": false,
     "start_time": "2021-06-05T18:06:59.386330",
     "status": "completed"
    },
    "tags": []
   },
   "outputs": [],
   "source": [
    "#importing important liberaries\n",
    "\n",
    "import pandas as pd \n",
    "import numpy as np \n",
    "import matplotlib.pyplot as plt \n",
    "import seaborn as sns\n",
    "from sklearn import model_selection\n",
    "from sklearn.linear_model import Ridge, RidgeCV, Lasso, LassoCV\n",
    "from sklearn.metrics import mean_squared_error\n",
    "from sklearn.preprocessing import StandardScaler"
   ]
  },
  {
   "cell_type": "code",
   "execution_count": 2,
   "id": "dirty-polls",
   "metadata": {
    "execution": {
     "iopub.execute_input": "2021-06-05T18:07:00.772782Z",
     "iopub.status.busy": "2021-06-05T18:07:00.771888Z",
     "iopub.status.idle": "2021-06-05T18:07:00.853233Z",
     "shell.execute_reply": "2021-06-05T18:07:00.853733Z",
     "shell.execute_reply.started": "2021-06-05T18:03:45.931210Z"
    },
    "papermill": {
     "duration": 0.15062,
     "end_time": "2021-06-05T18:07:00.853901",
     "exception": false,
     "start_time": "2021-06-05T18:07:00.703281",
     "status": "completed"
    },
    "tags": []
   },
   "outputs": [
    {
     "data": {
      "text/html": [
       "<div>\n",
       "<style scoped>\n",
       "    .dataframe tbody tr th:only-of-type {\n",
       "        vertical-align: middle;\n",
       "    }\n",
       "\n",
       "    .dataframe tbody tr th {\n",
       "        vertical-align: top;\n",
       "    }\n",
       "\n",
       "    .dataframe thead th {\n",
       "        text-align: right;\n",
       "    }\n",
       "</style>\n",
       "<table border=\"1\" class=\"dataframe\">\n",
       "  <thead>\n",
       "    <tr style=\"text-align: right;\">\n",
       "      <th></th>\n",
       "      <th>Unnamed: 0</th>\n",
       "      <th>AtBat</th>\n",
       "      <th>Hits</th>\n",
       "      <th>HmRun</th>\n",
       "      <th>Runs</th>\n",
       "      <th>RBI</th>\n",
       "      <th>Walks</th>\n",
       "      <th>Years</th>\n",
       "      <th>CAtBat</th>\n",
       "      <th>CHits</th>\n",
       "      <th>...</th>\n",
       "      <th>CRuns</th>\n",
       "      <th>CRBI</th>\n",
       "      <th>CWalks</th>\n",
       "      <th>League</th>\n",
       "      <th>Division</th>\n",
       "      <th>PutOuts</th>\n",
       "      <th>Assists</th>\n",
       "      <th>Errors</th>\n",
       "      <th>Salary</th>\n",
       "      <th>NewLeague</th>\n",
       "    </tr>\n",
       "  </thead>\n",
       "  <tbody>\n",
       "    <tr>\n",
       "      <th>0</th>\n",
       "      <td>-Andy Allanson</td>\n",
       "      <td>293</td>\n",
       "      <td>66</td>\n",
       "      <td>1</td>\n",
       "      <td>30</td>\n",
       "      <td>29</td>\n",
       "      <td>14</td>\n",
       "      <td>1</td>\n",
       "      <td>293</td>\n",
       "      <td>66</td>\n",
       "      <td>...</td>\n",
       "      <td>30</td>\n",
       "      <td>29</td>\n",
       "      <td>14</td>\n",
       "      <td>A</td>\n",
       "      <td>E</td>\n",
       "      <td>446</td>\n",
       "      <td>33</td>\n",
       "      <td>20</td>\n",
       "      <td>NaN</td>\n",
       "      <td>A</td>\n",
       "    </tr>\n",
       "    <tr>\n",
       "      <th>1</th>\n",
       "      <td>-Alan Ashby</td>\n",
       "      <td>315</td>\n",
       "      <td>81</td>\n",
       "      <td>7</td>\n",
       "      <td>24</td>\n",
       "      <td>38</td>\n",
       "      <td>39</td>\n",
       "      <td>14</td>\n",
       "      <td>3449</td>\n",
       "      <td>835</td>\n",
       "      <td>...</td>\n",
       "      <td>321</td>\n",
       "      <td>414</td>\n",
       "      <td>375</td>\n",
       "      <td>N</td>\n",
       "      <td>W</td>\n",
       "      <td>632</td>\n",
       "      <td>43</td>\n",
       "      <td>10</td>\n",
       "      <td>475.0</td>\n",
       "      <td>N</td>\n",
       "    </tr>\n",
       "    <tr>\n",
       "      <th>2</th>\n",
       "      <td>-Alvin Davis</td>\n",
       "      <td>479</td>\n",
       "      <td>130</td>\n",
       "      <td>18</td>\n",
       "      <td>66</td>\n",
       "      <td>72</td>\n",
       "      <td>76</td>\n",
       "      <td>3</td>\n",
       "      <td>1624</td>\n",
       "      <td>457</td>\n",
       "      <td>...</td>\n",
       "      <td>224</td>\n",
       "      <td>266</td>\n",
       "      <td>263</td>\n",
       "      <td>A</td>\n",
       "      <td>W</td>\n",
       "      <td>880</td>\n",
       "      <td>82</td>\n",
       "      <td>14</td>\n",
       "      <td>480.0</td>\n",
       "      <td>A</td>\n",
       "    </tr>\n",
       "    <tr>\n",
       "      <th>3</th>\n",
       "      <td>-Andre Dawson</td>\n",
       "      <td>496</td>\n",
       "      <td>141</td>\n",
       "      <td>20</td>\n",
       "      <td>65</td>\n",
       "      <td>78</td>\n",
       "      <td>37</td>\n",
       "      <td>11</td>\n",
       "      <td>5628</td>\n",
       "      <td>1575</td>\n",
       "      <td>...</td>\n",
       "      <td>828</td>\n",
       "      <td>838</td>\n",
       "      <td>354</td>\n",
       "      <td>N</td>\n",
       "      <td>E</td>\n",
       "      <td>200</td>\n",
       "      <td>11</td>\n",
       "      <td>3</td>\n",
       "      <td>500.0</td>\n",
       "      <td>N</td>\n",
       "    </tr>\n",
       "    <tr>\n",
       "      <th>4</th>\n",
       "      <td>-Andres Galarraga</td>\n",
       "      <td>321</td>\n",
       "      <td>87</td>\n",
       "      <td>10</td>\n",
       "      <td>39</td>\n",
       "      <td>42</td>\n",
       "      <td>30</td>\n",
       "      <td>2</td>\n",
       "      <td>396</td>\n",
       "      <td>101</td>\n",
       "      <td>...</td>\n",
       "      <td>48</td>\n",
       "      <td>46</td>\n",
       "      <td>33</td>\n",
       "      <td>N</td>\n",
       "      <td>E</td>\n",
       "      <td>805</td>\n",
       "      <td>40</td>\n",
       "      <td>4</td>\n",
       "      <td>91.5</td>\n",
       "      <td>N</td>\n",
       "    </tr>\n",
       "    <tr>\n",
       "      <th>...</th>\n",
       "      <td>...</td>\n",
       "      <td>...</td>\n",
       "      <td>...</td>\n",
       "      <td>...</td>\n",
       "      <td>...</td>\n",
       "      <td>...</td>\n",
       "      <td>...</td>\n",
       "      <td>...</td>\n",
       "      <td>...</td>\n",
       "      <td>...</td>\n",
       "      <td>...</td>\n",
       "      <td>...</td>\n",
       "      <td>...</td>\n",
       "      <td>...</td>\n",
       "      <td>...</td>\n",
       "      <td>...</td>\n",
       "      <td>...</td>\n",
       "      <td>...</td>\n",
       "      <td>...</td>\n",
       "      <td>...</td>\n",
       "      <td>...</td>\n",
       "    </tr>\n",
       "    <tr>\n",
       "      <th>317</th>\n",
       "      <td>-Willie McGee</td>\n",
       "      <td>497</td>\n",
       "      <td>127</td>\n",
       "      <td>7</td>\n",
       "      <td>65</td>\n",
       "      <td>48</td>\n",
       "      <td>37</td>\n",
       "      <td>5</td>\n",
       "      <td>2703</td>\n",
       "      <td>806</td>\n",
       "      <td>...</td>\n",
       "      <td>379</td>\n",
       "      <td>311</td>\n",
       "      <td>138</td>\n",
       "      <td>N</td>\n",
       "      <td>E</td>\n",
       "      <td>325</td>\n",
       "      <td>9</td>\n",
       "      <td>3</td>\n",
       "      <td>700.0</td>\n",
       "      <td>N</td>\n",
       "    </tr>\n",
       "    <tr>\n",
       "      <th>318</th>\n",
       "      <td>-Willie Randolph</td>\n",
       "      <td>492</td>\n",
       "      <td>136</td>\n",
       "      <td>5</td>\n",
       "      <td>76</td>\n",
       "      <td>50</td>\n",
       "      <td>94</td>\n",
       "      <td>12</td>\n",
       "      <td>5511</td>\n",
       "      <td>1511</td>\n",
       "      <td>...</td>\n",
       "      <td>897</td>\n",
       "      <td>451</td>\n",
       "      <td>875</td>\n",
       "      <td>A</td>\n",
       "      <td>E</td>\n",
       "      <td>313</td>\n",
       "      <td>381</td>\n",
       "      <td>20</td>\n",
       "      <td>875.0</td>\n",
       "      <td>A</td>\n",
       "    </tr>\n",
       "    <tr>\n",
       "      <th>319</th>\n",
       "      <td>-Wayne Tolleson</td>\n",
       "      <td>475</td>\n",
       "      <td>126</td>\n",
       "      <td>3</td>\n",
       "      <td>61</td>\n",
       "      <td>43</td>\n",
       "      <td>52</td>\n",
       "      <td>6</td>\n",
       "      <td>1700</td>\n",
       "      <td>433</td>\n",
       "      <td>...</td>\n",
       "      <td>217</td>\n",
       "      <td>93</td>\n",
       "      <td>146</td>\n",
       "      <td>A</td>\n",
       "      <td>W</td>\n",
       "      <td>37</td>\n",
       "      <td>113</td>\n",
       "      <td>7</td>\n",
       "      <td>385.0</td>\n",
       "      <td>A</td>\n",
       "    </tr>\n",
       "    <tr>\n",
       "      <th>320</th>\n",
       "      <td>-Willie Upshaw</td>\n",
       "      <td>573</td>\n",
       "      <td>144</td>\n",
       "      <td>9</td>\n",
       "      <td>85</td>\n",
       "      <td>60</td>\n",
       "      <td>78</td>\n",
       "      <td>8</td>\n",
       "      <td>3198</td>\n",
       "      <td>857</td>\n",
       "      <td>...</td>\n",
       "      <td>470</td>\n",
       "      <td>420</td>\n",
       "      <td>332</td>\n",
       "      <td>A</td>\n",
       "      <td>E</td>\n",
       "      <td>1314</td>\n",
       "      <td>131</td>\n",
       "      <td>12</td>\n",
       "      <td>960.0</td>\n",
       "      <td>A</td>\n",
       "    </tr>\n",
       "    <tr>\n",
       "      <th>321</th>\n",
       "      <td>-Willie Wilson</td>\n",
       "      <td>631</td>\n",
       "      <td>170</td>\n",
       "      <td>9</td>\n",
       "      <td>77</td>\n",
       "      <td>44</td>\n",
       "      <td>31</td>\n",
       "      <td>11</td>\n",
       "      <td>4908</td>\n",
       "      <td>1457</td>\n",
       "      <td>...</td>\n",
       "      <td>775</td>\n",
       "      <td>357</td>\n",
       "      <td>249</td>\n",
       "      <td>A</td>\n",
       "      <td>W</td>\n",
       "      <td>408</td>\n",
       "      <td>4</td>\n",
       "      <td>3</td>\n",
       "      <td>1000.0</td>\n",
       "      <td>A</td>\n",
       "    </tr>\n",
       "  </tbody>\n",
       "</table>\n",
       "<p>322 rows × 21 columns</p>\n",
       "</div>"
      ],
      "text/plain": [
       "            Unnamed: 0  AtBat  Hits  HmRun  Runs  RBI  Walks  Years  CAtBat  \\\n",
       "0       -Andy Allanson    293    66      1    30   29     14      1     293   \n",
       "1          -Alan Ashby    315    81      7    24   38     39     14    3449   \n",
       "2         -Alvin Davis    479   130     18    66   72     76      3    1624   \n",
       "3        -Andre Dawson    496   141     20    65   78     37     11    5628   \n",
       "4    -Andres Galarraga    321    87     10    39   42     30      2     396   \n",
       "..                 ...    ...   ...    ...   ...  ...    ...    ...     ...   \n",
       "317      -Willie McGee    497   127      7    65   48     37      5    2703   \n",
       "318   -Willie Randolph    492   136      5    76   50     94     12    5511   \n",
       "319    -Wayne Tolleson    475   126      3    61   43     52      6    1700   \n",
       "320     -Willie Upshaw    573   144      9    85   60     78      8    3198   \n",
       "321     -Willie Wilson    631   170      9    77   44     31     11    4908   \n",
       "\n",
       "     CHits  ...  CRuns  CRBI  CWalks  League Division PutOuts  Assists  \\\n",
       "0       66  ...     30    29      14       A        E     446       33   \n",
       "1      835  ...    321   414     375       N        W     632       43   \n",
       "2      457  ...    224   266     263       A        W     880       82   \n",
       "3     1575  ...    828   838     354       N        E     200       11   \n",
       "4      101  ...     48    46      33       N        E     805       40   \n",
       "..     ...  ...    ...   ...     ...     ...      ...     ...      ...   \n",
       "317    806  ...    379   311     138       N        E     325        9   \n",
       "318   1511  ...    897   451     875       A        E     313      381   \n",
       "319    433  ...    217    93     146       A        W      37      113   \n",
       "320    857  ...    470   420     332       A        E    1314      131   \n",
       "321   1457  ...    775   357     249       A        W     408        4   \n",
       "\n",
       "     Errors  Salary  NewLeague  \n",
       "0        20     NaN          A  \n",
       "1        10   475.0          N  \n",
       "2        14   480.0          A  \n",
       "3         3   500.0          N  \n",
       "4         4    91.5          N  \n",
       "..      ...     ...        ...  \n",
       "317       3   700.0          N  \n",
       "318      20   875.0          A  \n",
       "319       7   385.0          A  \n",
       "320      12   960.0          A  \n",
       "321       3  1000.0          A  \n",
       "\n",
       "[322 rows x 21 columns]"
      ]
     },
     "execution_count": 2,
     "metadata": {},
     "output_type": "execute_result"
    }
   ],
   "source": [
    "# LOading the Data\n",
    "df = pd.read_csv('/kaggle/input/baseball-player-salary-prediction/Player.csv')\n",
    "df"
   ]
  },
  {
   "cell_type": "code",
   "execution_count": 3,
   "id": "alleged-exchange",
   "metadata": {
    "execution": {
     "iopub.execute_input": "2021-06-05T18:07:00.961843Z",
     "iopub.status.busy": "2021-06-05T18:07:00.960921Z",
     "iopub.status.idle": "2021-06-05T18:07:00.983267Z",
     "shell.execute_reply": "2021-06-05T18:07:00.983815Z",
     "shell.execute_reply.started": "2021-06-05T18:03:45.981060Z"
    },
    "papermill": {
     "duration": 0.077803,
     "end_time": "2021-06-05T18:07:00.983980",
     "exception": false,
     "start_time": "2021-06-05T18:07:00.906177",
     "status": "completed"
    },
    "tags": []
   },
   "outputs": [
    {
     "data": {
      "text/html": [
       "<div>\n",
       "<style scoped>\n",
       "    .dataframe tbody tr th:only-of-type {\n",
       "        vertical-align: middle;\n",
       "    }\n",
       "\n",
       "    .dataframe tbody tr th {\n",
       "        vertical-align: top;\n",
       "    }\n",
       "\n",
       "    .dataframe thead th {\n",
       "        text-align: right;\n",
       "    }\n",
       "</style>\n",
       "<table border=\"1\" class=\"dataframe\">\n",
       "  <thead>\n",
       "    <tr style=\"text-align: right;\">\n",
       "      <th></th>\n",
       "      <th>Unnamed: 0</th>\n",
       "      <th>AtBat</th>\n",
       "      <th>Hits</th>\n",
       "      <th>HmRun</th>\n",
       "      <th>Runs</th>\n",
       "      <th>RBI</th>\n",
       "      <th>Walks</th>\n",
       "      <th>Years</th>\n",
       "      <th>CAtBat</th>\n",
       "      <th>CHits</th>\n",
       "      <th>...</th>\n",
       "      <th>CRuns</th>\n",
       "      <th>CRBI</th>\n",
       "      <th>CWalks</th>\n",
       "      <th>League</th>\n",
       "      <th>Division</th>\n",
       "      <th>PutOuts</th>\n",
       "      <th>Assists</th>\n",
       "      <th>Errors</th>\n",
       "      <th>Salary</th>\n",
       "      <th>NewLeague</th>\n",
       "    </tr>\n",
       "  </thead>\n",
       "  <tbody>\n",
       "    <tr>\n",
       "      <th>0</th>\n",
       "      <td>-Andy Allanson</td>\n",
       "      <td>293</td>\n",
       "      <td>66</td>\n",
       "      <td>1</td>\n",
       "      <td>30</td>\n",
       "      <td>29</td>\n",
       "      <td>14</td>\n",
       "      <td>1</td>\n",
       "      <td>293</td>\n",
       "      <td>66</td>\n",
       "      <td>...</td>\n",
       "      <td>30</td>\n",
       "      <td>29</td>\n",
       "      <td>14</td>\n",
       "      <td>A</td>\n",
       "      <td>E</td>\n",
       "      <td>446</td>\n",
       "      <td>33</td>\n",
       "      <td>20</td>\n",
       "      <td>NaN</td>\n",
       "      <td>A</td>\n",
       "    </tr>\n",
       "    <tr>\n",
       "      <th>1</th>\n",
       "      <td>-Alan Ashby</td>\n",
       "      <td>315</td>\n",
       "      <td>81</td>\n",
       "      <td>7</td>\n",
       "      <td>24</td>\n",
       "      <td>38</td>\n",
       "      <td>39</td>\n",
       "      <td>14</td>\n",
       "      <td>3449</td>\n",
       "      <td>835</td>\n",
       "      <td>...</td>\n",
       "      <td>321</td>\n",
       "      <td>414</td>\n",
       "      <td>375</td>\n",
       "      <td>N</td>\n",
       "      <td>W</td>\n",
       "      <td>632</td>\n",
       "      <td>43</td>\n",
       "      <td>10</td>\n",
       "      <td>475.0</td>\n",
       "      <td>N</td>\n",
       "    </tr>\n",
       "    <tr>\n",
       "      <th>2</th>\n",
       "      <td>-Alvin Davis</td>\n",
       "      <td>479</td>\n",
       "      <td>130</td>\n",
       "      <td>18</td>\n",
       "      <td>66</td>\n",
       "      <td>72</td>\n",
       "      <td>76</td>\n",
       "      <td>3</td>\n",
       "      <td>1624</td>\n",
       "      <td>457</td>\n",
       "      <td>...</td>\n",
       "      <td>224</td>\n",
       "      <td>266</td>\n",
       "      <td>263</td>\n",
       "      <td>A</td>\n",
       "      <td>W</td>\n",
       "      <td>880</td>\n",
       "      <td>82</td>\n",
       "      <td>14</td>\n",
       "      <td>480.0</td>\n",
       "      <td>A</td>\n",
       "    </tr>\n",
       "    <tr>\n",
       "      <th>3</th>\n",
       "      <td>-Andre Dawson</td>\n",
       "      <td>496</td>\n",
       "      <td>141</td>\n",
       "      <td>20</td>\n",
       "      <td>65</td>\n",
       "      <td>78</td>\n",
       "      <td>37</td>\n",
       "      <td>11</td>\n",
       "      <td>5628</td>\n",
       "      <td>1575</td>\n",
       "      <td>...</td>\n",
       "      <td>828</td>\n",
       "      <td>838</td>\n",
       "      <td>354</td>\n",
       "      <td>N</td>\n",
       "      <td>E</td>\n",
       "      <td>200</td>\n",
       "      <td>11</td>\n",
       "      <td>3</td>\n",
       "      <td>500.0</td>\n",
       "      <td>N</td>\n",
       "    </tr>\n",
       "    <tr>\n",
       "      <th>4</th>\n",
       "      <td>-Andres Galarraga</td>\n",
       "      <td>321</td>\n",
       "      <td>87</td>\n",
       "      <td>10</td>\n",
       "      <td>39</td>\n",
       "      <td>42</td>\n",
       "      <td>30</td>\n",
       "      <td>2</td>\n",
       "      <td>396</td>\n",
       "      <td>101</td>\n",
       "      <td>...</td>\n",
       "      <td>48</td>\n",
       "      <td>46</td>\n",
       "      <td>33</td>\n",
       "      <td>N</td>\n",
       "      <td>E</td>\n",
       "      <td>805</td>\n",
       "      <td>40</td>\n",
       "      <td>4</td>\n",
       "      <td>91.5</td>\n",
       "      <td>N</td>\n",
       "    </tr>\n",
       "  </tbody>\n",
       "</table>\n",
       "<p>5 rows × 21 columns</p>\n",
       "</div>"
      ],
      "text/plain": [
       "          Unnamed: 0  AtBat  Hits  HmRun  Runs  RBI  Walks  Years  CAtBat  \\\n",
       "0     -Andy Allanson    293    66      1    30   29     14      1     293   \n",
       "1        -Alan Ashby    315    81      7    24   38     39     14    3449   \n",
       "2       -Alvin Davis    479   130     18    66   72     76      3    1624   \n",
       "3      -Andre Dawson    496   141     20    65   78     37     11    5628   \n",
       "4  -Andres Galarraga    321    87     10    39   42     30      2     396   \n",
       "\n",
       "   CHits  ...  CRuns  CRBI  CWalks  League Division PutOuts  Assists  Errors  \\\n",
       "0     66  ...     30    29      14       A        E     446       33      20   \n",
       "1    835  ...    321   414     375       N        W     632       43      10   \n",
       "2    457  ...    224   266     263       A        W     880       82      14   \n",
       "3   1575  ...    828   838     354       N        E     200       11       3   \n",
       "4    101  ...     48    46      33       N        E     805       40       4   \n",
       "\n",
       "   Salary  NewLeague  \n",
       "0     NaN          A  \n",
       "1   475.0          N  \n",
       "2   480.0          A  \n",
       "3   500.0          N  \n",
       "4    91.5          N  \n",
       "\n",
       "[5 rows x 21 columns]"
      ]
     },
     "execution_count": 3,
     "metadata": {},
     "output_type": "execute_result"
    }
   ],
   "source": [
    "# viewing Raw data\n",
    "df.head()"
   ]
  },
  {
   "cell_type": "code",
   "execution_count": 4,
   "id": "delayed-reminder",
   "metadata": {
    "execution": {
     "iopub.execute_input": "2021-06-05T18:07:01.095574Z",
     "iopub.status.busy": "2021-06-05T18:07:01.094688Z",
     "iopub.status.idle": "2021-06-05T18:07:01.099694Z",
     "shell.execute_reply": "2021-06-05T18:07:01.100221Z",
     "shell.execute_reply.started": "2021-06-05T18:03:46.009076Z"
    },
    "papermill": {
     "duration": 0.06362,
     "end_time": "2021-06-05T18:07:01.100385",
     "exception": false,
     "start_time": "2021-06-05T18:07:01.036765",
     "status": "completed"
    },
    "tags": []
   },
   "outputs": [
    {
     "data": {
      "text/plain": [
       "(322, 21)"
      ]
     },
     "execution_count": 4,
     "metadata": {},
     "output_type": "execute_result"
    }
   ],
   "source": [
    "# Dimension of data\n",
    "df.shape"
   ]
  },
  {
   "cell_type": "code",
   "execution_count": 5,
   "id": "found-entity",
   "metadata": {
    "execution": {
     "iopub.execute_input": "2021-06-05T18:07:01.212923Z",
     "iopub.status.busy": "2021-06-05T18:07:01.211966Z",
     "iopub.status.idle": "2021-06-05T18:07:01.233431Z",
     "shell.execute_reply": "2021-06-05T18:07:01.232836Z",
     "shell.execute_reply.started": "2021-06-05T18:03:46.018490Z"
    },
    "papermill": {
     "duration": 0.07958,
     "end_time": "2021-06-05T18:07:01.233563",
     "exception": false,
     "start_time": "2021-06-05T18:07:01.153983",
     "status": "completed"
    },
    "tags": []
   },
   "outputs": [
    {
     "name": "stdout",
     "output_type": "stream",
     "text": [
      "<class 'pandas.core.frame.DataFrame'>\n",
      "RangeIndex: 322 entries, 0 to 321\n",
      "Data columns (total 21 columns):\n",
      " #   Column      Non-Null Count  Dtype  \n",
      "---  ------      --------------  -----  \n",
      " 0   Unnamed: 0  322 non-null    object \n",
      " 1   AtBat       322 non-null    int64  \n",
      " 2   Hits        322 non-null    int64  \n",
      " 3   HmRun       322 non-null    int64  \n",
      " 4   Runs        322 non-null    int64  \n",
      " 5   RBI         322 non-null    int64  \n",
      " 6   Walks       322 non-null    int64  \n",
      " 7   Years       322 non-null    int64  \n",
      " 8   CAtBat      322 non-null    int64  \n",
      " 9   CHits       322 non-null    int64  \n",
      " 10  CHmRun      322 non-null    int64  \n",
      " 11  CRuns       322 non-null    int64  \n",
      " 12  CRBI        322 non-null    int64  \n",
      " 13  CWalks      322 non-null    int64  \n",
      " 14  League      322 non-null    object \n",
      " 15  Division    322 non-null    object \n",
      " 16  PutOuts     322 non-null    int64  \n",
      " 17  Assists     322 non-null    int64  \n",
      " 18  Errors      322 non-null    int64  \n",
      " 19  Salary      263 non-null    float64\n",
      " 20  NewLeague   322 non-null    object \n",
      "dtypes: float64(1), int64(16), object(4)\n",
      "memory usage: 53.0+ KB\n"
     ]
    }
   ],
   "source": [
    "# column data Types\n",
    "df.info()"
   ]
  },
  {
   "cell_type": "code",
   "execution_count": 6,
   "id": "natural-prime",
   "metadata": {
    "execution": {
     "iopub.execute_input": "2021-06-05T18:07:01.343423Z",
     "iopub.status.busy": "2021-06-05T18:07:01.342506Z",
     "iopub.status.idle": "2021-06-05T18:07:01.350467Z",
     "shell.execute_reply": "2021-06-05T18:07:01.350928Z",
     "shell.execute_reply.started": "2021-06-05T18:03:46.040595Z"
    },
    "papermill": {
     "duration": 0.064684,
     "end_time": "2021-06-05T18:07:01.351098",
     "exception": false,
     "start_time": "2021-06-05T18:07:01.286414",
     "status": "completed"
    },
    "tags": []
   },
   "outputs": [
    {
     "data": {
      "text/plain": [
       "Unnamed: 0     0\n",
       "AtBat          0\n",
       "Hits           0\n",
       "HmRun          0\n",
       "Runs           0\n",
       "RBI            0\n",
       "Walks          0\n",
       "Years          0\n",
       "CAtBat         0\n",
       "CHits          0\n",
       "CHmRun         0\n",
       "CRuns          0\n",
       "CRBI           0\n",
       "CWalks         0\n",
       "League         0\n",
       "Division       0\n",
       "PutOuts        0\n",
       "Assists        0\n",
       "Errors         0\n",
       "Salary        59\n",
       "NewLeague      0\n",
       "dtype: int64"
      ]
     },
     "execution_count": 6,
     "metadata": {},
     "output_type": "execute_result"
    }
   ],
   "source": [
    "# Checking null values\n",
    "df.isnull().sum()"
   ]
  },
  {
   "cell_type": "code",
   "execution_count": 7,
   "id": "reserved-basketball",
   "metadata": {
    "execution": {
     "iopub.execute_input": "2021-06-05T18:07:01.460831Z",
     "iopub.status.busy": "2021-06-05T18:07:01.459898Z",
     "iopub.status.idle": "2021-06-05T18:07:01.481676Z",
     "shell.execute_reply": "2021-06-05T18:07:01.482153Z",
     "shell.execute_reply.started": "2021-06-05T18:03:46.060415Z"
    },
    "papermill": {
     "duration": 0.078217,
     "end_time": "2021-06-05T18:07:01.482333",
     "exception": false,
     "start_time": "2021-06-05T18:07:01.404116",
     "status": "completed"
    },
    "tags": []
   },
   "outputs": [],
   "source": [
    "#Droping NUll values\n",
    "df.dropna(inplace = True)"
   ]
  },
  {
   "cell_type": "markdown",
   "id": "threatened-honolulu",
   "metadata": {
    "papermill": {
     "duration": 0.052872,
     "end_time": "2021-06-05T18:07:01.588817",
     "exception": false,
     "start_time": "2021-06-05T18:07:01.535945",
     "status": "completed"
    },
    "tags": []
   },
   "source": [
    "# Statistical Analysis and Encode Variables"
   ]
  },
  {
   "cell_type": "markdown",
   "id": "proved-standard",
   "metadata": {
    "papermill": {
     "duration": 0.054037,
     "end_time": "2021-06-05T18:07:01.696761",
     "exception": false,
     "start_time": "2021-06-05T18:07:01.642724",
     "status": "completed"
    },
    "tags": []
   },
   "source": [
    "*** Statistical Data analysis ***"
   ]
  },
  {
   "cell_type": "code",
   "execution_count": 8,
   "id": "stunning-liberal",
   "metadata": {
    "execution": {
     "iopub.execute_input": "2021-06-05T18:07:01.809223Z",
     "iopub.status.busy": "2021-06-05T18:07:01.808223Z",
     "iopub.status.idle": "2021-06-05T18:07:01.873871Z",
     "shell.execute_reply": "2021-06-05T18:07:01.874354Z",
     "shell.execute_reply.started": "2021-06-05T18:03:46.079852Z"
    },
    "papermill": {
     "duration": 0.123243,
     "end_time": "2021-06-05T18:07:01.874559",
     "exception": false,
     "start_time": "2021-06-05T18:07:01.751316",
     "status": "completed"
    },
    "tags": []
   },
   "outputs": [
    {
     "data": {
      "text/html": [
       "<div>\n",
       "<style scoped>\n",
       "    .dataframe tbody tr th:only-of-type {\n",
       "        vertical-align: middle;\n",
       "    }\n",
       "\n",
       "    .dataframe tbody tr th {\n",
       "        vertical-align: top;\n",
       "    }\n",
       "\n",
       "    .dataframe thead th {\n",
       "        text-align: right;\n",
       "    }\n",
       "</style>\n",
       "<table border=\"1\" class=\"dataframe\">\n",
       "  <thead>\n",
       "    <tr style=\"text-align: right;\">\n",
       "      <th></th>\n",
       "      <th>AtBat</th>\n",
       "      <th>Hits</th>\n",
       "      <th>HmRun</th>\n",
       "      <th>Runs</th>\n",
       "      <th>RBI</th>\n",
       "      <th>Walks</th>\n",
       "      <th>Years</th>\n",
       "      <th>CAtBat</th>\n",
       "      <th>CHits</th>\n",
       "      <th>CHmRun</th>\n",
       "      <th>CRuns</th>\n",
       "      <th>CRBI</th>\n",
       "      <th>CWalks</th>\n",
       "      <th>PutOuts</th>\n",
       "      <th>Assists</th>\n",
       "      <th>Errors</th>\n",
       "      <th>Salary</th>\n",
       "    </tr>\n",
       "  </thead>\n",
       "  <tbody>\n",
       "    <tr>\n",
       "      <th>count</th>\n",
       "      <td>263.000</td>\n",
       "      <td>263.000</td>\n",
       "      <td>263.000</td>\n",
       "      <td>263.000</td>\n",
       "      <td>263.000</td>\n",
       "      <td>263.000</td>\n",
       "      <td>263.000</td>\n",
       "      <td>263.000</td>\n",
       "      <td>263.000</td>\n",
       "      <td>263.000</td>\n",
       "      <td>263.000</td>\n",
       "      <td>263.000</td>\n",
       "      <td>263.000</td>\n",
       "      <td>263.000</td>\n",
       "      <td>263.000</td>\n",
       "      <td>263.000</td>\n",
       "      <td>263.000</td>\n",
       "    </tr>\n",
       "    <tr>\n",
       "      <th>mean</th>\n",
       "      <td>403.643</td>\n",
       "      <td>107.829</td>\n",
       "      <td>11.620</td>\n",
       "      <td>54.745</td>\n",
       "      <td>51.487</td>\n",
       "      <td>41.114</td>\n",
       "      <td>7.312</td>\n",
       "      <td>2657.544</td>\n",
       "      <td>722.186</td>\n",
       "      <td>69.240</td>\n",
       "      <td>361.221</td>\n",
       "      <td>330.418</td>\n",
       "      <td>260.266</td>\n",
       "      <td>290.711</td>\n",
       "      <td>118.760</td>\n",
       "      <td>8.593</td>\n",
       "      <td>535.926</td>\n",
       "    </tr>\n",
       "    <tr>\n",
       "      <th>std</th>\n",
       "      <td>147.307</td>\n",
       "      <td>45.125</td>\n",
       "      <td>8.757</td>\n",
       "      <td>25.540</td>\n",
       "      <td>25.883</td>\n",
       "      <td>21.718</td>\n",
       "      <td>4.794</td>\n",
       "      <td>2286.583</td>\n",
       "      <td>648.200</td>\n",
       "      <td>82.198</td>\n",
       "      <td>331.199</td>\n",
       "      <td>323.368</td>\n",
       "      <td>264.056</td>\n",
       "      <td>279.935</td>\n",
       "      <td>145.081</td>\n",
       "      <td>6.607</td>\n",
       "      <td>451.119</td>\n",
       "    </tr>\n",
       "    <tr>\n",
       "      <th>min</th>\n",
       "      <td>19.000</td>\n",
       "      <td>1.000</td>\n",
       "      <td>0.000</td>\n",
       "      <td>0.000</td>\n",
       "      <td>0.000</td>\n",
       "      <td>0.000</td>\n",
       "      <td>1.000</td>\n",
       "      <td>19.000</td>\n",
       "      <td>4.000</td>\n",
       "      <td>0.000</td>\n",
       "      <td>2.000</td>\n",
       "      <td>3.000</td>\n",
       "      <td>1.000</td>\n",
       "      <td>0.000</td>\n",
       "      <td>0.000</td>\n",
       "      <td>0.000</td>\n",
       "      <td>67.500</td>\n",
       "    </tr>\n",
       "    <tr>\n",
       "      <th>25%</th>\n",
       "      <td>282.500</td>\n",
       "      <td>71.500</td>\n",
       "      <td>5.000</td>\n",
       "      <td>33.500</td>\n",
       "      <td>30.000</td>\n",
       "      <td>23.000</td>\n",
       "      <td>4.000</td>\n",
       "      <td>842.500</td>\n",
       "      <td>212.000</td>\n",
       "      <td>15.000</td>\n",
       "      <td>105.500</td>\n",
       "      <td>95.000</td>\n",
       "      <td>71.000</td>\n",
       "      <td>113.500</td>\n",
       "      <td>8.000</td>\n",
       "      <td>3.000</td>\n",
       "      <td>190.000</td>\n",
       "    </tr>\n",
       "    <tr>\n",
       "      <th>50%</th>\n",
       "      <td>413.000</td>\n",
       "      <td>103.000</td>\n",
       "      <td>9.000</td>\n",
       "      <td>52.000</td>\n",
       "      <td>47.000</td>\n",
       "      <td>37.000</td>\n",
       "      <td>6.000</td>\n",
       "      <td>1931.000</td>\n",
       "      <td>516.000</td>\n",
       "      <td>40.000</td>\n",
       "      <td>250.000</td>\n",
       "      <td>230.000</td>\n",
       "      <td>174.000</td>\n",
       "      <td>224.000</td>\n",
       "      <td>45.000</td>\n",
       "      <td>7.000</td>\n",
       "      <td>425.000</td>\n",
       "    </tr>\n",
       "    <tr>\n",
       "      <th>75%</th>\n",
       "      <td>526.000</td>\n",
       "      <td>141.500</td>\n",
       "      <td>18.000</td>\n",
       "      <td>73.000</td>\n",
       "      <td>71.000</td>\n",
       "      <td>57.000</td>\n",
       "      <td>10.000</td>\n",
       "      <td>3890.500</td>\n",
       "      <td>1054.000</td>\n",
       "      <td>92.500</td>\n",
       "      <td>497.500</td>\n",
       "      <td>424.500</td>\n",
       "      <td>328.500</td>\n",
       "      <td>322.500</td>\n",
       "      <td>192.000</td>\n",
       "      <td>13.000</td>\n",
       "      <td>750.000</td>\n",
       "    </tr>\n",
       "    <tr>\n",
       "      <th>max</th>\n",
       "      <td>687.000</td>\n",
       "      <td>238.000</td>\n",
       "      <td>40.000</td>\n",
       "      <td>130.000</td>\n",
       "      <td>121.000</td>\n",
       "      <td>105.000</td>\n",
       "      <td>24.000</td>\n",
       "      <td>14053.000</td>\n",
       "      <td>4256.000</td>\n",
       "      <td>548.000</td>\n",
       "      <td>2165.000</td>\n",
       "      <td>1659.000</td>\n",
       "      <td>1566.000</td>\n",
       "      <td>1377.000</td>\n",
       "      <td>492.000</td>\n",
       "      <td>32.000</td>\n",
       "      <td>2460.000</td>\n",
       "    </tr>\n",
       "  </tbody>\n",
       "</table>\n",
       "</div>"
      ],
      "text/plain": [
       "         AtBat     Hits    HmRun     Runs      RBI    Walks    Years  \\\n",
       "count  263.000  263.000  263.000  263.000  263.000  263.000  263.000   \n",
       "mean   403.643  107.829   11.620   54.745   51.487   41.114    7.312   \n",
       "std    147.307   45.125    8.757   25.540   25.883   21.718    4.794   \n",
       "min     19.000    1.000    0.000    0.000    0.000    0.000    1.000   \n",
       "25%    282.500   71.500    5.000   33.500   30.000   23.000    4.000   \n",
       "50%    413.000  103.000    9.000   52.000   47.000   37.000    6.000   \n",
       "75%    526.000  141.500   18.000   73.000   71.000   57.000   10.000   \n",
       "max    687.000  238.000   40.000  130.000  121.000  105.000   24.000   \n",
       "\n",
       "          CAtBat     CHits   CHmRun     CRuns      CRBI    CWalks   PutOuts  \\\n",
       "count    263.000   263.000  263.000   263.000   263.000   263.000   263.000   \n",
       "mean    2657.544   722.186   69.240   361.221   330.418   260.266   290.711   \n",
       "std     2286.583   648.200   82.198   331.199   323.368   264.056   279.935   \n",
       "min       19.000     4.000    0.000     2.000     3.000     1.000     0.000   \n",
       "25%      842.500   212.000   15.000   105.500    95.000    71.000   113.500   \n",
       "50%     1931.000   516.000   40.000   250.000   230.000   174.000   224.000   \n",
       "75%     3890.500  1054.000   92.500   497.500   424.500   328.500   322.500   \n",
       "max    14053.000  4256.000  548.000  2165.000  1659.000  1566.000  1377.000   \n",
       "\n",
       "       Assists   Errors    Salary  \n",
       "count  263.000  263.000   263.000  \n",
       "mean   118.760    8.593   535.926  \n",
       "std    145.081    6.607   451.119  \n",
       "min      0.000    0.000    67.500  \n",
       "25%      8.000    3.000   190.000  \n",
       "50%     45.000    7.000   425.000  \n",
       "75%    192.000   13.000   750.000  \n",
       "max    492.000   32.000  2460.000  "
      ]
     },
     "execution_count": 8,
     "metadata": {},
     "output_type": "execute_result"
    }
   ],
   "source": [
    "\n",
    "pd.set_option('precision',3)\n",
    "df.describe()"
   ]
  },
  {
   "cell_type": "markdown",
   "id": "valued-storm",
   "metadata": {
    "papermill": {
     "duration": 0.053691,
     "end_time": "2021-06-05T18:07:01.982192",
     "exception": false,
     "start_time": "2021-06-05T18:07:01.928501",
     "status": "completed"
    },
    "tags": []
   },
   "source": [
    "*** Categorical Variable Analysis ***"
   ]
  },
  {
   "cell_type": "code",
   "execution_count": 9,
   "id": "alternate-contrary",
   "metadata": {
    "execution": {
     "iopub.execute_input": "2021-06-05T18:07:02.097231Z",
     "iopub.status.busy": "2021-06-05T18:07:02.096616Z",
     "iopub.status.idle": "2021-06-05T18:07:02.247405Z",
     "shell.execute_reply": "2021-06-05T18:07:02.246855Z",
     "shell.execute_reply.started": "2021-06-05T18:03:46.162631Z"
    },
    "papermill": {
     "duration": 0.211783,
     "end_time": "2021-06-05T18:07:02.247552",
     "exception": false,
     "start_time": "2021-06-05T18:07:02.035769",
     "status": "completed"
    },
    "tags": []
   },
   "outputs": [
    {
     "name": "stdout",
     "output_type": "stream",
     "text": [
      "A    139\n",
      "N    124\n",
      "Name: League, dtype: int64\n"
     ]
    },
    {
     "data": {
      "text/plain": [
       "<AxesSubplot:ylabel='League'>"
      ]
     },
     "execution_count": 9,
     "metadata": {},
     "output_type": "execute_result"
    },
    {
     "data": {
      "image/png": "[encoded data removed]",
      "text/plain": [
       "<Figure size 432x288 with 1 Axes>"
      ]
     },
     "metadata": {},
     "output_type": "display_data"
    }
   ],
   "source": [
    "# League columns\n",
    "leag = df.League.value_counts()\n",
    "print(leag)\n",
    "leag.plot.pie()\n"
   ]
  },
  {
   "cell_type": "code",
   "execution_count": 10,
   "id": "blocked-tracker",
   "metadata": {
    "execution": {
     "iopub.execute_input": "2021-06-05T18:07:02.379617Z",
     "iopub.status.busy": "2021-06-05T18:07:02.378186Z",
     "iopub.status.idle": "2021-06-05T18:07:02.455409Z",
     "shell.execute_reply": "2021-06-05T18:07:02.454841Z",
     "shell.execute_reply.started": "2021-06-05T18:03:46.258183Z"
    },
    "papermill": {
     "duration": 0.152015,
     "end_time": "2021-06-05T18:07:02.455557",
     "exception": false,
     "start_time": "2021-06-05T18:07:02.303542",
     "status": "completed"
    },
    "tags": []
   },
   "outputs": [
    {
     "name": "stdout",
     "output_type": "stream",
     "text": [
      "W    134\n",
      "E    129\n",
      "Name: Division, dtype: int64\n"
     ]
    },
    {
     "data": {
      "text/plain": [
       "<AxesSubplot:ylabel='Division'>"
      ]
     },
     "execution_count": 10,
     "metadata": {},
     "output_type": "execute_result"
    },
    {
     "data": {
      "image/png": "[encoded data removed]",
      "text/plain": [
       "<Figure size 432x288 with 1 Axes>"
      ]
     },
     "metadata": {},
     "output_type": "display_data"
    }
   ],
   "source": [
    "# Division column\n",
    "div = df.Division.value_counts()\n",
    "print(div)\n",
    "div.plot.pie()\n"
   ]
  },
  {
   "cell_type": "code",
   "execution_count": 11,
   "id": "vulnerable-sister",
   "metadata": {
    "execution": {
     "iopub.execute_input": "2021-06-05T18:07:02.574281Z",
     "iopub.status.busy": "2021-06-05T18:07:02.573655Z",
     "iopub.status.idle": "2021-06-05T18:07:02.663525Z",
     "shell.execute_reply": "2021-06-05T18:07:02.662860Z",
     "shell.execute_reply.started": "2021-06-05T18:03:46.356211Z"
    },
    "papermill": {
     "duration": 0.151553,
     "end_time": "2021-06-05T18:07:02.663684",
     "exception": false,
     "start_time": "2021-06-05T18:07:02.512131",
     "status": "completed"
    },
    "tags": []
   },
   "outputs": [
    {
     "name": "stdout",
     "output_type": "stream",
     "text": [
      "A    141\n",
      "N    122\n",
      "Name: NewLeague, dtype: int64\n"
     ]
    },
    {
     "data": {
      "text/plain": [
       "<AxesSubplot:ylabel='NewLeague'>"
      ]
     },
     "execution_count": 11,
     "metadata": {},
     "output_type": "execute_result"
    },
    {
     "data": {
      "image/png": "[encoded data removed]",
      "text/plain": [
       "<Figure size 432x288 with 1 Axes>"
      ]
     },
     "metadata": {},
     "output_type": "display_data"
    }
   ],
   "source": [
    "# For New League\n",
    "Nleag = df.NewLeague.value_counts()\n",
    "print(Nleag)\n",
    "Nleag.plot.pie()\n"
   ]
  },
  {
   "cell_type": "markdown",
   "id": "tropical-insulin",
   "metadata": {
    "papermill": {
     "duration": 0.05736,
     "end_time": "2021-06-05T18:07:02.778780",
     "exception": false,
     "start_time": "2021-06-05T18:07:02.721420",
     "status": "completed"
    },
    "tags": []
   },
   "source": [
    "***Encode Categorical Variables ***"
   ]
  },
  {
   "cell_type": "code",
   "execution_count": 12,
   "id": "collective-paintball",
   "metadata": {
    "execution": {
     "iopub.execute_input": "2021-06-05T18:07:02.913141Z",
     "iopub.status.busy": "2021-06-05T18:07:02.905652Z",
     "iopub.status.idle": "2021-06-05T18:07:02.917411Z",
     "shell.execute_reply": "2021-06-05T18:07:02.916802Z",
     "shell.execute_reply.started": "2021-06-05T18:03:46.458931Z"
    },
    "papermill": {
     "duration": 0.081483,
     "end_time": "2021-06-05T18:07:02.917546",
     "exception": false,
     "start_time": "2021-06-05T18:07:02.836063",
     "status": "completed"
    },
    "tags": []
   },
   "outputs": [
    {
     "data": {
      "text/html": [
       "<div>\n",
       "<style scoped>\n",
       "    .dataframe tbody tr th:only-of-type {\n",
       "        vertical-align: middle;\n",
       "    }\n",
       "\n",
       "    .dataframe tbody tr th {\n",
       "        vertical-align: top;\n",
       "    }\n",
       "\n",
       "    .dataframe thead th {\n",
       "        text-align: right;\n",
       "    }\n",
       "</style>\n",
       "<table border=\"1\" class=\"dataframe\">\n",
       "  <thead>\n",
       "    <tr style=\"text-align: right;\">\n",
       "      <th></th>\n",
       "      <th>League_A</th>\n",
       "      <th>League_N</th>\n",
       "      <th>Division_E</th>\n",
       "      <th>Division_W</th>\n",
       "      <th>NewLeague_A</th>\n",
       "      <th>NewLeague_N</th>\n",
       "    </tr>\n",
       "  </thead>\n",
       "  <tbody>\n",
       "    <tr>\n",
       "      <th>1</th>\n",
       "      <td>0</td>\n",
       "      <td>1</td>\n",
       "      <td>0</td>\n",
       "      <td>1</td>\n",
       "      <td>0</td>\n",
       "      <td>1</td>\n",
       "    </tr>\n",
       "    <tr>\n",
       "      <th>2</th>\n",
       "      <td>1</td>\n",
       "      <td>0</td>\n",
       "      <td>0</td>\n",
       "      <td>1</td>\n",
       "      <td>1</td>\n",
       "      <td>0</td>\n",
       "    </tr>\n",
       "    <tr>\n",
       "      <th>3</th>\n",
       "      <td>0</td>\n",
       "      <td>1</td>\n",
       "      <td>1</td>\n",
       "      <td>0</td>\n",
       "      <td>0</td>\n",
       "      <td>1</td>\n",
       "    </tr>\n",
       "    <tr>\n",
       "      <th>4</th>\n",
       "      <td>0</td>\n",
       "      <td>1</td>\n",
       "      <td>1</td>\n",
       "      <td>0</td>\n",
       "      <td>0</td>\n",
       "      <td>1</td>\n",
       "    </tr>\n",
       "    <tr>\n",
       "      <th>5</th>\n",
       "      <td>1</td>\n",
       "      <td>0</td>\n",
       "      <td>0</td>\n",
       "      <td>1</td>\n",
       "      <td>1</td>\n",
       "      <td>0</td>\n",
       "    </tr>\n",
       "  </tbody>\n",
       "</table>\n",
       "</div>"
      ],
      "text/plain": [
       "   League_A  League_N  Division_E  Division_W  NewLeague_A  NewLeague_N\n",
       "1         0         1           0           1            0            1\n",
       "2         1         0           0           1            1            0\n",
       "3         0         1           1           0            0            1\n",
       "4         0         1           1           0            0            1\n",
       "5         1         0           0           1            1            0"
      ]
     },
     "execution_count": 12,
     "metadata": {},
     "output_type": "execute_result"
    }
   ],
   "source": [
    "dummyCol = pd.get_dummies(df[['League', 'Division', 'NewLeague']])\n",
    "dummyCol.head()"
   ]
  },
  {
   "cell_type": "code",
   "execution_count": 13,
   "id": "configured-termination",
   "metadata": {
    "execution": {
     "iopub.execute_input": "2021-06-05T18:07:03.049011Z",
     "iopub.status.busy": "2021-06-05T18:07:03.040804Z",
     "iopub.status.idle": "2021-06-05T18:07:03.054029Z",
     "shell.execute_reply": "2021-06-05T18:07:03.053138Z",
     "shell.execute_reply.started": "2021-06-05T18:03:46.482335Z"
    },
    "papermill": {
     "duration": 0.078399,
     "end_time": "2021-06-05T18:07:03.054175",
     "exception": false,
     "start_time": "2021-06-05T18:07:02.975776",
     "status": "completed"
    },
    "tags": []
   },
   "outputs": [
    {
     "name": "stdout",
     "output_type": "stream",
     "text": [
      "<class 'pandas.core.frame.DataFrame'>\n",
      "Int64Index: 263 entries, 1 to 321\n",
      "Data columns (total 6 columns):\n",
      " #   Column       Non-Null Count  Dtype\n",
      "---  ------       --------------  -----\n",
      " 0   League_A     263 non-null    uint8\n",
      " 1   League_N     263 non-null    uint8\n",
      " 2   Division_E   263 non-null    uint8\n",
      " 3   Division_W   263 non-null    uint8\n",
      " 4   NewLeague_A  263 non-null    uint8\n",
      " 5   NewLeague_N  263 non-null    uint8\n",
      "dtypes: uint8(6)\n",
      "memory usage: 3.6 KB\n"
     ]
    }
   ],
   "source": [
    "dummyCol.info()"
   ]
  },
  {
   "cell_type": "markdown",
   "id": "incorporated-handle",
   "metadata": {
    "papermill": {
     "duration": 0.058421,
     "end_time": "2021-06-05T18:07:03.171784",
     "exception": false,
     "start_time": "2021-06-05T18:07:03.113363",
     "status": "completed"
    },
    "tags": []
   },
   "source": [
    "# Preparing INPUT/OUTPUT Variables"
   ]
  },
  {
   "cell_type": "markdown",
   "id": "canadian-encounter",
   "metadata": {
    "papermill": {
     "duration": 0.058203,
     "end_time": "2021-06-05T18:07:03.288097",
     "exception": false,
     "start_time": "2021-06-05T18:07:03.229894",
     "status": "completed"
    },
    "tags": []
   },
   "source": [
    "***Input Variables***"
   ]
  },
  {
   "cell_type": "code",
   "execution_count": 14,
   "id": "resident-synthetic",
   "metadata": {
    "execution": {
     "iopub.execute_input": "2021-06-05T18:07:03.424727Z",
     "iopub.status.busy": "2021-06-05T18:07:03.424046Z",
     "iopub.status.idle": "2021-06-05T18:07:03.428280Z",
     "shell.execute_reply": "2021-06-05T18:07:03.427789Z",
     "shell.execute_reply.started": "2021-06-05T18:03:46.505241Z"
    },
    "papermill": {
     "duration": 0.082054,
     "end_time": "2021-06-05T18:07:03.428431",
     "exception": false,
     "start_time": "2021-06-05T18:07:03.346377",
     "status": "completed"
    },
    "tags": []
   },
   "outputs": [
    {
     "name": "stdout",
     "output_type": "stream",
     "text": [
      "<class 'pandas.core.frame.DataFrame'>\n",
      "Int64Index: 263 entries, 1 to 321\n",
      "Data columns (total 19 columns):\n",
      " #   Column       Non-Null Count  Dtype\n",
      "---  ------       --------------  -----\n",
      " 0   AtBat        263 non-null    int64\n",
      " 1   Hits         263 non-null    int64\n",
      " 2   HmRun        263 non-null    int64\n",
      " 3   Runs         263 non-null    int64\n",
      " 4   RBI          263 non-null    int64\n",
      " 5   Walks        263 non-null    int64\n",
      " 6   Years        263 non-null    int64\n",
      " 7   CAtBat       263 non-null    int64\n",
      " 8   CHits        263 non-null    int64\n",
      " 9   CHmRun       263 non-null    int64\n",
      " 10  CRuns        263 non-null    int64\n",
      " 11  CRBI         263 non-null    int64\n",
      " 12  CWalks       263 non-null    int64\n",
      " 13  PutOuts      263 non-null    int64\n",
      " 14  Assists      263 non-null    int64\n",
      " 15  Errors       263 non-null    int64\n",
      " 16  League_N     263 non-null    uint8\n",
      " 17  Division_W   263 non-null    uint8\n",
      " 18  NewLeague_N  263 non-null    uint8\n",
      "dtypes: int64(16), uint8(3)\n",
      "memory usage: 35.7 KB\n"
     ]
    }
   ],
   "source": [
    "XTemp = df.drop(['Unnamed: 0','Salary', 'League', 'Division', 'NewLeague'], axis=1)\n",
    "\n",
    "X = pd.concat([XTemp, dummyCol[['League_N', 'Division_W', 'NewLeague_N']]], axis=1)\n",
    "\n",
    "X.info()"
   ]
  },
  {
   "cell_type": "markdown",
   "id": "cooked-charity",
   "metadata": {
    "papermill": {
     "duration": 0.059137,
     "end_time": "2021-06-05T18:07:03.547302",
     "exception": false,
     "start_time": "2021-06-05T18:07:03.488165",
     "status": "completed"
    },
    "tags": []
   },
   "source": [
    "*** Output Variable ***"
   ]
  },
  {
   "cell_type": "code",
   "execution_count": 15,
   "id": "related-commonwealth",
   "metadata": {
    "execution": {
     "iopub.execute_input": "2021-06-05T18:07:03.673956Z",
     "iopub.status.busy": "2021-06-05T18:07:03.672987Z",
     "iopub.status.idle": "2021-06-05T18:07:03.675906Z",
     "shell.execute_reply": "2021-06-05T18:07:03.676378Z",
     "shell.execute_reply.started": "2021-06-05T18:03:46.532387Z"
    },
    "papermill": {
     "duration": 0.069428,
     "end_time": "2021-06-05T18:07:03.676565",
     "exception": false,
     "start_time": "2021-06-05T18:07:03.607137",
     "status": "completed"
    },
    "tags": []
   },
   "outputs": [
    {
     "data": {
      "text/plain": [
       "1    475.0\n",
       "2    480.0\n",
       "3    500.0\n",
       "4     91.5\n",
       "5    750.0\n",
       "Name: Salary, dtype: float64"
      ]
     },
     "execution_count": 15,
     "metadata": {},
     "output_type": "execute_result"
    }
   ],
   "source": [
    "y = df.Salary\n",
    "y.head()"
   ]
  },
  {
   "cell_type": "markdown",
   "id": "alike-musician",
   "metadata": {
    "papermill": {
     "duration": 0.060988,
     "end_time": "2021-06-05T18:07:03.798467",
     "exception": false,
     "start_time": "2021-06-05T18:07:03.737479",
     "status": "completed"
    },
    "tags": []
   },
   "source": [
    "# Ridge Regression"
   ]
  },
  {
   "cell_type": "code",
   "execution_count": 16,
   "id": "published-doubt",
   "metadata": {
    "execution": {
     "iopub.execute_input": "2021-06-05T18:07:03.922197Z",
     "iopub.status.busy": "2021-06-05T18:07:03.921445Z",
     "iopub.status.idle": "2021-06-05T18:07:03.925394Z",
     "shell.execute_reply": "2021-06-05T18:07:03.925993Z",
     "shell.execute_reply.started": "2021-06-05T18:03:46.548036Z"
    },
    "papermill": {
     "duration": 0.06749,
     "end_time": "2021-06-05T18:07:03.926195",
     "exception": false,
     "start_time": "2021-06-05T18:07:03.858705",
     "status": "completed"
    },
    "tags": []
   },
   "outputs": [],
   "source": [
    "alphas = 10**np.linspace(10,-2,100)*0.00001\n",
    "ridge = Ridge()\n",
    "coeffs = []"
   ]
  },
  {
   "cell_type": "code",
   "execution_count": 17,
   "id": "labeled-humanitarian",
   "metadata": {
    "execution": {
     "iopub.execute_input": "2021-06-05T18:07:04.050457Z",
     "iopub.status.busy": "2021-06-05T18:07:04.049835Z",
     "iopub.status.idle": "2021-06-05T18:07:04.519746Z",
     "shell.execute_reply": "2021-06-05T18:07:04.518975Z",
     "shell.execute_reply.started": "2021-06-05T18:03:46.561360Z"
    },
    "papermill": {
     "duration": 0.533172,
     "end_time": "2021-06-05T18:07:04.519912",
     "exception": false,
     "start_time": "2021-06-05T18:07:03.986740",
     "status": "completed"
    },
    "tags": []
   },
   "outputs": [],
   "source": [
    "scaler = StandardScaler() \n",
    "for a in alphas: \n",
    "    ridge.set_params(alpha=a) \n",
    "    ridge.fit(scaler.fit_transform(X), y) \n",
    "    coeffs.append(ridge.coef_) "
   ]
  },
  {
   "cell_type": "code",
   "execution_count": 18,
   "id": "prime-guyana",
   "metadata": {
    "execution": {
     "iopub.execute_input": "2021-06-05T18:07:04.649617Z",
     "iopub.status.busy": "2021-06-05T18:07:04.648579Z",
     "iopub.status.idle": "2021-06-05T18:07:04.654553Z",
     "shell.execute_reply": "2021-06-05T18:07:04.654030Z",
     "shell.execute_reply.started": "2021-06-05T18:03:47.056056Z"
    },
    "papermill": {
     "duration": 0.072958,
     "end_time": "2021-06-05T18:07:04.654737",
     "exception": false,
     "start_time": "2021-06-05T18:07:04.581779",
     "status": "completed"
    },
    "tags": []
   },
   "outputs": [
    {
     "data": {
      "text/plain": [
       "(100, 19)"
      ]
     },
     "execution_count": 18,
     "metadata": {},
     "output_type": "execute_result"
    }
   ],
   "source": [
    "np.shape(coeffs)"
   ]
  },
  {
   "cell_type": "code",
   "execution_count": 19,
   "id": "appointed-album",
   "metadata": {
    "execution": {
     "iopub.execute_input": "2021-06-05T18:07:04.790194Z",
     "iopub.status.busy": "2021-06-05T18:07:04.784242Z",
     "iopub.status.idle": "2021-06-05T18:07:05.382258Z",
     "shell.execute_reply": "2021-06-05T18:07:05.381372Z",
     "shell.execute_reply.started": "2021-06-05T18:03:47.063661Z"
    },
    "papermill": {
     "duration": 0.666974,
     "end_time": "2021-06-05T18:07:05.382410",
     "exception": false,
     "start_time": "2021-06-05T18:07:04.715436",
     "status": "completed"
    },
    "tags": []
   },
   "outputs": [
    {
     "data": {
      "text/plain": [
       "Text(0.5, 1.0, 'Ridge coefficients as a function of lambda(alpha)')"
      ]
     },
     "execution_count": 19,
     "metadata": {},
     "output_type": "execute_result"
    },
    {
     "data": {
      "image/png": "[encoded data removed]",
      "text/plain": [
       "<Figure size 432x288 with 1 Axes>"
      ]
     },
     "metadata": {
      "needs_background": "light"
     },
     "output_type": "display_data"
    }
   ],
   "source": [
    "ax = plt.gca() \n",
    "ax.plot(alphas, coeffs) \n",
    "ax.set_xscale('log') \n",
    "plt.axis('tight') \n",
    "plt.xlabel('Lambda') \n",
    "plt.ylabel('Coefficients') \n",
    "plt.title('Ridge coefficients as a function of lambda(alpha)')"
   ]
  },
  {
   "cell_type": "code",
   "execution_count": 20,
   "id": "urban-shoulder",
   "metadata": {
    "execution": {
     "iopub.execute_input": "2021-06-05T18:07:05.510917Z",
     "iopub.status.busy": "2021-06-05T18:07:05.510291Z",
     "iopub.status.idle": "2021-06-05T18:07:05.514892Z",
     "shell.execute_reply": "2021-06-05T18:07:05.515363Z",
     "shell.execute_reply.started": "2021-06-05T18:03:47.362459Z"
    },
    "papermill": {
     "duration": 0.072108,
     "end_time": "2021-06-05T18:07:05.515551",
     "exception": false,
     "start_time": "2021-06-05T18:07:05.443443",
     "status": "completed"
    },
    "tags": []
   },
   "outputs": [],
   "source": [
    "pd.set_option('precision', 6)                              \n",
    "X_train, X_test , y_train, y_test = model_selection.train_test_split(X, y, test_size=0.5, random_state=1)  "
   ]
  },
  {
   "cell_type": "code",
   "execution_count": 21,
   "id": "waiting-champagne",
   "metadata": {
    "execution": {
     "iopub.execute_input": "2021-06-05T18:07:05.640501Z",
     "iopub.status.busy": "2021-06-05T18:07:05.639900Z",
     "iopub.status.idle": "2021-06-05T18:07:05.645262Z",
     "shell.execute_reply": "2021-06-05T18:07:05.645724Z",
     "shell.execute_reply.started": "2021-06-05T18:03:47.374191Z"
    },
    "papermill": {
     "duration": 0.069615,
     "end_time": "2021-06-05T18:07:05.645892",
     "exception": false,
     "start_time": "2021-06-05T18:07:05.576277",
     "status": "completed"
    },
    "tags": []
   },
   "outputs": [],
   "source": [
    "def Ridge_Regression(alpha):\n",
    "    scaler = StandardScaler()\n",
    "    ridge = Ridge(alpha=alpha)\n",
    "    ridge.fit(scaler.fit_transform(X_train),y_train)\n",
    "    pred = ridge.predict(scaler.fit_transform(X_test))\n",
    "    print(pd.Series(ridge.coef_,index=X.columns))\n",
    "    print('Mean Squared Error: ', mean_squared_error(y_test, pred))"
   ]
  },
  {
   "cell_type": "markdown",
   "id": "reduced-damage",
   "metadata": {
    "papermill": {
     "duration": 0.061807,
     "end_time": "2021-06-05T18:07:05.768653",
     "exception": false,
     "start_time": "2021-06-05T18:07:05.706846",
     "status": "completed"
    },
    "tags": []
   },
   "source": [
    "*** Ridge REgression Lambda 0 ***"
   ]
  },
  {
   "cell_type": "code",
   "execution_count": 22,
   "id": "general-juice",
   "metadata": {
    "execution": {
     "iopub.execute_input": "2021-06-05T18:07:05.896403Z",
     "iopub.status.busy": "2021-06-05T18:07:05.895751Z",
     "iopub.status.idle": "2021-06-05T18:07:05.912582Z",
     "shell.execute_reply": "2021-06-05T18:07:05.913372Z",
     "shell.execute_reply.started": "2021-06-05T18:03:47.391794Z"
    },
    "papermill": {
     "duration": 0.082276,
     "end_time": "2021-06-05T18:07:05.913628",
     "exception": false,
     "start_time": "2021-06-05T18:07:05.831352",
     "status": "completed"
    },
    "tags": []
   },
   "outputs": [
    {
     "name": "stdout",
     "output_type": "stream",
     "text": [
      "AtBat          -266.553048\n",
      "Hits            197.706218\n",
      "HmRun           -38.103182\n",
      "Runs             -1.007996\n",
      "RBI             103.119845\n",
      "Walks            79.750209\n",
      "Years            45.357697\n",
      "CAtBat        -1399.811384\n",
      "CHits          1426.954812\n",
      "CHmRun          264.037977\n",
      "CRuns            86.858781\n",
      "CRBI           -211.142393\n",
      "CWalks           42.533597\n",
      "PutOuts         126.075563\n",
      "Assists          65.816094\n",
      "Errors          -38.313885\n",
      "League_N         66.822855\n",
      "Division_W      -56.870280\n",
      "NewLeague_N     -40.962688\n",
      "dtype: float64\n",
      "Mean Squared Error:  117301.05503374558\n"
     ]
    }
   ],
   "source": [
    "Ridge_Regression(0)"
   ]
  },
  {
   "cell_type": "markdown",
   "id": "hidden-building",
   "metadata": {
    "papermill": {
     "duration": 0.063433,
     "end_time": "2021-06-05T18:07:06.039790",
     "exception": false,
     "start_time": "2021-06-05T18:07:05.976357",
     "status": "completed"
    },
    "tags": []
   },
   "source": [
    "*** Ridge REgression Lambda 5 ***"
   ]
  },
  {
   "cell_type": "code",
   "execution_count": 23,
   "id": "magnetic-melbourne",
   "metadata": {
    "execution": {
     "iopub.execute_input": "2021-06-05T18:07:06.171890Z",
     "iopub.status.busy": "2021-06-05T18:07:06.171258Z",
     "iopub.status.idle": "2021-06-05T18:07:06.190081Z",
     "shell.execute_reply": "2021-06-05T18:07:06.190687Z",
     "shell.execute_reply.started": "2021-06-05T18:03:47.419212Z"
    },
    "papermill": {
     "duration": 0.088719,
     "end_time": "2021-06-05T18:07:06.190860",
     "exception": false,
     "start_time": "2021-06-05T18:07:06.102141",
     "status": "completed"
    },
    "tags": []
   },
   "outputs": [
    {
     "name": "stdout",
     "output_type": "stream",
     "text": [
      "AtBat         -186.758092\n",
      "Hits           173.418840\n",
      "HmRun          -50.099122\n",
      "Runs             4.095323\n",
      "RBI             78.251223\n",
      "Walks           91.208954\n",
      "Years          -27.704779\n",
      "CAtBat         -95.784064\n",
      "CHits           82.427222\n",
      "CHmRun          90.177878\n",
      "CRuns           88.725783\n",
      "CRBI           111.101186\n",
      "CWalks         -31.741730\n",
      "PutOuts        124.645919\n",
      "Assists         22.109118\n",
      "Errors         -17.617342\n",
      "League_N        33.254373\n",
      "Division_W     -60.591409\n",
      "NewLeague_N    -16.244300\n",
      "dtype: float64\n",
      "Mean Squared Error:  104878.0719386757\n"
     ]
    }
   ],
   "source": [
    "Ridge_Regression(5)"
   ]
  },
  {
   "cell_type": "markdown",
   "id": "inside-retail",
   "metadata": {
    "papermill": {
     "duration": 0.06162,
     "end_time": "2021-06-05T18:07:06.314277",
     "exception": false,
     "start_time": "2021-06-05T18:07:06.252657",
     "status": "completed"
    },
    "tags": []
   },
   "source": [
    "*** Ridge REgression Lambda 10 ***"
   ]
  },
  {
   "cell_type": "code",
   "execution_count": 24,
   "id": "korean-exception",
   "metadata": {
    "execution": {
     "iopub.execute_input": "2021-06-05T18:07:06.446570Z",
     "iopub.status.busy": "2021-06-05T18:07:06.445913Z",
     "iopub.status.idle": "2021-06-05T18:07:06.464538Z",
     "shell.execute_reply": "2021-06-05T18:07:06.465555Z",
     "shell.execute_reply.started": "2021-06-05T18:03:47.448943Z"
    },
    "papermill": {
     "duration": 0.089577,
     "end_time": "2021-06-05T18:07:06.465802",
     "exception": false,
     "start_time": "2021-06-05T18:07:06.376225",
     "status": "completed"
    },
    "tags": []
   },
   "outputs": [
    {
     "name": "stdout",
     "output_type": "stream",
     "text": [
      "AtBat         -115.114722\n",
      "Hits           118.410240\n",
      "HmRun          -41.298884\n",
      "Runs             9.186257\n",
      "RBI             65.123912\n",
      "Walks           80.074669\n",
      "Years          -22.548468\n",
      "CAtBat         -44.320918\n",
      "CHits           61.057996\n",
      "CHmRun          81.438854\n",
      "CRuns           61.568147\n",
      "CRBI            90.324791\n",
      "CWalks         -10.664823\n",
      "PutOuts        120.323863\n",
      "Assists         11.855168\n",
      "Errors         -14.112506\n",
      "League_N        25.207460\n",
      "Division_W     -61.002188\n",
      "NewLeague_N     -8.507049\n",
      "dtype: float64\n",
      "Mean Squared Error:  104918.61068850197\n"
     ]
    }
   ],
   "source": [
    "Ridge_Regression(10)"
   ]
  },
  {
   "cell_type": "markdown",
   "id": "continuing-preference",
   "metadata": {
    "papermill": {
     "duration": 0.061852,
     "end_time": "2021-06-05T18:07:06.591093",
     "exception": false,
     "start_time": "2021-06-05T18:07:06.529241",
     "status": "completed"
    },
    "tags": []
   },
   "source": [
    "*** Ridge REgression Lambda 100 ***"
   ]
  },
  {
   "cell_type": "code",
   "execution_count": 25,
   "id": "reasonable-traveler",
   "metadata": {
    "execution": {
     "iopub.execute_input": "2021-06-05T18:07:06.718914Z",
     "iopub.status.busy": "2021-06-05T18:07:06.718228Z",
     "iopub.status.idle": "2021-06-05T18:07:06.735885Z",
     "shell.execute_reply": "2021-06-05T18:07:06.735310Z",
     "shell.execute_reply.started": "2021-06-05T18:03:47.473645Z"
    },
    "papermill": {
     "duration": 0.082943,
     "end_time": "2021-06-05T18:07:06.736036",
     "exception": false,
     "start_time": "2021-06-05T18:07:06.653093",
     "status": "completed"
    },
    "tags": []
   },
   "outputs": [
    {
     "name": "stdout",
     "output_type": "stream",
     "text": [
      "AtBat           3.911359\n",
      "Hits           36.096360\n",
      "HmRun           1.736680\n",
      "Runs           19.611659\n",
      "RBI            32.219132\n",
      "Walks          43.972410\n",
      "Years           8.496447\n",
      "CAtBat         17.992839\n",
      "CHits          32.545056\n",
      "CHmRun         41.512925\n",
      "CRuns          33.271936\n",
      "CRBI           41.571334\n",
      "CWalks         25.535833\n",
      "PutOuts        75.761366\n",
      "Assists        -2.475953\n",
      "Errors         -0.792667\n",
      "League_N        8.214298\n",
      "Division_W    -41.608368\n",
      "NewLeague_N     5.211955\n",
      "dtype: float64\n",
      "Mean Squared Error:  100357.25470322548\n"
     ]
    }
   ],
   "source": [
    "Ridge_Regression(100)"
   ]
  },
  {
   "cell_type": "markdown",
   "id": "fiscal-graduation",
   "metadata": {
    "papermill": {
     "duration": 0.063743,
     "end_time": "2021-06-05T18:07:06.863570",
     "exception": false,
     "start_time": "2021-06-05T18:07:06.799827",
     "status": "completed"
    },
    "tags": []
   },
   "source": [
    "*** Ridge REgression Lambda 1000 ***"
   ]
  },
  {
   "cell_type": "code",
   "execution_count": 26,
   "id": "framed-philadelphia",
   "metadata": {
    "execution": {
     "iopub.execute_input": "2021-06-05T18:07:07.002019Z",
     "iopub.status.busy": "2021-06-05T18:07:07.001320Z",
     "iopub.status.idle": "2021-06-05T18:07:07.010540Z",
     "shell.execute_reply": "2021-06-05T18:07:07.011403Z",
     "shell.execute_reply.started": "2021-06-05T18:03:47.497543Z"
    },
    "papermill": {
     "duration": 0.084155,
     "end_time": "2021-06-05T18:07:07.011689",
     "exception": false,
     "start_time": "2021-06-05T18:07:06.927534",
     "status": "completed"
    },
    "tags": []
   },
   "outputs": [
    {
     "name": "stdout",
     "output_type": "stream",
     "text": [
      "AtBat          11.956682\n",
      "Hits           15.187035\n",
      "HmRun           9.701107\n",
      "Runs           13.289640\n",
      "RBI            16.436589\n",
      "Walks          16.447342\n",
      "Years          11.050104\n",
      "CAtBat         15.191973\n",
      "CHits          17.062696\n",
      "CHmRun         17.621604\n",
      "CRuns          17.492497\n",
      "CRBI           18.394279\n",
      "CWalks         15.813365\n",
      "PutOuts        19.901497\n",
      "Assists        -0.223363\n",
      "Errors          1.292733\n",
      "League_N        0.715848\n",
      "Division_W     -8.982214\n",
      "NewLeague_N     0.784509\n",
      "dtype: float64\n",
      "Mean Squared Error:  114498.45661953154\n"
     ]
    }
   ],
   "source": [
    "Ridge_Regression(1000)"
   ]
  },
  {
   "cell_type": "markdown",
   "id": "charged-thousand",
   "metadata": {
    "papermill": {
     "duration": 0.06475,
     "end_time": "2021-06-05T18:07:07.142301",
     "exception": false,
     "start_time": "2021-06-05T18:07:07.077551",
     "status": "completed"
    },
    "tags": []
   },
   "source": [
    "*** Ridge REgression Lambda 10^10 ***"
   ]
  },
  {
   "cell_type": "code",
   "execution_count": 27,
   "id": "consolidated-peninsula",
   "metadata": {
    "execution": {
     "iopub.execute_input": "2021-06-05T18:07:07.273437Z",
     "iopub.status.busy": "2021-06-05T18:07:07.272415Z",
     "iopub.status.idle": "2021-06-05T18:07:07.295207Z",
     "shell.execute_reply": "2021-06-05T18:07:07.295783Z",
     "shell.execute_reply.started": "2021-06-05T18:03:47.522986Z"
    },
    "papermill": {
     "duration": 0.090265,
     "end_time": "2021-06-05T18:07:07.295980",
     "exception": false,
     "start_time": "2021-06-05T18:07:07.205715",
     "status": "completed"
    },
    "tags": []
   },
   "outputs": [
    {
     "name": "stdout",
     "output_type": "stream",
     "text": [
      "AtBat          2.526133e-06\n",
      "Hits           2.826091e-06\n",
      "HmRun          2.174902e-06\n",
      "Runs           2.632138e-06\n",
      "RBI            3.183658e-06\n",
      "Walks          2.941154e-06\n",
      "Years          2.478179e-06\n",
      "CAtBat         3.213788e-06\n",
      "CHits          3.432349e-06\n",
      "CHmRun         3.435819e-06\n",
      "CRuns          3.522298e-06\n",
      "CRBI           3.602930e-06\n",
      "CWalks         3.216811e-06\n",
      "PutOuts        2.851209e-06\n",
      "Assists       -4.856786e-08\n",
      "Errors         1.736624e-07\n",
      "League_N      -1.637144e-07\n",
      "Division_W    -1.015188e-06\n",
      "NewLeague_N   -1.325154e-07\n",
      "dtype: float64\n",
      "Mean Squared Error:  172862.2200557664\n"
     ]
    }
   ],
   "source": [
    "Ridge_Regression(10**10)"
   ]
  },
  {
   "cell_type": "markdown",
   "id": "after-martial",
   "metadata": {
    "papermill": {
     "duration": 0.064072,
     "end_time": "2021-06-05T18:07:07.425711",
     "exception": false,
     "start_time": "2021-06-05T18:07:07.361639",
     "status": "completed"
    },
    "tags": []
   },
   "source": [
    "# Cross Validation - RidgeCV"
   ]
  },
  {
   "cell_type": "markdown",
   "id": "cloudy-delay",
   "metadata": {
    "papermill": {
     "duration": 0.063034,
     "end_time": "2021-06-05T18:07:07.553815",
     "exception": false,
     "start_time": "2021-06-05T18:07:07.490781",
     "status": "completed"
    },
    "tags": []
   },
   "source": [
    "***RidgeCV (cv=none)***"
   ]
  },
  {
   "cell_type": "code",
   "execution_count": 28,
   "id": "funded-handbook",
   "metadata": {
    "execution": {
     "iopub.execute_input": "2021-06-05T18:07:07.683478Z",
     "iopub.status.busy": "2021-06-05T18:07:07.682495Z",
     "iopub.status.idle": "2021-06-05T18:07:07.709696Z",
     "shell.execute_reply": "2021-06-05T18:07:07.709208Z",
     "shell.execute_reply.started": "2021-06-05T18:03:47.545128Z"
    },
    "papermill": {
     "duration": 0.092902,
     "end_time": "2021-06-05T18:07:07.709831",
     "exception": false,
     "start_time": "2021-06-05T18:07:07.616929",
     "status": "completed"
    },
    "tags": []
   },
   "outputs": [
    {
     "data": {
      "text/plain": [
       "70.54802310718645"
      ]
     },
     "execution_count": 28,
     "metadata": {},
     "output_type": "execute_result"
    }
   ],
   "source": [
    "scaler = StandardScaler()\n",
    "ridgecv = RidgeCV(alphas=alphas)\n",
    "ridgecv.fit(scaler.fit_transform(X_train), y_train)\n",
    "ridgecv.alpha_ "
   ]
  },
  {
   "cell_type": "markdown",
   "id": "happy-defense",
   "metadata": {
    "papermill": {
     "duration": 0.064681,
     "end_time": "2021-06-05T18:07:07.838027",
     "exception": false,
     "start_time": "2021-06-05T18:07:07.773346",
     "status": "completed"
    },
    "tags": []
   },
   "source": [
    "*** RidgeCV (cv=5)***"
   ]
  },
  {
   "cell_type": "code",
   "execution_count": 29,
   "id": "modified-sleep",
   "metadata": {
    "execution": {
     "iopub.execute_input": "2021-06-05T18:07:07.976244Z",
     "iopub.status.busy": "2021-06-05T18:07:07.974491Z",
     "iopub.status.idle": "2021-06-05T18:07:08.907145Z",
     "shell.execute_reply": "2021-06-05T18:07:08.906541Z",
     "shell.execute_reply.started": "2021-06-05T18:03:47.575644Z"
    },
    "papermill": {
     "duration": 1.004541,
     "end_time": "2021-06-05T18:07:08.907293",
     "exception": false,
     "start_time": "2021-06-05T18:07:07.902752",
     "status": "completed"
    },
    "tags": []
   },
   "outputs": [
    {
     "data": {
      "text/plain": [
       "93.26033468832199"
      ]
     },
     "execution_count": 29,
     "metadata": {},
     "output_type": "execute_result"
    }
   ],
   "source": [
    "scaler = StandardScaler()\n",
    "ridgecv = RidgeCV(alphas=alphas, cv = 5)\n",
    "ridgecv.fit(scaler.fit_transform(X_train), y_train)\n",
    "ridgecv.alpha_ "
   ]
  },
  {
   "cell_type": "markdown",
   "id": "dedicated-container",
   "metadata": {
    "papermill": {
     "duration": 0.065194,
     "end_time": "2021-06-05T18:07:09.037758",
     "exception": false,
     "start_time": "2021-06-05T18:07:08.972564",
     "status": "completed"
    },
    "tags": []
   },
   "source": [
    "***RidgeCV (cv = 10)***"
   ]
  },
  {
   "cell_type": "code",
   "execution_count": 30,
   "id": "alike-framing",
   "metadata": {
    "execution": {
     "iopub.execute_input": "2021-06-05T18:07:09.175411Z",
     "iopub.status.busy": "2021-06-05T18:07:09.174410Z",
     "iopub.status.idle": "2021-06-05T18:07:11.006503Z",
     "shell.execute_reply": "2021-06-05T18:07:11.007507Z",
     "shell.execute_reply.started": "2021-06-05T18:03:48.546625Z"
    },
    "papermill": {
     "duration": 1.906039,
     "end_time": "2021-06-05T18:07:11.007833",
     "exception": false,
     "start_time": "2021-06-05T18:07:09.101794",
     "status": "completed"
    },
    "tags": []
   },
   "outputs": [
    {
     "data": {
      "text/plain": [
       "215.44346900318826"
      ]
     },
     "execution_count": 30,
     "metadata": {},
     "output_type": "execute_result"
    }
   ],
   "source": [
    "scaler = StandardScaler()\n",
    "ridgecv = RidgeCV(alphas=alphas, cv = 10)\n",
    "ridgecv.fit(scaler.fit_transform(X_train), y_train)\n",
    "ridgecv.alpha_ "
   ]
  },
  {
   "cell_type": "markdown",
   "id": "automatic-membrane",
   "metadata": {
    "papermill": {
     "duration": 0.079466,
     "end_time": "2021-06-05T18:07:11.181556",
     "exception": false,
     "start_time": "2021-06-05T18:07:11.102090",
     "status": "completed"
    },
    "tags": []
   },
   "source": [
    "# Optimal Rigid Regression"
   ]
  },
  {
   "cell_type": "code",
   "execution_count": 31,
   "id": "pretty-luxury",
   "metadata": {
    "execution": {
     "iopub.execute_input": "2021-06-05T18:07:11.322970Z",
     "iopub.status.busy": "2021-06-05T18:07:11.317235Z",
     "iopub.status.idle": "2021-06-05T18:07:11.331362Z",
     "shell.execute_reply": "2021-06-05T18:07:11.331844Z",
     "shell.execute_reply.started": "2021-06-05T18:03:50.450013Z"
    },
    "papermill": {
     "duration": 0.086373,
     "end_time": "2021-06-05T18:07:11.332032",
     "exception": false,
     "start_time": "2021-06-05T18:07:11.245659",
     "status": "completed"
    },
    "tags": []
   },
   "outputs": [
    {
     "data": {
      "text/plain": [
       "99927.59735966552"
      ]
     },
     "execution_count": 31,
     "metadata": {},
     "output_type": "execute_result"
    }
   ],
   "source": [
    "scaler = StandardScaler()\n",
    "opt_ridge = Ridge(alpha=ridgecv.alpha_) \n",
    "opt_ridge.fit(scaler.fit_transform(X_train), y_train) \n",
    "pred = opt_ridge.predict(scaler.fit_transform(X_test))\n",
    "mean_squared_error(y_test, pred)"
   ]
  },
  {
   "cell_type": "code",
   "execution_count": 32,
   "id": "hispanic-adjustment",
   "metadata": {
    "execution": {
     "iopub.execute_input": "2021-06-05T18:07:11.469214Z",
     "iopub.status.busy": "2021-06-05T18:07:11.468271Z",
     "iopub.status.idle": "2021-06-05T18:07:11.474192Z",
     "shell.execute_reply": "2021-06-05T18:07:11.474782Z",
     "shell.execute_reply.started": "2021-06-05T18:03:50.474398Z"
    },
    "papermill": {
     "duration": 0.078221,
     "end_time": "2021-06-05T18:07:11.474958",
     "exception": false,
     "start_time": "2021-06-05T18:07:11.396737",
     "status": "completed"
    },
    "tags": []
   },
   "outputs": [
    {
     "data": {
      "text/plain": [
       "AtBat          -2.131693\n",
       "Hits            7.609983\n",
       "HmRun           2.357328\n",
       "Runs           -1.956615\n",
       "RBI            -0.149830\n",
       "Walks           6.049360\n",
       "Years          -1.913856\n",
       "CAtBat         -0.181229\n",
       "CHits           0.103239\n",
       "CHmRun         -0.176791\n",
       "CRuns           1.565492\n",
       "CRBI            0.788984\n",
       "CWalks         -0.787067\n",
       "PutOuts         0.291609\n",
       "Assists         0.379783\n",
       "Errors         -2.890302\n",
       "League_N        8.754551\n",
       "Division_W    -26.039641\n",
       "NewLeague_N     5.471489\n",
       "dtype: float64"
      ]
     },
     "execution_count": 32,
     "metadata": {},
     "output_type": "execute_result"
    }
   ],
   "source": [
    "opt_ridge.fit(X,y)\n",
    "pd.Series(opt_ridge.coef_, index = X.columns)"
   ]
  },
  {
   "cell_type": "markdown",
   "id": "solid-setting",
   "metadata": {
    "papermill": {
     "duration": 0.064518,
     "end_time": "2021-06-05T18:07:11.605464",
     "exception": false,
     "start_time": "2021-06-05T18:07:11.540946",
     "status": "completed"
    },
    "tags": []
   },
   "source": [
    "# Lasso Regression"
   ]
  },
  {
   "cell_type": "code",
   "execution_count": 33,
   "id": "analyzed-little",
   "metadata": {
    "execution": {
     "iopub.execute_input": "2021-06-05T18:07:11.738720Z",
     "iopub.status.busy": "2021-06-05T18:07:11.737792Z",
     "iopub.status.idle": "2021-06-05T18:07:11.741952Z",
     "shell.execute_reply": "2021-06-05T18:07:11.742508Z",
     "shell.execute_reply.started": "2021-06-05T18:03:50.489167Z"
    },
    "papermill": {
     "duration": 0.072469,
     "end_time": "2021-06-05T18:07:11.742687",
     "exception": false,
     "start_time": "2021-06-05T18:07:11.670218",
     "status": "completed"
    },
    "tags": []
   },
   "outputs": [],
   "source": [
    "lasso = Lasso(max_iter = 100000)\n",
    "coefs = []\n",
    "scaler = StandardScaler()"
   ]
  },
  {
   "cell_type": "code",
   "execution_count": 34,
   "id": "focused-activation",
   "metadata": {
    "execution": {
     "iopub.execute_input": "2021-06-05T18:07:11.890747Z",
     "iopub.status.busy": "2021-06-05T18:07:11.890021Z",
     "iopub.status.idle": "2021-06-05T18:07:13.957869Z",
     "shell.execute_reply": "2021-06-05T18:07:13.958355Z",
     "shell.execute_reply.started": "2021-06-05T18:03:50.497103Z"
    },
    "papermill": {
     "duration": 2.151123,
     "end_time": "2021-06-05T18:07:13.958581",
     "exception": false,
     "start_time": "2021-06-05T18:07:11.807458",
     "status": "completed"
    },
    "tags": []
   },
   "outputs": [],
   "source": [
    "for a in alphas:\n",
    "    lasso.set_params(alpha = a)\n",
    "    lasso.fit(scaler.fit_transform(X_train), y_train)\n",
    "    coefs.append(lasso.coef_)"
   ]
  },
  {
   "cell_type": "code",
   "execution_count": 35,
   "id": "native-hawaii",
   "metadata": {
    "execution": {
     "iopub.execute_input": "2021-06-05T18:07:14.093530Z",
     "iopub.status.busy": "2021-06-05T18:07:14.092930Z",
     "iopub.status.idle": "2021-06-05T18:07:14.379677Z",
     "shell.execute_reply": "2021-06-05T18:07:14.379170Z",
     "shell.execute_reply.started": "2021-06-05T18:03:52.628774Z"
    },
    "papermill": {
     "duration": 0.354832,
     "end_time": "2021-06-05T18:07:14.379822",
     "exception": false,
     "start_time": "2021-06-05T18:07:14.024990",
     "status": "completed"
    },
    "tags": []
   },
   "outputs": [
    {
     "data": {
      "image/png": "[encoded data removed]",
      "text/plain": [
       "<Figure size 432x288 with 1 Axes>"
      ]
     },
     "metadata": {
      "needs_background": "light"
     },
     "output_type": "display_data"
    }
   ],
   "source": [
    "ax = plt.gca()\n",
    "ax.plot(alphas*2, coefs)\n",
    "ax.set_xscale('log')\n",
    "plt.axis('tight')\n",
    "plt.xlabel('Lambda')\n",
    "plt.ylabel('Coddicients')\n",
    "plt.title('Lasso coefficients as function of Lambda(alpha)')\n",
    "plt.show()"
   ]
  },
  {
   "cell_type": "markdown",
   "id": "analyzed-reach",
   "metadata": {
    "papermill": {
     "duration": 0.065714,
     "end_time": "2021-06-05T18:07:14.511181",
     "exception": false,
     "start_time": "2021-06-05T18:07:14.445467",
     "status": "completed"
    },
    "tags": []
   },
   "source": [
    "# LassoCV"
   ]
  },
  {
   "cell_type": "markdown",
   "id": "focused-privilege",
   "metadata": {
    "papermill": {
     "duration": 0.065541,
     "end_time": "2021-06-05T18:07:14.642479",
     "exception": false,
     "start_time": "2021-06-05T18:07:14.576938",
     "status": "completed"
    },
    "tags": []
   },
   "source": [
    "*** LassoCV - cv = 10 ***"
   ]
  },
  {
   "cell_type": "code",
   "execution_count": 36,
   "id": "plain-soccer",
   "metadata": {
    "execution": {
     "iopub.execute_input": "2021-06-05T18:07:14.784244Z",
     "iopub.status.busy": "2021-06-05T18:07:14.781709Z",
     "iopub.status.idle": "2021-06-05T18:07:15.176710Z",
     "shell.execute_reply": "2021-06-05T18:07:15.177524Z",
     "shell.execute_reply.started": "2021-06-05T18:03:52.944537Z"
    },
    "papermill": {
     "duration": 0.4693,
     "end_time": "2021-06-05T18:07:15.177843",
     "exception": false,
     "start_time": "2021-06-05T18:07:14.708543",
     "status": "completed"
    },
    "tags": []
   },
   "outputs": [
    {
     "data": {
      "text/plain": [
       "LassoCV(cv=10, max_iter=100000)"
      ]
     },
     "execution_count": 36,
     "metadata": {},
     "output_type": "execute_result"
    }
   ],
   "source": [
    "lassocv = LassoCV(alphas = None, cv = 10, max_iter = 100000)\n",
    "lassocv.fit(scaler.fit_transform(X_train), y_train)"
   ]
  },
  {
   "cell_type": "code",
   "execution_count": 37,
   "id": "heavy-broad",
   "metadata": {
    "execution": {
     "iopub.execute_input": "2021-06-05T18:07:15.324214Z",
     "iopub.status.busy": "2021-06-05T18:07:15.323197Z",
     "iopub.status.idle": "2021-06-05T18:07:15.328846Z",
     "shell.execute_reply": "2021-06-05T18:07:15.329330Z",
     "shell.execute_reply.started": "2021-06-05T18:03:53.517522Z"
    },
    "papermill": {
     "duration": 0.076527,
     "end_time": "2021-06-05T18:07:15.329503",
     "exception": false,
     "start_time": "2021-06-05T18:07:15.252976",
     "status": "completed"
    },
    "tags": []
   },
   "outputs": [
    {
     "data": {
      "text/plain": [
       "27.503283261878394"
      ]
     },
     "execution_count": 37,
     "metadata": {},
     "output_type": "execute_result"
    }
   ],
   "source": [
    "lassocv.alpha_"
   ]
  },
  {
   "cell_type": "markdown",
   "id": "executive-doubt",
   "metadata": {
    "papermill": {
     "duration": 0.066905,
     "end_time": "2021-06-05T18:07:15.463647",
     "exception": false,
     "start_time": "2021-06-05T18:07:15.396742",
     "status": "completed"
    },
    "tags": []
   },
   "source": [
    "# Optimal Lasso"
   ]
  },
  {
   "cell_type": "code",
   "execution_count": 38,
   "id": "filled-truth",
   "metadata": {
    "execution": {
     "iopub.execute_input": "2021-06-05T18:07:15.601802Z",
     "iopub.status.busy": "2021-06-05T18:07:15.600834Z",
     "iopub.status.idle": "2021-06-05T18:07:15.617301Z",
     "shell.execute_reply": "2021-06-05T18:07:15.617817Z",
     "shell.execute_reply.started": "2021-06-05T18:03:53.528565Z"
    },
    "papermill": {
     "duration": 0.087239,
     "end_time": "2021-06-05T18:07:15.617993",
     "exception": false,
     "start_time": "2021-06-05T18:07:15.530754",
     "status": "completed"
    },
    "tags": []
   },
   "outputs": [
    {
     "data": {
      "text/plain": [
       "106183.7169261195"
      ]
     },
     "execution_count": 38,
     "metadata": {},
     "output_type": "execute_result"
    }
   ],
   "source": [
    "lasso.set_params(alpha = lassocv.alpha_)\n",
    "lasso.fit(scaler.fit_transform(X_train), y_train)\n",
    "mean_squared_error(y_test, lasso.predict(scaler.fit_transform(X_test)))"
   ]
  },
  {
   "cell_type": "code",
   "execution_count": 39,
   "id": "color-briefing",
   "metadata": {
    "execution": {
     "iopub.execute_input": "2021-06-05T18:07:15.756378Z",
     "iopub.status.busy": "2021-06-05T18:07:15.755466Z",
     "iopub.status.idle": "2021-06-05T18:07:15.762521Z",
     "shell.execute_reply": "2021-06-05T18:07:15.763079Z",
     "shell.execute_reply.started": "2021-06-05T18:03:53.562419Z"
    },
    "papermill": {
     "duration": 0.077537,
     "end_time": "2021-06-05T18:07:15.763274",
     "exception": false,
     "start_time": "2021-06-05T18:07:15.685737",
     "status": "completed"
    },
    "tags": []
   },
   "outputs": [
    {
     "data": {
      "text/plain": [
       "AtBat            0.000000\n",
       "Hits            50.246197\n",
       "HmRun            0.000000\n",
       "Runs             0.000000\n",
       "RBI              0.000000\n",
       "Walks           66.794424\n",
       "Years            0.000000\n",
       "CAtBat           0.000000\n",
       "CHits            0.000000\n",
       "CHmRun          19.441152\n",
       "CRuns            0.000000\n",
       "CRBI           181.336557\n",
       "CWalks           0.000000\n",
       "PutOuts        110.307327\n",
       "Assists         -0.000000\n",
       "Errors          -0.000000\n",
       "League_N         0.000000\n",
       "Division_W     -44.530872\n",
       "NewLeague_N      0.000000\n",
       "dtype: float64"
      ]
     },
     "execution_count": 39,
     "metadata": {},
     "output_type": "execute_result"
    }
   ],
   "source": [
    "pd.Series(lasso.coef_, index=X.columns) "
   ]
  },
  {
   "cell_type": "markdown",
   "id": "silver-violation",
   "metadata": {
    "papermill": {
     "duration": 0.068194,
     "end_time": "2021-06-05T18:07:15.900197",
     "exception": false,
     "start_time": "2021-06-05T18:07:15.832003",
     "status": "completed"
    },
    "tags": []
   },
   "source": [
    "*** Coefficient !=0 ***"
   ]
  },
  {
   "cell_type": "code",
   "execution_count": 40,
   "id": "aquatic-intent",
   "metadata": {
    "execution": {
     "iopub.execute_input": "2021-06-05T18:07:16.044103Z",
     "iopub.status.busy": "2021-06-05T18:07:16.043446Z",
     "iopub.status.idle": "2021-06-05T18:07:16.050216Z",
     "shell.execute_reply": "2021-06-05T18:07:16.050715Z",
     "shell.execute_reply.started": "2021-06-05T18:03:53.572066Z"
    },
    "papermill": {
     "duration": 0.080519,
     "end_time": "2021-06-05T18:07:16.050907",
     "exception": false,
     "start_time": "2021-06-05T18:07:15.970388",
     "status": "completed"
    },
    "tags": []
   },
   "outputs": [
    {
     "data": {
      "text/plain": [
       "Hits           50.246197\n",
       "Walks          66.794424\n",
       "CHmRun         19.441152\n",
       "CRBI          181.336557\n",
       "PutOuts       110.307327\n",
       "Division_W    -44.530872\n",
       "dtype: float64"
      ]
     },
     "execution_count": 40,
     "metadata": {},
     "output_type": "execute_result"
    }
   ],
   "source": [
    "pd.Series(lasso.coef_[lasso.coef_ !=0], index=X.columns[lasso.coef_ !=0])"
   ]
  },
  {
   "cell_type": "markdown",
   "id": "quality-yacht",
   "metadata": {
    "papermill": {
     "duration": 0.068971,
     "end_time": "2021-06-05T18:07:16.189644",
     "exception": false,
     "start_time": "2021-06-05T18:07:16.120673",
     "status": "completed"
    },
    "tags": []
   },
   "source": [
    "# Principle Components Analysis"
   ]
  },
  {
   "cell_type": "markdown",
   "id": "going-scheme",
   "metadata": {
    "papermill": {
     "duration": 0.067672,
     "end_time": "2021-06-05T18:07:16.325773",
     "exception": false,
     "start_time": "2021-06-05T18:07:16.258101",
     "status": "completed"
    },
    "tags": []
   },
   "source": [
    "*** Import Liberaries ***"
   ]
  },
  {
   "cell_type": "code",
   "execution_count": 41,
   "id": "earned-melissa",
   "metadata": {
    "execution": {
     "iopub.execute_input": "2021-06-05T18:07:16.465139Z",
     "iopub.status.busy": "2021-06-05T18:07:16.464445Z",
     "iopub.status.idle": "2021-06-05T18:07:16.495728Z",
     "shell.execute_reply": "2021-06-05T18:07:16.496202Z",
     "shell.execute_reply.started": "2021-06-05T18:03:53.589809Z"
    },
    "papermill": {
     "duration": 0.102828,
     "end_time": "2021-06-05T18:07:16.496407",
     "exception": false,
     "start_time": "2021-06-05T18:07:16.393579",
     "status": "completed"
    },
    "tags": []
   },
   "outputs": [],
   "source": [
    "from sklearn.preprocessing import scale\n",
    "from sklearn.decomposition import PCA\n",
    "from sklearn.model_selection import KFold, cross_val_score\n",
    "from sklearn.linear_model import LinearRegression\n",
    "from sklearn.metrics import mean_squared_error"
   ]
  },
  {
   "cell_type": "markdown",
   "id": "classified-wheel",
   "metadata": {
    "papermill": {
     "duration": 0.067817,
     "end_time": "2021-06-05T18:07:16.633042",
     "exception": false,
     "start_time": "2021-06-05T18:07:16.565225",
     "status": "completed"
    },
    "tags": []
   },
   "source": [
    "*** Principle COmponents ***"
   ]
  },
  {
   "cell_type": "code",
   "execution_count": 42,
   "id": "formal-latter",
   "metadata": {
    "execution": {
     "iopub.execute_input": "2021-06-05T18:07:16.774149Z",
     "iopub.status.busy": "2021-06-05T18:07:16.773416Z",
     "iopub.status.idle": "2021-06-05T18:07:16.781938Z",
     "shell.execute_reply": "2021-06-05T18:07:16.782817Z",
     "shell.execute_reply.started": "2021-06-05T18:03:53.602881Z"
    },
    "papermill": {
     "duration": 0.081647,
     "end_time": "2021-06-05T18:07:16.783066",
     "exception": false,
     "start_time": "2021-06-05T18:07:16.701419",
     "status": "completed"
    },
    "tags": []
   },
   "outputs": [
    {
     "name": "stdout",
     "output_type": "stream",
     "text": [
      "(19, 19)\n"
     ]
    }
   ],
   "source": [
    "pca = PCA()\n",
    "x_pca_reduced = pca.fit_transform(scale(X))\n",
    "print(pca.components_.shape)"
   ]
  },
  {
   "cell_type": "code",
   "execution_count": 43,
   "id": "confidential-number",
   "metadata": {
    "execution": {
     "iopub.execute_input": "2021-06-05T18:07:16.925829Z",
     "iopub.status.busy": "2021-06-05T18:07:16.924922Z",
     "iopub.status.idle": "2021-06-05T18:07:16.938722Z",
     "shell.execute_reply": "2021-06-05T18:07:16.939300Z",
     "shell.execute_reply.started": "2021-06-05T18:03:53.624831Z"
    },
    "papermill": {
     "duration": 0.086204,
     "end_time": "2021-06-05T18:07:16.939487",
     "exception": false,
     "start_time": "2021-06-05T18:07:16.853283",
     "status": "completed"
    },
    "tags": []
   },
   "outputs": [
    {
     "data": {
      "text/html": [
       "<div>\n",
       "<style scoped>\n",
       "    .dataframe tbody tr th:only-of-type {\n",
       "        vertical-align: middle;\n",
       "    }\n",
       "\n",
       "    .dataframe tbody tr th {\n",
       "        vertical-align: top;\n",
       "    }\n",
       "\n",
       "    .dataframe thead th {\n",
       "        text-align: right;\n",
       "    }\n",
       "</style>\n",
       "<table border=\"1\" class=\"dataframe\">\n",
       "  <thead>\n",
       "    <tr style=\"text-align: right;\">\n",
       "      <th></th>\n",
       "      <th>0</th>\n",
       "      <th>1</th>\n",
       "      <th>2</th>\n",
       "      <th>3</th>\n",
       "      <th>4</th>\n",
       "    </tr>\n",
       "  </thead>\n",
       "  <tbody>\n",
       "    <tr>\n",
       "      <th>0</th>\n",
       "      <td>0.198290</td>\n",
       "      <td>-0.383784</td>\n",
       "      <td>0.088626</td>\n",
       "      <td>0.031967</td>\n",
       "      <td>0.028117</td>\n",
       "    </tr>\n",
       "    <tr>\n",
       "      <th>1</th>\n",
       "      <td>0.195861</td>\n",
       "      <td>-0.377271</td>\n",
       "      <td>0.074032</td>\n",
       "      <td>0.017982</td>\n",
       "      <td>-0.004652</td>\n",
       "    </tr>\n",
       "    <tr>\n",
       "      <th>2</th>\n",
       "      <td>0.204369</td>\n",
       "      <td>-0.237136</td>\n",
       "      <td>-0.216186</td>\n",
       "      <td>-0.235831</td>\n",
       "      <td>0.077660</td>\n",
       "    </tr>\n",
       "    <tr>\n",
       "      <th>3</th>\n",
       "      <td>0.198337</td>\n",
       "      <td>-0.377721</td>\n",
       "      <td>-0.017166</td>\n",
       "      <td>-0.049942</td>\n",
       "      <td>-0.038536</td>\n",
       "    </tr>\n",
       "    <tr>\n",
       "      <th>4</th>\n",
       "      <td>0.235174</td>\n",
       "      <td>-0.314531</td>\n",
       "      <td>-0.073085</td>\n",
       "      <td>-0.138985</td>\n",
       "      <td>0.024299</td>\n",
       "    </tr>\n",
       "  </tbody>\n",
       "</table>\n",
       "</div>"
      ],
      "text/plain": [
       "          0         1         2         3         4\n",
       "0  0.198290 -0.383784  0.088626  0.031967  0.028117\n",
       "1  0.195861 -0.377271  0.074032  0.017982 -0.004652\n",
       "2  0.204369 -0.237136 -0.216186 -0.235831  0.077660\n",
       "3  0.198337 -0.377721 -0.017166 -0.049942 -0.038536\n",
       "4  0.235174 -0.314531 -0.073085 -0.138985  0.024299"
      ]
     },
     "execution_count": 43,
     "metadata": {},
     "output_type": "execute_result"
    }
   ],
   "source": [
    "pd.DataFrame(pca.components_.T).loc[:4,:4]"
   ]
  },
  {
   "cell_type": "markdown",
   "id": "canadian-picture",
   "metadata": {
    "papermill": {
     "duration": 0.069081,
     "end_time": "2021-06-05T18:07:17.079040",
     "exception": false,
     "start_time": "2021-06-05T18:07:17.009959",
     "status": "completed"
    },
    "tags": []
   },
   "source": [
    "***Principal Components Variance Explained***"
   ]
  },
  {
   "cell_type": "code",
   "execution_count": 44,
   "id": "amateur-jersey",
   "metadata": {
    "execution": {
     "iopub.execute_input": "2021-06-05T18:07:17.222840Z",
     "iopub.status.busy": "2021-06-05T18:07:17.221919Z",
     "iopub.status.idle": "2021-06-05T18:07:17.228626Z",
     "shell.execute_reply": "2021-06-05T18:07:17.229182Z",
     "shell.execute_reply.started": "2021-06-05T18:03:53.645345Z"
    },
    "papermill": {
     "duration": 0.079708,
     "end_time": "2021-06-05T18:07:17.229395",
     "exception": false,
     "start_time": "2021-06-05T18:07:17.149687",
     "status": "completed"
    },
    "tags": []
   },
   "outputs": [
    {
     "data": {
      "text/plain": [
       "array([38.31, 60.15, 70.84, 79.03, 84.29, 88.63, 92.26, 94.96, 96.28,\n",
       "       97.25, 97.97, 98.64, 99.14, 99.46, 99.73, 99.88, 99.95, 99.98,\n",
       "       99.99])"
      ]
     },
     "execution_count": 44,
     "metadata": {},
     "output_type": "execute_result"
    }
   ],
   "source": [
    "np.cumsum(np.round(pca.explained_variance_ratio_, decimals=4)*100)"
   ]
  },
  {
   "cell_type": "markdown",
   "id": "amended-trouble",
   "metadata": {
    "papermill": {
     "duration": 0.069035,
     "end_time": "2021-06-05T18:07:17.367670",
     "exception": false,
     "start_time": "2021-06-05T18:07:17.298635",
     "status": "completed"
    },
    "tags": []
   },
   "source": [
    "*** Implementing PCA ***"
   ]
  },
  {
   "cell_type": "code",
   "execution_count": 45,
   "id": "guided-dylan",
   "metadata": {
    "execution": {
     "iopub.execute_input": "2021-06-05T18:07:17.510204Z",
     "iopub.status.busy": "2021-06-05T18:07:17.509241Z",
     "iopub.status.idle": "2021-06-05T18:07:17.999298Z",
     "shell.execute_reply": "2021-06-05T18:07:17.999810Z",
     "shell.execute_reply.started": "2021-06-05T18:03:53.661685Z"
    },
    "papermill": {
     "duration": 0.563189,
     "end_time": "2021-06-05T18:07:18.000008",
     "exception": false,
     "start_time": "2021-06-05T18:07:17.436819",
     "status": "completed"
    },
    "tags": []
   },
   "outputs": [
    {
     "data": {
      "text/plain": [
       "[]"
      ]
     },
     "execution_count": 45,
     "metadata": {},
     "output_type": "execute_result"
    },
    {
     "data": {
      "image/png": "[encoded data removed]",
      "text/plain": [
       "<Figure size 432x288 with 1 Axes>"
      ]
     },
     "metadata": {
      "needs_background": "light"
     },
     "output_type": "display_data"
    }
   ],
   "source": [
    "pca_t = PCA() \n",
    "\n",
    "X_train_reduced_pca = pca_t.fit_transform(scale(X_train)) \n",
    "\n",
    "n = len(X_train_reduced_pca) \n",
    "\n",
    "kfold10 = KFold(n_splits=10)\n",
    "\n",
    "lm_regr = LinearRegression()\n",
    "\n",
    "mse = []                                                               \n",
    "\n",
    "tr_score = -1*cross_val_score(lm_regr, np.ones((n,1)),y_train, cv=kfold10, scoring='neg_mean_squared_error').mean()\n",
    "    \n",
    "mse.append(tr_score) \n",
    "\n",
    "for i in np.arange(1, 20): \n",
    "    tr_score = -1*cross_val_score(lm_regr, X_train_reduced_pca[:,:i], y_train, cv=kfold10, scoring='neg_mean_squared_error').mean() \n",
    "    mse.append(tr_score) \n",
    "\n",
    "plt.plot(mse, '-v') \n",
    "plt.xlabel('Number of principal components in regression') \n",
    "plt.ylabel('MSE') \n",
    "plt.title('Player Salary') \n",
    "plt.xlim(xmin=-1); \n",
    "plt.plot()"
   ]
  },
  {
   "cell_type": "code",
   "execution_count": 46,
   "id": "going-meter",
   "metadata": {
    "execution": {
     "iopub.execute_input": "2021-06-05T18:07:18.154654Z",
     "iopub.status.busy": "2021-06-05T18:07:18.153731Z",
     "iopub.status.idle": "2021-06-05T18:07:18.162296Z",
     "shell.execute_reply": "2021-06-05T18:07:18.162752Z",
     "shell.execute_reply.started": "2021-06-05T18:03:54.194749Z"
    },
    "papermill": {
     "duration": 0.084211,
     "end_time": "2021-06-05T18:07:18.162947",
     "exception": false,
     "start_time": "2021-06-05T18:07:18.078736",
     "status": "completed"
    },
    "tags": []
   },
   "outputs": [
    {
     "data": {
      "text/plain": [
       "1     235406.619100\n",
       "2     144310.329851\n",
       "3     141961.097915\n",
       "4     142493.549431\n",
       "5     143287.577720\n",
       "6     134376.466736\n",
       "7     129143.405002\n",
       "8     131571.376294\n",
       "9     135335.186049\n",
       "10    138904.079492\n",
       "11    149674.333623\n",
       "12    150179.569822\n",
       "13    152739.781510\n",
       "14    154371.214873\n",
       "15    164099.596798\n",
       "16    154067.909113\n",
       "17    147843.866699\n",
       "18    154154.156968\n",
       "19    148268.507015\n",
       "20    150176.362589\n",
       "dtype: float64"
      ]
     },
     "execution_count": 46,
     "metadata": {},
     "output_type": "execute_result"
    }
   ],
   "source": [
    "# MSE for Each Component\n",
    "mse_each_comp=pd.Series(np.array(mse).flatten(), index = np.arange(1,21)) \n",
    "mse_each_comp"
   ]
  },
  {
   "cell_type": "code",
   "execution_count": 47,
   "id": "promising-trauma",
   "metadata": {
    "execution": {
     "iopub.execute_input": "2021-06-05T18:07:18.310682Z",
     "iopub.status.busy": "2021-06-05T18:07:18.309791Z",
     "iopub.status.idle": "2021-06-05T18:07:18.314508Z",
     "shell.execute_reply": "2021-06-05T18:07:18.314003Z",
     "shell.execute_reply.started": "2021-06-05T18:03:54.205985Z"
    },
    "papermill": {
     "duration": 0.08105,
     "end_time": "2021-06-05T18:07:18.314689",
     "exception": false,
     "start_time": "2021-06-05T18:07:18.233639",
     "status": "completed"
    },
    "tags": []
   },
   "outputs": [
    {
     "data": {
      "text/plain": [
       "129143.40500200144"
      ]
     },
     "execution_count": 47,
     "metadata": {},
     "output_type": "execute_result"
    }
   ],
   "source": [
    "# Minimum MSE\n",
    "np.amin(mse_each_comp)"
   ]
  },
  {
   "cell_type": "code",
   "execution_count": 48,
   "id": "reduced-property",
   "metadata": {
    "execution": {
     "iopub.execute_input": "2021-06-05T18:07:18.468028Z",
     "iopub.status.busy": "2021-06-05T18:07:18.466941Z",
     "iopub.status.idle": "2021-06-05T18:07:18.475513Z",
     "shell.execute_reply": "2021-06-05T18:07:18.474851Z",
     "shell.execute_reply.started": "2021-06-05T18:03:54.224161Z"
    },
    "papermill": {
     "duration": 0.089953,
     "end_time": "2021-06-05T18:07:18.475695",
     "exception": false,
     "start_time": "2021-06-05T18:07:18.385742",
     "status": "completed"
    },
    "tags": []
   },
   "outputs": [
    {
     "data": {
      "text/plain": [
       "111994.42273636986"
      ]
     },
     "execution_count": 48,
     "metadata": {},
     "output_type": "execute_result"
    }
   ],
   "source": [
    "# Regression MOdel with reduced Component\n",
    "X_test_reduced_pca = pca_t.transform(scale(X_test))[:,:7] \n",
    "\n",
    "regr = LinearRegression() \n",
    "\n",
    "regr.fit(X_train_reduced_pca[:,:7], y_train) \n",
    "\n",
    "pred = regr.predict(X_test_reduced_pca) \n",
    "\n",
    "mean_squared_error(y_test, pred) "
   ]
  },
  {
   "cell_type": "code",
   "execution_count": 49,
   "id": "smoking-difficulty",
   "metadata": {
    "execution": {
     "iopub.execute_input": "2021-06-05T18:07:18.624893Z",
     "iopub.status.busy": "2021-06-05T18:07:18.623920Z",
     "iopub.status.idle": "2021-06-05T18:07:18.629858Z",
     "shell.execute_reply": "2021-06-05T18:07:18.630343Z",
     "shell.execute_reply.started": "2021-06-05T18:03:54.244337Z"
    },
    "papermill": {
     "duration": 0.081637,
     "end_time": "2021-06-05T18:07:18.630519",
     "exception": false,
     "start_time": "2021-06-05T18:07:18.548882",
     "status": "completed"
    },
    "tags": []
   },
   "outputs": [
    {
     "data": {
      "text/plain": [
       "array([111.65854316, -31.45724128,  29.39674508, -27.26877462,\n",
       "       -94.69732568,  96.48700437, -49.67311542])"
      ]
     },
     "execution_count": 49,
     "metadata": {},
     "output_type": "execute_result"
    }
   ],
   "source": [
    "regr.coef_"
   ]
  }
 ],
 "metadata": {
  "kernelspec": {
   "display_name": "Python 3",
   "language": "python",
   "name": "python3"
  },
  "language_info": {
   "codemirror_mode": {
    "name": "ipython",
    "version": 3
   },
   "file_extension": ".py",
   "mimetype": "text/x-python",
   "name": "python",
   "nbconvert_exporter": "python",
   "pygments_lexer": "ipython3",
   "version": "3.7.10"
  },
  "papermill": {
   "default_parameters": {},
   "duration": 28.939331,
   "end_time": "2021-06-05T18:07:20.151040",
   "environment_variables": {},
   "exception": null,
   "input_path": "__notebook__.ipynb",
   "output_path": "__notebook__.ipynb",
   "parameters": {},
   "start_time": "2021-06-05T18:06:51.211709",
   "version": "2.3.3"
  }
 },
 "nbformat": 4,
 "nbformat_minor": 5
}
