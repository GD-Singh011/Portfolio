{
 "cells": [
  {
   "cell_type": "code",
   "execution_count": 1,
   "id": "olive-guitar",
   "metadata": {
    "_cell_guid": "b1076dfc-b9ad-4769-8c92-a6c4dae69d19",
    "_uuid": "8f2839f25d086af736a60e9eeb907d3b93b6e0e5",
    "execution": {
     "iopub.execute_input": "2021-06-06T09:21:34.750661Z",
     "iopub.status.busy": "2021-06-06T09:21:34.749939Z",
     "iopub.status.idle": "2021-06-06T09:21:34.761510Z",
     "shell.execute_reply": "2021-06-06T09:21:34.762035Z",
     "shell.execute_reply.started": "2021-06-06T08:57:43.129404Z"
    },
    "papermill": {
     "duration": 0.053302,
     "end_time": "2021-06-06T09:21:34.762385",
     "exception": false,
     "start_time": "2021-06-06T09:21:34.709083",
     "status": "completed"
    },
    "tags": []
   },
   "outputs": [
    {
     "name": "stdout",
     "output_type": "stream",
     "text": [
      "/kaggle/input/creditcardfraud/creditcard.csv\n"
     ]
    }
   ],
   "source": [
    "# This Python 3 environment comes with many helpful analytics libraries installed\n",
    "# It is defined by the kaggle/python Docker image: https://github.com/kaggle/docker-python\n",
    "# For example, here's several helpful packages to load\n",
    "\n",
    "import numpy as np # linear algebra\n",
    "import pandas as pd # data processing, CSV file I/O (e.g. pd.read_csv)\n",
    "\n",
    "# Input data files are available in the read-only \"../input/\" directory\n",
    "# For example, running this (by clicking run or pressing Shift+Enter) will list all files under the input directory\n",
    "\n",
    "import os\n",
    "for dirname, _, filenames in os.walk('/kaggle/input'):\n",
    "    for filename in filenames:\n",
    "        print(os.path.join(dirname, filename))\n",
    "\n",
    "# You can write up to 20GB to the current directory (/kaggle/working/) that gets preserved as output when you create a version using \"Save & Run All\" \n",
    "# You can also write temporary files to /kaggle/temp/, but they won't be saved outside of the current session"
   ]
  },
  {
   "cell_type": "code",
   "execution_count": 2,
   "id": "interracial-locking",
   "metadata": {
    "execution": {
     "iopub.execute_input": "2021-06-06T09:21:34.821673Z",
     "iopub.status.busy": "2021-06-06T09:21:34.820892Z",
     "iopub.status.idle": "2021-06-06T09:21:35.690771Z",
     "shell.execute_reply": "2021-06-06T09:21:35.691273Z",
     "shell.execute_reply.started": "2021-06-06T08:57:43.145233Z"
    },
    "papermill": {
     "duration": 0.902332,
     "end_time": "2021-06-06T09:21:35.691456",
     "exception": false,
     "start_time": "2021-06-06T09:21:34.789124",
     "status": "completed"
    },
    "tags": []
   },
   "outputs": [],
   "source": [
    "# Importing Liberaries\n",
    "import numpy as np\n",
    "import pandas as pd\n",
    "import seaborn as sns\n",
    "import matplotlib.pyplot as plt\n",
    "from pandas import read_csv, set_option\n",
    "from pandas.plotting import scatter_matrix"
   ]
  },
  {
   "cell_type": "code",
   "execution_count": 3,
   "id": "foreign-audio",
   "metadata": {
    "execution": {
     "iopub.execute_input": "2021-06-06T09:21:35.750767Z",
     "iopub.status.busy": "2021-06-06T09:21:35.750034Z",
     "iopub.status.idle": "2021-06-06T09:21:40.185222Z",
     "shell.execute_reply": "2021-06-06T09:21:40.184706Z",
     "shell.execute_reply.started": "2021-06-06T08:57:43.575588Z"
    },
    "papermill": {
     "duration": 4.467659,
     "end_time": "2021-06-06T09:21:40.185422",
     "exception": false,
     "start_time": "2021-06-06T09:21:35.717763",
     "status": "completed"
    },
    "tags": []
   },
   "outputs": [],
   "source": [
    "# Loading Data\n",
    "fraud_data = pd.read_csv('/kaggle/input/creditcardfraud/creditcard.csv')"
   ]
  },
  {
   "cell_type": "code",
   "execution_count": 4,
   "id": "satisfied-cookbook",
   "metadata": {
    "execution": {
     "iopub.execute_input": "2021-06-06T09:21:40.256124Z",
     "iopub.status.busy": "2021-06-06T09:21:40.255166Z",
     "iopub.status.idle": "2021-06-06T09:21:40.286802Z",
     "shell.execute_reply": "2021-06-06T09:21:40.287293Z",
     "shell.execute_reply.started": "2021-06-06T08:57:46.015435Z"
    },
    "papermill": {
     "duration": 0.075438,
     "end_time": "2021-06-06T09:21:40.287477",
     "exception": false,
     "start_time": "2021-06-06T09:21:40.212039",
     "status": "completed"
    },
    "tags": []
   },
   "outputs": [
    {
     "data": {
      "text/html": [
       "<div>\n",
       "<style scoped>\n",
       "    .dataframe tbody tr th:only-of-type {\n",
       "        vertical-align: middle;\n",
       "    }\n",
       "\n",
       "    .dataframe tbody tr th {\n",
       "        vertical-align: top;\n",
       "    }\n",
       "\n",
       "    .dataframe thead th {\n",
       "        text-align: right;\n",
       "    }\n",
       "</style>\n",
       "<table border=\"1\" class=\"dataframe\">\n",
       "  <thead>\n",
       "    <tr style=\"text-align: right;\">\n",
       "      <th></th>\n",
       "      <th>Time</th>\n",
       "      <th>V1</th>\n",
       "      <th>V2</th>\n",
       "      <th>V3</th>\n",
       "      <th>V4</th>\n",
       "      <th>V5</th>\n",
       "      <th>V6</th>\n",
       "      <th>V7</th>\n",
       "      <th>V8</th>\n",
       "      <th>V9</th>\n",
       "      <th>...</th>\n",
       "      <th>V21</th>\n",
       "      <th>V22</th>\n",
       "      <th>V23</th>\n",
       "      <th>V24</th>\n",
       "      <th>V25</th>\n",
       "      <th>V26</th>\n",
       "      <th>V27</th>\n",
       "      <th>V28</th>\n",
       "      <th>Amount</th>\n",
       "      <th>Class</th>\n",
       "    </tr>\n",
       "  </thead>\n",
       "  <tbody>\n",
       "    <tr>\n",
       "      <th>0</th>\n",
       "      <td>0.0</td>\n",
       "      <td>-1.359807</td>\n",
       "      <td>-0.072781</td>\n",
       "      <td>2.536347</td>\n",
       "      <td>1.378155</td>\n",
       "      <td>-0.338321</td>\n",
       "      <td>0.462388</td>\n",
       "      <td>0.239599</td>\n",
       "      <td>0.098698</td>\n",
       "      <td>0.363787</td>\n",
       "      <td>...</td>\n",
       "      <td>-0.018307</td>\n",
       "      <td>0.277838</td>\n",
       "      <td>-0.110474</td>\n",
       "      <td>0.066928</td>\n",
       "      <td>0.128539</td>\n",
       "      <td>-0.189115</td>\n",
       "      <td>0.133558</td>\n",
       "      <td>-0.021053</td>\n",
       "      <td>149.62</td>\n",
       "      <td>0</td>\n",
       "    </tr>\n",
       "    <tr>\n",
       "      <th>1</th>\n",
       "      <td>0.0</td>\n",
       "      <td>1.191857</td>\n",
       "      <td>0.266151</td>\n",
       "      <td>0.166480</td>\n",
       "      <td>0.448154</td>\n",
       "      <td>0.060018</td>\n",
       "      <td>-0.082361</td>\n",
       "      <td>-0.078803</td>\n",
       "      <td>0.085102</td>\n",
       "      <td>-0.255425</td>\n",
       "      <td>...</td>\n",
       "      <td>-0.225775</td>\n",
       "      <td>-0.638672</td>\n",
       "      <td>0.101288</td>\n",
       "      <td>-0.339846</td>\n",
       "      <td>0.167170</td>\n",
       "      <td>0.125895</td>\n",
       "      <td>-0.008983</td>\n",
       "      <td>0.014724</td>\n",
       "      <td>2.69</td>\n",
       "      <td>0</td>\n",
       "    </tr>\n",
       "    <tr>\n",
       "      <th>2</th>\n",
       "      <td>1.0</td>\n",
       "      <td>-1.358354</td>\n",
       "      <td>-1.340163</td>\n",
       "      <td>1.773209</td>\n",
       "      <td>0.379780</td>\n",
       "      <td>-0.503198</td>\n",
       "      <td>1.800499</td>\n",
       "      <td>0.791461</td>\n",
       "      <td>0.247676</td>\n",
       "      <td>-1.514654</td>\n",
       "      <td>...</td>\n",
       "      <td>0.247998</td>\n",
       "      <td>0.771679</td>\n",
       "      <td>0.909412</td>\n",
       "      <td>-0.689281</td>\n",
       "      <td>-0.327642</td>\n",
       "      <td>-0.139097</td>\n",
       "      <td>-0.055353</td>\n",
       "      <td>-0.059752</td>\n",
       "      <td>378.66</td>\n",
       "      <td>0</td>\n",
       "    </tr>\n",
       "    <tr>\n",
       "      <th>3</th>\n",
       "      <td>1.0</td>\n",
       "      <td>-0.966272</td>\n",
       "      <td>-0.185226</td>\n",
       "      <td>1.792993</td>\n",
       "      <td>-0.863291</td>\n",
       "      <td>-0.010309</td>\n",
       "      <td>1.247203</td>\n",
       "      <td>0.237609</td>\n",
       "      <td>0.377436</td>\n",
       "      <td>-1.387024</td>\n",
       "      <td>...</td>\n",
       "      <td>-0.108300</td>\n",
       "      <td>0.005274</td>\n",
       "      <td>-0.190321</td>\n",
       "      <td>-1.175575</td>\n",
       "      <td>0.647376</td>\n",
       "      <td>-0.221929</td>\n",
       "      <td>0.062723</td>\n",
       "      <td>0.061458</td>\n",
       "      <td>123.50</td>\n",
       "      <td>0</td>\n",
       "    </tr>\n",
       "    <tr>\n",
       "      <th>4</th>\n",
       "      <td>2.0</td>\n",
       "      <td>-1.158233</td>\n",
       "      <td>0.877737</td>\n",
       "      <td>1.548718</td>\n",
       "      <td>0.403034</td>\n",
       "      <td>-0.407193</td>\n",
       "      <td>0.095921</td>\n",
       "      <td>0.592941</td>\n",
       "      <td>-0.270533</td>\n",
       "      <td>0.817739</td>\n",
       "      <td>...</td>\n",
       "      <td>-0.009431</td>\n",
       "      <td>0.798278</td>\n",
       "      <td>-0.137458</td>\n",
       "      <td>0.141267</td>\n",
       "      <td>-0.206010</td>\n",
       "      <td>0.502292</td>\n",
       "      <td>0.219422</td>\n",
       "      <td>0.215153</td>\n",
       "      <td>69.99</td>\n",
       "      <td>0</td>\n",
       "    </tr>\n",
       "  </tbody>\n",
       "</table>\n",
       "<p>5 rows × 31 columns</p>\n",
       "</div>"
      ],
      "text/plain": [
       "   Time        V1        V2        V3        V4        V5        V6        V7        V8        V9  \\\n",
       "0   0.0 -1.359807 -0.072781  2.536347  1.378155 -0.338321  0.462388  0.239599  0.098698  0.363787   \n",
       "1   0.0  1.191857  0.266151  0.166480  0.448154  0.060018 -0.082361 -0.078803  0.085102 -0.255425   \n",
       "2   1.0 -1.358354 -1.340163  1.773209  0.379780 -0.503198  1.800499  0.791461  0.247676 -1.514654   \n",
       "3   1.0 -0.966272 -0.185226  1.792993 -0.863291 -0.010309  1.247203  0.237609  0.377436 -1.387024   \n",
       "4   2.0 -1.158233  0.877737  1.548718  0.403034 -0.407193  0.095921  0.592941 -0.270533  0.817739   \n",
       "\n",
       "   ...       V21       V22       V23       V24       V25       V26       V27       V28  Amount  \\\n",
       "0  ... -0.018307  0.277838 -0.110474  0.066928  0.128539 -0.189115  0.133558 -0.021053  149.62   \n",
       "1  ... -0.225775 -0.638672  0.101288 -0.339846  0.167170  0.125895 -0.008983  0.014724    2.69   \n",
       "2  ...  0.247998  0.771679  0.909412 -0.689281 -0.327642 -0.139097 -0.055353 -0.059752  378.66   \n",
       "3  ... -0.108300  0.005274 -0.190321 -1.175575  0.647376 -0.221929  0.062723  0.061458  123.50   \n",
       "4  ... -0.009431  0.798278 -0.137458  0.141267 -0.206010  0.502292  0.219422  0.215153   69.99   \n",
       "\n",
       "   Class  \n",
       "0      0  \n",
       "1      0  \n",
       "2      0  \n",
       "3      0  \n",
       "4      0  \n",
       "\n",
       "[5 rows x 31 columns]"
      ]
     },
     "execution_count": 4,
     "metadata": {},
     "output_type": "execute_result"
    }
   ],
   "source": [
    "# Viewing Raw Data\n",
    "set_option('display.width', 100)\n",
    "fraud_data.head()"
   ]
  },
  {
   "cell_type": "code",
   "execution_count": 5,
   "id": "banned-rings",
   "metadata": {
    "execution": {
     "iopub.execute_input": "2021-06-06T09:21:40.346193Z",
     "iopub.status.busy": "2021-06-06T09:21:40.345497Z",
     "iopub.status.idle": "2021-06-06T09:21:40.349771Z",
     "shell.execute_reply": "2021-06-06T09:21:40.349063Z",
     "shell.execute_reply.started": "2021-06-06T08:57:46.051321Z"
    },
    "papermill": {
     "duration": 0.035282,
     "end_time": "2021-06-06T09:21:40.349909",
     "exception": false,
     "start_time": "2021-06-06T09:21:40.314627",
     "status": "completed"
    },
    "tags": []
   },
   "outputs": [
    {
     "data": {
      "text/plain": [
       "(284807, 31)"
      ]
     },
     "execution_count": 5,
     "metadata": {},
     "output_type": "execute_result"
    }
   ],
   "source": [
    "# Dimension of data\n",
    "fraud_data.shape"
   ]
  },
  {
   "cell_type": "code",
   "execution_count": 6,
   "id": "pretty-population",
   "metadata": {
    "execution": {
     "iopub.execute_input": "2021-06-06T09:21:40.410128Z",
     "iopub.status.busy": "2021-06-06T09:21:40.409419Z",
     "iopub.status.idle": "2021-06-06T09:21:40.449946Z",
     "shell.execute_reply": "2021-06-06T09:21:40.449383Z",
     "shell.execute_reply.started": "2021-06-06T08:57:46.061319Z"
    },
    "papermill": {
     "duration": 0.072794,
     "end_time": "2021-06-06T09:21:40.450085",
     "exception": false,
     "start_time": "2021-06-06T09:21:40.377291",
     "status": "completed"
    },
    "tags": []
   },
   "outputs": [
    {
     "name": "stdout",
     "output_type": "stream",
     "text": [
      "<class 'pandas.core.frame.DataFrame'>\n",
      "RangeIndex: 284807 entries, 0 to 284806\n",
      "Data columns (total 31 columns):\n",
      " #   Column  Non-Null Count   Dtype  \n",
      "---  ------  --------------   -----  \n",
      " 0   Time    284807 non-null  float64\n",
      " 1   V1      284807 non-null  float64\n",
      " 2   V2      284807 non-null  float64\n",
      " 3   V3      284807 non-null  float64\n",
      " 4   V4      284807 non-null  float64\n",
      " 5   V5      284807 non-null  float64\n",
      " 6   V6      284807 non-null  float64\n",
      " 7   V7      284807 non-null  float64\n",
      " 8   V8      284807 non-null  float64\n",
      " 9   V9      284807 non-null  float64\n",
      " 10  V10     284807 non-null  float64\n",
      " 11  V11     284807 non-null  float64\n",
      " 12  V12     284807 non-null  float64\n",
      " 13  V13     284807 non-null  float64\n",
      " 14  V14     284807 non-null  float64\n",
      " 15  V15     284807 non-null  float64\n",
      " 16  V16     284807 non-null  float64\n",
      " 17  V17     284807 non-null  float64\n",
      " 18  V18     284807 non-null  float64\n",
      " 19  V19     284807 non-null  float64\n",
      " 20  V20     284807 non-null  float64\n",
      " 21  V21     284807 non-null  float64\n",
      " 22  V22     284807 non-null  float64\n",
      " 23  V23     284807 non-null  float64\n",
      " 24  V24     284807 non-null  float64\n",
      " 25  V25     284807 non-null  float64\n",
      " 26  V26     284807 non-null  float64\n",
      " 27  V27     284807 non-null  float64\n",
      " 28  V28     284807 non-null  float64\n",
      " 29  Amount  284807 non-null  float64\n",
      " 30  Class   284807 non-null  int64  \n",
      "dtypes: float64(30), int64(1)\n",
      "memory usage: 67.4 MB\n"
     ]
    }
   ],
   "source": [
    "# Data Type\n",
    "fraud_data.info()"
   ]
  },
  {
   "cell_type": "markdown",
   "id": "developed-yugoslavia",
   "metadata": {
    "papermill": {
     "duration": 0.027252,
     "end_time": "2021-06-06T09:21:40.504776",
     "exception": false,
     "start_time": "2021-06-06T09:21:40.477524",
     "status": "completed"
    },
    "tags": []
   },
   "source": [
    "> Our observations are as \n",
    "\n",
    "> NaN values do not present in the data set. Because of the Non-Null Count and number of rows in the dataset match.\n",
    "\n",
    "> There are 29 Input Variables and 1 Output Variable (Class)\n",
    "\n",
    "> The data type of all the input variables is float64 whereas the data type of out variable (Class) is int64"
   ]
  },
  {
   "cell_type": "code",
   "execution_count": 7,
   "id": "powerful-celebration",
   "metadata": {
    "execution": {
     "iopub.execute_input": "2021-06-06T09:21:40.564495Z",
     "iopub.status.busy": "2021-06-06T09:21:40.563841Z",
     "iopub.status.idle": "2021-06-06T09:21:40.589102Z",
     "shell.execute_reply": "2021-06-06T09:21:40.588520Z",
     "shell.execute_reply.started": "2021-06-06T08:57:46.102576Z"
    },
    "papermill": {
     "duration": 0.057114,
     "end_time": "2021-06-06T09:21:40.589239",
     "exception": false,
     "start_time": "2021-06-06T09:21:40.532125",
     "status": "completed"
    },
    "tags": []
   },
   "outputs": [
    {
     "data": {
      "text/plain": [
       "Time      0\n",
       "V1        0\n",
       "V2        0\n",
       "V3        0\n",
       "V4        0\n",
       "V5        0\n",
       "V6        0\n",
       "V7        0\n",
       "V8        0\n",
       "V9        0\n",
       "V10       0\n",
       "V11       0\n",
       "V12       0\n",
       "V13       0\n",
       "V14       0\n",
       "V15       0\n",
       "V16       0\n",
       "V17       0\n",
       "V18       0\n",
       "V19       0\n",
       "V20       0\n",
       "V21       0\n",
       "V22       0\n",
       "V23       0\n",
       "V24       0\n",
       "V25       0\n",
       "V26       0\n",
       "V27       0\n",
       "V28       0\n",
       "Amount    0\n",
       "Class     0\n",
       "dtype: int64"
      ]
     },
     "execution_count": 7,
     "metadata": {},
     "output_type": "execute_result"
    }
   ],
   "source": [
    "# CHecking Null values\n",
    "fraud_data.isnull().sum()"
   ]
  },
  {
   "cell_type": "code",
   "execution_count": 8,
   "id": "looking-solution",
   "metadata": {
    "execution": {
     "iopub.execute_input": "2021-06-06T09:21:40.687281Z",
     "iopub.status.busy": "2021-06-06T09:21:40.686102Z",
     "iopub.status.idle": "2021-06-06T09:21:41.159047Z",
     "shell.execute_reply": "2021-06-06T09:21:41.158356Z",
     "shell.execute_reply.started": "2021-06-06T08:57:46.128833Z"
    },
    "papermill": {
     "duration": 0.542068,
     "end_time": "2021-06-06T09:21:41.159196",
     "exception": false,
     "start_time": "2021-06-06T09:21:40.617128",
     "status": "completed"
    },
    "tags": []
   },
   "outputs": [
    {
     "data": {
      "text/html": [
       "<div>\n",
       "<style scoped>\n",
       "    .dataframe tbody tr th:only-of-type {\n",
       "        vertical-align: middle;\n",
       "    }\n",
       "\n",
       "    .dataframe tbody tr th {\n",
       "        vertical-align: top;\n",
       "    }\n",
       "\n",
       "    .dataframe thead th {\n",
       "        text-align: right;\n",
       "    }\n",
       "</style>\n",
       "<table border=\"1\" class=\"dataframe\">\n",
       "  <thead>\n",
       "    <tr style=\"text-align: right;\">\n",
       "      <th></th>\n",
       "      <th>Time</th>\n",
       "      <th>V1</th>\n",
       "      <th>V2</th>\n",
       "      <th>V3</th>\n",
       "      <th>V4</th>\n",
       "      <th>V5</th>\n",
       "      <th>V6</th>\n",
       "      <th>V7</th>\n",
       "      <th>V8</th>\n",
       "      <th>V9</th>\n",
       "      <th>...</th>\n",
       "      <th>V21</th>\n",
       "      <th>V22</th>\n",
       "      <th>V23</th>\n",
       "      <th>V24</th>\n",
       "      <th>V25</th>\n",
       "      <th>V26</th>\n",
       "      <th>V27</th>\n",
       "      <th>V28</th>\n",
       "      <th>Amount</th>\n",
       "      <th>Class</th>\n",
       "    </tr>\n",
       "  </thead>\n",
       "  <tbody>\n",
       "    <tr>\n",
       "      <th>count</th>\n",
       "      <td>284807.00000</td>\n",
       "      <td>2.84807e+05</td>\n",
       "      <td>2.84807e+05</td>\n",
       "      <td>2.84807e+05</td>\n",
       "      <td>2.84807e+05</td>\n",
       "      <td>2.84807e+05</td>\n",
       "      <td>2.84807e+05</td>\n",
       "      <td>2.84807e+05</td>\n",
       "      <td>2.84807e+05</td>\n",
       "      <td>2.84807e+05</td>\n",
       "      <td>...</td>\n",
       "      <td>2.84807e+05</td>\n",
       "      <td>2.84807e+05</td>\n",
       "      <td>2.84807e+05</td>\n",
       "      <td>2.84807e+05</td>\n",
       "      <td>2.84807e+05</td>\n",
       "      <td>2.84807e+05</td>\n",
       "      <td>2.84807e+05</td>\n",
       "      <td>2.84807e+05</td>\n",
       "      <td>284807.00000</td>\n",
       "      <td>284807.00000</td>\n",
       "    </tr>\n",
       "    <tr>\n",
       "      <th>mean</th>\n",
       "      <td>94813.85958</td>\n",
       "      <td>1.16837e-15</td>\n",
       "      <td>3.41691e-16</td>\n",
       "      <td>-1.37954e-15</td>\n",
       "      <td>2.07410e-15</td>\n",
       "      <td>9.60407e-16</td>\n",
       "      <td>1.48731e-15</td>\n",
       "      <td>-5.55647e-16</td>\n",
       "      <td>1.21348e-16</td>\n",
       "      <td>-2.40633e-15</td>\n",
       "      <td>...</td>\n",
       "      <td>1.65407e-16</td>\n",
       "      <td>-3.56859e-16</td>\n",
       "      <td>2.57865e-16</td>\n",
       "      <td>4.47327e-15</td>\n",
       "      <td>5.34091e-16</td>\n",
       "      <td>1.68344e-15</td>\n",
       "      <td>-3.66009e-16</td>\n",
       "      <td>-1.22739e-16</td>\n",
       "      <td>88.34962</td>\n",
       "      <td>0.00173</td>\n",
       "    </tr>\n",
       "    <tr>\n",
       "      <th>std</th>\n",
       "      <td>47488.14595</td>\n",
       "      <td>1.95870e+00</td>\n",
       "      <td>1.65131e+00</td>\n",
       "      <td>1.51626e+00</td>\n",
       "      <td>1.41587e+00</td>\n",
       "      <td>1.38025e+00</td>\n",
       "      <td>1.33227e+00</td>\n",
       "      <td>1.23709e+00</td>\n",
       "      <td>1.19435e+00</td>\n",
       "      <td>1.09863e+00</td>\n",
       "      <td>...</td>\n",
       "      <td>7.34524e-01</td>\n",
       "      <td>7.25702e-01</td>\n",
       "      <td>6.24460e-01</td>\n",
       "      <td>6.05647e-01</td>\n",
       "      <td>5.21278e-01</td>\n",
       "      <td>4.82227e-01</td>\n",
       "      <td>4.03632e-01</td>\n",
       "      <td>3.30083e-01</td>\n",
       "      <td>250.12011</td>\n",
       "      <td>0.04153</td>\n",
       "    </tr>\n",
       "    <tr>\n",
       "      <th>min</th>\n",
       "      <td>0.00000</td>\n",
       "      <td>-5.64075e+01</td>\n",
       "      <td>-7.27157e+01</td>\n",
       "      <td>-4.83256e+01</td>\n",
       "      <td>-5.68317e+00</td>\n",
       "      <td>-1.13743e+02</td>\n",
       "      <td>-2.61605e+01</td>\n",
       "      <td>-4.35572e+01</td>\n",
       "      <td>-7.32167e+01</td>\n",
       "      <td>-1.34341e+01</td>\n",
       "      <td>...</td>\n",
       "      <td>-3.48304e+01</td>\n",
       "      <td>-1.09331e+01</td>\n",
       "      <td>-4.48077e+01</td>\n",
       "      <td>-2.83663e+00</td>\n",
       "      <td>-1.02954e+01</td>\n",
       "      <td>-2.60455e+00</td>\n",
       "      <td>-2.25657e+01</td>\n",
       "      <td>-1.54301e+01</td>\n",
       "      <td>0.00000</td>\n",
       "      <td>0.00000</td>\n",
       "    </tr>\n",
       "    <tr>\n",
       "      <th>25%</th>\n",
       "      <td>54201.50000</td>\n",
       "      <td>-9.20373e-01</td>\n",
       "      <td>-5.98550e-01</td>\n",
       "      <td>-8.90365e-01</td>\n",
       "      <td>-8.48640e-01</td>\n",
       "      <td>-6.91597e-01</td>\n",
       "      <td>-7.68296e-01</td>\n",
       "      <td>-5.54076e-01</td>\n",
       "      <td>-2.08630e-01</td>\n",
       "      <td>-6.43098e-01</td>\n",
       "      <td>...</td>\n",
       "      <td>-2.28395e-01</td>\n",
       "      <td>-5.42350e-01</td>\n",
       "      <td>-1.61846e-01</td>\n",
       "      <td>-3.54586e-01</td>\n",
       "      <td>-3.17145e-01</td>\n",
       "      <td>-3.26984e-01</td>\n",
       "      <td>-7.08395e-02</td>\n",
       "      <td>-5.29598e-02</td>\n",
       "      <td>5.60000</td>\n",
       "      <td>0.00000</td>\n",
       "    </tr>\n",
       "    <tr>\n",
       "      <th>50%</th>\n",
       "      <td>84692.00000</td>\n",
       "      <td>1.81088e-02</td>\n",
       "      <td>6.54856e-02</td>\n",
       "      <td>1.79846e-01</td>\n",
       "      <td>-1.98465e-02</td>\n",
       "      <td>-5.43358e-02</td>\n",
       "      <td>-2.74187e-01</td>\n",
       "      <td>4.01031e-02</td>\n",
       "      <td>2.23580e-02</td>\n",
       "      <td>-5.14287e-02</td>\n",
       "      <td>...</td>\n",
       "      <td>-2.94502e-02</td>\n",
       "      <td>6.78194e-03</td>\n",
       "      <td>-1.11929e-02</td>\n",
       "      <td>4.09761e-02</td>\n",
       "      <td>1.65935e-02</td>\n",
       "      <td>-5.21391e-02</td>\n",
       "      <td>1.34215e-03</td>\n",
       "      <td>1.12438e-02</td>\n",
       "      <td>22.00000</td>\n",
       "      <td>0.00000</td>\n",
       "    </tr>\n",
       "    <tr>\n",
       "      <th>75%</th>\n",
       "      <td>139320.50000</td>\n",
       "      <td>1.31564e+00</td>\n",
       "      <td>8.03724e-01</td>\n",
       "      <td>1.02720e+00</td>\n",
       "      <td>7.43341e-01</td>\n",
       "      <td>6.11926e-01</td>\n",
       "      <td>3.98565e-01</td>\n",
       "      <td>5.70436e-01</td>\n",
       "      <td>3.27346e-01</td>\n",
       "      <td>5.97139e-01</td>\n",
       "      <td>...</td>\n",
       "      <td>1.86377e-01</td>\n",
       "      <td>5.28554e-01</td>\n",
       "      <td>1.47642e-01</td>\n",
       "      <td>4.39527e-01</td>\n",
       "      <td>3.50716e-01</td>\n",
       "      <td>2.40952e-01</td>\n",
       "      <td>9.10451e-02</td>\n",
       "      <td>7.82800e-02</td>\n",
       "      <td>77.16500</td>\n",
       "      <td>0.00000</td>\n",
       "    </tr>\n",
       "    <tr>\n",
       "      <th>max</th>\n",
       "      <td>172792.00000</td>\n",
       "      <td>2.45493e+00</td>\n",
       "      <td>2.20577e+01</td>\n",
       "      <td>9.38256e+00</td>\n",
       "      <td>1.68753e+01</td>\n",
       "      <td>3.48017e+01</td>\n",
       "      <td>7.33016e+01</td>\n",
       "      <td>1.20589e+02</td>\n",
       "      <td>2.00072e+01</td>\n",
       "      <td>1.55950e+01</td>\n",
       "      <td>...</td>\n",
       "      <td>2.72028e+01</td>\n",
       "      <td>1.05031e+01</td>\n",
       "      <td>2.25284e+01</td>\n",
       "      <td>4.58455e+00</td>\n",
       "      <td>7.51959e+00</td>\n",
       "      <td>3.51735e+00</td>\n",
       "      <td>3.16122e+01</td>\n",
       "      <td>3.38478e+01</td>\n",
       "      <td>25691.16000</td>\n",
       "      <td>1.00000</td>\n",
       "    </tr>\n",
       "  </tbody>\n",
       "</table>\n",
       "<p>8 rows × 31 columns</p>\n",
       "</div>"
      ],
      "text/plain": [
       "               Time           V1           V2           V3           V4           V5           V6  \\\n",
       "count  284807.00000  2.84807e+05  2.84807e+05  2.84807e+05  2.84807e+05  2.84807e+05  2.84807e+05   \n",
       "mean    94813.85958  1.16837e-15  3.41691e-16 -1.37954e-15  2.07410e-15  9.60407e-16  1.48731e-15   \n",
       "std     47488.14595  1.95870e+00  1.65131e+00  1.51626e+00  1.41587e+00  1.38025e+00  1.33227e+00   \n",
       "min         0.00000 -5.64075e+01 -7.27157e+01 -4.83256e+01 -5.68317e+00 -1.13743e+02 -2.61605e+01   \n",
       "25%     54201.50000 -9.20373e-01 -5.98550e-01 -8.90365e-01 -8.48640e-01 -6.91597e-01 -7.68296e-01   \n",
       "50%     84692.00000  1.81088e-02  6.54856e-02  1.79846e-01 -1.98465e-02 -5.43358e-02 -2.74187e-01   \n",
       "75%    139320.50000  1.31564e+00  8.03724e-01  1.02720e+00  7.43341e-01  6.11926e-01  3.98565e-01   \n",
       "max    172792.00000  2.45493e+00  2.20577e+01  9.38256e+00  1.68753e+01  3.48017e+01  7.33016e+01   \n",
       "\n",
       "                V7           V8           V9  ...          V21          V22          V23  \\\n",
       "count  2.84807e+05  2.84807e+05  2.84807e+05  ...  2.84807e+05  2.84807e+05  2.84807e+05   \n",
       "mean  -5.55647e-16  1.21348e-16 -2.40633e-15  ...  1.65407e-16 -3.56859e-16  2.57865e-16   \n",
       "std    1.23709e+00  1.19435e+00  1.09863e+00  ...  7.34524e-01  7.25702e-01  6.24460e-01   \n",
       "min   -4.35572e+01 -7.32167e+01 -1.34341e+01  ... -3.48304e+01 -1.09331e+01 -4.48077e+01   \n",
       "25%   -5.54076e-01 -2.08630e-01 -6.43098e-01  ... -2.28395e-01 -5.42350e-01 -1.61846e-01   \n",
       "50%    4.01031e-02  2.23580e-02 -5.14287e-02  ... -2.94502e-02  6.78194e-03 -1.11929e-02   \n",
       "75%    5.70436e-01  3.27346e-01  5.97139e-01  ...  1.86377e-01  5.28554e-01  1.47642e-01   \n",
       "max    1.20589e+02  2.00072e+01  1.55950e+01  ...  2.72028e+01  1.05031e+01  2.25284e+01   \n",
       "\n",
       "               V24          V25          V26          V27          V28        Amount         Class  \n",
       "count  2.84807e+05  2.84807e+05  2.84807e+05  2.84807e+05  2.84807e+05  284807.00000  284807.00000  \n",
       "mean   4.47327e-15  5.34091e-16  1.68344e-15 -3.66009e-16 -1.22739e-16      88.34962       0.00173  \n",
       "std    6.05647e-01  5.21278e-01  4.82227e-01  4.03632e-01  3.30083e-01     250.12011       0.04153  \n",
       "min   -2.83663e+00 -1.02954e+01 -2.60455e+00 -2.25657e+01 -1.54301e+01       0.00000       0.00000  \n",
       "25%   -3.54586e-01 -3.17145e-01 -3.26984e-01 -7.08395e-02 -5.29598e-02       5.60000       0.00000  \n",
       "50%    4.09761e-02  1.65935e-02 -5.21391e-02  1.34215e-03  1.12438e-02      22.00000       0.00000  \n",
       "75%    4.39527e-01  3.50716e-01  2.40952e-01  9.10451e-02  7.82800e-02      77.16500       0.00000  \n",
       "max    4.58455e+00  7.51959e+00  3.51735e+00  3.16122e+01  3.38478e+01   25691.16000       1.00000  \n",
       "\n",
       "[8 rows x 31 columns]"
      ]
     },
     "execution_count": 8,
     "metadata": {},
     "output_type": "execute_result"
    }
   ],
   "source": [
    "# Summarizing data\n",
    "set_option('precision', 5)\n",
    "fraud_data.describe()\n"
   ]
  },
  {
   "cell_type": "code",
   "execution_count": 9,
   "id": "featured-exchange",
   "metadata": {
    "execution": {
     "iopub.execute_input": "2021-06-06T09:21:41.223441Z",
     "iopub.status.busy": "2021-06-06T09:21:41.222505Z",
     "iopub.status.idle": "2021-06-06T09:21:41.234015Z",
     "shell.execute_reply": "2021-06-06T09:21:41.232740Z",
     "shell.execute_reply.started": "2021-06-06T08:57:46.553218Z"
    },
    "papermill": {
     "duration": 0.045506,
     "end_time": "2021-06-06T09:21:41.234170",
     "exception": false,
     "start_time": "2021-06-06T09:21:41.188664",
     "status": "completed"
    },
    "tags": []
   },
   "outputs": [
    {
     "name": "stdout",
     "output_type": "stream",
     "text": [
      "Not Fraud    284315\n",
      "Fraud           492\n",
      "Name: Class, dtype: int64\n"
     ]
    }
   ],
   "source": [
    "# Response Variable Analysis\n",
    "class_names = {0:'Not Fraud', 1:'Fraud'}\n",
    "rvs = fraud_data.Class.value_counts().rename(index = class_names)\n",
    "print(rvs)"
   ]
  },
  {
   "cell_type": "markdown",
   "id": "adapted-investing",
   "metadata": {
    "papermill": {
     "duration": 0.028487,
     "end_time": "2021-06-06T09:21:41.291729",
     "exception": false,
     "start_time": "2021-06-06T09:21:41.263242",
     "status": "completed"
    },
    "tags": []
   },
   "source": [
    "***Splitting data into training and testing data***"
   ]
  },
  {
   "cell_type": "code",
   "execution_count": 10,
   "id": "associate-talent",
   "metadata": {
    "execution": {
     "iopub.execute_input": "2021-06-06T09:21:41.355068Z",
     "iopub.status.busy": "2021-06-06T09:21:41.354387Z",
     "iopub.status.idle": "2021-06-06T09:21:41.680108Z",
     "shell.execute_reply": "2021-06-06T09:21:41.680698Z",
     "shell.execute_reply.started": "2021-06-06T08:57:46.564390Z"
    },
    "papermill": {
     "duration": 0.360226,
     "end_time": "2021-06-06T09:21:41.680889",
     "exception": false,
     "start_time": "2021-06-06T09:21:41.320663",
     "status": "completed"
    },
    "tags": []
   },
   "outputs": [],
   "source": [
    "from sklearn.model_selection import train_test_split\n",
    "\n",
    "y= fraud_data[\"Class\"]\n",
    "X = fraud_data.loc[:, fraud_data.columns != 'Class']\n",
    "X_train,X_test,y_train,y_test = train_test_split(X,y, test_size=1/6, random_state=42)"
   ]
  },
  {
   "cell_type": "markdown",
   "id": "personal-international",
   "metadata": {
    "papermill": {
     "duration": 0.02889,
     "end_time": "2021-06-06T09:21:41.739179",
     "exception": false,
     "start_time": "2021-06-06T09:21:41.710289",
     "status": "completed"
    },
    "tags": []
   },
   "source": [
    "# Data Modelling"
   ]
  },
  {
   "cell_type": "markdown",
   "id": "flying-gilbert",
   "metadata": {
    "papermill": {
     "duration": 0.02875,
     "end_time": "2021-06-06T09:21:41.797539",
     "exception": false,
     "start_time": "2021-06-06T09:21:41.768789",
     "status": "completed"
    },
    "tags": []
   },
   "source": [
    "***Logistic Regression***"
   ]
  },
  {
   "cell_type": "code",
   "execution_count": 11,
   "id": "coordinate-comparative",
   "metadata": {
    "execution": {
     "iopub.execute_input": "2021-06-06T09:21:41.861276Z",
     "iopub.status.busy": "2021-06-06T09:21:41.860568Z",
     "iopub.status.idle": "2021-06-06T09:21:47.426512Z",
     "shell.execute_reply": "2021-06-06T09:21:47.427338Z",
     "shell.execute_reply.started": "2021-06-06T08:57:46.774729Z"
    },
    "papermill": {
     "duration": 5.601232,
     "end_time": "2021-06-06T09:21:47.427624",
     "exception": false,
     "start_time": "2021-06-06T09:21:41.826392",
     "status": "completed"
    },
    "tags": []
   },
   "outputs": [
    {
     "name": "stdout",
     "output_type": "stream",
     "text": [
      "Accuracy of Logistic Regression model :  99.87\n"
     ]
    },
    {
     "name": "stderr",
     "output_type": "stream",
     "text": [
      "/opt/conda/lib/python3.7/site-packages/sklearn/linear_model/_logistic.py:765: ConvergenceWarning: lbfgs failed to converge (status=1):\n",
      "STOP: TOTAL NO. of ITERATIONS REACHED LIMIT.\n",
      "\n",
      "Increase the number of iterations (max_iter) or scale the data as shown in:\n",
      "    https://scikit-learn.org/stable/modules/preprocessing.html\n",
      "Please also refer to the documentation for alternative solver options:\n",
      "    https://scikit-learn.org/stable/modules/linear_model.html#logistic-regression\n",
      "  extra_warning_msg=_LOGISTIC_SOLVER_CONVERGENCE_MSG)\n"
     ]
    }
   ],
   "source": [
    "#Import Library for Accuracy Score\n",
    "from sklearn.metrics import accuracy_score\n",
    "\n",
    "#Import Library for Logistic Regression\n",
    "from sklearn.linear_model import LogisticRegression\n",
    "\n",
    "#Initialize the Logistic Regression Classifier\n",
    "logisreg = LogisticRegression()\n",
    "\n",
    "#Train the model using Training Dataset\n",
    "logisreg.fit(X_train, y_train)\n",
    "\n",
    "# Prediction using test data\n",
    "y_pred = logisreg.predict(X_test)\n",
    "\n",
    "# Calculate Model accuracy by comparing y_test and y_pred\n",
    "acc_logisreg = round( accuracy_score(y_test, y_pred) * 100, 2 )\n",
    "print( 'Accuracy of Logistic Regression model : ', acc_logisreg )"
   ]
  },
  {
   "cell_type": "markdown",
   "id": "functioning-plenty",
   "metadata": {
    "papermill": {
     "duration": 0.051711,
     "end_time": "2021-06-06T09:21:47.531351",
     "exception": false,
     "start_time": "2021-06-06T09:21:47.479640",
     "status": "completed"
    },
    "tags": []
   },
   "source": [
    "***Linear Discriminent Analysis***"
   ]
  },
  {
   "cell_type": "code",
   "execution_count": 12,
   "id": "stock-infection",
   "metadata": {
    "execution": {
     "iopub.execute_input": "2021-06-06T09:21:47.597768Z",
     "iopub.status.busy": "2021-06-06T09:21:47.597087Z",
     "iopub.status.idle": "2021-06-06T09:21:48.997874Z",
     "shell.execute_reply": "2021-06-06T09:21:48.998976Z",
     "shell.execute_reply.started": "2021-06-06T08:57:52.087523Z"
    },
    "papermill": {
     "duration": 1.436909,
     "end_time": "2021-06-06T09:21:48.999223",
     "exception": false,
     "start_time": "2021-06-06T09:21:47.562314",
     "status": "completed"
    },
    "tags": []
   },
   "outputs": [
    {
     "name": "stdout",
     "output_type": "stream",
     "text": [
      "Accuracy of Linear Discriminant Analysis Classifier:  99.93\n"
     ]
    }
   ],
   "source": [
    "#Import Library for Linear Discriminant Analysis\n",
    "from sklearn.discriminant_analysis import LinearDiscriminantAnalysis\n",
    "\n",
    "#Initialize the Linear Discriminant Analysis Classifier\n",
    "model = LinearDiscriminantAnalysis()\n",
    "\n",
    "#Train the model using Training Dataset\n",
    "model.fit(X_train, y_train)\n",
    "\n",
    "# Prediction using test data\n",
    "y_pred = model.predict(X_test)\n",
    "\n",
    "# Calculate Model accuracy by comparing y_test and y_pred\n",
    "acc_lda = round( accuracy_score(y_test, y_pred) * 100, 2 )\n",
    "print( 'Accuracy of Linear Discriminant Analysis Classifier: ', acc_lda )"
   ]
  },
  {
   "cell_type": "markdown",
   "id": "hairy-master",
   "metadata": {
    "papermill": {
     "duration": 0.035783,
     "end_time": "2021-06-06T09:21:49.121715",
     "exception": false,
     "start_time": "2021-06-06T09:21:49.085932",
     "status": "completed"
    },
    "tags": []
   },
   "source": [
    "***Gaussian Naive Bayes***"
   ]
  },
  {
   "cell_type": "code",
   "execution_count": 13,
   "id": "adapted-flower",
   "metadata": {
    "execution": {
     "iopub.execute_input": "2021-06-06T09:21:49.189133Z",
     "iopub.status.busy": "2021-06-06T09:21:49.188448Z",
     "iopub.status.idle": "2021-06-06T09:21:49.375750Z",
     "shell.execute_reply": "2021-06-06T09:21:49.375195Z",
     "shell.execute_reply.started": "2021-06-06T08:57:53.291421Z"
    },
    "papermill": {
     "duration": 0.224044,
     "end_time": "2021-06-06T09:21:49.375902",
     "exception": false,
     "start_time": "2021-06-06T09:21:49.151858",
     "status": "completed"
    },
    "tags": []
   },
   "outputs": [
    {
     "name": "stdout",
     "output_type": "stream",
     "text": [
      "Accuracy of Gaussian Naive Bayes :  99.3\n"
     ]
    }
   ],
   "source": [
    "#Import Library for Gaussian Naive Bayes\n",
    "from sklearn.naive_bayes import GaussianNB\n",
    "\n",
    "#Initialize the Gaussian Naive Bayes Classifier\n",
    "model = GaussianNB()\n",
    "\n",
    "#Train the model using Training Dataset\n",
    "model.fit(X_train, y_train)\n",
    "\n",
    "# Prediction using test data\n",
    "y_pred = model.predict(X_test)\n",
    "\n",
    "# Calculate Model accuracy by comparing y_test and y_pred\n",
    "acc_ganb = round( accuracy_score(y_test, y_pred) * 100, 2 )\n",
    "print( 'Accuracy of Gaussian Naive Bayes : ', acc_ganb )"
   ]
  },
  {
   "cell_type": "markdown",
   "id": "reflected-syndication",
   "metadata": {
    "papermill": {
     "duration": 0.029502,
     "end_time": "2021-06-06T09:21:49.436412",
     "exception": false,
     "start_time": "2021-06-06T09:21:49.406910",
     "status": "completed"
    },
    "tags": []
   },
   "source": [
    "***Decision Tree***"
   ]
  },
  {
   "cell_type": "code",
   "execution_count": 14,
   "id": "floating-liabilities",
   "metadata": {
    "execution": {
     "iopub.execute_input": "2021-06-06T09:21:49.501965Z",
     "iopub.status.busy": "2021-06-06T09:21:49.501277Z",
     "iopub.status.idle": "2021-06-06T09:22:16.204302Z",
     "shell.execute_reply": "2021-06-06T09:22:16.203752Z",
     "shell.execute_reply.started": "2021-06-06T08:57:53.507202Z"
    },
    "papermill": {
     "duration": 26.738145,
     "end_time": "2021-06-06T09:22:16.204459",
     "exception": false,
     "start_time": "2021-06-06T09:21:49.466314",
     "status": "completed"
    },
    "tags": []
   },
   "outputs": [
    {
     "name": "stdout",
     "output_type": "stream",
     "text": [
      "Accuracy of  Decision Tree Classifier :  99.9\n"
     ]
    }
   ],
   "source": [
    "#Import Library for Decision Tree Classifier\n",
    "from sklearn.tree import DecisionTreeClassifier\n",
    "\n",
    "#Initialize the Decision Tree Classifier\n",
    "model = DecisionTreeClassifier()\n",
    "\n",
    "#Train the model using Training Dataset\n",
    "model.fit(X_train, y_train)\n",
    "\n",
    "# Prediction using test data\n",
    "y_pred = model.predict(X_test)\n",
    "\n",
    "# Calculate Model accuracy by comparing y_test and y_pred\n",
    "acc_dtree = round( accuracy_score(y_test, y_pred) * 100, 2 )\n",
    "print( 'Accuracy of  Decision Tree Classifier : ', acc_dtree )"
   ]
  },
  {
   "cell_type": "markdown",
   "id": "recreational-shooting",
   "metadata": {
    "papermill": {
     "duration": 0.031575,
     "end_time": "2021-06-06T09:22:16.268014",
     "exception": false,
     "start_time": "2021-06-06T09:22:16.236439",
     "status": "completed"
    },
    "tags": []
   },
   "source": [
    "***Random Forest***"
   ]
  },
  {
   "cell_type": "code",
   "execution_count": 15,
   "id": "broadband-anderson",
   "metadata": {
    "execution": {
     "iopub.execute_input": "2021-06-06T09:22:16.338579Z",
     "iopub.status.busy": "2021-06-06T09:22:16.337788Z",
     "iopub.status.idle": "2021-06-06T09:27:09.813939Z",
     "shell.execute_reply": "2021-06-06T09:27:09.814483Z",
     "shell.execute_reply.started": "2021-06-06T08:58:18.935478Z"
    },
    "papermill": {
     "duration": 293.514529,
     "end_time": "2021-06-06T09:27:09.814682",
     "exception": false,
     "start_time": "2021-06-06T09:22:16.300153",
     "status": "completed"
    },
    "tags": []
   },
   "outputs": [
    {
     "name": "stdout",
     "output_type": "stream",
     "text": [
      "Accuracy of  Random Forest :  99.96\n"
     ]
    }
   ],
   "source": [
    "#Import Library for Random Forest\n",
    "from sklearn.ensemble import RandomForestClassifier\n",
    "\n",
    "#Initialize the Random Forest\n",
    "model = RandomForestClassifier()\n",
    "\n",
    "#Train the model using Training Dataset\n",
    "model.fit(X_train, y_train)\n",
    "\n",
    "# Prediction using test data\n",
    "y_pred = model.predict(X_test)\n",
    "\n",
    "# Calculate Model accuracy by comparing y_test and y_pred\n",
    "acc_rf = round( accuracy_score(y_test, y_pred) * 100, 2 )\n",
    "print( 'Accuracy of  Random Forest : ', acc_rf )"
   ]
  },
  {
   "cell_type": "markdown",
   "id": "becoming-grove",
   "metadata": {
    "papermill": {
     "duration": 0.03071,
     "end_time": "2021-06-06T09:27:09.876869",
     "exception": false,
     "start_time": "2021-06-06T09:27:09.846159",
     "status": "completed"
    },
    "tags": []
   },
   "source": [
    "***Support Vector Machine***"
   ]
  },
  {
   "cell_type": "code",
   "execution_count": 16,
   "id": "human-notice",
   "metadata": {
    "execution": {
     "iopub.execute_input": "2021-06-06T09:27:09.947474Z",
     "iopub.status.busy": "2021-06-06T09:27:09.946495Z",
     "iopub.status.idle": "2021-06-06T09:27:31.500187Z",
     "shell.execute_reply": "2021-06-06T09:27:31.499574Z",
     "shell.execute_reply.started": "2021-06-06T09:02:40.422804Z"
    },
    "papermill": {
     "duration": 21.592322,
     "end_time": "2021-06-06T09:27:31.500338",
     "exception": false,
     "start_time": "2021-06-06T09:27:09.908016",
     "status": "completed"
    },
    "tags": []
   },
   "outputs": [
    {
     "name": "stdout",
     "output_type": "stream",
     "text": [
      "Accuracy of Support Vector Classifier:  99.83\n"
     ]
    }
   ],
   "source": [
    "#Import Library for Support Vector Machine\n",
    "from sklearn import svm\n",
    "\n",
    "#Initialize the Support Vector Classifier\n",
    "model = svm.SVC()\n",
    "\n",
    "#Train the model using Training Dataset\n",
    "model.fit(X_train, y_train)\n",
    "\n",
    "# Prediction using test data\n",
    "y_pred = model.predict(X_test)\n",
    "\n",
    "# Calculate Model accuracy by comparing y_test and y_pred\n",
    "acc_svc = round( accuracy_score(y_test, y_pred) * 100, 2 )\n",
    "print( 'Accuracy of Support Vector Classifier: ', acc_svc )"
   ]
  },
  {
   "cell_type": "markdown",
   "id": "reasonable-night",
   "metadata": {
    "papermill": {
     "duration": 0.030923,
     "end_time": "2021-06-06T09:27:31.563850",
     "exception": false,
     "start_time": "2021-06-06T09:27:31.532927",
     "status": "completed"
    },
    "tags": []
   },
   "source": [
    "***KNN***"
   ]
  },
  {
   "cell_type": "code",
   "execution_count": 17,
   "id": "prime-oklahoma",
   "metadata": {
    "execution": {
     "iopub.execute_input": "2021-06-06T09:27:31.635013Z",
     "iopub.status.busy": "2021-06-06T09:27:31.634095Z",
     "iopub.status.idle": "2021-06-06T09:31:37.374746Z",
     "shell.execute_reply": "2021-06-06T09:31:37.375288Z",
     "shell.execute_reply.started": "2021-06-06T09:03:01.763732Z"
    },
    "papermill": {
     "duration": 245.780187,
     "end_time": "2021-06-06T09:31:37.375654",
     "exception": false,
     "start_time": "2021-06-06T09:27:31.595467",
     "status": "completed"
    },
    "tags": []
   },
   "outputs": [
    {
     "name": "stdout",
     "output_type": "stream",
     "text": [
      "Accuracy of KNN Classifier:  99.84\n"
     ]
    }
   ],
   "source": [
    "#Import Library for K Nearest Neighbour Model\n",
    "from sklearn.neighbors import KNeighborsClassifier\n",
    "\n",
    "#Initialize the K Nearest Neighbour Model with Default Value of K=5\n",
    "model = KNeighborsClassifier()\n",
    "\n",
    "#Train the model using Training Dataset\n",
    "model.fit(X_train, y_train)\n",
    "\n",
    "# Prediction using test data\n",
    "y_pred = model.predict(X_test)\n",
    "\n",
    "# Calculate Model accuracy by comparing y_test and y_pred\n",
    "acc_knn = round( accuracy_score(y_test, y_pred) * 100, 2 )\n",
    "print( 'Accuracy of KNN Classifier: ', acc_knn )"
   ]
  },
  {
   "cell_type": "markdown",
   "id": "quiet-reading",
   "metadata": {
    "papermill": {
     "duration": 0.031035,
     "end_time": "2021-06-06T09:31:37.437935",
     "exception": false,
     "start_time": "2021-06-06T09:31:37.406900",
     "status": "completed"
    },
    "tags": []
   },
   "source": [
    "# Model Selection"
   ]
  },
  {
   "cell_type": "code",
   "execution_count": 18,
   "id": "individual-voice",
   "metadata": {
    "execution": {
     "iopub.execute_input": "2021-06-06T09:31:37.516247Z",
     "iopub.status.busy": "2021-06-06T09:31:37.515220Z",
     "iopub.status.idle": "2021-06-06T09:31:37.519920Z",
     "shell.execute_reply": "2021-06-06T09:31:37.519281Z",
     "shell.execute_reply.started": "2021-06-06T09:06:55.380587Z"
    },
    "papermill": {
     "duration": 0.050867,
     "end_time": "2021-06-06T09:31:37.520084",
     "exception": false,
     "start_time": "2021-06-06T09:31:37.469217",
     "status": "completed"
    },
    "tags": []
   },
   "outputs": [
    {
     "data": {
      "text/html": [
       "<div>\n",
       "<style scoped>\n",
       "    .dataframe tbody tr th:only-of-type {\n",
       "        vertical-align: middle;\n",
       "    }\n",
       "\n",
       "    .dataframe tbody tr th {\n",
       "        vertical-align: top;\n",
       "    }\n",
       "\n",
       "    .dataframe thead th {\n",
       "        text-align: right;\n",
       "    }\n",
       "</style>\n",
       "<table border=\"1\" class=\"dataframe\">\n",
       "  <thead>\n",
       "    <tr style=\"text-align: right;\">\n",
       "      <th></th>\n",
       "      <th>Model</th>\n",
       "      <th>Score</th>\n",
       "    </tr>\n",
       "  </thead>\n",
       "  <tbody>\n",
       "    <tr>\n",
       "      <th>4</th>\n",
       "      <td>Random Forest</td>\n",
       "      <td>99.96</td>\n",
       "    </tr>\n",
       "    <tr>\n",
       "      <th>1</th>\n",
       "      <td>Linear Discriminant Analysis</td>\n",
       "      <td>99.93</td>\n",
       "    </tr>\n",
       "    <tr>\n",
       "      <th>3</th>\n",
       "      <td>Decision Tree</td>\n",
       "      <td>99.90</td>\n",
       "    </tr>\n",
       "    <tr>\n",
       "      <th>0</th>\n",
       "      <td>Logistic Regression</td>\n",
       "      <td>99.87</td>\n",
       "    </tr>\n",
       "    <tr>\n",
       "      <th>6</th>\n",
       "      <td>K - Nearest Neighbors</td>\n",
       "      <td>99.84</td>\n",
       "    </tr>\n",
       "    <tr>\n",
       "      <th>5</th>\n",
       "      <td>Support Vector Machines</td>\n",
       "      <td>99.83</td>\n",
       "    </tr>\n",
       "    <tr>\n",
       "      <th>2</th>\n",
       "      <td>Naive Bayes</td>\n",
       "      <td>99.30</td>\n",
       "    </tr>\n",
       "  </tbody>\n",
       "</table>\n",
       "</div>"
      ],
      "text/plain": [
       "                          Model  Score\n",
       "4                 Random Forest  99.96\n",
       "1  Linear Discriminant Analysis  99.93\n",
       "3                 Decision Tree  99.90\n",
       "0           Logistic Regression  99.87\n",
       "6         K - Nearest Neighbors  99.84\n",
       "5       Support Vector Machines  99.83\n",
       "2                   Naive Bayes  99.30"
      ]
     },
     "execution_count": 18,
     "metadata": {},
     "output_type": "execute_result"
    }
   ],
   "source": [
    "models = pd.DataFrame({\n",
    "    'Model': ['Logistic Regression', 'Linear Discriminant Analysis','Naive Bayes', 'Decision Tree', 'Random Forest', 'Support Vector Machines', \n",
    "              'K - Nearest Neighbors'],\n",
    "    'Score': [acc_logisreg, acc_lda, acc_ganb, acc_dtree, acc_rf, acc_svc, acc_knn]})\n",
    "\n",
    "models.sort_values(by='Score', ascending=False)\n"
   ]
  },
  {
   "cell_type": "markdown",
   "id": "metropolitan-piece",
   "metadata": {
    "papermill": {
     "duration": 0.032534,
     "end_time": "2021-06-06T09:31:37.585937",
     "exception": false,
     "start_time": "2021-06-06T09:31:37.553403",
     "status": "completed"
    },
    "tags": []
   },
   "source": [
    ">The Best model for Predicting in **Random Forest Model** with **99.96% Accuracy**"
   ]
  },
  {
   "cell_type": "markdown",
   "id": "russian-effectiveness",
   "metadata": {
    "papermill": {
     "duration": 0.032262,
     "end_time": "2021-06-06T09:31:37.652832",
     "exception": false,
     "start_time": "2021-06-06T09:31:37.620570",
     "status": "completed"
    },
    "tags": []
   },
   "source": [
    "# Confusion Matrix\n",
    "This is a binary classification problem (Fraud or No-Fraud). Some of the commonly used terms are:\n",
    "* True positives (TP)\n",
    "        Predicted positive and are actually positive.\n",
    "* False positives (FP)\n",
    "        Predicted positive and are actually negative.\n",
    "* True negatives (TN)\n",
    "        Predicted negative and are actually negative.\n",
    "* False negatives (FN)\n",
    "        Predicted negative and are actually positive."
   ]
  },
  {
   "attachments": {
    "c4985768-6fd7-4dec-a7ac-0f8dd50b3a88.png": {
     "image/png": "[encoded data removed]"
    }
   },
   "cell_type": "markdown",
   "id": "promising-triangle",
   "metadata": {
    "papermill": {
     "duration": 0.031957,
     "end_time": "2021-06-06T09:31:37.717265",
     "exception": false,
     "start_time": "2021-06-06T09:31:37.685308",
     "status": "completed"
    },
    "tags": []
   },
   "source": [
    "![image.png](attachment:c4985768-6fd7-4dec-a7ac-0f8dd50b3a88.png)"
   ]
  },
  {
   "cell_type": "code",
   "execution_count": 19,
   "id": "communist-final",
   "metadata": {
    "execution": {
     "iopub.execute_input": "2021-06-06T09:31:37.784993Z",
     "iopub.status.busy": "2021-06-06T09:31:37.784297Z",
     "iopub.status.idle": "2021-06-06T09:31:38.096200Z",
     "shell.execute_reply": "2021-06-06T09:31:38.096726Z",
     "shell.execute_reply.started": "2021-06-06T09:16:17.432068Z"
    },
    "papermill": {
     "duration": 0.347028,
     "end_time": "2021-06-06T09:31:38.096906",
     "exception": false,
     "start_time": "2021-06-06T09:31:37.749878",
     "status": "completed"
    },
    "tags": []
   },
   "outputs": [
    {
     "name": "stdout",
     "output_type": "stream",
     "text": [
      "[[47388     0]\n",
      " [   77     3]]\n"
     ]
    },
    {
     "data": {
      "image/png": "[encoded data removed]",
      "text/plain": [
       "<Figure size 432x288 with 2 Axes>"
      ]
     },
     "metadata": {
      "needs_background": "light"
     },
     "output_type": "display_data"
    }
   ],
   "source": [
    "from sklearn.metrics import confusion_matrix\n",
    "cm = confusion_matrix(y_test, y_pred)\n",
    "print(cm)\n",
    "sns.heatmap(cm, annot = True);"
   ]
  },
  {
   "cell_type": "code",
   "execution_count": 20,
   "id": "intermediate-patrick",
   "metadata": {
    "execution": {
     "iopub.execute_input": "2021-06-06T09:31:38.171999Z",
     "iopub.status.busy": "2021-06-06T09:31:38.171209Z",
     "iopub.status.idle": "2021-06-06T09:35:59.535074Z",
     "shell.execute_reply": "2021-06-06T09:35:59.535613Z",
     "shell.execute_reply.started": "2021-06-06T09:16:21.398469Z"
    },
    "papermill": {
     "duration": 261.405114,
     "end_time": "2021-06-06T09:35:59.535878",
     "exception": false,
     "start_time": "2021-06-06T09:31:38.130764",
     "status": "completed"
    },
    "tags": []
   },
   "outputs": [
    {
     "data": {
      "image/png": "[encoded data removed]",
      "text/plain": [
       "<Figure size 432x288 with 2 Axes>"
      ]
     },
     "metadata": {
      "needs_background": "light"
     },
     "output_type": "display_data"
    }
   ],
   "source": [
    "from sklearn.metrics import plot_confusion_matrix\n",
    "plot_confusion_matrix(model, X_test, y_test);"
   ]
  },
  {
   "cell_type": "markdown",
   "id": "liable-radiation",
   "metadata": {
    "papermill": {
     "duration": 0.033387,
     "end_time": "2021-06-06T09:35:59.603196",
     "exception": false,
     "start_time": "2021-06-06T09:35:59.569809",
     "status": "completed"
    },
    "tags": []
   },
   "source": [
    "* In this case, overall accuracy is strong, but the confusion metrics tell a different story. \n",
    "* Despite the high accuracy level, 36 out of 164 instances of fraud are missed and incorrectly predicted as nonfraud. \n",
    "* The false-negative rate is substantial. \n",
    "* The intention of a fraud detection model is to minimize these false negatives."
   ]
  },
  {
   "cell_type": "markdown",
   "id": "cooked-combat",
   "metadata": {
    "papermill": {
     "duration": 0.033316,
     "end_time": "2021-06-06T09:35:59.670289",
     "exception": false,
     "start_time": "2021-06-06T09:35:59.636973",
     "status": "completed"
    },
    "tags": []
   },
   "source": [
    "**Dont Forgot Upvote!!!!!!**"
   ]
  }
 ],
 "metadata": {
  "kernelspec": {
   "display_name": "Python 3",
   "language": "python",
   "name": "python3"
  },
  "language_info": {
   "codemirror_mode": {
    "name": "ipython",
    "version": 3
   },
   "file_extension": ".py",
   "mimetype": "text/x-python",
   "name": "python",
   "nbconvert_exporter": "python",
   "pygments_lexer": "ipython3",
   "version": "3.7.10"
  },
  "papermill": {
   "default_parameters": {},
   "duration": 875.168653,
   "end_time": "2021-06-06T09:36:01.697320",
   "environment_variables": {},
   "exception": null,
   "input_path": "__notebook__.ipynb",
   "output_path": "__notebook__.ipynb",
   "parameters": {},
   "start_time": "2021-06-06T09:21:26.528667",
   "version": "2.3.3"
  }
 },
 "nbformat": 4,
 "nbformat_minor": 5
}
